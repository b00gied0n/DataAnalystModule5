{
 "cells": [
  {
   "cell_type": "markdown",
   "metadata": {},
   "source": [
    "# Connecting to a Microsoft SQL Server"
   ]
  },
  {
   "cell_type": "markdown",
   "metadata": {},
   "source": [
    "Here in this section, we’ll be exploring how to extracting data from Microsoft SQL Server database using SQL query and storing it in pandas dataframe."
   ]
  },
  {
   "cell_type": "markdown",
   "metadata": {},
   "source": [
    "<img src=\"pics/sqlandpandas.png\" alt=\"SQL and Pandas\"\n",
    "\ttitle=\"data types\" \n",
    "    width=\"800\" \n",
    "    height=\"400\"\n",
    "    align=\"center\"/>"
   ]
  },
  {
   "cell_type": "markdown",
   "metadata": {},
   "source": [
    "### Download and Install Python Libraries"
   ]
  },
  {
   "cell_type": "code",
   "execution_count": null,
   "metadata": {},
   "outputs": [],
   "source": [
    "#!pip install pandas\n",
    "#!pip install pyodbc"
   ]
  },
  {
   "cell_type": "markdown",
   "metadata": {},
   "source": [
    "### Import Python Libraries"
   ]
  },
  {
   "cell_type": "code",
   "execution_count": null,
   "metadata": {},
   "outputs": [],
   "source": [
    "# Pyodbc is an open-source Python library that makes accessing ODBC databases such a Microsoft SQL sever possible.\n",
    "import pyodbc\n",
    "\n",
    "# Load pandas library\n",
    "import pandas as pd"
   ]
  },
  {
   "cell_type": "markdown",
   "metadata": {},
   "source": [
    "### _\"pyodbc\"_ connection"
   ]
  },
  {
   "cell_type": "markdown",
   "metadata": {},
   "source": [
    "Once the **pyodbc** connection has been established, you can execute SQL statements to extract data from a database.\n",
    "This code is designed to work with Microsoft SQL Server 2019\n",
    "\n",
    "#### There are seven main settings needed to make a connection:\n",
    "\n",
    "1.**Driver** - See the Drivers section for more information \"ODBC Driver 17 for SQL Server\" is called as SQL Server 2019 connection string If you are connecting to a later(older) version of MSSQL, make sure to change the connection string appropriately\n",
    "\n",
    "2.**Server** - A network path to the database server\n",
    "\n",
    "3.**Database** - The name of the database\n",
    "\n",
    "4.**UID** - The user's network ID or sql server local account name\n",
    "\n",
    "5.**PWD** - The account's password\n",
    "\n",
    "6.**Port** - This should be set to 1433\n",
    "\n",
    "7.**Trusted_connection** - This should be always used while connecting to a local instance of MSSQL using Windows credentials\n"
   ]
  },
  {
   "cell_type": "code",
   "execution_count": null,
   "metadata": {},
   "outputs": [],
   "source": [
    "# Establishing the connection\n",
    "# All connection infomation will be saved into \"conn\" object\n",
    "\n",
    "conn = pyodbc.connect(\"DRIVER={ODBC Driver 17 for SQL Server};\"\n",
    "                          \"SERVER=localhost\\sqlexpress;\"\n",
    "                          \"DATABASE=AdventureWorks;\"\n",
    "                          \"Trusted_Connection=yes\")\n",
    "\n"
   ]
  },
  {
   "cell_type": "markdown",
   "metadata": {},
   "source": [
    "### Running a SQL Query from Python"
   ]
  },
  {
   "cell_type": "code",
   "execution_count": null,
   "metadata": {},
   "outputs": [],
   "source": [
    "# First initialise the \"cursor\"\n",
    "# This is called as a database cursor \n",
    "# The function of this is the same as the normal cursor you see in Microsoft word,\n",
    "# this is a way of giving focus to the next set of activities (queries) you are going to perform in the database\n",
    "cursor = conn.cursor()\n",
    "\n",
    "# Second write a query and assign it to variable\n",
    "query = \"SELECT * FROM tblEmployee INNER JOIN tblDepartment ON tblEmployee.DepartmentId = tblDepartment.ID;\"\n",
    "\n",
    "# Use the variable name and connection string to read data\n",
    "# Data will be saved into a pandas dataframe\n",
    "df = pd.read_sql(query, conn)\n",
    "\n",
    "print(df.head(5))"
   ]
  },
  {
   "cell_type": "code",
   "execution_count": null,
   "metadata": {},
   "outputs": [],
   "source": [
    "# Terminated the connection to the SQL database\n",
    "conn.close()"
   ]
  }
 ],
 "metadata": {
  "kernelspec": {
   "display_name": "Python 3",
   "language": "python",
   "name": "python3"
  },
  "language_info": {
   "codemirror_mode": {
    "name": "ipython",
    "version": 3
   },
   "file_extension": ".py",
   "mimetype": "text/x-python",
   "name": "python",
   "nbconvert_exporter": "python",
   "pygments_lexer": "ipython3",
   "version": "3.8.5"
  }
 },
 "nbformat": 4,
 "nbformat_minor": 4
}
