{
 "cells": [
  {
   "cell_type": "markdown",
   "metadata": {},
   "source": [
    "# Programming Constructs\n",
    "\n",
    "**What we cover:**\n",
    "1. Python If/else conditions\n",
    "2. Python Loops\n",
    "    - For Loop\n",
    "    - While Loop"
   ]
  },
  {
   "cell_type": "markdown",
   "metadata": {},
   "source": [
    "## Python If/else statements (conditional statements)\n",
    "\n",
    "- If/else statements help us to run a particular code only when a certain condition is satisfied\n",
    "- If/else statements make use of logical operator while defining the condition\n",
    "- if/else logic can be extend by using nested if conditions\n",
    "\n",
    "![ifelse](pics/ifelse.png)"
   ]
  },
  {
   "cell_type": "code",
   "execution_count": 180,
   "metadata": {},
   "outputs": [
    {
     "name": "stdout",
     "output_type": "stream",
     "text": [
      "you have achieved a distinction\n"
     ]
    }
   ],
   "source": [
    "# example1\n",
    "\n",
    "score = 90\n",
    "\n",
    "if score>=75:\n",
    "    print(\"you have achieved a distinction\")\n",
    "else:\n",
    "    print(\"you have failed\")"
   ]
  },
  {
   "cell_type": "code",
   "execution_count": 181,
   "metadata": {},
   "outputs": [
    {
     "name": "stdout",
     "output_type": "stream",
     "text": [
      "you have achieved a pass\n"
     ]
    }
   ],
   "source": [
    "# example2\n",
    "\n",
    "score = 55\n",
    "\n",
    "if score>=75:\n",
    "    print(\"you have achieved a distinction\")\n",
    "elif score>=65:\n",
    "    print(\"you have achieved a merit\")\n",
    "elif score>=50:\n",
    "    print(\"you have achieved a pass\")\n",
    "else:\n",
    "    print(\"you have failed\")"
   ]
  },
  {
   "cell_type": "markdown",
   "metadata": {},
   "source": [
    "#### Question\n",
    "\n",
    "![ifelse](pics/ifelse2.png)\n",
    "\n",
    "- Using he above BMI table write a if/else condition to label a patients risk level"
   ]
  },
  {
   "cell_type": "code",
   "execution_count": 182,
   "metadata": {},
   "outputs": [
    {
     "name": "stdout",
     "output_type": "stream",
     "text": [
      "Underweight\n"
     ]
    }
   ],
   "source": [
    "# Write down the answer here:\n",
    "\n",
    "pbmi = 12\n",
    "\n",
    "if pbmi>=30:\n",
    "    print(\"Obese\")\n",
    "elif pbmi>=25:\n",
    "    print(\"Overweight\")\n",
    "elif pbmi>=18.5:\n",
    "    print(\"Normal\")\n",
    "else:\n",
    "    print(\"Underweight\")"
   ]
  },
  {
   "cell_type": "code",
   "execution_count": null,
   "metadata": {},
   "outputs": [],
   "source": []
  },
  {
   "cell_type": "markdown",
   "metadata": {},
   "source": [
    "## Python Loops\n",
    "\n",
    "- In general loops are used to execute statements sequentially\n",
    "- Loops are useful when you want to iterate through lists, tuples, dictionaries, sets, or strings and perform calculations\n",
    "\n",
    "#### There are two types of loops in Python\n",
    "1. For Loop\n",
    "2. While Loop"
   ]
  },
  {
   "cell_type": "markdown",
   "metadata": {},
   "source": [
    "#### For Loop\n",
    "- A for loop is used for iterating through a sequence (such list, tuple, dictionary, set, or a string)\n",
    "- With the for loop we can execute a set of statements, once for each item in a list, tuple, set etc.\n",
    "\n",
    "\n",
    "![forloop](pics/forloop.png)"
   ]
  },
  {
   "cell_type": "code",
   "execution_count": 183,
   "metadata": {},
   "outputs": [
    {
     "name": "stdout",
     "output_type": "stream",
     "text": [
      "amzn\n",
      "tsla\n",
      "msft\n",
      "aapl\n"
     ]
    }
   ],
   "source": [
    "# example\n",
    "\n",
    "stock1 = [\"AMZN\",\"TSLA\",\"MSFT\",\"AAPL\"]\n",
    "\n",
    "# converting stock ticker symbols to lowercase and displaying using for loop\n",
    "for x in stock1:\n",
    "    x = x.lower()\n",
    "    print(x)"
   ]
  },
  {
   "cell_type": "code",
   "execution_count": 184,
   "metadata": {},
   "outputs": [
    {
     "name": "stdout",
     "output_type": "stream",
     "text": [
      "48.0\n",
      "232.0\n",
      "92.0\n",
      "308.0\n",
      "420.0\n",
      "3360.0\n"
     ]
    }
   ],
   "source": [
    "# question\n",
    "\n",
    "saleslist = [120, 580, 230, 770, 1050, 8400]\n",
    "\n",
    "# calculate 40% from each item in the \"saleslist\" and display using for loop\n",
    "# Write down the answer here:\n",
    "\n",
    "for x in saleslist:\n",
    "    x *= 0.4\n",
    "    print(x)"
   ]
  },
  {
   "cell_type": "code",
   "execution_count": null,
   "metadata": {},
   "outputs": [],
   "source": []
  },
  {
   "cell_type": "markdown",
   "metadata": {},
   "source": [
    "#### While Loop\n",
    "- While loop we can execute set of statements as long as the specified condition is true\n",
    "\n",
    "![whileloop](pics/whileloop.png)"
   ]
  },
  {
   "cell_type": "code",
   "execution_count": 185,
   "metadata": {},
   "outputs": [
    {
     "name": "stdout",
     "output_type": "stream",
     "text": [
      "45\n",
      "50\n",
      "55\n"
     ]
    }
   ],
   "source": [
    "# example\n",
    "\n",
    "num = 45\n",
    "\n",
    "# Increment the value of “num” by 5 while the “num” remain below 60 and display the results\n",
    "while num < 60:\n",
    "    print(num)\n",
    "    num += 5"
   ]
  },
  {
   "cell_type": "code",
   "execution_count": 186,
   "metadata": {},
   "outputs": [
    {
     "name": "stdout",
     "output_type": "stream",
     "text": [
      "3\n",
      "9\n",
      "27\n",
      "81\n"
     ]
    }
   ],
   "source": [
    "# question\n",
    "\n",
    "num2 = 3\n",
    "\n",
    "# Multiply the value of “num2” by 3 while the “num2” remain below 100 and display the results\n",
    "# Use the while loop to perform the above calculation\n",
    "# Write down the answer here:\n",
    "\n",
    "while num2 < 100:\n",
    "    print(num2)\n",
    "    num2 *= 3"
   ]
  }
 ],
 "metadata": {
  "kernelspec": {
   "display_name": "Python 3",
   "language": "python",
   "name": "python3"
  },
  "language_info": {
   "codemirror_mode": {
    "name": "ipython",
    "version": 3
   },
   "file_extension": ".py",
   "mimetype": "text/x-python",
   "name": "python",
   "nbconvert_exporter": "python",
   "pygments_lexer": "ipython3",
   "version": "3.8.5"
  }
 },
 "nbformat": 4,
 "nbformat_minor": 2
}
