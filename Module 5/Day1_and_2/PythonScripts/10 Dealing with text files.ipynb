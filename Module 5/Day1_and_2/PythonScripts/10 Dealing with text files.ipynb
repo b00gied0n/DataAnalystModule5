{
 "cells": [
  {
   "cell_type": "markdown",
   "metadata": {},
   "source": [
    "# Python Open function & With Open function"
   ]
  },
  {
   "cell_type": "markdown",
   "metadata": {},
   "source": [
    "### Python built-in open() function\n",
    "\n",
    "- The open() built-in function is used to open files in your system\n",
    "- The open() takes two arguments, the name of the file and and the mode\n",
    "- The filename is the name of the file to be opened\n",
    "- The mode indicates, how the file is going to be opened “r” for reading, “w” for writing and “a” for a appending. \n",
    "- The default mode for opening a file is “r”"
   ]
  },
  {
   "cell_type": "code",
   "execution_count": null,
   "metadata": {},
   "outputs": [],
   "source": [
    "file = open(\"ConsumerSentiment.txt\", mode=\"r\")\n",
    "\n",
    "for line in file:\n",
    "    print(line)"
   ]
  },
  {
   "cell_type": "code",
   "execution_count": null,
   "metadata": {},
   "outputs": [],
   "source": [
    "# This is called a the file handle - this object will contain all the info related to the file we are accessing\n",
    "file"
   ]
  },
  {
   "cell_type": "code",
   "execution_count": null,
   "metadata": {
    "scrolled": true
   },
   "outputs": [],
   "source": [
    "# read() can be used to access the content of the file object\n",
    "# each line is seperate by \"\\n\" which is known as the newline charter\n",
    "file.read()"
   ]
  },
  {
   "cell_type": "code",
   "execution_count": null,
   "metadata": {},
   "outputs": [],
   "source": [
    "# Changes the current file position/cursor to 0 (begining of the file)\n",
    "file.seek(0)"
   ]
  },
  {
   "cell_type": "code",
   "execution_count": null,
   "metadata": {},
   "outputs": [],
   "source": [
    "# readline() reads one entire line from the file\n",
    "file.readline()"
   ]
  },
  {
   "cell_type": "code",
   "execution_count": null,
   "metadata": {},
   "outputs": [],
   "source": [
    "# will return all of the lines of a file as a python list\n",
    "file.readlines()"
   ]
  },
  {
   "cell_type": "code",
   "execution_count": null,
   "metadata": {},
   "outputs": [],
   "source": [
    "# closes the opened file\n",
    "file.close()"
   ]
  },
  {
   "cell_type": "markdown",
   "metadata": {},
   "source": [
    "### with open() function"
   ]
  },
  {
   "cell_type": "code",
   "execution_count": null,
   "metadata": {},
   "outputs": [],
   "source": [
    "# With the “With” statement, you get better exceptions handling.\n",
    "# In addition, it will automatically close the file, No need to execute file.close()\n",
    "\n",
    "# creating an empty list, this list will be used to store information from the \"ConsumerSentiment.txt\" file\n",
    "feedback = []\n",
    "\n",
    "\n",
    "# the below for loop will go line-by-line in the \"ConsumerSentiment.txt\" file.\n",
    "with open(\"ConsumerSentiment.txt\", mode=\"r\") as file:\n",
    "    \n",
    "    for line in file:\n",
    "        feedback.append(line.rstrip(\" \\n \")) # Remove the trailing \"\\n\" newline characters\n",
    "\n",
    "\n",
    "# exploring the contnet of the feedback list        \n",
    "feedback"
   ]
  },
  {
   "cell_type": "code",
   "execution_count": null,
   "metadata": {},
   "outputs": [],
   "source": []
  }
 ],
 "metadata": {
  "kernelspec": {
   "display_name": "Python 3",
   "language": "python",
   "name": "python3"
  },
  "language_info": {
   "codemirror_mode": {
    "name": "ipython",
    "version": 3
   },
   "file_extension": ".py",
   "mimetype": "text/x-python",
   "name": "python",
   "nbconvert_exporter": "python",
   "pygments_lexer": "ipython3",
   "version": "3.8.5"
  }
 },
 "nbformat": 4,
 "nbformat_minor": 2
}
