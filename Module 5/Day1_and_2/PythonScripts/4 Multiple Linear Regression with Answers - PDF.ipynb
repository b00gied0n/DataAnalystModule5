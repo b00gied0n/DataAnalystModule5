{
 "cells": [
  {
   "cell_type": "markdown",
   "metadata": {},
   "source": [
    "## Multiple Linear Regression\n",
    "\n",
    "#### What is Linear Regression?\n",
    "- Linear Regression is a powerful statistical analytical method that allows us to examine the relationship between two or more variables of interest, the relationship between independent and dependent variables.\n",
    "- Linear Regression examines the effects of one or more independent variables on a dependent variable.\n",
    "- Linear regression is a supervised learning algorithm.\n",
    "- Applications of Linear Regression range from predicting health outcomes in medicine, stock prices in finance, power usage in high-performance computing, marketing effectiveness on pricing and promotions and sales of a products.\n",
    "\n",
    "\n",
    "#### Format of Linear Regression formula\n",
    "\n",
    "- In Multiple Linear Regression, a Multiple independent variables(x1,x2,x3,...xn) are used to predict the value of a single dependent variable(y)\n",
    "\n",
    "![Regression Formula](pics/MLRFormula.png)\n"
   ]
  },
  {
   "cell_type": "markdown",
   "metadata": {},
   "source": [
    "#### The Goal\n",
    "The goal of this lab is to predict the sales price for all new houses getting build."
   ]
  },
  {
   "cell_type": "raw",
   "metadata": {},
   "source": []
  },
  {
   "cell_type": "markdown",
   "metadata": {},
   "source": [
    "#### About the \"HousePrices\" dataset\n",
    "The House Prices dataset contains 100 observations and 5 different attributes (4 independent variables and 1 dependent variable)\n",
    "\n",
    "#### Independent Variables\n",
    "    1. House Sqft – square footage of the property (X1)\n",
    "    2. Taxes - property tax will be calculated on this value (X2)\n",
    "    3. Bedrooms – number of bedrooms in the property (X3)\n",
    "    4. Bathrooms – number of bathrooms in the property (X4)\n",
    "\n",
    "#### Dependent Variable\n",
    "    5. Last Sold Price - the value the property got sold for(Y)"
   ]
  },
  {
   "cell_type": "raw",
   "metadata": {},
   "source": []
  },
  {
   "cell_type": "markdown",
   "metadata": {},
   "source": [
    "#### Download and Install Python Libraries"
   ]
  },
  {
   "cell_type": "code",
   "execution_count": 68,
   "metadata": {},
   "outputs": [],
   "source": [
    "#!pip install pandas\n",
    "#!pip install numpy\n",
    "#!pip install scikit-learn\n",
    "#!pip install scipy\n",
    "#!pip install seaborn\n",
    "#!pip install matplotlib"
   ]
  },
  {
   "cell_type": "markdown",
   "metadata": {},
   "source": [
    "#### Import Python Libraries"
   ]
  },
  {
   "cell_type": "code",
   "execution_count": 69,
   "metadata": {},
   "outputs": [],
   "source": [
    "# Importing some common libraries that’s needed for all data science related projects\n",
    "import numpy as np\n",
    "import pandas as pd\n",
    "import math\n",
    "import scipy\n",
    "\n",
    "\n",
    "# Importing different modules from the sklearn library to build and evaluate the linear regression model\n",
    "from sklearn.model_selection import train_test_split\n",
    "from sklearn.linear_model import LinearRegression\n",
    "from sklearn import metrics\n",
    "from sklearn.metrics import mean_squared_error\n",
    "from sklearn.metrics import r2_score\n",
    "\n",
    "\n",
    "# Importing matplotlib and seaborn libraries for data visualisation \n",
    "import matplotlib.pyplot as plt\n",
    "import seaborn as sns\n",
    "%matplotlib inline\n",
    "\n",
    "\n",
    "# Switching off unnecessary warning messages \n",
    "import warnings\n",
    "warnings.filterwarnings('ignore')\n",
    "\n",
    "\n",
    "\n"
   ]
  },
  {
   "cell_type": "raw",
   "metadata": {},
   "source": []
  },
  {
   "cell_type": "markdown",
   "metadata": {},
   "source": [
    "#### Process map\n",
    "Below illustrates a 14-step process used during this lab.\n",
    "\n",
    "    1.\tImport Data\n",
    "    2.\tData Quality Checks\n",
    "    3.\tData Cleansing\n",
    "    4.\tExploratory Analysis using Aggregations\n",
    "    5.\tExploratory Analysis using Distributions\n",
    "    6.\tExploratory Analysis using Correlations\n",
    "    7.\tVisualisations\n",
    "    8.\tModel: Pre-processing\n",
    "    9.\tModel: Train/Test Split\n",
    "    10.\tModel: Build (Train dataset)\n",
    "    11.\tModel: Evaluation (Train dataset)\n",
    "    12.\tModel: Evaluation (Test dataset)\n",
    "    13.\tModel: Predictions\n",
    "    14.\tModel: Save Predictions\n"
   ]
  },
  {
   "cell_type": "raw",
   "metadata": {},
   "source": []
  },
  {
   "cell_type": "markdown",
   "metadata": {},
   "source": [
    "#### 1. Import Data"
   ]
  },
  {
   "cell_type": "code",
   "execution_count": 70,
   "metadata": {},
   "outputs": [
    {
     "data": {
      "text/html": [
       "<div>\n",
       "<style scoped>\n",
       "    .dataframe tbody tr th:only-of-type {\n",
       "        vertical-align: middle;\n",
       "    }\n",
       "\n",
       "    .dataframe tbody tr th {\n",
       "        vertical-align: top;\n",
       "    }\n",
       "\n",
       "    .dataframe thead th {\n",
       "        text-align: right;\n",
       "    }\n",
       "</style>\n",
       "<table border=\"1\" class=\"dataframe\">\n",
       "  <thead>\n",
       "    <tr style=\"text-align: right;\">\n",
       "      <th></th>\n",
       "      <th>HouseSqft</th>\n",
       "      <th>Taxes</th>\n",
       "      <th>Bedrooms</th>\n",
       "      <th>Bathrooms</th>\n",
       "      <th>LastSoldPrice</th>\n",
       "    </tr>\n",
       "  </thead>\n",
       "  <tbody>\n",
       "    <tr>\n",
       "      <th>0</th>\n",
       "      <td>1240.0</td>\n",
       "      <td>1360</td>\n",
       "      <td>3</td>\n",
       "      <td>2.0</td>\n",
       "      <td>145000</td>\n",
       "    </tr>\n",
       "    <tr>\n",
       "      <th>1</th>\n",
       "      <td>370.0</td>\n",
       "      <td>1050</td>\n",
       "      <td>1</td>\n",
       "      <td>1.0</td>\n",
       "      <td>68000</td>\n",
       "    </tr>\n",
       "    <tr>\n",
       "      <th>2</th>\n",
       "      <td>NaN</td>\n",
       "      <td>1010</td>\n",
       "      <td>3</td>\n",
       "      <td>1.5</td>\n",
       "      <td>115000</td>\n",
       "    </tr>\n",
       "    <tr>\n",
       "      <th>3</th>\n",
       "      <td>1120.0</td>\n",
       "      <td>830</td>\n",
       "      <td>3</td>\n",
       "      <td>2.0</td>\n",
       "      <td>69000</td>\n",
       "    </tr>\n",
       "    <tr>\n",
       "      <th>4</th>\n",
       "      <td>1710.0</td>\n",
       "      <td>2150</td>\n",
       "      <td>3</td>\n",
       "      <td>2.0</td>\n",
       "      <td>163000</td>\n",
       "    </tr>\n",
       "    <tr>\n",
       "      <th>...</th>\n",
       "      <td>...</td>\n",
       "      <td>...</td>\n",
       "      <td>...</td>\n",
       "      <td>...</td>\n",
       "      <td>...</td>\n",
       "    </tr>\n",
       "    <tr>\n",
       "      <th>95</th>\n",
       "      <td>1060.0</td>\n",
       "      <td>990</td>\n",
       "      <td>2</td>\n",
       "      <td>2.0</td>\n",
       "      <td>176000</td>\n",
       "    </tr>\n",
       "    <tr>\n",
       "      <th>96</th>\n",
       "      <td>1730.0</td>\n",
       "      <td>3030</td>\n",
       "      <td>3</td>\n",
       "      <td>2.0</td>\n",
       "      <td>196500</td>\n",
       "    </tr>\n",
       "    <tr>\n",
       "      <th>97</th>\n",
       "      <td>1370.0</td>\n",
       "      <td>1580</td>\n",
       "      <td>3</td>\n",
       "      <td>2.0</td>\n",
       "      <td>132200</td>\n",
       "    </tr>\n",
       "    <tr>\n",
       "      <th>98</th>\n",
       "      <td>1560.0</td>\n",
       "      <td>1770</td>\n",
       "      <td>3</td>\n",
       "      <td>2.0</td>\n",
       "      <td>88400</td>\n",
       "    </tr>\n",
       "    <tr>\n",
       "      <th>99</th>\n",
       "      <td>1340.0</td>\n",
       "      <td>1430</td>\n",
       "      <td>3</td>\n",
       "      <td>2.0</td>\n",
       "      <td>127200</td>\n",
       "    </tr>\n",
       "  </tbody>\n",
       "</table>\n",
       "<p>100 rows × 5 columns</p>\n",
       "</div>"
      ],
      "text/plain": [
       "    HouseSqft  Taxes  Bedrooms  Bathrooms  LastSoldPrice\n",
       "0      1240.0   1360         3        2.0         145000\n",
       "1       370.0   1050         1        1.0          68000\n",
       "2         NaN   1010         3        1.5         115000\n",
       "3      1120.0    830         3        2.0          69000\n",
       "4      1710.0   2150         3        2.0         163000\n",
       "..        ...    ...       ...        ...            ...\n",
       "95     1060.0    990         2        2.0         176000\n",
       "96     1730.0   3030         3        2.0         196500\n",
       "97     1370.0   1580         3        2.0         132200\n",
       "98     1560.0   1770         3        2.0          88400\n",
       "99     1340.0   1430         3        2.0         127200\n",
       "\n",
       "[100 rows x 5 columns]"
      ]
     },
     "execution_count": 70,
     "metadata": {},
     "output_type": "execute_result"
    }
   ],
   "source": [
    "# Reading data from a CSV file and saving that data into a dataframe called \"df\"\n",
    "\n",
    "df = pd.read_csv(\"HousePrices.csv\")\n",
    "df"
   ]
  },
  {
   "cell_type": "raw",
   "metadata": {},
   "source": []
  },
  {
   "cell_type": "markdown",
   "metadata": {},
   "source": [
    "#### 2. Data Quality Checks\n",
    "\n",
    "    2.1 Check data\n",
    "    2.2 Check shape of data\n",
    "    2.3 Check for duplicates\n",
    "    2.4 Check for missing values"
   ]
  },
  {
   "cell_type": "code",
   "execution_count": 71,
   "metadata": {},
   "outputs": [
    {
     "data": {
      "text/html": [
       "<div>\n",
       "<style scoped>\n",
       "    .dataframe tbody tr th:only-of-type {\n",
       "        vertical-align: middle;\n",
       "    }\n",
       "\n",
       "    .dataframe tbody tr th {\n",
       "        vertical-align: top;\n",
       "    }\n",
       "\n",
       "    .dataframe thead th {\n",
       "        text-align: right;\n",
       "    }\n",
       "</style>\n",
       "<table border=\"1\" class=\"dataframe\">\n",
       "  <thead>\n",
       "    <tr style=\"text-align: right;\">\n",
       "      <th></th>\n",
       "      <th>HouseSqft</th>\n",
       "      <th>Taxes</th>\n",
       "      <th>Bedrooms</th>\n",
       "      <th>Bathrooms</th>\n",
       "      <th>LastSoldPrice</th>\n",
       "    </tr>\n",
       "  </thead>\n",
       "  <tbody>\n",
       "    <tr>\n",
       "      <th>0</th>\n",
       "      <td>1240.0</td>\n",
       "      <td>1360</td>\n",
       "      <td>3</td>\n",
       "      <td>2.0</td>\n",
       "      <td>145000</td>\n",
       "    </tr>\n",
       "    <tr>\n",
       "      <th>1</th>\n",
       "      <td>370.0</td>\n",
       "      <td>1050</td>\n",
       "      <td>1</td>\n",
       "      <td>1.0</td>\n",
       "      <td>68000</td>\n",
       "    </tr>\n",
       "    <tr>\n",
       "      <th>2</th>\n",
       "      <td>NaN</td>\n",
       "      <td>1010</td>\n",
       "      <td>3</td>\n",
       "      <td>1.5</td>\n",
       "      <td>115000</td>\n",
       "    </tr>\n",
       "    <tr>\n",
       "      <th>3</th>\n",
       "      <td>1120.0</td>\n",
       "      <td>830</td>\n",
       "      <td>3</td>\n",
       "      <td>2.0</td>\n",
       "      <td>69000</td>\n",
       "    </tr>\n",
       "    <tr>\n",
       "      <th>4</th>\n",
       "      <td>1710.0</td>\n",
       "      <td>2150</td>\n",
       "      <td>3</td>\n",
       "      <td>2.0</td>\n",
       "      <td>163000</td>\n",
       "    </tr>\n",
       "  </tbody>\n",
       "</table>\n",
       "</div>"
      ],
      "text/plain": [
       "   HouseSqft  Taxes  Bedrooms  Bathrooms  LastSoldPrice\n",
       "0     1240.0   1360         3        2.0         145000\n",
       "1      370.0   1050         1        1.0          68000\n",
       "2        NaN   1010         3        1.5         115000\n",
       "3     1120.0    830         3        2.0          69000\n",
       "4     1710.0   2150         3        2.0         163000"
      ]
     },
     "execution_count": 71,
     "metadata": {},
     "output_type": "execute_result"
    }
   ],
   "source": [
    "# 2.1\n",
    "# Viewing top 5 records\n",
    "df.head()\n",
    "\n",
    "# Viewing last 5 records\n",
    "#df.tail()\n",
    "\n",
    "# Viewing top 3 records\n",
    "#df.head(n=3)\n",
    "\n",
    "# Viewing last 3 records\n",
    "#df.tail(n=3)"
   ]
  },
  {
   "cell_type": "code",
   "execution_count": 72,
   "metadata": {},
   "outputs": [
    {
     "data": {
      "text/plain": [
       "(100, 5)"
      ]
     },
     "execution_count": 72,
     "metadata": {},
     "output_type": "execute_result"
    }
   ],
   "source": [
    "# 2.2\n",
    "# Looking at the structure of the dataframe\n",
    "\n",
    "df.shape"
   ]
  },
  {
   "cell_type": "code",
   "execution_count": 73,
   "metadata": {},
   "outputs": [
    {
     "data": {
      "text/plain": [
       "0"
      ]
     },
     "execution_count": 73,
     "metadata": {},
     "output_type": "execute_result"
    }
   ],
   "source": [
    "# 2.3\n",
    "# Let’s use duplicated() function to identify how many duplicate records there are in the dataset\n",
    "\n",
    "df.duplicated().sum()"
   ]
  },
  {
   "cell_type": "code",
   "execution_count": 74,
   "metadata": {
    "scrolled": false
   },
   "outputs": [
    {
     "name": "stdout",
     "output_type": "stream",
     "text": [
      "<class 'pandas.core.frame.DataFrame'>\n",
      "RangeIndex: 100 entries, 0 to 99\n",
      "Data columns (total 5 columns):\n",
      " #   Column         Non-Null Count  Dtype  \n",
      "---  ------         --------------  -----  \n",
      " 0   HouseSqft      98 non-null     float64\n",
      " 1   Taxes          100 non-null    int64  \n",
      " 2   Bedrooms       100 non-null    int64  \n",
      " 3   Bathrooms      100 non-null    float64\n",
      " 4   LastSoldPrice  100 non-null    int64  \n",
      "dtypes: float64(2), int64(3)\n",
      "memory usage: 4.0 KB\n"
     ]
    }
   ],
   "source": [
    "# 2.4\n",
    "# This method prints out information about a dataFrame including the index, dtype, columns, non-null values and memory usage\n",
    "# This method is also useful for finding out missing values in a dataset\n",
    "# if found, we can use interpolation techniques to rectify those missing values\n",
    "\n",
    "df.info()"
   ]
  },
  {
   "cell_type": "raw",
   "metadata": {},
   "source": []
  },
  {
   "cell_type": "markdown",
   "metadata": {},
   "source": [
    "#### 3. Data Cleansing\n",
    "\n",
    "    3.1 Converting data types\n",
    "    3.2 Remove duplicates\n",
    "    3.3 Fill missing values\n",
    "    3.4 Outlier detection and treatment"
   ]
  },
  {
   "cell_type": "code",
   "execution_count": 75,
   "metadata": {},
   "outputs": [
    {
     "name": "stdout",
     "output_type": "stream",
     "text": [
      "<class 'pandas.core.frame.DataFrame'>\n",
      "RangeIndex: 100 entries, 0 to 99\n",
      "Data columns (total 5 columns):\n",
      " #   Column         Non-Null Count  Dtype   \n",
      "---  ------         --------------  -----   \n",
      " 0   HouseSqft      98 non-null     float64 \n",
      " 1   Taxes          100 non-null    float64 \n",
      " 2   Bedrooms       100 non-null    category\n",
      " 3   Bathrooms      100 non-null    category\n",
      " 4   LastSoldPrice  100 non-null    int64   \n",
      "dtypes: category(2), float64(2), int64(1)\n",
      "memory usage: 3.1 KB\n"
     ]
    }
   ],
   "source": [
    "# 3.1\n",
    "# Converting data type of a column using astype() method\n",
    "\n",
    "df[\"HouseSqft\"] = df.HouseSqft.astype(\"float64\")\n",
    "df[\"Taxes\"] = df.Taxes.astype(\"float64\")\n",
    "df[\"Bedrooms\"] = df.Bedrooms.astype(\"category\")\n",
    "df[\"Bathrooms\"] = df.Bathrooms.astype(\"category\")\n",
    "df[\"LastSoldPrice\"] = df.LastSoldPrice.astype(\"int64\")\n",
    "df.info()"
   ]
  },
  {
   "cell_type": "raw",
   "metadata": {},
   "source": []
  },
  {
   "cell_type": "code",
   "execution_count": 76,
   "metadata": {},
   "outputs": [],
   "source": [
    "# 3.2\n",
    "# This is how you remove all the duplicates from the dataset using drop_duplicates() function\n",
    "\n",
    "df = df.drop_duplicates()"
   ]
  },
  {
   "cell_type": "raw",
   "metadata": {},
   "source": []
  },
  {
   "cell_type": "code",
   "execution_count": 77,
   "metadata": {
    "scrolled": true
   },
   "outputs": [],
   "source": [
    "# 3.3\n",
    "# Fill missing values (NaN, Null) with median value of a column"
   ]
  },
  {
   "cell_type": "code",
   "execution_count": 78,
   "metadata": {},
   "outputs": [
    {
     "data": {
      "text/plain": [
       "HouseSqft          1415.0\n",
       "Taxes              1535.0\n",
       "LastSoldPrice    123750.0\n",
       "dtype: float64"
      ]
     },
     "execution_count": 78,
     "metadata": {},
     "output_type": "execute_result"
    }
   ],
   "source": [
    "# This is how you calculate median for all columns in the dataframe\n",
    "df.median()"
   ]
  },
  {
   "cell_type": "code",
   "execution_count": 79,
   "metadata": {},
   "outputs": [
    {
     "data": {
      "text/plain": [
       "1415.0"
      ]
     },
     "execution_count": 79,
     "metadata": {},
     "output_type": "execute_result"
    }
   ],
   "source": [
    "# This is how you calculate median value for a specific column\n",
    "df.HouseSqft.median()"
   ]
  },
  {
   "cell_type": "code",
   "execution_count": 80,
   "metadata": {},
   "outputs": [],
   "source": [
    "# This is how you fix missing values for all columns\n",
    "# df = df.fillna(df.median())"
   ]
  },
  {
   "cell_type": "code",
   "execution_count": 81,
   "metadata": {
    "scrolled": false
   },
   "outputs": [
    {
     "data": {
      "text/html": [
       "<div>\n",
       "<style scoped>\n",
       "    .dataframe tbody tr th:only-of-type {\n",
       "        vertical-align: middle;\n",
       "    }\n",
       "\n",
       "    .dataframe tbody tr th {\n",
       "        vertical-align: top;\n",
       "    }\n",
       "\n",
       "    .dataframe thead th {\n",
       "        text-align: right;\n",
       "    }\n",
       "</style>\n",
       "<table border=\"1\" class=\"dataframe\">\n",
       "  <thead>\n",
       "    <tr style=\"text-align: right;\">\n",
       "      <th></th>\n",
       "      <th>HouseSqft</th>\n",
       "      <th>Taxes</th>\n",
       "      <th>Bedrooms</th>\n",
       "      <th>Bathrooms</th>\n",
       "      <th>LastSoldPrice</th>\n",
       "    </tr>\n",
       "  </thead>\n",
       "  <tbody>\n",
       "    <tr>\n",
       "      <th>0</th>\n",
       "      <td>1240.0</td>\n",
       "      <td>1360.0</td>\n",
       "      <td>3</td>\n",
       "      <td>2.0</td>\n",
       "      <td>145000</td>\n",
       "    </tr>\n",
       "    <tr>\n",
       "      <th>1</th>\n",
       "      <td>370.0</td>\n",
       "      <td>1050.0</td>\n",
       "      <td>1</td>\n",
       "      <td>1.0</td>\n",
       "      <td>68000</td>\n",
       "    </tr>\n",
       "    <tr>\n",
       "      <th>2</th>\n",
       "      <td>1415.0</td>\n",
       "      <td>1010.0</td>\n",
       "      <td>3</td>\n",
       "      <td>1.5</td>\n",
       "      <td>115000</td>\n",
       "    </tr>\n",
       "    <tr>\n",
       "      <th>3</th>\n",
       "      <td>1120.0</td>\n",
       "      <td>830.0</td>\n",
       "      <td>3</td>\n",
       "      <td>2.0</td>\n",
       "      <td>69000</td>\n",
       "    </tr>\n",
       "    <tr>\n",
       "      <th>4</th>\n",
       "      <td>1710.0</td>\n",
       "      <td>2150.0</td>\n",
       "      <td>3</td>\n",
       "      <td>2.0</td>\n",
       "      <td>163000</td>\n",
       "    </tr>\n",
       "    <tr>\n",
       "      <th>...</th>\n",
       "      <td>...</td>\n",
       "      <td>...</td>\n",
       "      <td>...</td>\n",
       "      <td>...</td>\n",
       "      <td>...</td>\n",
       "    </tr>\n",
       "    <tr>\n",
       "      <th>95</th>\n",
       "      <td>1060.0</td>\n",
       "      <td>990.0</td>\n",
       "      <td>2</td>\n",
       "      <td>2.0</td>\n",
       "      <td>176000</td>\n",
       "    </tr>\n",
       "    <tr>\n",
       "      <th>96</th>\n",
       "      <td>1730.0</td>\n",
       "      <td>3030.0</td>\n",
       "      <td>3</td>\n",
       "      <td>2.0</td>\n",
       "      <td>196500</td>\n",
       "    </tr>\n",
       "    <tr>\n",
       "      <th>97</th>\n",
       "      <td>1370.0</td>\n",
       "      <td>1580.0</td>\n",
       "      <td>3</td>\n",
       "      <td>2.0</td>\n",
       "      <td>132200</td>\n",
       "    </tr>\n",
       "    <tr>\n",
       "      <th>98</th>\n",
       "      <td>1560.0</td>\n",
       "      <td>1770.0</td>\n",
       "      <td>3</td>\n",
       "      <td>2.0</td>\n",
       "      <td>88400</td>\n",
       "    </tr>\n",
       "    <tr>\n",
       "      <th>99</th>\n",
       "      <td>1340.0</td>\n",
       "      <td>1430.0</td>\n",
       "      <td>3</td>\n",
       "      <td>2.0</td>\n",
       "      <td>127200</td>\n",
       "    </tr>\n",
       "  </tbody>\n",
       "</table>\n",
       "<p>100 rows × 5 columns</p>\n",
       "</div>"
      ],
      "text/plain": [
       "    HouseSqft   Taxes Bedrooms Bathrooms  LastSoldPrice\n",
       "0      1240.0  1360.0        3       2.0         145000\n",
       "1       370.0  1050.0        1       1.0          68000\n",
       "2      1415.0  1010.0        3       1.5         115000\n",
       "3      1120.0   830.0        3       2.0          69000\n",
       "4      1710.0  2150.0        3       2.0         163000\n",
       "..        ...     ...      ...       ...            ...\n",
       "95     1060.0   990.0        2       2.0         176000\n",
       "96     1730.0  3030.0        3       2.0         196500\n",
       "97     1370.0  1580.0        3       2.0         132200\n",
       "98     1560.0  1770.0        3       2.0          88400\n",
       "99     1340.0  1430.0        3       2.0         127200\n",
       "\n",
       "[100 rows x 5 columns]"
      ]
     },
     "execution_count": 81,
     "metadata": {},
     "output_type": "execute_result"
    }
   ],
   "source": [
    "# This is how you fix a missing value for a specific column\n",
    "df.HouseSqft = df.HouseSqft.fillna(df.HouseSqft.median())\n",
    "df"
   ]
  },
  {
   "cell_type": "code",
   "execution_count": 82,
   "metadata": {},
   "outputs": [
    {
     "name": "stdout",
     "output_type": "stream",
     "text": [
      "<class 'pandas.core.frame.DataFrame'>\n",
      "Int64Index: 100 entries, 0 to 99\n",
      "Data columns (total 5 columns):\n",
      " #   Column         Non-Null Count  Dtype   \n",
      "---  ------         --------------  -----   \n",
      " 0   HouseSqft      100 non-null    float64 \n",
      " 1   Taxes          100 non-null    float64 \n",
      " 2   Bedrooms       100 non-null    category\n",
      " 3   Bathrooms      100 non-null    category\n",
      " 4   LastSoldPrice  100 non-null    int64   \n",
      "dtypes: category(2), float64(2), int64(1)\n",
      "memory usage: 3.7 KB\n"
     ]
    }
   ],
   "source": [
    "# By looking at the info it is clear all the missing values are correctly replaced with median value\n",
    "df.info()"
   ]
  },
  {
   "cell_type": "raw",
   "metadata": {},
   "source": []
  },
  {
   "cell_type": "markdown",
   "metadata": {},
   "source": [
    "#### 3.4\n",
    "#### Outlier Detection and Treatment\n",
    "- One of the most important step in data cleansing is outlier detection and treatment.\n",
    "- Outliers are defined as data points that are significantly different from the remaining data. Those are points that lie outside the overall pattern of the distribution. Statistical measures such as mean, variance and correlation are very susceptible to outliers.\n",
    "\n",
    "#### Outlier Detection\n",
    "- This can be done through visualising the data (Box and whisker plot)\n",
    "\n",
    "\n",
    "#### Outlier Treatment\n",
    "- This can be done by imputing mean/median or random value in place of an outlier\n",
    "\n",
    "![boxplot](pics/boxplot1.png)"
   ]
  },
  {
   "cell_type": "code",
   "execution_count": 83,
   "metadata": {
    "scrolled": true
   },
   "outputs": [
    {
     "data": {
      "image/png": "[encoded data removed]",
      "text/plain": [
       "<Figure size 432x288 with 1 Axes>"
      ]
     },
     "metadata": {
      "needs_background": "light"
     },
     "output_type": "display_data"
    }
   ],
   "source": [
    "# Outlier detection using boxplot from seaborn library\n",
    "\n",
    "sns.boxplot(data=df[[\"HouseSqft\",\"Taxes\"]])\n",
    "plt.show()"
   ]
  },
  {
   "cell_type": "code",
   "execution_count": 84,
   "metadata": {},
   "outputs": [
    {
     "name": "stdout",
     "output_type": "stream",
     "text": [
      "341.25\n",
      "2611.25\n"
     ]
    }
   ],
   "source": [
    "# Outlier treatment\n",
    "# Calculation of Q1, Q3, IQR for \"HouseSqft\" column:\n",
    "\n",
    "q1 = np.percentile(df.HouseSqft,[25])[0]\n",
    "q3 = np.percentile(df.HouseSqft,[75])[0]\n",
    "iqr = q3-q1\n",
    "\n",
    "ll = q1 - iqr*1.5 #lower limit\n",
    "ul = q3 + iqr*1.5 #upper limit\n",
    "\n",
    "print(ll)\n",
    "print(ul)"
   ]
  },
  {
   "cell_type": "code",
   "execution_count": 85,
   "metadata": {},
   "outputs": [
    {
     "data": {
      "text/html": [
       "<div>\n",
       "<style scoped>\n",
       "    .dataframe tbody tr th:only-of-type {\n",
       "        vertical-align: middle;\n",
       "    }\n",
       "\n",
       "    .dataframe tbody tr th {\n",
       "        vertical-align: top;\n",
       "    }\n",
       "\n",
       "    .dataframe thead th {\n",
       "        text-align: right;\n",
       "    }\n",
       "</style>\n",
       "<table border=\"1\" class=\"dataframe\">\n",
       "  <thead>\n",
       "    <tr style=\"text-align: right;\">\n",
       "      <th></th>\n",
       "      <th>HouseSqft</th>\n",
       "      <th>Taxes</th>\n",
       "      <th>Bedrooms</th>\n",
       "      <th>Bathrooms</th>\n",
       "      <th>LastSoldPrice</th>\n",
       "    </tr>\n",
       "  </thead>\n",
       "  <tbody>\n",
       "    <tr>\n",
       "      <th>0</th>\n",
       "      <td>1240.0</td>\n",
       "      <td>1360.0</td>\n",
       "      <td>3</td>\n",
       "      <td>2.0</td>\n",
       "      <td>145000</td>\n",
       "    </tr>\n",
       "    <tr>\n",
       "      <th>1</th>\n",
       "      <td>370.0</td>\n",
       "      <td>1050.0</td>\n",
       "      <td>1</td>\n",
       "      <td>1.0</td>\n",
       "      <td>68000</td>\n",
       "    </tr>\n",
       "    <tr>\n",
       "      <th>2</th>\n",
       "      <td>1415.0</td>\n",
       "      <td>1010.0</td>\n",
       "      <td>3</td>\n",
       "      <td>1.5</td>\n",
       "      <td>115000</td>\n",
       "    </tr>\n",
       "    <tr>\n",
       "      <th>3</th>\n",
       "      <td>1120.0</td>\n",
       "      <td>830.0</td>\n",
       "      <td>3</td>\n",
       "      <td>2.0</td>\n",
       "      <td>69000</td>\n",
       "    </tr>\n",
       "    <tr>\n",
       "      <th>4</th>\n",
       "      <td>1710.0</td>\n",
       "      <td>2150.0</td>\n",
       "      <td>3</td>\n",
       "      <td>2.0</td>\n",
       "      <td>163000</td>\n",
       "    </tr>\n",
       "    <tr>\n",
       "      <th>...</th>\n",
       "      <td>...</td>\n",
       "      <td>...</td>\n",
       "      <td>...</td>\n",
       "      <td>...</td>\n",
       "      <td>...</td>\n",
       "    </tr>\n",
       "    <tr>\n",
       "      <th>95</th>\n",
       "      <td>1060.0</td>\n",
       "      <td>990.0</td>\n",
       "      <td>2</td>\n",
       "      <td>2.0</td>\n",
       "      <td>176000</td>\n",
       "    </tr>\n",
       "    <tr>\n",
       "      <th>96</th>\n",
       "      <td>1730.0</td>\n",
       "      <td>3030.0</td>\n",
       "      <td>3</td>\n",
       "      <td>2.0</td>\n",
       "      <td>196500</td>\n",
       "    </tr>\n",
       "    <tr>\n",
       "      <th>97</th>\n",
       "      <td>1370.0</td>\n",
       "      <td>1580.0</td>\n",
       "      <td>3</td>\n",
       "      <td>2.0</td>\n",
       "      <td>132200</td>\n",
       "    </tr>\n",
       "    <tr>\n",
       "      <th>98</th>\n",
       "      <td>1560.0</td>\n",
       "      <td>1770.0</td>\n",
       "      <td>3</td>\n",
       "      <td>2.0</td>\n",
       "      <td>88400</td>\n",
       "    </tr>\n",
       "    <tr>\n",
       "      <th>99</th>\n",
       "      <td>1340.0</td>\n",
       "      <td>1430.0</td>\n",
       "      <td>3</td>\n",
       "      <td>2.0</td>\n",
       "      <td>127200</td>\n",
       "    </tr>\n",
       "  </tbody>\n",
       "</table>\n",
       "<p>100 rows × 5 columns</p>\n",
       "</div>"
      ],
      "text/plain": [
       "    HouseSqft   Taxes Bedrooms Bathrooms  LastSoldPrice\n",
       "0      1240.0  1360.0        3       2.0         145000\n",
       "1       370.0  1050.0        1       1.0          68000\n",
       "2      1415.0  1010.0        3       1.5         115000\n",
       "3      1120.0   830.0        3       2.0          69000\n",
       "4      1710.0  2150.0        3       2.0         163000\n",
       "..        ...     ...      ...       ...            ...\n",
       "95     1060.0   990.0        2       2.0         176000\n",
       "96     1730.0  3030.0        3       2.0         196500\n",
       "97     1370.0  1580.0        3       2.0         132200\n",
       "98     1560.0  1770.0        3       2.0          88400\n",
       "99     1340.0  1430.0        3       2.0         127200\n",
       "\n",
       "[100 rows x 5 columns]"
      ]
     },
     "execution_count": 85,
     "metadata": {},
     "output_type": "execute_result"
    }
   ],
   "source": [
    "# Option1 - Detecting outliers and imputing with custom values\n",
    "\n",
    "df.HouseSqft[df.HouseSqft>ul] = ul\n",
    "df.HouseSqft[df.HouseSqft<ll] = ll\n",
    "df"
   ]
  },
  {
   "cell_type": "code",
   "execution_count": 86,
   "metadata": {},
   "outputs": [
    {
     "data": {
      "text/plain": [
       "(100, 5)"
      ]
     },
     "execution_count": 86,
     "metadata": {},
     "output_type": "execute_result"
    }
   ],
   "source": [
    "# Please note the dataset contains 100 records after imputing outliers\n",
    "df.shape"
   ]
  },
  {
   "cell_type": "code",
   "execution_count": 87,
   "metadata": {},
   "outputs": [],
   "source": [
    "# Option2 - Filtering out outliers from the dataset\n",
    "# Please note the dataset only contains 95 records, 5 records are treated as outliers\n",
    "\n",
    "# df = df.loc[(df.HouseSqft<=ul) & (df.HouseSqft>=ll) , [\"HouseSqft\",\"Taxes\", \"Bedrooms\",\"Bathrooms\",\"LastSoldPrice\"]]\n",
    "\n",
    "# This code below can also create the same output as above\n",
    "# By omitting column section, we can display all columns\n",
    "# df.loc[(df.HouseSqft<=ul) | (df.HouseSqft>=ll)]"
   ]
  },
  {
   "cell_type": "raw",
   "metadata": {},
   "source": []
  },
  {
   "cell_type": "markdown",
   "metadata": {},
   "source": [
    "#### 4. Exploratory Analysis using Aggregations"
   ]
  },
  {
   "cell_type": "code",
   "execution_count": 88,
   "metadata": {},
   "outputs": [
    {
     "data": {
      "text/html": [
       "<div>\n",
       "<style scoped>\n",
       "    .dataframe tbody tr th:only-of-type {\n",
       "        vertical-align: middle;\n",
       "    }\n",
       "\n",
       "    .dataframe tbody tr th {\n",
       "        vertical-align: top;\n",
       "    }\n",
       "\n",
       "    .dataframe thead th {\n",
       "        text-align: right;\n",
       "    }\n",
       "</style>\n",
       "<table border=\"1\" class=\"dataframe\">\n",
       "  <thead>\n",
       "    <tr style=\"text-align: right;\">\n",
       "      <th></th>\n",
       "      <th>LastSoldPrice</th>\n",
       "    </tr>\n",
       "  </thead>\n",
       "  <tbody>\n",
       "    <tr>\n",
       "      <th>count</th>\n",
       "      <td>100.0</td>\n",
       "    </tr>\n",
       "    <tr>\n",
       "      <th>mean</th>\n",
       "      <td>126698.0</td>\n",
       "    </tr>\n",
       "  </tbody>\n",
       "</table>\n",
       "</div>"
      ],
      "text/plain": [
       "       LastSoldPrice\n",
       "count          100.0\n",
       "mean        126698.0"
      ]
     },
     "execution_count": 88,
     "metadata": {},
     "output_type": "execute_result"
    }
   ],
   "source": [
    "# Total number of houses and mean house price\n",
    "df.agg({\"LastSoldPrice\": ['count', 'mean']})"
   ]
  },
  {
   "cell_type": "raw",
   "metadata": {},
   "source": []
  },
  {
   "cell_type": "markdown",
   "metadata": {},
   "source": [
    "#### 5. Exploratory Analysis using Distributions"
   ]
  },
  {
   "cell_type": "code",
   "execution_count": 89,
   "metadata": {},
   "outputs": [
    {
     "data": {
      "text/html": [
       "<div>\n",
       "<style scoped>\n",
       "    .dataframe tbody tr th:only-of-type {\n",
       "        vertical-align: middle;\n",
       "    }\n",
       "\n",
       "    .dataframe tbody tr th {\n",
       "        vertical-align: top;\n",
       "    }\n",
       "\n",
       "    .dataframe thead tr th {\n",
       "        text-align: left;\n",
       "    }\n",
       "\n",
       "    .dataframe thead tr:last-of-type th {\n",
       "        text-align: right;\n",
       "    }\n",
       "</style>\n",
       "<table border=\"1\" class=\"dataframe\">\n",
       "  <thead>\n",
       "    <tr>\n",
       "      <th></th>\n",
       "      <th></th>\n",
       "      <th colspan=\"2\" halign=\"left\">LastSoldPrice</th>\n",
       "    </tr>\n",
       "    <tr>\n",
       "      <th></th>\n",
       "      <th></th>\n",
       "      <th>count</th>\n",
       "      <th>mean</th>\n",
       "    </tr>\n",
       "    <tr>\n",
       "      <th>Bedrooms</th>\n",
       "      <th>Bathrooms</th>\n",
       "      <th></th>\n",
       "      <th></th>\n",
       "    </tr>\n",
       "  </thead>\n",
       "  <tbody>\n",
       "    <tr>\n",
       "      <th>1</th>\n",
       "      <th>1.0</th>\n",
       "      <td>1</td>\n",
       "      <td>68000.000000</td>\n",
       "    </tr>\n",
       "    <tr>\n",
       "      <th rowspan=\"3\" valign=\"top\">2</th>\n",
       "      <th>1.0</th>\n",
       "      <td>8</td>\n",
       "      <td>91400.000000</td>\n",
       "    </tr>\n",
       "    <tr>\n",
       "      <th>2.0</th>\n",
       "      <td>9</td>\n",
       "      <td>107455.555556</td>\n",
       "    </tr>\n",
       "    <tr>\n",
       "      <th>3.0</th>\n",
       "      <td>1</td>\n",
       "      <td>148000.000000</td>\n",
       "    </tr>\n",
       "    <tr>\n",
       "      <th rowspan=\"5\" valign=\"top\">3</th>\n",
       "      <th>1.0</th>\n",
       "      <td>8</td>\n",
       "      <td>79487.500000</td>\n",
       "    </tr>\n",
       "    <tr>\n",
       "      <th>1.5</th>\n",
       "      <td>7</td>\n",
       "      <td>84414.285714</td>\n",
       "    </tr>\n",
       "    <tr>\n",
       "      <th>2.0</th>\n",
       "      <td>44</td>\n",
       "      <td>125850.000000</td>\n",
       "    </tr>\n",
       "    <tr>\n",
       "      <th>2.5</th>\n",
       "      <td>2</td>\n",
       "      <td>177500.000000</td>\n",
       "    </tr>\n",
       "    <tr>\n",
       "      <th>3.0</th>\n",
       "      <td>2</td>\n",
       "      <td>281500.000000</td>\n",
       "    </tr>\n",
       "    <tr>\n",
       "      <th rowspan=\"4\" valign=\"top\">4</th>\n",
       "      <th>1.5</th>\n",
       "      <td>1</td>\n",
       "      <td>75000.000000</td>\n",
       "    </tr>\n",
       "    <tr>\n",
       "      <th>2.0</th>\n",
       "      <td>9</td>\n",
       "      <td>163333.333333</td>\n",
       "    </tr>\n",
       "    <tr>\n",
       "      <th>2.5</th>\n",
       "      <td>4</td>\n",
       "      <td>200125.000000</td>\n",
       "    </tr>\n",
       "    <tr>\n",
       "      <th>3.0</th>\n",
       "      <td>3</td>\n",
       "      <td>203166.666667</td>\n",
       "    </tr>\n",
       "    <tr>\n",
       "      <th>5</th>\n",
       "      <th>3.0</th>\n",
       "      <td>1</td>\n",
       "      <td>118300.000000</td>\n",
       "    </tr>\n",
       "  </tbody>\n",
       "</table>\n",
       "</div>"
      ],
      "text/plain": [
       "                   LastSoldPrice               \n",
       "                           count           mean\n",
       "Bedrooms Bathrooms                             \n",
       "1        1.0                   1   68000.000000\n",
       "2        1.0                   8   91400.000000\n",
       "         2.0                   9  107455.555556\n",
       "         3.0                   1  148000.000000\n",
       "3        1.0                   8   79487.500000\n",
       "         1.5                   7   84414.285714\n",
       "         2.0                  44  125850.000000\n",
       "         2.5                   2  177500.000000\n",
       "         3.0                   2  281500.000000\n",
       "4        1.5                   1   75000.000000\n",
       "         2.0                   9  163333.333333\n",
       "         2.5                   4  200125.000000\n",
       "         3.0                   3  203166.666667\n",
       "5        3.0                   1  118300.000000"
      ]
     },
     "execution_count": 89,
     "metadata": {},
     "output_type": "execute_result"
    }
   ],
   "source": [
    "# Mean house price by bedrooms and bathrooms\n",
    "\n",
    "df.groupby(by=[\"Bedrooms\", \"Bathrooms\"]).agg({\"LastSoldPrice\": ['count','mean']}).dropna()"
   ]
  },
  {
   "cell_type": "code",
   "execution_count": 90,
   "metadata": {},
   "outputs": [
    {
     "data": {
      "text/html": [
       "<div>\n",
       "<style scoped>\n",
       "    .dataframe tbody tr th:only-of-type {\n",
       "        vertical-align: middle;\n",
       "    }\n",
       "\n",
       "    .dataframe tbody tr th {\n",
       "        vertical-align: top;\n",
       "    }\n",
       "\n",
       "    .dataframe thead th {\n",
       "        text-align: right;\n",
       "    }\n",
       "</style>\n",
       "<table border=\"1\" class=\"dataframe\">\n",
       "  <thead>\n",
       "    <tr style=\"text-align: right;\">\n",
       "      <th></th>\n",
       "      <th>HouseSqft</th>\n",
       "      <th>Taxes</th>\n",
       "      <th>LastSoldPrice</th>\n",
       "    </tr>\n",
       "  </thead>\n",
       "  <tbody>\n",
       "    <tr>\n",
       "      <th>count</th>\n",
       "      <td>100.000000</td>\n",
       "      <td>100.000000</td>\n",
       "      <td>100.000000</td>\n",
       "    </tr>\n",
       "    <tr>\n",
       "      <th>mean</th>\n",
       "      <td>1509.962500</td>\n",
       "      <td>1668.200000</td>\n",
       "      <td>126698.000000</td>\n",
       "    </tr>\n",
       "    <tr>\n",
       "      <th>std</th>\n",
       "      <td>480.729745</td>\n",
       "      <td>1009.280552</td>\n",
       "      <td>56356.774718</td>\n",
       "    </tr>\n",
       "    <tr>\n",
       "      <th>min</th>\n",
       "      <td>370.000000</td>\n",
       "      <td>20.000000</td>\n",
       "      <td>21000.000000</td>\n",
       "    </tr>\n",
       "    <tr>\n",
       "      <th>25%</th>\n",
       "      <td>1192.500000</td>\n",
       "      <td>970.000000</td>\n",
       "      <td>86875.000000</td>\n",
       "    </tr>\n",
       "    <tr>\n",
       "      <th>50%</th>\n",
       "      <td>1415.000000</td>\n",
       "      <td>1535.000000</td>\n",
       "      <td>123750.000000</td>\n",
       "    </tr>\n",
       "    <tr>\n",
       "      <th>75%</th>\n",
       "      <td>1760.000000</td>\n",
       "      <td>2042.500000</td>\n",
       "      <td>153075.000000</td>\n",
       "    </tr>\n",
       "    <tr>\n",
       "      <th>max</th>\n",
       "      <td>2611.250000</td>\n",
       "      <td>4900.000000</td>\n",
       "      <td>338000.000000</td>\n",
       "    </tr>\n",
       "  </tbody>\n",
       "</table>\n",
       "</div>"
      ],
      "text/plain": [
       "         HouseSqft        Taxes  LastSoldPrice\n",
       "count   100.000000   100.000000     100.000000\n",
       "mean   1509.962500  1668.200000  126698.000000\n",
       "std     480.729745  1009.280552   56356.774718\n",
       "min     370.000000    20.000000   21000.000000\n",
       "25%    1192.500000   970.000000   86875.000000\n",
       "50%    1415.000000  1535.000000  123750.000000\n",
       "75%    1760.000000  2042.500000  153075.000000\n",
       "max    2611.250000  4900.000000  338000.000000"
      ]
     },
     "execution_count": 90,
     "metadata": {},
     "output_type": "execute_result"
    }
   ],
   "source": [
    "# Exploring Descriptive statistics include those that summarise the central tendency, \n",
    "# dispersion and shape of a dataset’s distribution, excluding NaN(Not a Number) values\n",
    "\n",
    "df.describe()"
   ]
  },
  {
   "cell_type": "raw",
   "metadata": {},
   "source": []
  },
  {
   "cell_type": "markdown",
   "metadata": {},
   "source": [
    "#### 6. Exploratory Analysis using Correlations"
   ]
  },
  {
   "cell_type": "markdown",
   "metadata": {},
   "source": [
    "- One of the valuable aspects of regression, is that it’s able to deal with some amount of correlation among independent variables. However, too much multicollinearity in the data can be a problem\n",
    "- Multicollinearity arises when two variables that measure the same thing or similar things (e.g., weight and BMI) are both included in a multiple regression model. They will, in effect, cancel each other out and generally destroy your model\n",
    "- The main goal: choose independent variables that are highly correlated with the dependent variable (they provide information), but that are not highly correlated with other independent variables (the same information is not repeated)"
   ]
  },
  {
   "cell_type": "code",
   "execution_count": 91,
   "metadata": {
    "scrolled": true
   },
   "outputs": [
    {
     "data": {
      "text/html": [
       "<div>\n",
       "<style scoped>\n",
       "    .dataframe tbody tr th:only-of-type {\n",
       "        vertical-align: middle;\n",
       "    }\n",
       "\n",
       "    .dataframe tbody tr th {\n",
       "        vertical-align: top;\n",
       "    }\n",
       "\n",
       "    .dataframe thead th {\n",
       "        text-align: right;\n",
       "    }\n",
       "</style>\n",
       "<table border=\"1\" class=\"dataframe\">\n",
       "  <thead>\n",
       "    <tr style=\"text-align: right;\">\n",
       "      <th></th>\n",
       "      <th>HouseSqft</th>\n",
       "      <th>Taxes</th>\n",
       "      <th>LastSoldPrice</th>\n",
       "    </tr>\n",
       "  </thead>\n",
       "  <tbody>\n",
       "    <tr>\n",
       "      <th>HouseSqft</th>\n",
       "      <td>1.000000</td>\n",
       "      <td>0.719944</td>\n",
       "      <td>0.766436</td>\n",
       "    </tr>\n",
       "    <tr>\n",
       "      <th>Taxes</th>\n",
       "      <td>0.719944</td>\n",
       "      <td>1.000000</td>\n",
       "      <td>0.823759</td>\n",
       "    </tr>\n",
       "    <tr>\n",
       "      <th>LastSoldPrice</th>\n",
       "      <td>0.766436</td>\n",
       "      <td>0.823759</td>\n",
       "      <td>1.000000</td>\n",
       "    </tr>\n",
       "  </tbody>\n",
       "</table>\n",
       "</div>"
      ],
      "text/plain": [
       "               HouseSqft     Taxes  LastSoldPrice\n",
       "HouseSqft       1.000000  0.719944       0.766436\n",
       "Taxes           0.719944  1.000000       0.823759\n",
       "LastSoldPrice   0.766436  0.823759       1.000000"
      ]
     },
     "execution_count": 91,
     "metadata": {},
     "output_type": "execute_result"
    }
   ],
   "source": [
    "# Creating correlation Matrix\n",
    "\n",
    "df.corr()"
   ]
  },
  {
   "cell_type": "code",
   "execution_count": 92,
   "metadata": {},
   "outputs": [],
   "source": [
    "# below code can be used to remove any columns due to multicollinearity\n",
    "# df = df.drop([\"Taxes\"], axis=1)\n",
    "# df.info()"
   ]
  },
  {
   "cell_type": "raw",
   "metadata": {},
   "source": []
  },
  {
   "cell_type": "markdown",
   "metadata": {},
   "source": [
    "#### 7. Visualisations"
   ]
  },
  {
   "cell_type": "code",
   "execution_count": 93,
   "metadata": {},
   "outputs": [
    {
     "data": {
      "image/png": "[encoded data removed]",
      "text/plain": [
       "<Figure size 432x432 with 3 Axes>"
      ]
     },
     "metadata": {
      "needs_background": "light"
     },
     "output_type": "display_data"
    }
   ],
   "source": [
    "# Joinplot from seaborn library can be used to create a scatterplot\n",
    "\n",
    "sns.jointplot(x=df.HouseSqft, y=df.LastSoldPrice, kind=\"reg\")\n",
    "plt.xlabel('HouseSqft')\n",
    "plt.ylabel('LastSoldPrice')\n",
    "plt.show()"
   ]
  },
  {
   "cell_type": "raw",
   "metadata": {},
   "source": []
  },
  {
   "cell_type": "markdown",
   "metadata": {},
   "source": [
    "#### 8. Model: Pre-processing"
   ]
  },
  {
   "cell_type": "markdown",
   "metadata": {},
   "source": [
    "Encoding technique converts categorical data into numerical data\n",
    "\n",
    "![Encode](pics/Encode.png)"
   ]
  },
  {
   "cell_type": "code",
   "execution_count": 94,
   "metadata": {},
   "outputs": [
    {
     "data": {
      "text/html": [
       "<div>\n",
       "<style scoped>\n",
       "    .dataframe tbody tr th:only-of-type {\n",
       "        vertical-align: middle;\n",
       "    }\n",
       "\n",
       "    .dataframe tbody tr th {\n",
       "        vertical-align: top;\n",
       "    }\n",
       "\n",
       "    .dataframe thead th {\n",
       "        text-align: right;\n",
       "    }\n",
       "</style>\n",
       "<table border=\"1\" class=\"dataframe\">\n",
       "  <thead>\n",
       "    <tr style=\"text-align: right;\">\n",
       "      <th></th>\n",
       "      <th>HouseSqft</th>\n",
       "      <th>Taxes</th>\n",
       "      <th>LastSoldPrice</th>\n",
       "      <th>Bedrooms_2</th>\n",
       "      <th>Bedrooms_3</th>\n",
       "      <th>Bedrooms_4</th>\n",
       "      <th>Bedrooms_5</th>\n",
       "      <th>Bathrooms_1.5</th>\n",
       "      <th>Bathrooms_2.0</th>\n",
       "      <th>Bathrooms_2.5</th>\n",
       "      <th>Bathrooms_3.0</th>\n",
       "    </tr>\n",
       "  </thead>\n",
       "  <tbody>\n",
       "    <tr>\n",
       "      <th>0</th>\n",
       "      <td>1240.0</td>\n",
       "      <td>1360.0</td>\n",
       "      <td>145000</td>\n",
       "      <td>0</td>\n",
       "      <td>1</td>\n",
       "      <td>0</td>\n",
       "      <td>0</td>\n",
       "      <td>0</td>\n",
       "      <td>1</td>\n",
       "      <td>0</td>\n",
       "      <td>0</td>\n",
       "    </tr>\n",
       "    <tr>\n",
       "      <th>1</th>\n",
       "      <td>370.0</td>\n",
       "      <td>1050.0</td>\n",
       "      <td>68000</td>\n",
       "      <td>0</td>\n",
       "      <td>0</td>\n",
       "      <td>0</td>\n",
       "      <td>0</td>\n",
       "      <td>0</td>\n",
       "      <td>0</td>\n",
       "      <td>0</td>\n",
       "      <td>0</td>\n",
       "    </tr>\n",
       "    <tr>\n",
       "      <th>2</th>\n",
       "      <td>1415.0</td>\n",
       "      <td>1010.0</td>\n",
       "      <td>115000</td>\n",
       "      <td>0</td>\n",
       "      <td>1</td>\n",
       "      <td>0</td>\n",
       "      <td>0</td>\n",
       "      <td>1</td>\n",
       "      <td>0</td>\n",
       "      <td>0</td>\n",
       "      <td>0</td>\n",
       "    </tr>\n",
       "    <tr>\n",
       "      <th>3</th>\n",
       "      <td>1120.0</td>\n",
       "      <td>830.0</td>\n",
       "      <td>69000</td>\n",
       "      <td>0</td>\n",
       "      <td>1</td>\n",
       "      <td>0</td>\n",
       "      <td>0</td>\n",
       "      <td>0</td>\n",
       "      <td>1</td>\n",
       "      <td>0</td>\n",
       "      <td>0</td>\n",
       "    </tr>\n",
       "    <tr>\n",
       "      <th>4</th>\n",
       "      <td>1710.0</td>\n",
       "      <td>2150.0</td>\n",
       "      <td>163000</td>\n",
       "      <td>0</td>\n",
       "      <td>1</td>\n",
       "      <td>0</td>\n",
       "      <td>0</td>\n",
       "      <td>0</td>\n",
       "      <td>1</td>\n",
       "      <td>0</td>\n",
       "      <td>0</td>\n",
       "    </tr>\n",
       "    <tr>\n",
       "      <th>...</th>\n",
       "      <td>...</td>\n",
       "      <td>...</td>\n",
       "      <td>...</td>\n",
       "      <td>...</td>\n",
       "      <td>...</td>\n",
       "      <td>...</td>\n",
       "      <td>...</td>\n",
       "      <td>...</td>\n",
       "      <td>...</td>\n",
       "      <td>...</td>\n",
       "      <td>...</td>\n",
       "    </tr>\n",
       "    <tr>\n",
       "      <th>95</th>\n",
       "      <td>1060.0</td>\n",
       "      <td>990.0</td>\n",
       "      <td>176000</td>\n",
       "      <td>1</td>\n",
       "      <td>0</td>\n",
       "      <td>0</td>\n",
       "      <td>0</td>\n",
       "      <td>0</td>\n",
       "      <td>1</td>\n",
       "      <td>0</td>\n",
       "      <td>0</td>\n",
       "    </tr>\n",
       "    <tr>\n",
       "      <th>96</th>\n",
       "      <td>1730.0</td>\n",
       "      <td>3030.0</td>\n",
       "      <td>196500</td>\n",
       "      <td>0</td>\n",
       "      <td>1</td>\n",
       "      <td>0</td>\n",
       "      <td>0</td>\n",
       "      <td>0</td>\n",
       "      <td>1</td>\n",
       "      <td>0</td>\n",
       "      <td>0</td>\n",
       "    </tr>\n",
       "    <tr>\n",
       "      <th>97</th>\n",
       "      <td>1370.0</td>\n",
       "      <td>1580.0</td>\n",
       "      <td>132200</td>\n",
       "      <td>0</td>\n",
       "      <td>1</td>\n",
       "      <td>0</td>\n",
       "      <td>0</td>\n",
       "      <td>0</td>\n",
       "      <td>1</td>\n",
       "      <td>0</td>\n",
       "      <td>0</td>\n",
       "    </tr>\n",
       "    <tr>\n",
       "      <th>98</th>\n",
       "      <td>1560.0</td>\n",
       "      <td>1770.0</td>\n",
       "      <td>88400</td>\n",
       "      <td>0</td>\n",
       "      <td>1</td>\n",
       "      <td>0</td>\n",
       "      <td>0</td>\n",
       "      <td>0</td>\n",
       "      <td>1</td>\n",
       "      <td>0</td>\n",
       "      <td>0</td>\n",
       "    </tr>\n",
       "    <tr>\n",
       "      <th>99</th>\n",
       "      <td>1340.0</td>\n",
       "      <td>1430.0</td>\n",
       "      <td>127200</td>\n",
       "      <td>0</td>\n",
       "      <td>1</td>\n",
       "      <td>0</td>\n",
       "      <td>0</td>\n",
       "      <td>0</td>\n",
       "      <td>1</td>\n",
       "      <td>0</td>\n",
       "      <td>0</td>\n",
       "    </tr>\n",
       "  </tbody>\n",
       "</table>\n",
       "<p>100 rows × 11 columns</p>\n",
       "</div>"
      ],
      "text/plain": [
       "    HouseSqft   Taxes  LastSoldPrice  Bedrooms_2  Bedrooms_3  Bedrooms_4  \\\n",
       "0      1240.0  1360.0         145000           0           1           0   \n",
       "1       370.0  1050.0          68000           0           0           0   \n",
       "2      1415.0  1010.0         115000           0           1           0   \n",
       "3      1120.0   830.0          69000           0           1           0   \n",
       "4      1710.0  2150.0         163000           0           1           0   \n",
       "..        ...     ...            ...         ...         ...         ...   \n",
       "95     1060.0   990.0         176000           1           0           0   \n",
       "96     1730.0  3030.0         196500           0           1           0   \n",
       "97     1370.0  1580.0         132200           0           1           0   \n",
       "98     1560.0  1770.0          88400           0           1           0   \n",
       "99     1340.0  1430.0         127200           0           1           0   \n",
       "\n",
       "    Bedrooms_5  Bathrooms_1.5  Bathrooms_2.0  Bathrooms_2.5  Bathrooms_3.0  \n",
       "0            0              0              1              0              0  \n",
       "1            0              0              0              0              0  \n",
       "2            0              1              0              0              0  \n",
       "3            0              0              1              0              0  \n",
       "4            0              0              1              0              0  \n",
       "..         ...            ...            ...            ...            ...  \n",
       "95           0              0              1              0              0  \n",
       "96           0              0              1              0              0  \n",
       "97           0              0              1              0              0  \n",
       "98           0              0              1              0              0  \n",
       "99           0              0              1              0              0  \n",
       "\n",
       "[100 rows x 11 columns]"
      ]
     },
     "execution_count": 94,
     "metadata": {},
     "output_type": "execute_result"
    }
   ],
   "source": [
    "# Converting categorical variables into dummy variables (one-hot encoding)\n",
    "\n",
    "df = pd.get_dummies(data=df, columns=[\"Bedrooms\", \"Bathrooms\"], drop_first=True)\n",
    "df"
   ]
  },
  {
   "cell_type": "code",
   "execution_count": 95,
   "metadata": {},
   "outputs": [
    {
     "name": "stdout",
     "output_type": "stream",
     "text": [
      "<class 'pandas.core.frame.DataFrame'>\n",
      "Int64Index: 100 entries, 0 to 99\n",
      "Data columns (total 11 columns):\n",
      " #   Column         Non-Null Count  Dtype  \n",
      "---  ------         --------------  -----  \n",
      " 0   HouseSqft      100 non-null    float64\n",
      " 1   Taxes          100 non-null    float64\n",
      " 2   LastSoldPrice  100 non-null    int64  \n",
      " 3   Bedrooms_2     100 non-null    uint8  \n",
      " 4   Bedrooms_3     100 non-null    uint8  \n",
      " 5   Bedrooms_4     100 non-null    uint8  \n",
      " 6   Bedrooms_5     100 non-null    uint8  \n",
      " 7   Bathrooms_1.5  100 non-null    uint8  \n",
      " 8   Bathrooms_2.0  100 non-null    uint8  \n",
      " 9   Bathrooms_2.5  100 non-null    uint8  \n",
      " 10  Bathrooms_3.0  100 non-null    uint8  \n",
      "dtypes: float64(2), int64(1), uint8(8)\n",
      "memory usage: 8.9 KB\n"
     ]
    }
   ],
   "source": [
    "# Check for column names and other info\n",
    "\n",
    "df.info()"
   ]
  },
  {
   "cell_type": "raw",
   "metadata": {},
   "source": []
  },
  {
   "cell_type": "markdown",
   "metadata": {},
   "source": [
    "#### 9. Model: Train/Test Split \n",
    "\n",
    "**Step1: Split dataset to X and Y variables**"
   ]
  },
  {
   "cell_type": "code",
   "execution_count": 96,
   "metadata": {},
   "outputs": [],
   "source": [
    "# Separation of independent variables and dependent variable\n",
    "\n",
    "x = df.loc[:, df.columns != \"LastSoldPrice\"]\n",
    "y = df.loc[:, df.columns == \"LastSoldPrice\"]"
   ]
  },
  {
   "cell_type": "code",
   "execution_count": 97,
   "metadata": {
    "scrolled": true
   },
   "outputs": [
    {
     "data": {
      "text/html": [
       "<div>\n",
       "<style scoped>\n",
       "    .dataframe tbody tr th:only-of-type {\n",
       "        vertical-align: middle;\n",
       "    }\n",
       "\n",
       "    .dataframe tbody tr th {\n",
       "        vertical-align: top;\n",
       "    }\n",
       "\n",
       "    .dataframe thead th {\n",
       "        text-align: right;\n",
       "    }\n",
       "</style>\n",
       "<table border=\"1\" class=\"dataframe\">\n",
       "  <thead>\n",
       "    <tr style=\"text-align: right;\">\n",
       "      <th></th>\n",
       "      <th>HouseSqft</th>\n",
       "      <th>Taxes</th>\n",
       "      <th>Bedrooms_2</th>\n",
       "      <th>Bedrooms_3</th>\n",
       "      <th>Bedrooms_4</th>\n",
       "      <th>Bedrooms_5</th>\n",
       "      <th>Bathrooms_1.5</th>\n",
       "      <th>Bathrooms_2.0</th>\n",
       "      <th>Bathrooms_2.5</th>\n",
       "      <th>Bathrooms_3.0</th>\n",
       "    </tr>\n",
       "  </thead>\n",
       "  <tbody>\n",
       "    <tr>\n",
       "      <th>0</th>\n",
       "      <td>1240.0</td>\n",
       "      <td>1360.0</td>\n",
       "      <td>0</td>\n",
       "      <td>1</td>\n",
       "      <td>0</td>\n",
       "      <td>0</td>\n",
       "      <td>0</td>\n",
       "      <td>1</td>\n",
       "      <td>0</td>\n",
       "      <td>0</td>\n",
       "    </tr>\n",
       "    <tr>\n",
       "      <th>1</th>\n",
       "      <td>370.0</td>\n",
       "      <td>1050.0</td>\n",
       "      <td>0</td>\n",
       "      <td>0</td>\n",
       "      <td>0</td>\n",
       "      <td>0</td>\n",
       "      <td>0</td>\n",
       "      <td>0</td>\n",
       "      <td>0</td>\n",
       "      <td>0</td>\n",
       "    </tr>\n",
       "    <tr>\n",
       "      <th>2</th>\n",
       "      <td>1415.0</td>\n",
       "      <td>1010.0</td>\n",
       "      <td>0</td>\n",
       "      <td>1</td>\n",
       "      <td>0</td>\n",
       "      <td>0</td>\n",
       "      <td>1</td>\n",
       "      <td>0</td>\n",
       "      <td>0</td>\n",
       "      <td>0</td>\n",
       "    </tr>\n",
       "    <tr>\n",
       "      <th>3</th>\n",
       "      <td>1120.0</td>\n",
       "      <td>830.0</td>\n",
       "      <td>0</td>\n",
       "      <td>1</td>\n",
       "      <td>0</td>\n",
       "      <td>0</td>\n",
       "      <td>0</td>\n",
       "      <td>1</td>\n",
       "      <td>0</td>\n",
       "      <td>0</td>\n",
       "    </tr>\n",
       "    <tr>\n",
       "      <th>4</th>\n",
       "      <td>1710.0</td>\n",
       "      <td>2150.0</td>\n",
       "      <td>0</td>\n",
       "      <td>1</td>\n",
       "      <td>0</td>\n",
       "      <td>0</td>\n",
       "      <td>0</td>\n",
       "      <td>1</td>\n",
       "      <td>0</td>\n",
       "      <td>0</td>\n",
       "    </tr>\n",
       "  </tbody>\n",
       "</table>\n",
       "</div>"
      ],
      "text/plain": [
       "   HouseSqft   Taxes  Bedrooms_2  Bedrooms_3  Bedrooms_4  Bedrooms_5  \\\n",
       "0     1240.0  1360.0           0           1           0           0   \n",
       "1      370.0  1050.0           0           0           0           0   \n",
       "2     1415.0  1010.0           0           1           0           0   \n",
       "3     1120.0   830.0           0           1           0           0   \n",
       "4     1710.0  2150.0           0           1           0           0   \n",
       "\n",
       "   Bathrooms_1.5  Bathrooms_2.0  Bathrooms_2.5  Bathrooms_3.0  \n",
       "0              0              1              0              0  \n",
       "1              0              0              0              0  \n",
       "2              1              0              0              0  \n",
       "3              0              1              0              0  \n",
       "4              0              1              0              0  "
      ]
     },
     "execution_count": 97,
     "metadata": {},
     "output_type": "execute_result"
    }
   ],
   "source": [
    "# Exploring all independent variables\n",
    "\n",
    "x.head()"
   ]
  },
  {
   "cell_type": "code",
   "execution_count": 98,
   "metadata": {},
   "outputs": [
    {
     "data": {
      "text/html": [
       "<div>\n",
       "<style scoped>\n",
       "    .dataframe tbody tr th:only-of-type {\n",
       "        vertical-align: middle;\n",
       "    }\n",
       "\n",
       "    .dataframe tbody tr th {\n",
       "        vertical-align: top;\n",
       "    }\n",
       "\n",
       "    .dataframe thead th {\n",
       "        text-align: right;\n",
       "    }\n",
       "</style>\n",
       "<table border=\"1\" class=\"dataframe\">\n",
       "  <thead>\n",
       "    <tr style=\"text-align: right;\">\n",
       "      <th></th>\n",
       "      <th>LastSoldPrice</th>\n",
       "    </tr>\n",
       "  </thead>\n",
       "  <tbody>\n",
       "    <tr>\n",
       "      <th>0</th>\n",
       "      <td>145000</td>\n",
       "    </tr>\n",
       "    <tr>\n",
       "      <th>1</th>\n",
       "      <td>68000</td>\n",
       "    </tr>\n",
       "    <tr>\n",
       "      <th>2</th>\n",
       "      <td>115000</td>\n",
       "    </tr>\n",
       "    <tr>\n",
       "      <th>3</th>\n",
       "      <td>69000</td>\n",
       "    </tr>\n",
       "    <tr>\n",
       "      <th>4</th>\n",
       "      <td>163000</td>\n",
       "    </tr>\n",
       "  </tbody>\n",
       "</table>\n",
       "</div>"
      ],
      "text/plain": [
       "   LastSoldPrice\n",
       "0         145000\n",
       "1          68000\n",
       "2         115000\n",
       "3          69000\n",
       "4         163000"
      ]
     },
     "execution_count": 98,
     "metadata": {},
     "output_type": "execute_result"
    }
   ],
   "source": [
    "# Exploring the dependent variable\n",
    "\n",
    "y.head()"
   ]
  },
  {
   "cell_type": "code",
   "execution_count": 99,
   "metadata": {},
   "outputs": [
    {
     "data": {
      "text/plain": [
       "((100, 10), (100, 1))"
      ]
     },
     "execution_count": 99,
     "metadata": {},
     "output_type": "execute_result"
    }
   ],
   "source": [
    "# Exploring the shape of x and y datasets - (no of rows, no of columns)\n",
    "\n",
    "x.shape, y.shape"
   ]
  },
  {
   "cell_type": "raw",
   "metadata": {},
   "source": []
  },
  {
   "cell_type": "markdown",
   "metadata": {},
   "source": [
    "**Step2: Performing 70:30 Data split**\n",
    "- After Separating columns into dependent and independent variables (x, y), you split those into training-set and testing-set (70:30)\n",
    "\n",
    "\n",
    "![split data](pics/traintestsplitdata1.png)"
   ]
  },
  {
   "cell_type": "code",
   "execution_count": 100,
   "metadata": {},
   "outputs": [],
   "source": [
    "# Spliting data into train and test datasets --> 70:30 split\n",
    "\n",
    "x_train, x_test, y_train, y_test = train_test_split(x, y, test_size=0.3, random_state=1)"
   ]
  },
  {
   "cell_type": "code",
   "execution_count": 101,
   "metadata": {},
   "outputs": [
    {
     "data": {
      "text/plain": [
       "((70, 10), (70, 1))"
      ]
     },
     "execution_count": 101,
     "metadata": {},
     "output_type": "execute_result"
    }
   ],
   "source": [
    "# Exploring the dimensions of train datasets\n",
    "\n",
    "x_train.shape, y_train.shape"
   ]
  },
  {
   "cell_type": "code",
   "execution_count": 102,
   "metadata": {},
   "outputs": [
    {
     "data": {
      "text/plain": [
       "((30, 10), (30, 1))"
      ]
     },
     "execution_count": 102,
     "metadata": {},
     "output_type": "execute_result"
    }
   ],
   "source": [
    "# Exploring the dimensions of test datasets\n",
    "\n",
    "x_test.shape, y_test.shape"
   ]
  },
  {
   "cell_type": "raw",
   "metadata": {},
   "source": []
  },
  {
   "cell_type": "markdown",
   "metadata": {},
   "source": [
    "#### 10. Model: Build (Train dataset)"
   ]
  },
  {
   "cell_type": "code",
   "execution_count": 103,
   "metadata": {},
   "outputs": [],
   "source": [
    "# Using sklearn library to build a Linear Regression Model\n",
    "# from sklearn.linear_model import LinearRegression --> this code imports the Linear Regression module\n",
    "\n",
    "\n",
    "# Create a linear regression model using LinearRegression() module\n",
    "model = LinearRegression()"
   ]
  },
  {
   "cell_type": "code",
   "execution_count": 104,
   "metadata": {},
   "outputs": [
    {
     "data": {
      "text/plain": [
       "LinearRegression()"
      ]
     },
     "execution_count": 104,
     "metadata": {},
     "output_type": "execute_result"
    }
   ],
   "source": [
    "# fitting the training data (70%) to the linear regression model\n",
    "# this will generate the intercept and all the coefficients\n",
    "\n",
    "model.fit(x_train, y_train)"
   ]
  },
  {
   "cell_type": "raw",
   "metadata": {},
   "source": []
  },
  {
   "cell_type": "markdown",
   "metadata": {},
   "source": [
    "#### 11. Model: Evaluation (Train dataset)"
   ]
  },
  {
   "cell_type": "code",
   "execution_count": 105,
   "metadata": {},
   "outputs": [
    {
     "data": {
      "text/plain": [
       "array([16830.79672208])"
      ]
     },
     "execution_count": 105,
     "metadata": {},
     "output_type": "execute_result"
    }
   ],
   "source": [
    "# Exploring the intercept\n",
    "\n",
    "model.intercept_"
   ]
  },
  {
   "cell_type": "code",
   "execution_count": 106,
   "metadata": {},
   "outputs": [
    {
     "data": {
      "text/plain": [
       "array([[ 3.34203557e+01,  3.69558778e+01,  3.54206461e+02,\n",
       "         1.03187407e+03, -4.74417700e+03, -1.12292388e+05,\n",
       "        -2.21140609e+04,  4.38508709e+03,  5.19274605e+03,\n",
       "         3.86961989e+03]])"
      ]
     },
     "execution_count": 106,
     "metadata": {},
     "output_type": "execute_result"
    }
   ],
   "source": [
    "# Exploring the coefficients\n",
    "\n",
    "model.coef_"
   ]
  },
  {
   "cell_type": "code",
   "execution_count": 107,
   "metadata": {},
   "outputs": [
    {
     "data": {
      "text/html": [
       "<div>\n",
       "<style scoped>\n",
       "    .dataframe tbody tr th:only-of-type {\n",
       "        vertical-align: middle;\n",
       "    }\n",
       "\n",
       "    .dataframe tbody tr th {\n",
       "        vertical-align: top;\n",
       "    }\n",
       "\n",
       "    .dataframe thead th {\n",
       "        text-align: right;\n",
       "    }\n",
       "</style>\n",
       "<table border=\"1\" class=\"dataframe\">\n",
       "  <thead>\n",
       "    <tr style=\"text-align: right;\">\n",
       "      <th></th>\n",
       "      <th>Intercept</th>\n",
       "    </tr>\n",
       "  </thead>\n",
       "  <tbody>\n",
       "    <tr>\n",
       "      <th>Intercept</th>\n",
       "      <td>16830.796722</td>\n",
       "    </tr>\n",
       "  </tbody>\n",
       "</table>\n",
       "</div>"
      ],
      "text/plain": [
       "              Intercept\n",
       "Intercept  16830.796722"
      ]
     },
     "execution_count": 107,
     "metadata": {},
     "output_type": "execute_result"
    }
   ],
   "source": [
    "# As you can see the above coefficients and intercept are very poorly formatted\n",
    "# the below is much better representation of \"intercept\" in a dataframe layout\n",
    "\n",
    "pd.DataFrame(np.array(model.intercept_), index=[\"Intercept\"], columns=[\"Intercept\"])"
   ]
  },
  {
   "cell_type": "code",
   "execution_count": 108,
   "metadata": {
    "scrolled": true
   },
   "outputs": [
    {
     "data": {
      "text/html": [
       "<div>\n",
       "<style scoped>\n",
       "    .dataframe tbody tr th:only-of-type {\n",
       "        vertical-align: middle;\n",
       "    }\n",
       "\n",
       "    .dataframe tbody tr th {\n",
       "        vertical-align: top;\n",
       "    }\n",
       "\n",
       "    .dataframe thead th {\n",
       "        text-align: right;\n",
       "    }\n",
       "</style>\n",
       "<table border=\"1\" class=\"dataframe\">\n",
       "  <thead>\n",
       "    <tr style=\"text-align: right;\">\n",
       "      <th></th>\n",
       "      <th>Coefficients</th>\n",
       "    </tr>\n",
       "  </thead>\n",
       "  <tbody>\n",
       "    <tr>\n",
       "      <th>HouseSqft</th>\n",
       "      <td>33.420356</td>\n",
       "    </tr>\n",
       "    <tr>\n",
       "      <th>Taxes</th>\n",
       "      <td>36.955878</td>\n",
       "    </tr>\n",
       "    <tr>\n",
       "      <th>Bedrooms_2</th>\n",
       "      <td>354.206461</td>\n",
       "    </tr>\n",
       "    <tr>\n",
       "      <th>Bedrooms_3</th>\n",
       "      <td>1031.874067</td>\n",
       "    </tr>\n",
       "    <tr>\n",
       "      <th>Bedrooms_4</th>\n",
       "      <td>-4744.176995</td>\n",
       "    </tr>\n",
       "    <tr>\n",
       "      <th>Bedrooms_5</th>\n",
       "      <td>-112292.388146</td>\n",
       "    </tr>\n",
       "    <tr>\n",
       "      <th>Bathrooms_1.5</th>\n",
       "      <td>-22114.060942</td>\n",
       "    </tr>\n",
       "    <tr>\n",
       "      <th>Bathrooms_2.0</th>\n",
       "      <td>4385.087091</td>\n",
       "    </tr>\n",
       "    <tr>\n",
       "      <th>Bathrooms_2.5</th>\n",
       "      <td>5192.746049</td>\n",
       "    </tr>\n",
       "    <tr>\n",
       "      <th>Bathrooms_3.0</th>\n",
       "      <td>3869.619891</td>\n",
       "    </tr>\n",
       "  </tbody>\n",
       "</table>\n",
       "</div>"
      ],
      "text/plain": [
       "                Coefficients\n",
       "HouseSqft          33.420356\n",
       "Taxes              36.955878\n",
       "Bedrooms_2        354.206461\n",
       "Bedrooms_3       1031.874067\n",
       "Bedrooms_4      -4744.176995\n",
       "Bedrooms_5    -112292.388146\n",
       "Bathrooms_1.5  -22114.060942\n",
       "Bathrooms_2.0    4385.087091\n",
       "Bathrooms_2.5    5192.746049\n",
       "Bathrooms_3.0    3869.619891"
      ]
     },
     "execution_count": 108,
     "metadata": {},
     "output_type": "execute_result"
    }
   ],
   "source": [
    "# As you can see the above coefficients and intercept are very poorly formatted\n",
    "# the below is much better representation of \"coefficients\" in a dataframe layout\n",
    "\n",
    "pd.DataFrame(np.array(model.coef_).T, index=x.columns, columns=[\"Coefficients\"])"
   ]
  },
  {
   "cell_type": "raw",
   "metadata": {},
   "source": []
  },
  {
   "cell_type": "markdown",
   "metadata": {},
   "source": [
    "#### 12. Model: Evaluation (Test dataset)"
   ]
  },
  {
   "cell_type": "code",
   "execution_count": 109,
   "metadata": {},
   "outputs": [
    {
     "data": {
      "text/plain": [
       "array([[ 86919.84014361],\n",
       "       [125546.73571361],\n",
       "       [175007.6727096 ],\n",
       "       [125279.90051298],\n",
       "       [159009.13078949],\n",
       "       [ 54027.36536926],\n",
       "       [ 54983.37610623],\n",
       "       [137157.14319307],\n",
       "       [ 93543.28899918],\n",
       "       [260373.5813559 ],\n",
       "       [ 78787.80348578],\n",
       "       [135767.22363218],\n",
       "       [ 55975.9605192 ],\n",
       "       [169098.07434971],\n",
       "       [ 80240.77153718],\n",
       "       [185369.87624811],\n",
       "       [128022.49586474],\n",
       "       [ 94911.73068253],\n",
       "       [ 37307.92703524],\n",
       "       [ 86302.79481856],\n",
       "       [ 80363.84970282],\n",
       "       [163309.09941137],\n",
       "       [126423.93206759],\n",
       "       [144394.53674194],\n",
       "       [121160.05008208],\n",
       "       [118899.46860712],\n",
       "       [185066.49641136],\n",
       "       [195630.8050185 ],\n",
       "       [106571.24740556],\n",
       "       [140502.52084723]])"
      ]
     },
     "execution_count": 109,
     "metadata": {},
     "output_type": "execute_result"
    }
   ],
   "source": [
    "# Appling the linear regression model to make prediction on testing dataset(30%)\n",
    "\n",
    "y_pred = model.predict(x_test)\n",
    "y_pred"
   ]
  },
  {
   "cell_type": "code",
   "execution_count": 110,
   "metadata": {
    "scrolled": true
   },
   "outputs": [
    {
     "name": "stdout",
     "output_type": "stream",
     "text": [
      "Root Mean squared error (RMSE):25863.56132538107\n",
      "Coefficient of determination (R^2):0.7367572311436212\n"
     ]
    }
   ],
   "source": [
    "# Evaluating the above predicted results (model performance)\n",
    "\n",
    "print(\"Root Mean squared error (RMSE):{}\".format(math.sqrt(mean_squared_error(y_test, y_pred))))\n",
    "print(\"Coefficient of determination (R^2):{}\".format(r2_score(y_test, y_pred)))"
   ]
  },
  {
   "cell_type": "raw",
   "metadata": {},
   "source": []
  },
  {
   "cell_type": "markdown",
   "metadata": {},
   "source": [
    "#### 13. Model: Predictions"
   ]
  },
  {
   "cell_type": "code",
   "execution_count": 111,
   "metadata": {},
   "outputs": [
    {
     "data": {
      "text/html": [
       "<div>\n",
       "<style scoped>\n",
       "    .dataframe tbody tr th:only-of-type {\n",
       "        vertical-align: middle;\n",
       "    }\n",
       "\n",
       "    .dataframe tbody tr th {\n",
       "        vertical-align: top;\n",
       "    }\n",
       "\n",
       "    .dataframe thead th {\n",
       "        text-align: right;\n",
       "    }\n",
       "</style>\n",
       "<table border=\"1\" class=\"dataframe\">\n",
       "  <thead>\n",
       "    <tr style=\"text-align: right;\">\n",
       "      <th></th>\n",
       "      <th>HouseSqft</th>\n",
       "      <th>Taxes</th>\n",
       "      <th>Bedrooms</th>\n",
       "      <th>Bathrooms</th>\n",
       "    </tr>\n",
       "  </thead>\n",
       "  <tbody>\n",
       "    <tr>\n",
       "      <th>0</th>\n",
       "      <td>1300</td>\n",
       "      <td>1400</td>\n",
       "      <td>3</td>\n",
       "      <td>2.0</td>\n",
       "    </tr>\n",
       "    <tr>\n",
       "      <th>1</th>\n",
       "      <td>350</td>\n",
       "      <td>1000</td>\n",
       "      <td>1</td>\n",
       "      <td>1.0</td>\n",
       "    </tr>\n",
       "    <tr>\n",
       "      <th>2</th>\n",
       "      <td>1900</td>\n",
       "      <td>1800</td>\n",
       "      <td>3</td>\n",
       "      <td>1.5</td>\n",
       "    </tr>\n",
       "    <tr>\n",
       "      <th>3</th>\n",
       "      <td>1300</td>\n",
       "      <td>900</td>\n",
       "      <td>3</td>\n",
       "      <td>2.0</td>\n",
       "    </tr>\n",
       "    <tr>\n",
       "      <th>4</th>\n",
       "      <td>1750</td>\n",
       "      <td>2100</td>\n",
       "      <td>3</td>\n",
       "      <td>2.0</td>\n",
       "    </tr>\n",
       "    <tr>\n",
       "      <th>5</th>\n",
       "      <td>770</td>\n",
       "      <td>590</td>\n",
       "      <td>2</td>\n",
       "      <td>1.0</td>\n",
       "    </tr>\n",
       "    <tr>\n",
       "      <th>6</th>\n",
       "      <td>2790</td>\n",
       "      <td>3680</td>\n",
       "      <td>4</td>\n",
       "      <td>2.5</td>\n",
       "    </tr>\n",
       "    <tr>\n",
       "      <th>7</th>\n",
       "      <td>2200</td>\n",
       "      <td>3690</td>\n",
       "      <td>5</td>\n",
       "      <td>3.0</td>\n",
       "    </tr>\n",
       "  </tbody>\n",
       "</table>\n",
       "</div>"
      ],
      "text/plain": [
       "   HouseSqft  Taxes  Bedrooms  Bathrooms\n",
       "0       1300   1400         3        2.0\n",
       "1        350   1000         1        1.0\n",
       "2       1900   1800         3        1.5\n",
       "3       1300    900         3        2.0\n",
       "4       1750   2100         3        2.0\n",
       "5        770    590         2        1.0\n",
       "6       2790   3680         4        2.5\n",
       "7       2200   3690         5        3.0"
      ]
     },
     "execution_count": 111,
     "metadata": {},
     "output_type": "execute_result"
    }
   ],
   "source": [
    "# Predicting on new data\n",
    "\n",
    "# Reading data from a CSV file and saving that data as a dataframe\n",
    "dfp = pd.read_csv(\"HousePricesPredict.csv\")\n",
    "\n",
    "# Viewing records\n",
    "dfp"
   ]
  },
  {
   "cell_type": "code",
   "execution_count": 112,
   "metadata": {},
   "outputs": [
    {
     "name": "stdout",
     "output_type": "stream",
     "text": [
      "<class 'pandas.core.frame.DataFrame'>\n",
      "RangeIndex: 8 entries, 0 to 7\n",
      "Data columns (total 4 columns):\n",
      " #   Column     Non-Null Count  Dtype  \n",
      "---  ------     --------------  -----  \n",
      " 0   HouseSqft  8 non-null      int64  \n",
      " 1   Taxes      8 non-null      int64  \n",
      " 2   Bedrooms   8 non-null      int64  \n",
      " 3   Bathrooms  8 non-null      float64\n",
      "dtypes: float64(1), int64(3)\n",
      "memory usage: 384.0 bytes\n"
     ]
    }
   ],
   "source": [
    "# This method prints out information about a dataFrame including the index, dtype, columns, non-null values and memory usage\n",
    "# This method is also useful for finding out missing values in a dataset\n",
    "# if found, we can use interpolation techniques to rectify those missing values\n",
    "\n",
    "dfp.info()"
   ]
  },
  {
   "cell_type": "code",
   "execution_count": 113,
   "metadata": {
    "scrolled": true
   },
   "outputs": [
    {
     "name": "stdout",
     "output_type": "stream",
     "text": [
      "<class 'pandas.core.frame.DataFrame'>\n",
      "RangeIndex: 8 entries, 0 to 7\n",
      "Data columns (total 4 columns):\n",
      " #   Column     Non-Null Count  Dtype   \n",
      "---  ------     --------------  -----   \n",
      " 0   HouseSqft  8 non-null      float64 \n",
      " 1   Taxes      8 non-null      float64 \n",
      " 2   Bedrooms   8 non-null      category\n",
      " 3   Bathrooms  8 non-null      category\n",
      "dtypes: category(2), float64(2)\n",
      "memory usage: 672.0 bytes\n"
     ]
    }
   ],
   "source": [
    "# Converting data type of a column using astype() method\n",
    "\n",
    "dfp[\"HouseSqft\"] = dfp.HouseSqft.astype(\"float64\")\n",
    "dfp[\"Taxes\"] = dfp.Taxes.astype(\"float64\")\n",
    "dfp[\"Bedrooms\"] = dfp.Bedrooms.astype(\"category\")\n",
    "dfp[\"Bathrooms\"] = dfp.Bathrooms.astype(\"category\")\n",
    "dfp.info()"
   ]
  },
  {
   "cell_type": "code",
   "execution_count": 114,
   "metadata": {},
   "outputs": [],
   "source": [
    "# Let’s remove all the duplicates from the dataset\n",
    "\n",
    "dfp = dfp.drop_duplicates()"
   ]
  },
  {
   "cell_type": "code",
   "execution_count": 115,
   "metadata": {},
   "outputs": [],
   "source": [
    "# Let’s remove all the null values from the dataset\n",
    "\n",
    "dfp = dfp.dropna()"
   ]
  },
  {
   "cell_type": "code",
   "execution_count": 116,
   "metadata": {
    "scrolled": false
   },
   "outputs": [
    {
     "data": {
      "text/html": [
       "<div>\n",
       "<style scoped>\n",
       "    .dataframe tbody tr th:only-of-type {\n",
       "        vertical-align: middle;\n",
       "    }\n",
       "\n",
       "    .dataframe tbody tr th {\n",
       "        vertical-align: top;\n",
       "    }\n",
       "\n",
       "    .dataframe thead th {\n",
       "        text-align: right;\n",
       "    }\n",
       "</style>\n",
       "<table border=\"1\" class=\"dataframe\">\n",
       "  <thead>\n",
       "    <tr style=\"text-align: right;\">\n",
       "      <th></th>\n",
       "      <th>HouseSqft</th>\n",
       "      <th>Taxes</th>\n",
       "      <th>Bedrooms_2</th>\n",
       "      <th>Bedrooms_3</th>\n",
       "      <th>Bedrooms_4</th>\n",
       "      <th>Bedrooms_5</th>\n",
       "      <th>Bathrooms_1.5</th>\n",
       "      <th>Bathrooms_2.0</th>\n",
       "      <th>Bathrooms_2.5</th>\n",
       "      <th>Bathrooms_3.0</th>\n",
       "    </tr>\n",
       "  </thead>\n",
       "  <tbody>\n",
       "    <tr>\n",
       "      <th>0</th>\n",
       "      <td>1300.0</td>\n",
       "      <td>1400.0</td>\n",
       "      <td>0</td>\n",
       "      <td>1</td>\n",
       "      <td>0</td>\n",
       "      <td>0</td>\n",
       "      <td>0</td>\n",
       "      <td>1</td>\n",
       "      <td>0</td>\n",
       "      <td>0</td>\n",
       "    </tr>\n",
       "    <tr>\n",
       "      <th>1</th>\n",
       "      <td>350.0</td>\n",
       "      <td>1000.0</td>\n",
       "      <td>0</td>\n",
       "      <td>0</td>\n",
       "      <td>0</td>\n",
       "      <td>0</td>\n",
       "      <td>0</td>\n",
       "      <td>0</td>\n",
       "      <td>0</td>\n",
       "      <td>0</td>\n",
       "    </tr>\n",
       "    <tr>\n",
       "      <th>2</th>\n",
       "      <td>1900.0</td>\n",
       "      <td>1800.0</td>\n",
       "      <td>0</td>\n",
       "      <td>1</td>\n",
       "      <td>0</td>\n",
       "      <td>0</td>\n",
       "      <td>1</td>\n",
       "      <td>0</td>\n",
       "      <td>0</td>\n",
       "      <td>0</td>\n",
       "    </tr>\n",
       "    <tr>\n",
       "      <th>3</th>\n",
       "      <td>1300.0</td>\n",
       "      <td>900.0</td>\n",
       "      <td>0</td>\n",
       "      <td>1</td>\n",
       "      <td>0</td>\n",
       "      <td>0</td>\n",
       "      <td>0</td>\n",
       "      <td>1</td>\n",
       "      <td>0</td>\n",
       "      <td>0</td>\n",
       "    </tr>\n",
       "    <tr>\n",
       "      <th>4</th>\n",
       "      <td>1750.0</td>\n",
       "      <td>2100.0</td>\n",
       "      <td>0</td>\n",
       "      <td>1</td>\n",
       "      <td>0</td>\n",
       "      <td>0</td>\n",
       "      <td>0</td>\n",
       "      <td>1</td>\n",
       "      <td>0</td>\n",
       "      <td>0</td>\n",
       "    </tr>\n",
       "    <tr>\n",
       "      <th>5</th>\n",
       "      <td>770.0</td>\n",
       "      <td>590.0</td>\n",
       "      <td>1</td>\n",
       "      <td>0</td>\n",
       "      <td>0</td>\n",
       "      <td>0</td>\n",
       "      <td>0</td>\n",
       "      <td>0</td>\n",
       "      <td>0</td>\n",
       "      <td>0</td>\n",
       "    </tr>\n",
       "    <tr>\n",
       "      <th>6</th>\n",
       "      <td>2790.0</td>\n",
       "      <td>3680.0</td>\n",
       "      <td>0</td>\n",
       "      <td>0</td>\n",
       "      <td>1</td>\n",
       "      <td>0</td>\n",
       "      <td>0</td>\n",
       "      <td>0</td>\n",
       "      <td>1</td>\n",
       "      <td>0</td>\n",
       "    </tr>\n",
       "    <tr>\n",
       "      <th>7</th>\n",
       "      <td>2200.0</td>\n",
       "      <td>3690.0</td>\n",
       "      <td>0</td>\n",
       "      <td>0</td>\n",
       "      <td>0</td>\n",
       "      <td>1</td>\n",
       "      <td>0</td>\n",
       "      <td>0</td>\n",
       "      <td>0</td>\n",
       "      <td>1</td>\n",
       "    </tr>\n",
       "  </tbody>\n",
       "</table>\n",
       "</div>"
      ],
      "text/plain": [
       "   HouseSqft   Taxes  Bedrooms_2  Bedrooms_3  Bedrooms_4  Bedrooms_5  \\\n",
       "0     1300.0  1400.0           0           1           0           0   \n",
       "1      350.0  1000.0           0           0           0           0   \n",
       "2     1900.0  1800.0           0           1           0           0   \n",
       "3     1300.0   900.0           0           1           0           0   \n",
       "4     1750.0  2100.0           0           1           0           0   \n",
       "5      770.0   590.0           1           0           0           0   \n",
       "6     2790.0  3680.0           0           0           1           0   \n",
       "7     2200.0  3690.0           0           0           0           1   \n",
       "\n",
       "   Bathrooms_1.5  Bathrooms_2.0  Bathrooms_2.5  Bathrooms_3.0  \n",
       "0              0              1              0              0  \n",
       "1              0              0              0              0  \n",
       "2              1              0              0              0  \n",
       "3              0              1              0              0  \n",
       "4              0              1              0              0  \n",
       "5              0              0              0              0  \n",
       "6              0              0              1              0  \n",
       "7              0              0              0              1  "
      ]
     },
     "execution_count": 116,
     "metadata": {},
     "output_type": "execute_result"
    }
   ],
   "source": [
    "# Let’s convert categorical variables into dummy variables (one-hot encoding)\n",
    "\n",
    "dfp2 = pd.get_dummies(data=dfp,columns=[\"Bedrooms\", \"Bathrooms\"], drop_first=True)\n",
    "dfp2"
   ]
  },
  {
   "cell_type": "code",
   "execution_count": 117,
   "metadata": {},
   "outputs": [
    {
     "data": {
      "text/plain": [
       "(8, 10)"
      ]
     },
     "execution_count": 117,
     "metadata": {},
     "output_type": "execute_result"
    }
   ],
   "source": [
    "# Looking at the structure of the Dataframe\n",
    "\n",
    "dfp2.shape"
   ]
  },
  {
   "cell_type": "code",
   "execution_count": 118,
   "metadata": {},
   "outputs": [
    {
     "name": "stdout",
     "output_type": "stream",
     "text": [
      "<class 'pandas.core.frame.DataFrame'>\n",
      "Int64Index: 8 entries, 0 to 7\n",
      "Data columns (total 10 columns):\n",
      " #   Column         Non-Null Count  Dtype  \n",
      "---  ------         --------------  -----  \n",
      " 0   HouseSqft      8 non-null      float64\n",
      " 1   Taxes          8 non-null      float64\n",
      " 2   Bedrooms_2     8 non-null      uint8  \n",
      " 3   Bedrooms_3     8 non-null      uint8  \n",
      " 4   Bedrooms_4     8 non-null      uint8  \n",
      " 5   Bedrooms_5     8 non-null      uint8  \n",
      " 6   Bathrooms_1.5  8 non-null      uint8  \n",
      " 7   Bathrooms_2.0  8 non-null      uint8  \n",
      " 8   Bathrooms_2.5  8 non-null      uint8  \n",
      " 9   Bathrooms_3.0  8 non-null      uint8  \n",
      "dtypes: float64(2), uint8(8)\n",
      "memory usage: 256.0 bytes\n"
     ]
    }
   ],
   "source": [
    "# This method prints out information about a dataFrame including the index, dtype, columns, non-null values and memory usage\n",
    "\n",
    "dfp2.info()"
   ]
  },
  {
   "cell_type": "code",
   "execution_count": 119,
   "metadata": {},
   "outputs": [
    {
     "data": {
      "text/plain": [
       "array([[117432.44916831],\n",
       "       [ 65483.79899703],\n",
       "       [125767.86565997],\n",
       "       [ 98954.51027539],\n",
       "       [158340.72367583],\n",
       "       [ 64722.64495297],\n",
       "       [246519.78838416],\n",
       "       [118300.        ]])"
      ]
     },
     "execution_count": 119,
     "metadata": {},
     "output_type": "execute_result"
    }
   ],
   "source": [
    "# Making new predictions using the \"model\" that was created in the earlier section\n",
    "\n",
    "newhouseprices = model.predict(dfp2)\n",
    "newhouseprices"
   ]
  },
  {
   "cell_type": "code",
   "execution_count": 120,
   "metadata": {},
   "outputs": [
    {
     "data": {
      "text/html": [
       "<div>\n",
       "<style scoped>\n",
       "    .dataframe tbody tr th:only-of-type {\n",
       "        vertical-align: middle;\n",
       "    }\n",
       "\n",
       "    .dataframe tbody tr th {\n",
       "        vertical-align: top;\n",
       "    }\n",
       "\n",
       "    .dataframe thead th {\n",
       "        text-align: right;\n",
       "    }\n",
       "</style>\n",
       "<table border=\"1\" class=\"dataframe\">\n",
       "  <thead>\n",
       "    <tr style=\"text-align: right;\">\n",
       "      <th></th>\n",
       "      <th>newhouseprices</th>\n",
       "    </tr>\n",
       "  </thead>\n",
       "  <tbody>\n",
       "    <tr>\n",
       "      <th>0</th>\n",
       "      <td>117432.449168</td>\n",
       "    </tr>\n",
       "    <tr>\n",
       "      <th>1</th>\n",
       "      <td>65483.798997</td>\n",
       "    </tr>\n",
       "    <tr>\n",
       "      <th>2</th>\n",
       "      <td>125767.865660</td>\n",
       "    </tr>\n",
       "    <tr>\n",
       "      <th>3</th>\n",
       "      <td>98954.510275</td>\n",
       "    </tr>\n",
       "    <tr>\n",
       "      <th>4</th>\n",
       "      <td>158340.723676</td>\n",
       "    </tr>\n",
       "    <tr>\n",
       "      <th>5</th>\n",
       "      <td>64722.644953</td>\n",
       "    </tr>\n",
       "    <tr>\n",
       "      <th>6</th>\n",
       "      <td>246519.788384</td>\n",
       "    </tr>\n",
       "    <tr>\n",
       "      <th>7</th>\n",
       "      <td>118300.000000</td>\n",
       "    </tr>\n",
       "  </tbody>\n",
       "</table>\n",
       "</div>"
      ],
      "text/plain": [
       "   newhouseprices\n",
       "0   117432.449168\n",
       "1    65483.798997\n",
       "2   125767.865660\n",
       "3    98954.510275\n",
       "4   158340.723676\n",
       "5    64722.644953\n",
       "6   246519.788384\n",
       "7   118300.000000"
      ]
     },
     "execution_count": 120,
     "metadata": {},
     "output_type": "execute_result"
    }
   ],
   "source": [
    "# Converting predicted results into a dataframe (\"dfr\")\n",
    "\n",
    "dfr = pd.DataFrame(newhouseprices, columns=[\"newhouseprices\"])\n",
    "dfr"
   ]
  },
  {
   "cell_type": "code",
   "execution_count": 121,
   "metadata": {},
   "outputs": [
    {
     "data": {
      "text/html": [
       "<div>\n",
       "<style scoped>\n",
       "    .dataframe tbody tr th:only-of-type {\n",
       "        vertical-align: middle;\n",
       "    }\n",
       "\n",
       "    .dataframe tbody tr th {\n",
       "        vertical-align: top;\n",
       "    }\n",
       "\n",
       "    .dataframe thead th {\n",
       "        text-align: right;\n",
       "    }\n",
       "</style>\n",
       "<table border=\"1\" class=\"dataframe\">\n",
       "  <thead>\n",
       "    <tr style=\"text-align: right;\">\n",
       "      <th></th>\n",
       "      <th>HouseSqft</th>\n",
       "      <th>Taxes</th>\n",
       "      <th>Bedrooms</th>\n",
       "      <th>Bathrooms</th>\n",
       "      <th>newhouseprices</th>\n",
       "    </tr>\n",
       "  </thead>\n",
       "  <tbody>\n",
       "    <tr>\n",
       "      <th>0</th>\n",
       "      <td>1300.0</td>\n",
       "      <td>1400.0</td>\n",
       "      <td>3</td>\n",
       "      <td>2.0</td>\n",
       "      <td>117432.449168</td>\n",
       "    </tr>\n",
       "    <tr>\n",
       "      <th>1</th>\n",
       "      <td>350.0</td>\n",
       "      <td>1000.0</td>\n",
       "      <td>1</td>\n",
       "      <td>1.0</td>\n",
       "      <td>65483.798997</td>\n",
       "    </tr>\n",
       "    <tr>\n",
       "      <th>2</th>\n",
       "      <td>1900.0</td>\n",
       "      <td>1800.0</td>\n",
       "      <td>3</td>\n",
       "      <td>1.5</td>\n",
       "      <td>125767.865660</td>\n",
       "    </tr>\n",
       "    <tr>\n",
       "      <th>3</th>\n",
       "      <td>1300.0</td>\n",
       "      <td>900.0</td>\n",
       "      <td>3</td>\n",
       "      <td>2.0</td>\n",
       "      <td>98954.510275</td>\n",
       "    </tr>\n",
       "    <tr>\n",
       "      <th>4</th>\n",
       "      <td>1750.0</td>\n",
       "      <td>2100.0</td>\n",
       "      <td>3</td>\n",
       "      <td>2.0</td>\n",
       "      <td>158340.723676</td>\n",
       "    </tr>\n",
       "    <tr>\n",
       "      <th>5</th>\n",
       "      <td>770.0</td>\n",
       "      <td>590.0</td>\n",
       "      <td>2</td>\n",
       "      <td>1.0</td>\n",
       "      <td>64722.644953</td>\n",
       "    </tr>\n",
       "    <tr>\n",
       "      <th>6</th>\n",
       "      <td>2790.0</td>\n",
       "      <td>3680.0</td>\n",
       "      <td>4</td>\n",
       "      <td>2.5</td>\n",
       "      <td>246519.788384</td>\n",
       "    </tr>\n",
       "    <tr>\n",
       "      <th>7</th>\n",
       "      <td>2200.0</td>\n",
       "      <td>3690.0</td>\n",
       "      <td>5</td>\n",
       "      <td>3.0</td>\n",
       "      <td>118300.000000</td>\n",
       "    </tr>\n",
       "  </tbody>\n",
       "</table>\n",
       "</div>"
      ],
      "text/plain": [
       "   HouseSqft   Taxes Bedrooms Bathrooms  newhouseprices\n",
       "0     1300.0  1400.0        3       2.0   117432.449168\n",
       "1      350.0  1000.0        1       1.0    65483.798997\n",
       "2     1900.0  1800.0        3       1.5   125767.865660\n",
       "3     1300.0   900.0        3       2.0    98954.510275\n",
       "4     1750.0  2100.0        3       2.0   158340.723676\n",
       "5      770.0   590.0        2       1.0    64722.644953\n",
       "6     2790.0  3680.0        4       2.5   246519.788384\n",
       "7     2200.0  3690.0        5       3.0   118300.000000"
      ]
     },
     "execution_count": 121,
     "metadata": {},
     "output_type": "execute_result"
    }
   ],
   "source": [
    "# Attaching predicted prices to the original dataset, and save as a new dataframe (\"newdf\")\n",
    "\n",
    "newdf = pd.DataFrame.join(dfp,dfr)\n",
    "newdf"
   ]
  },
  {
   "cell_type": "raw",
   "metadata": {},
   "source": []
  },
  {
   "cell_type": "markdown",
   "metadata": {},
   "source": [
    "#### 14. Model: Save Predictions"
   ]
  },
  {
   "cell_type": "code",
   "execution_count": 122,
   "metadata": {},
   "outputs": [],
   "source": [
    "# Save the above dataframe (\"newdf\") as a CSV file\n",
    "\n",
    "newdf.to_csv(\"NewHousePricesPredicted.csv\")"
   ]
  },
  {
   "cell_type": "raw",
   "metadata": {},
   "source": []
  }
 ],
 "metadata": {
  "kernelspec": {
   "display_name": "Python 3 (ipykernel)",
   "language": "python",
   "name": "python3"
  },
  "language_info": {
   "codemirror_mode": {
    "name": "ipython",
    "version": 3
   },
   "file_extension": ".py",
   "mimetype": "text/x-python",
   "name": "python",
   "nbconvert_exporter": "python",
   "pygments_lexer": "ipython3",
   "version": "3.9.7"
  }
 },
 "nbformat": 4,
 "nbformat_minor": 1
}
