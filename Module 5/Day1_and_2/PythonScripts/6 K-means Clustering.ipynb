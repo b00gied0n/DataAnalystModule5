{
 "cells": [
  {
   "cell_type": "markdown",
   "metadata": {},
   "source": [
    "## K-means for Cluster Analysis\n",
    "\n",
    "#### What is K-means?\n",
    "- K-means is an unsupervised machine learning algorithm used to find groups of observations (clusters) that share similar characteristics\n",
    "- What is the meaning of unsupervised learning? It means that the observations given in the data set are unlabeled, there is no outcome to be predicted\n",
    "- K-means clustering only works on numerical data!"
   ]
  },
  {
   "cell_type": "markdown",
   "metadata": {},
   "source": [
    "#### The Goal\n",
    "The goal of this lab is to carry out a Customer Segmentation analysis to help the business with its target marketing activities. "
   ]
  },
  {
   "cell_type": "raw",
   "metadata": {},
   "source": []
  },
  {
   "cell_type": "markdown",
   "metadata": {},
   "source": [
    "#### About the \"Superstore\" dataset\n",
    "- We'll be using \"Superstore.xlsx\" dataset throughout this lab.\n",
    "- Superstore is a fictitious company that sells medical equipment's around the world. \n",
    "- The Superstore dataset contains 505 observations and 5 different attributes\n",
    "\n",
    "    1. CustomerID\n",
    "    2. CustomerName\n",
    "    3. Quantity\n",
    "    4. Sales\n",
    "    5. Profit"
   ]
  },
  {
   "cell_type": "code",
   "execution_count": null,
   "metadata": {},
   "outputs": [],
   "source": []
  },
  {
   "cell_type": "markdown",
   "metadata": {},
   "source": [
    "#### Download and Install Python Libraries"
   ]
  },
  {
   "cell_type": "code",
   "execution_count": 93,
   "metadata": {},
   "outputs": [],
   "source": [
    "#!pip install pandas\n",
    "#!pip install numpy\n",
    "#!pip install scikit-learn\n",
    "#!pip install matplotlib"
   ]
  },
  {
   "cell_type": "markdown",
   "metadata": {},
   "source": [
    "#### Import Python Libraries"
   ]
  },
  {
   "cell_type": "code",
   "execution_count": 94,
   "metadata": {},
   "outputs": [],
   "source": [
    "# Importing some common libraries that’s needed for all data science related projects\n",
    "import numpy as np\n",
    "import pandas as pd\n",
    "\n",
    "\n",
    "# Importing different modules from the sklearn library to build the clustering model\n",
    "from sklearn.cluster import KMeans\n",
    "from sklearn.preprocessing import MinMaxScaler\n",
    "\n",
    "\n",
    "# Importing matplotlib library for data visualisation \n",
    "from matplotlib import pyplot as plt\n",
    "%matplotlib inline\n",
    "\n",
    "\n",
    "\n"
   ]
  },
  {
   "cell_type": "raw",
   "metadata": {},
   "source": []
  },
  {
   "cell_type": "markdown",
   "metadata": {},
   "source": [
    "#### Process map\n",
    "Below illustrates a 8-step process used during this lab.\n",
    "\n",
    "    1.\tImport Data\n",
    "    2.\tData Quality Checks\n",
    "    3.\tData Cleansing\n",
    "    4.\tData Pre-processing\n",
    "    5.\tVisualisations\n",
    "    6.\tModel Build\n",
    "    7.\tModel Evaluation\n",
    "    8.\tSave Predictions"
   ]
  },
  {
   "cell_type": "raw",
   "metadata": {},
   "source": []
  },
  {
   "cell_type": "markdown",
   "metadata": {},
   "source": [
    "#### 1. Import Data"
   ]
  },
  {
   "cell_type": "code",
   "execution_count": 95,
   "metadata": {},
   "outputs": [
    {
     "data": {
      "text/html": [
       "<div>\n",
       "<style scoped>\n",
       "    .dataframe tbody tr th:only-of-type {\n",
       "        vertical-align: middle;\n",
       "    }\n",
       "\n",
       "    .dataframe tbody tr th {\n",
       "        vertical-align: top;\n",
       "    }\n",
       "\n",
       "    .dataframe thead th {\n",
       "        text-align: right;\n",
       "    }\n",
       "</style>\n",
       "<table border=\"1\" class=\"dataframe\">\n",
       "  <thead>\n",
       "    <tr style=\"text-align: right;\">\n",
       "      <th></th>\n",
       "      <th>CustomerID</th>\n",
       "      <th>CustomerName</th>\n",
       "      <th>Quantity</th>\n",
       "      <th>Sales</th>\n",
       "      <th>Profit</th>\n",
       "    </tr>\n",
       "  </thead>\n",
       "  <tbody>\n",
       "    <tr>\n",
       "      <th>0</th>\n",
       "      <td>AA-10315</td>\n",
       "      <td>Alex Avila</td>\n",
       "      <td>36</td>\n",
       "      <td>6416.018933</td>\n",
       "      <td>3889.354319</td>\n",
       "    </tr>\n",
       "    <tr>\n",
       "      <th>1</th>\n",
       "      <td>AA-10480</td>\n",
       "      <td>Andrew Allen</td>\n",
       "      <td>11</td>\n",
       "      <td>6418.425563</td>\n",
       "      <td>3895.713493</td>\n",
       "    </tr>\n",
       "    <tr>\n",
       "      <th>2</th>\n",
       "      <td>AA-10645</td>\n",
       "      <td>Anna Andreadi</td>\n",
       "      <td>13</td>\n",
       "      <td>6416.985842</td>\n",
       "      <td>3888.269487</td>\n",
       "    </tr>\n",
       "    <tr>\n",
       "      <th>3</th>\n",
       "      <td>AB-10015</td>\n",
       "      <td>Aaron Bergman</td>\n",
       "      <td>5</td>\n",
       "      <td>6417.396666</td>\n",
       "      <td>3888.848636</td>\n",
       "    </tr>\n",
       "    <tr>\n",
       "      <th>4</th>\n",
       "      <td>AB-10060</td>\n",
       "      <td>Adam Bellavance</td>\n",
       "      <td>4</td>\n",
       "      <td>6408.926508</td>\n",
       "      <td>3887.023388</td>\n",
       "    </tr>\n",
       "    <tr>\n",
       "      <th>...</th>\n",
       "      <td>...</td>\n",
       "      <td>...</td>\n",
       "      <td>...</td>\n",
       "      <td>...</td>\n",
       "      <td>...</td>\n",
       "    </tr>\n",
       "    <tr>\n",
       "      <th>500</th>\n",
       "      <td>VS-21820</td>\n",
       "      <td>Vivek Sundaresam</td>\n",
       "      <td>3</td>\n",
       "      <td>6417.949996</td>\n",
       "      <td>3896.112927</td>\n",
       "    </tr>\n",
       "    <tr>\n",
       "      <th>501</th>\n",
       "      <td>WB-21850</td>\n",
       "      <td>William Brown</td>\n",
       "      <td>4</td>\n",
       "      <td>6418.349108</td>\n",
       "      <td>3895.797384</td>\n",
       "    </tr>\n",
       "    <tr>\n",
       "      <th>502</th>\n",
       "      <td>YC-21895</td>\n",
       "      <td>Yoseph Carroll</td>\n",
       "      <td>15</td>\n",
       "      <td>6416.622457</td>\n",
       "      <td>3887.715735</td>\n",
       "    </tr>\n",
       "    <tr>\n",
       "      <th>503</th>\n",
       "      <td>YS-21880</td>\n",
       "      <td>Yana Sorensen</td>\n",
       "      <td>3</td>\n",
       "      <td>6418.843684</td>\n",
       "      <td>3896.306417</td>\n",
       "    </tr>\n",
       "    <tr>\n",
       "      <th>504</th>\n",
       "      <td>ZC-21910</td>\n",
       "      <td>Zuschuss Carroll</td>\n",
       "      <td>14</td>\n",
       "      <td>6411.619489</td>\n",
       "      <td>3895.630785</td>\n",
       "    </tr>\n",
       "  </tbody>\n",
       "</table>\n",
       "<p>505 rows × 5 columns</p>\n",
       "</div>"
      ],
      "text/plain": [
       "    CustomerID      CustomerName  Quantity        Sales       Profit\n",
       "0     AA-10315        Alex Avila        36  6416.018933  3889.354319\n",
       "1     AA-10480      Andrew Allen        11  6418.425563  3895.713493\n",
       "2     AA-10645     Anna Andreadi        13  6416.985842  3888.269487\n",
       "3     AB-10015     Aaron Bergman         5  6417.396666  3888.848636\n",
       "4     AB-10060   Adam Bellavance         4  6408.926508  3887.023388\n",
       "..         ...               ...       ...          ...          ...\n",
       "500   VS-21820  Vivek Sundaresam         3  6417.949996  3896.112927\n",
       "501   WB-21850     William Brown         4  6418.349108  3895.797384\n",
       "502   YC-21895    Yoseph Carroll        15  6416.622457  3887.715735\n",
       "503   YS-21880     Yana Sorensen         3  6418.843684  3896.306417\n",
       "504   ZC-21910  Zuschuss Carroll        14  6411.619489  3895.630785\n",
       "\n",
       "[505 rows x 5 columns]"
      ]
     },
     "execution_count": 95,
     "metadata": {},
     "output_type": "execute_result"
    }
   ],
   "source": [
    "# Importing the dataset as \"superstore\"\n",
    "\n",
    "superstore = pd.read_excel('Superstore.xlsx')\n",
    "superstore"
   ]
  },
  {
   "cell_type": "raw",
   "metadata": {},
   "source": []
  },
  {
   "cell_type": "markdown",
   "metadata": {},
   "source": [
    "#### 2. Data Quality Checks\n",
    "\n",
    "    2.1 Check data\n",
    "    2.2 Check shape of data\n",
    "    2.3 Check for duplicates\n",
    "    2.4 Check for missing values"
   ]
  },
  {
   "cell_type": "code",
   "execution_count": 96,
   "metadata": {},
   "outputs": [
    {
     "data": {
      "text/html": [
       "<div>\n",
       "<style scoped>\n",
       "    .dataframe tbody tr th:only-of-type {\n",
       "        vertical-align: middle;\n",
       "    }\n",
       "\n",
       "    .dataframe tbody tr th {\n",
       "        vertical-align: top;\n",
       "    }\n",
       "\n",
       "    .dataframe thead th {\n",
       "        text-align: right;\n",
       "    }\n",
       "</style>\n",
       "<table border=\"1\" class=\"dataframe\">\n",
       "  <thead>\n",
       "    <tr style=\"text-align: right;\">\n",
       "      <th></th>\n",
       "      <th>CustomerID</th>\n",
       "      <th>CustomerName</th>\n",
       "      <th>Quantity</th>\n",
       "      <th>Sales</th>\n",
       "      <th>Profit</th>\n",
       "    </tr>\n",
       "  </thead>\n",
       "  <tbody>\n",
       "    <tr>\n",
       "      <th>0</th>\n",
       "      <td>AA-10315</td>\n",
       "      <td>Alex Avila</td>\n",
       "      <td>36</td>\n",
       "      <td>6416.018933</td>\n",
       "      <td>3889.354319</td>\n",
       "    </tr>\n",
       "    <tr>\n",
       "      <th>1</th>\n",
       "      <td>AA-10480</td>\n",
       "      <td>Andrew Allen</td>\n",
       "      <td>11</td>\n",
       "      <td>6418.425563</td>\n",
       "      <td>3895.713493</td>\n",
       "    </tr>\n",
       "    <tr>\n",
       "      <th>2</th>\n",
       "      <td>AA-10645</td>\n",
       "      <td>Anna Andreadi</td>\n",
       "      <td>13</td>\n",
       "      <td>6416.985842</td>\n",
       "      <td>3888.269487</td>\n",
       "    </tr>\n",
       "    <tr>\n",
       "      <th>3</th>\n",
       "      <td>AB-10015</td>\n",
       "      <td>Aaron Bergman</td>\n",
       "      <td>5</td>\n",
       "      <td>6417.396666</td>\n",
       "      <td>3888.848636</td>\n",
       "    </tr>\n",
       "    <tr>\n",
       "      <th>4</th>\n",
       "      <td>AB-10060</td>\n",
       "      <td>Adam Bellavance</td>\n",
       "      <td>4</td>\n",
       "      <td>6408.926508</td>\n",
       "      <td>3887.023388</td>\n",
       "    </tr>\n",
       "  </tbody>\n",
       "</table>\n",
       "</div>"
      ],
      "text/plain": [
       "  CustomerID     CustomerName  Quantity        Sales       Profit\n",
       "0   AA-10315       Alex Avila        36  6416.018933  3889.354319\n",
       "1   AA-10480     Andrew Allen        11  6418.425563  3895.713493\n",
       "2   AA-10645    Anna Andreadi        13  6416.985842  3888.269487\n",
       "3   AB-10015    Aaron Bergman         5  6417.396666  3888.848636\n",
       "4   AB-10060  Adam Bellavance         4  6408.926508  3887.023388"
      ]
     },
     "execution_count": 96,
     "metadata": {},
     "output_type": "execute_result"
    }
   ],
   "source": [
    "# 2.1\n",
    "# Viewing top 5 records\n",
    "\n",
    "superstore.head()"
   ]
  },
  {
   "cell_type": "code",
   "execution_count": 97,
   "metadata": {},
   "outputs": [
    {
     "data": {
      "text/plain": [
       "(505, 5)"
      ]
     },
     "execution_count": 97,
     "metadata": {},
     "output_type": "execute_result"
    }
   ],
   "source": [
    "# 2.2\n",
    "# Looking at the structure of the dataframe\n",
    "\n",
    "superstore.shape"
   ]
  },
  {
   "cell_type": "code",
   "execution_count": 98,
   "metadata": {},
   "outputs": [
    {
     "data": {
      "text/plain": [
       "0"
      ]
     },
     "execution_count": 98,
     "metadata": {},
     "output_type": "execute_result"
    }
   ],
   "source": [
    "# 2.3\n",
    "# Let’s use duplicated() function to identify how many duplicate records there are in the dataset\n",
    "\n",
    "superstore.duplicated().sum()"
   ]
  },
  {
   "cell_type": "code",
   "execution_count": 99,
   "metadata": {},
   "outputs": [
    {
     "name": "stdout",
     "output_type": "stream",
     "text": [
      "<class 'pandas.core.frame.DataFrame'>\n",
      "RangeIndex: 505 entries, 0 to 504\n",
      "Data columns (total 5 columns):\n",
      " #   Column        Non-Null Count  Dtype  \n",
      "---  ------        --------------  -----  \n",
      " 0   CustomerID    505 non-null    object \n",
      " 1   CustomerName  505 non-null    object \n",
      " 2   Quantity      505 non-null    int64  \n",
      " 3   Sales         505 non-null    float64\n",
      " 4   Profit        505 non-null    float64\n",
      "dtypes: float64(2), int64(1), object(2)\n",
      "memory usage: 19.9+ KB\n"
     ]
    }
   ],
   "source": [
    "# 2.4\n",
    "# This method prints out information about a dataframe including the index, dtype, columns, non-null values and memory usage\n",
    "# This method is also useful for finding out missing values in a dataset\n",
    "# if found, we can use interpolation techniques to rectify those missing values\n",
    "\n",
    "superstore.info()"
   ]
  },
  {
   "cell_type": "raw",
   "metadata": {},
   "source": []
  },
  {
   "cell_type": "markdown",
   "metadata": {},
   "source": [
    "#### 3. Data Cleansing\n",
    "\n",
    "    3.1 Remove duplicates\n",
    "    3.2 Fill missing values"
   ]
  },
  {
   "cell_type": "code",
   "execution_count": 100,
   "metadata": {},
   "outputs": [],
   "source": [
    "# 3.1\n",
    "# This is how you remove all the duplicates from the dataset using drop_duplicates() function\n",
    "\n",
    "#superstore = superstore.drop_duplicates()"
   ]
  },
  {
   "cell_type": "raw",
   "metadata": {},
   "source": []
  },
  {
   "cell_type": "code",
   "execution_count": 101,
   "metadata": {},
   "outputs": [],
   "source": [
    "# 3.2\n",
    "# Fill missing values (NaN, Null) with median value of a column\n",
    "# This is how you fix missing values for all columns\n",
    "\n",
    "# superstore = superstore.fillna(df.median())"
   ]
  },
  {
   "cell_type": "raw",
   "metadata": {},
   "source": []
  },
  {
   "cell_type": "markdown",
   "metadata": {},
   "source": [
    "#### 4. Data Pre-processing\n",
    "\n",
    "    4.1 Creating a copy of the \"superstore\" dataframe\n",
    "    4.2 Data scaling or normalisation\n",
    "    4.3 Filter columns"
   ]
  },
  {
   "cell_type": "code",
   "execution_count": 102,
   "metadata": {},
   "outputs": [
    {
     "data": {
      "text/html": [
       "<div>\n",
       "<style scoped>\n",
       "    .dataframe tbody tr th:only-of-type {\n",
       "        vertical-align: middle;\n",
       "    }\n",
       "\n",
       "    .dataframe tbody tr th {\n",
       "        vertical-align: top;\n",
       "    }\n",
       "\n",
       "    .dataframe thead th {\n",
       "        text-align: right;\n",
       "    }\n",
       "</style>\n",
       "<table border=\"1\" class=\"dataframe\">\n",
       "  <thead>\n",
       "    <tr style=\"text-align: right;\">\n",
       "      <th></th>\n",
       "      <th>CustomerID</th>\n",
       "      <th>CustomerName</th>\n",
       "      <th>Quantity</th>\n",
       "      <th>Sales</th>\n",
       "      <th>Profit</th>\n",
       "    </tr>\n",
       "  </thead>\n",
       "  <tbody>\n",
       "    <tr>\n",
       "      <th>0</th>\n",
       "      <td>AA-10315</td>\n",
       "      <td>Alex Avila</td>\n",
       "      <td>36</td>\n",
       "      <td>6416.018933</td>\n",
       "      <td>3889.354319</td>\n",
       "    </tr>\n",
       "    <tr>\n",
       "      <th>1</th>\n",
       "      <td>AA-10480</td>\n",
       "      <td>Andrew Allen</td>\n",
       "      <td>11</td>\n",
       "      <td>6418.425563</td>\n",
       "      <td>3895.713493</td>\n",
       "    </tr>\n",
       "    <tr>\n",
       "      <th>2</th>\n",
       "      <td>AA-10645</td>\n",
       "      <td>Anna Andreadi</td>\n",
       "      <td>13</td>\n",
       "      <td>6416.985842</td>\n",
       "      <td>3888.269487</td>\n",
       "    </tr>\n",
       "    <tr>\n",
       "      <th>3</th>\n",
       "      <td>AB-10015</td>\n",
       "      <td>Aaron Bergman</td>\n",
       "      <td>5</td>\n",
       "      <td>6417.396666</td>\n",
       "      <td>3888.848636</td>\n",
       "    </tr>\n",
       "    <tr>\n",
       "      <th>4</th>\n",
       "      <td>AB-10060</td>\n",
       "      <td>Adam Bellavance</td>\n",
       "      <td>4</td>\n",
       "      <td>6408.926508</td>\n",
       "      <td>3887.023388</td>\n",
       "    </tr>\n",
       "    <tr>\n",
       "      <th>...</th>\n",
       "      <td>...</td>\n",
       "      <td>...</td>\n",
       "      <td>...</td>\n",
       "      <td>...</td>\n",
       "      <td>...</td>\n",
       "    </tr>\n",
       "    <tr>\n",
       "      <th>500</th>\n",
       "      <td>VS-21820</td>\n",
       "      <td>Vivek Sundaresam</td>\n",
       "      <td>3</td>\n",
       "      <td>6417.949996</td>\n",
       "      <td>3896.112927</td>\n",
       "    </tr>\n",
       "    <tr>\n",
       "      <th>501</th>\n",
       "      <td>WB-21850</td>\n",
       "      <td>William Brown</td>\n",
       "      <td>4</td>\n",
       "      <td>6418.349108</td>\n",
       "      <td>3895.797384</td>\n",
       "    </tr>\n",
       "    <tr>\n",
       "      <th>502</th>\n",
       "      <td>YC-21895</td>\n",
       "      <td>Yoseph Carroll</td>\n",
       "      <td>15</td>\n",
       "      <td>6416.622457</td>\n",
       "      <td>3887.715735</td>\n",
       "    </tr>\n",
       "    <tr>\n",
       "      <th>503</th>\n",
       "      <td>YS-21880</td>\n",
       "      <td>Yana Sorensen</td>\n",
       "      <td>3</td>\n",
       "      <td>6418.843684</td>\n",
       "      <td>3896.306417</td>\n",
       "    </tr>\n",
       "    <tr>\n",
       "      <th>504</th>\n",
       "      <td>ZC-21910</td>\n",
       "      <td>Zuschuss Carroll</td>\n",
       "      <td>14</td>\n",
       "      <td>6411.619489</td>\n",
       "      <td>3895.630785</td>\n",
       "    </tr>\n",
       "  </tbody>\n",
       "</table>\n",
       "<p>505 rows × 5 columns</p>\n",
       "</div>"
      ],
      "text/plain": [
       "    CustomerID      CustomerName  Quantity        Sales       Profit\n",
       "0     AA-10315        Alex Avila        36  6416.018933  3889.354319\n",
       "1     AA-10480      Andrew Allen        11  6418.425563  3895.713493\n",
       "2     AA-10645     Anna Andreadi        13  6416.985842  3888.269487\n",
       "3     AB-10015     Aaron Bergman         5  6417.396666  3888.848636\n",
       "4     AB-10060   Adam Bellavance         4  6408.926508  3887.023388\n",
       "..         ...               ...       ...          ...          ...\n",
       "500   VS-21820  Vivek Sundaresam         3  6417.949996  3896.112927\n",
       "501   WB-21850     William Brown         4  6418.349108  3895.797384\n",
       "502   YC-21895    Yoseph Carroll        15  6416.622457  3887.715735\n",
       "503   YS-21880     Yana Sorensen         3  6418.843684  3896.306417\n",
       "504   ZC-21910  Zuschuss Carroll        14  6411.619489  3895.630785\n",
       "\n",
       "[505 rows x 5 columns]"
      ]
     },
     "execution_count": 102,
     "metadata": {},
     "output_type": "execute_result"
    }
   ],
   "source": [
    "# 4.1\n",
    "# creating a copy of the \"superstore\" dataframe\n",
    "# This new dataframe “df” will be used in the next few steps for data manipulation work\n",
    "\n",
    "df = superstore.copy()\n",
    "df"
   ]
  },
  {
   "cell_type": "raw",
   "metadata": {},
   "source": []
  },
  {
   "cell_type": "code",
   "execution_count": 103,
   "metadata": {},
   "outputs": [
    {
     "data": {
      "text/html": [
       "<div>\n",
       "<style scoped>\n",
       "    .dataframe tbody tr th:only-of-type {\n",
       "        vertical-align: middle;\n",
       "    }\n",
       "\n",
       "    .dataframe tbody tr th {\n",
       "        vertical-align: top;\n",
       "    }\n",
       "\n",
       "    .dataframe thead th {\n",
       "        text-align: right;\n",
       "    }\n",
       "</style>\n",
       "<table border=\"1\" class=\"dataframe\">\n",
       "  <thead>\n",
       "    <tr style=\"text-align: right;\">\n",
       "      <th></th>\n",
       "      <th>CustomerID</th>\n",
       "      <th>CustomerName</th>\n",
       "      <th>Quantity</th>\n",
       "      <th>Sales</th>\n",
       "      <th>Profit</th>\n",
       "    </tr>\n",
       "  </thead>\n",
       "  <tbody>\n",
       "    <tr>\n",
       "      <th>0</th>\n",
       "      <td>AA-10315</td>\n",
       "      <td>Alex Avila</td>\n",
       "      <td>0.636364</td>\n",
       "      <td>0.719997</td>\n",
       "      <td>0.306233</td>\n",
       "    </tr>\n",
       "    <tr>\n",
       "      <th>1</th>\n",
       "      <td>AA-10480</td>\n",
       "      <td>Andrew Allen</td>\n",
       "      <td>0.181818</td>\n",
       "      <td>0.931883</td>\n",
       "      <td>0.830440</td>\n",
       "    </tr>\n",
       "    <tr>\n",
       "      <th>2</th>\n",
       "      <td>AA-10645</td>\n",
       "      <td>Anna Andreadi</td>\n",
       "      <td>0.218182</td>\n",
       "      <td>0.805127</td>\n",
       "      <td>0.216807</td>\n",
       "    </tr>\n",
       "    <tr>\n",
       "      <th>3</th>\n",
       "      <td>AB-10015</td>\n",
       "      <td>Aaron Bergman</td>\n",
       "      <td>0.072727</td>\n",
       "      <td>0.841297</td>\n",
       "      <td>0.264548</td>\n",
       "    </tr>\n",
       "    <tr>\n",
       "      <th>4</th>\n",
       "      <td>AB-10060</td>\n",
       "      <td>Adam Bellavance</td>\n",
       "      <td>0.054545</td>\n",
       "      <td>0.095561</td>\n",
       "      <td>0.114087</td>\n",
       "    </tr>\n",
       "    <tr>\n",
       "      <th>...</th>\n",
       "      <td>...</td>\n",
       "      <td>...</td>\n",
       "      <td>...</td>\n",
       "      <td>...</td>\n",
       "      <td>...</td>\n",
       "    </tr>\n",
       "    <tr>\n",
       "      <th>500</th>\n",
       "      <td>VS-21820</td>\n",
       "      <td>Vivek Sundaresam</td>\n",
       "      <td>0.036364</td>\n",
       "      <td>0.890013</td>\n",
       "      <td>0.863366</td>\n",
       "    </tr>\n",
       "    <tr>\n",
       "      <th>501</th>\n",
       "      <td>WB-21850</td>\n",
       "      <td>William Brown</td>\n",
       "      <td>0.054545</td>\n",
       "      <td>0.925152</td>\n",
       "      <td>0.837355</td>\n",
       "    </tr>\n",
       "    <tr>\n",
       "      <th>502</th>\n",
       "      <td>YC-21895</td>\n",
       "      <td>Yoseph Carroll</td>\n",
       "      <td>0.254545</td>\n",
       "      <td>0.773133</td>\n",
       "      <td>0.171160</td>\n",
       "    </tr>\n",
       "    <tr>\n",
       "      <th>503</th>\n",
       "      <td>YS-21880</td>\n",
       "      <td>Yana Sorensen</td>\n",
       "      <td>0.036364</td>\n",
       "      <td>0.968696</td>\n",
       "      <td>0.879316</td>\n",
       "    </tr>\n",
       "    <tr>\n",
       "      <th>504</th>\n",
       "      <td>ZC-21910</td>\n",
       "      <td>Zuschuss Carroll</td>\n",
       "      <td>0.236364</td>\n",
       "      <td>0.332659</td>\n",
       "      <td>0.823622</td>\n",
       "    </tr>\n",
       "  </tbody>\n",
       "</table>\n",
       "<p>505 rows × 5 columns</p>\n",
       "</div>"
      ],
      "text/plain": [
       "    CustomerID      CustomerName  Quantity     Sales    Profit\n",
       "0     AA-10315        Alex Avila  0.636364  0.719997  0.306233\n",
       "1     AA-10480      Andrew Allen  0.181818  0.931883  0.830440\n",
       "2     AA-10645     Anna Andreadi  0.218182  0.805127  0.216807\n",
       "3     AB-10015     Aaron Bergman  0.072727  0.841297  0.264548\n",
       "4     AB-10060   Adam Bellavance  0.054545  0.095561  0.114087\n",
       "..         ...               ...       ...       ...       ...\n",
       "500   VS-21820  Vivek Sundaresam  0.036364  0.890013  0.863366\n",
       "501   WB-21850     William Brown  0.054545  0.925152  0.837355\n",
       "502   YC-21895    Yoseph Carroll  0.254545  0.773133  0.171160\n",
       "503   YS-21880     Yana Sorensen  0.036364  0.968696  0.879316\n",
       "504   ZC-21910  Zuschuss Carroll  0.236364  0.332659  0.823622\n",
       "\n",
       "[505 rows x 5 columns]"
      ]
     },
     "execution_count": 103,
     "metadata": {},
     "output_type": "execute_result"
    }
   ],
   "source": [
    "# 4.2\n",
    "# \"superstore\" data needs to be scaled before doing the clustering, \n",
    "# for this we can use min-max scaler from sklearn library\n",
    "\n",
    "scaler = MinMaxScaler()\n",
    "df.loc[:,[\"Quantity\", \"Sales\", \"Profit\"]] = scaler.fit_transform(df.loc[:,[\"Quantity\", \"Sales\", \"Profit\"]])\n",
    "df"
   ]
  },
  {
   "cell_type": "raw",
   "metadata": {},
   "source": []
  },
  {
   "cell_type": "code",
   "execution_count": 104,
   "metadata": {},
   "outputs": [
    {
     "data": {
      "text/html": [
       "<div>\n",
       "<style scoped>\n",
       "    .dataframe tbody tr th:only-of-type {\n",
       "        vertical-align: middle;\n",
       "    }\n",
       "\n",
       "    .dataframe tbody tr th {\n",
       "        vertical-align: top;\n",
       "    }\n",
       "\n",
       "    .dataframe thead th {\n",
       "        text-align: right;\n",
       "    }\n",
       "</style>\n",
       "<table border=\"1\" class=\"dataframe\">\n",
       "  <thead>\n",
       "    <tr style=\"text-align: right;\">\n",
       "      <th></th>\n",
       "      <th>Quantity</th>\n",
       "      <th>Sales</th>\n",
       "      <th>Profit</th>\n",
       "    </tr>\n",
       "  </thead>\n",
       "  <tbody>\n",
       "    <tr>\n",
       "      <th>0</th>\n",
       "      <td>0.636364</td>\n",
       "      <td>0.719997</td>\n",
       "      <td>0.306233</td>\n",
       "    </tr>\n",
       "    <tr>\n",
       "      <th>1</th>\n",
       "      <td>0.181818</td>\n",
       "      <td>0.931883</td>\n",
       "      <td>0.830440</td>\n",
       "    </tr>\n",
       "    <tr>\n",
       "      <th>2</th>\n",
       "      <td>0.218182</td>\n",
       "      <td>0.805127</td>\n",
       "      <td>0.216807</td>\n",
       "    </tr>\n",
       "    <tr>\n",
       "      <th>3</th>\n",
       "      <td>0.072727</td>\n",
       "      <td>0.841297</td>\n",
       "      <td>0.264548</td>\n",
       "    </tr>\n",
       "    <tr>\n",
       "      <th>4</th>\n",
       "      <td>0.054545</td>\n",
       "      <td>0.095561</td>\n",
       "      <td>0.114087</td>\n",
       "    </tr>\n",
       "    <tr>\n",
       "      <th>...</th>\n",
       "      <td>...</td>\n",
       "      <td>...</td>\n",
       "      <td>...</td>\n",
       "    </tr>\n",
       "    <tr>\n",
       "      <th>500</th>\n",
       "      <td>0.036364</td>\n",
       "      <td>0.890013</td>\n",
       "      <td>0.863366</td>\n",
       "    </tr>\n",
       "    <tr>\n",
       "      <th>501</th>\n",
       "      <td>0.054545</td>\n",
       "      <td>0.925152</td>\n",
       "      <td>0.837355</td>\n",
       "    </tr>\n",
       "    <tr>\n",
       "      <th>502</th>\n",
       "      <td>0.254545</td>\n",
       "      <td>0.773133</td>\n",
       "      <td>0.171160</td>\n",
       "    </tr>\n",
       "    <tr>\n",
       "      <th>503</th>\n",
       "      <td>0.036364</td>\n",
       "      <td>0.968696</td>\n",
       "      <td>0.879316</td>\n",
       "    </tr>\n",
       "    <tr>\n",
       "      <th>504</th>\n",
       "      <td>0.236364</td>\n",
       "      <td>0.332659</td>\n",
       "      <td>0.823622</td>\n",
       "    </tr>\n",
       "  </tbody>\n",
       "</table>\n",
       "<p>505 rows × 3 columns</p>\n",
       "</div>"
      ],
      "text/plain": [
       "     Quantity     Sales    Profit\n",
       "0    0.636364  0.719997  0.306233\n",
       "1    0.181818  0.931883  0.830440\n",
       "2    0.218182  0.805127  0.216807\n",
       "3    0.072727  0.841297  0.264548\n",
       "4    0.054545  0.095561  0.114087\n",
       "..        ...       ...       ...\n",
       "500  0.036364  0.890013  0.863366\n",
       "501  0.054545  0.925152  0.837355\n",
       "502  0.254545  0.773133  0.171160\n",
       "503  0.036364  0.968696  0.879316\n",
       "504  0.236364  0.332659  0.823622\n",
       "\n",
       "[505 rows x 3 columns]"
      ]
     },
     "execution_count": 104,
     "metadata": {},
     "output_type": "execute_result"
    }
   ],
   "source": [
    "# 4.3\n",
    "# Slicing/filtering out only the numerical columns\n",
    "# These will be used during the clustering stage\n",
    "# K-means algorithm only works on numerical data\n",
    "\n",
    "X = df.loc[:,[\"Quantity\", \"Sales\", \"Profit\"]]\n",
    "X"
   ]
  },
  {
   "cell_type": "code",
   "execution_count": 105,
   "metadata": {
    "scrolled": true
   },
   "outputs": [],
   "source": [
    "# NOTE: the following code can be used to reverse the scaling to process to produce the original data\n",
    "# This is useful during analysis of cluster centres.\n",
    "\n",
    "#scaler.inverse_transform(X)"
   ]
  },
  {
   "cell_type": "raw",
   "metadata": {},
   "source": []
  },
  {
   "cell_type": "markdown",
   "metadata": {},
   "source": [
    "#### 5. Visualisations"
   ]
  },
  {
   "cell_type": "code",
   "execution_count": 106,
   "metadata": {
    "scrolled": false
   },
   "outputs": [
    {
     "data": {
      "image/png": "[encoded data removed]",
      "text/plain": [
       "<Figure size 432x288 with 1 Axes>"
      ]
     },
     "metadata": {
      "needs_background": "light"
     },
     "output_type": "display_data"
    }
   ],
   "source": [
    "# Building the K-means model and using the elbow method to find the optimal number of clusters\n",
    "\n",
    "# Importing KMeans module from the sklearn library\n",
    "from sklearn.cluster import KMeans\n",
    "\n",
    "\n",
    "# Fitting different number of clusters (from 1 to 11) to find out the optimal number of clusters\n",
    "# We can use a for loop to fit different number of clusters to \"superstore\" dataset\n",
    "# This will be revealed by WSS value (kmeans.inertia_)\n",
    "\n",
    "wss = []\n",
    "for i in range(1, 11):\n",
    "    kmeans = KMeans(n_clusters = i, init = 'k-means++', random_state = 1)\n",
    "    kmeans.fit(X)\n",
    "    wss.append(kmeans.inertia_)\n",
    "\n",
    "    \n",
    "\n",
    "# Importing pyplot module from the matplotlib library for creating a line chart\n",
    "\n",
    "from matplotlib import pyplot as plt\n",
    "%matplotlib inline\n",
    "\n",
    "plt.plot(range(1, 11), wss)\n",
    "plt.title('The Elbow of Clustering Method')\n",
    "plt.xlabel('Number of Clusters')\n",
    "plt.ylabel('Within Sum of Squares (WSS)')\n",
    "plt.show()"
   ]
  },
  {
   "cell_type": "code",
   "execution_count": 107,
   "metadata": {},
   "outputs": [
    {
     "data": {
      "text/html": [
       "<div>\n",
       "<style scoped>\n",
       "    .dataframe tbody tr th:only-of-type {\n",
       "        vertical-align: middle;\n",
       "    }\n",
       "\n",
       "    .dataframe tbody tr th {\n",
       "        vertical-align: top;\n",
       "    }\n",
       "\n",
       "    .dataframe thead th {\n",
       "        text-align: right;\n",
       "    }\n",
       "</style>\n",
       "<table border=\"1\" class=\"dataframe\">\n",
       "  <thead>\n",
       "    <tr style=\"text-align: right;\">\n",
       "      <th></th>\n",
       "      <th>WSS</th>\n",
       "    </tr>\n",
       "  </thead>\n",
       "  <tbody>\n",
       "    <tr>\n",
       "      <th>1</th>\n",
       "      <td>110.015408</td>\n",
       "    </tr>\n",
       "    <tr>\n",
       "      <th>2</th>\n",
       "      <td>59.920356</td>\n",
       "    </tr>\n",
       "    <tr>\n",
       "      <th>3</th>\n",
       "      <td>33.087827</td>\n",
       "    </tr>\n",
       "    <tr>\n",
       "      <th>4</th>\n",
       "      <td>15.628290</td>\n",
       "    </tr>\n",
       "    <tr>\n",
       "      <th>5</th>\n",
       "      <td>13.333331</td>\n",
       "    </tr>\n",
       "    <tr>\n",
       "      <th>6</th>\n",
       "      <td>11.100528</td>\n",
       "    </tr>\n",
       "    <tr>\n",
       "      <th>7</th>\n",
       "      <td>8.868166</td>\n",
       "    </tr>\n",
       "    <tr>\n",
       "      <th>8</th>\n",
       "      <td>6.866466</td>\n",
       "    </tr>\n",
       "    <tr>\n",
       "      <th>9</th>\n",
       "      <td>5.976599</td>\n",
       "    </tr>\n",
       "    <tr>\n",
       "      <th>10</th>\n",
       "      <td>5.203725</td>\n",
       "    </tr>\n",
       "  </tbody>\n",
       "</table>\n",
       "</div>"
      ],
      "text/plain": [
       "           WSS\n",
       "1   110.015408\n",
       "2    59.920356\n",
       "3    33.087827\n",
       "4    15.628290\n",
       "5    13.333331\n",
       "6    11.100528\n",
       "7     8.868166\n",
       "8     6.866466\n",
       "9     5.976599\n",
       "10    5.203725"
      ]
     },
     "execution_count": 107,
     "metadata": {},
     "output_type": "execute_result"
    }
   ],
   "source": [
    "# Within Sum of Squares (WSS) values for each clustering stage.\n",
    "wssinfo = pd.DataFrame(wss, index=range(1,11), columns=[\"WSS\"])\n",
    "\n",
    "# wssinfo\n",
    "wssinfo"
   ]
  },
  {
   "cell_type": "raw",
   "metadata": {},
   "source": []
  },
  {
   "cell_type": "markdown",
   "metadata": {},
   "source": [
    "#### 6. Model Build\n",
    "- From the above chart we can see the optimal number of clusters for this dataset is 4"
   ]
  },
  {
   "cell_type": "code",
   "execution_count": 108,
   "metadata": {},
   "outputs": [
    {
     "data": {
      "text/plain": [
       "array([0, 3, 0, 0, 1, 0, 0, 0, 1, 1, 2, 1, 3, 2, 0, 3, 2, 0, 2, 1, 3, 0,\n",
       "       1, 1, 0, 3, 0, 3, 3, 2, 3, 0, 3, 1, 2, 2, 2, 3, 1, 1, 1, 2, 1, 3,\n",
       "       0, 2, 3, 1, 0, 0, 3, 1, 2, 0, 2, 2, 2, 2, 0, 2, 0, 3, 1, 1, 1, 0,\n",
       "       1, 2, 1, 3, 2, 1, 2, 3, 1, 2, 1, 0, 0, 1, 0, 0, 1, 3, 0, 1, 1, 0,\n",
       "       2, 3, 0, 1, 1, 2, 0, 1, 3, 0, 2, 3, 1, 1, 1, 1, 2, 1, 0, 3, 1, 3,\n",
       "       0, 2, 0, 2, 2, 0, 2, 0, 3, 0, 3, 3, 0, 0, 1, 3, 3, 3, 3, 0, 1, 1,\n",
       "       0, 3, 0, 3, 2, 0, 0, 3, 0, 3, 0, 0, 3, 1, 3, 1, 1, 0, 3, 0, 2, 2,\n",
       "       0, 0, 0, 1, 1, 3, 2, 3, 2, 0, 1, 2, 1, 0, 1, 1, 3, 3, 2, 1, 0, 1,\n",
       "       3, 1, 2, 1, 3, 3, 2, 3, 0, 2, 2, 0, 1, 0, 1, 0, 3, 0, 2, 3, 3, 2,\n",
       "       1, 1, 2, 0, 0, 3, 0, 3, 2, 0, 1, 3, 3, 3, 3, 3, 2, 3, 1, 3, 0, 2,\n",
       "       2, 1, 2, 3, 0, 0, 2, 0, 0, 2, 1, 2, 2, 3, 3, 1, 3, 1, 2, 3, 2, 2,\n",
       "       1, 0, 1, 3, 2, 0, 0, 1, 1, 2, 1, 1, 1, 2, 3, 2, 1, 2, 2, 2, 2, 2,\n",
       "       2, 2, 0, 2, 0, 2, 0, 3, 1, 1, 3, 3, 0, 1, 0, 3, 2, 1, 1, 3, 2, 3,\n",
       "       2, 3, 3, 3, 2, 0, 1, 2, 1, 3, 2, 1, 0, 3, 0, 1, 3, 1, 3, 2, 0, 2,\n",
       "       3, 2, 1, 2, 3, 0, 3, 2, 1, 0, 2, 1, 2, 1, 1, 3, 0, 1, 3, 0, 1, 1,\n",
       "       0, 3, 2, 3, 2, 3, 2, 1, 2, 0, 2, 2, 2, 1, 3, 1, 3, 3, 0, 1, 3, 3,\n",
       "       2, 1, 0, 0, 2, 1, 3, 0, 2, 0, 0, 0, 2, 2, 1, 3, 0, 1, 2, 1, 0, 3,\n",
       "       1, 0, 2, 3, 1, 3, 1, 3, 3, 2, 1, 2, 2, 3, 0, 3, 3, 0, 3, 2, 1, 1,\n",
       "       3, 1, 1, 1, 3, 0, 2, 0, 2, 1, 2, 2, 3, 2, 0, 1, 0, 1, 2, 0, 0, 0,\n",
       "       0, 3, 0, 1, 2, 3, 1, 3, 0, 3, 3, 1, 2, 3, 0, 2, 2, 1, 3, 3, 3, 3,\n",
       "       2, 1, 2, 1, 0, 1, 3, 0, 0, 2, 2, 0, 0, 0, 2, 3, 2, 3, 0, 3, 0, 0,\n",
       "       3, 0, 2, 3, 0, 3, 2, 2, 0, 0, 1, 2, 0, 1, 1, 0, 1, 2, 2, 2, 1, 1,\n",
       "       0, 1, 3, 2, 1, 0, 1, 3, 2, 3, 1, 2, 0, 2, 1, 1, 3, 3, 0, 3, 2])"
      ]
     },
     "execution_count": 108,
     "metadata": {},
     "output_type": "execute_result"
    }
   ],
   "source": [
    "# Fitting K-Means to the dataset\n",
    "kmeans = KMeans(n_clusters = 4, init = 'k-means++', random_state = 1)\n",
    "clusters = kmeans.fit_predict(X)\n",
    "clusters"
   ]
  },
  {
   "cell_type": "code",
   "execution_count": 109,
   "metadata": {
    "scrolled": true
   },
   "outputs": [
    {
     "data": {
      "text/html": [
       "<div>\n",
       "<style scoped>\n",
       "    .dataframe tbody tr th:only-of-type {\n",
       "        vertical-align: middle;\n",
       "    }\n",
       "\n",
       "    .dataframe tbody tr th {\n",
       "        vertical-align: top;\n",
       "    }\n",
       "\n",
       "    .dataframe thead th {\n",
       "        text-align: right;\n",
       "    }\n",
       "</style>\n",
       "<table border=\"1\" class=\"dataframe\">\n",
       "  <thead>\n",
       "    <tr style=\"text-align: right;\">\n",
       "      <th></th>\n",
       "      <th>CustomerID</th>\n",
       "      <th>CustomerName</th>\n",
       "      <th>Quantity</th>\n",
       "      <th>Sales</th>\n",
       "      <th>Profit</th>\n",
       "      <th>Clusters</th>\n",
       "    </tr>\n",
       "  </thead>\n",
       "  <tbody>\n",
       "    <tr>\n",
       "      <th>0</th>\n",
       "      <td>AA-10315</td>\n",
       "      <td>Alex Avila</td>\n",
       "      <td>36</td>\n",
       "      <td>6416.018933</td>\n",
       "      <td>3889.354319</td>\n",
       "      <td>0</td>\n",
       "    </tr>\n",
       "    <tr>\n",
       "      <th>1</th>\n",
       "      <td>AA-10480</td>\n",
       "      <td>Andrew Allen</td>\n",
       "      <td>11</td>\n",
       "      <td>6418.425563</td>\n",
       "      <td>3895.713493</td>\n",
       "      <td>3</td>\n",
       "    </tr>\n",
       "    <tr>\n",
       "      <th>2</th>\n",
       "      <td>AA-10645</td>\n",
       "      <td>Anna Andreadi</td>\n",
       "      <td>13</td>\n",
       "      <td>6416.985842</td>\n",
       "      <td>3888.269487</td>\n",
       "      <td>0</td>\n",
       "    </tr>\n",
       "    <tr>\n",
       "      <th>3</th>\n",
       "      <td>AB-10015</td>\n",
       "      <td>Aaron Bergman</td>\n",
       "      <td>5</td>\n",
       "      <td>6417.396666</td>\n",
       "      <td>3888.848636</td>\n",
       "      <td>0</td>\n",
       "    </tr>\n",
       "    <tr>\n",
       "      <th>4</th>\n",
       "      <td>AB-10060</td>\n",
       "      <td>Adam Bellavance</td>\n",
       "      <td>4</td>\n",
       "      <td>6408.926508</td>\n",
       "      <td>3887.023388</td>\n",
       "      <td>1</td>\n",
       "    </tr>\n",
       "    <tr>\n",
       "      <th>...</th>\n",
       "      <td>...</td>\n",
       "      <td>...</td>\n",
       "      <td>...</td>\n",
       "      <td>...</td>\n",
       "      <td>...</td>\n",
       "      <td>...</td>\n",
       "    </tr>\n",
       "    <tr>\n",
       "      <th>500</th>\n",
       "      <td>VS-21820</td>\n",
       "      <td>Vivek Sundaresam</td>\n",
       "      <td>3</td>\n",
       "      <td>6417.949996</td>\n",
       "      <td>3896.112927</td>\n",
       "      <td>3</td>\n",
       "    </tr>\n",
       "    <tr>\n",
       "      <th>501</th>\n",
       "      <td>WB-21850</td>\n",
       "      <td>William Brown</td>\n",
       "      <td>4</td>\n",
       "      <td>6418.349108</td>\n",
       "      <td>3895.797384</td>\n",
       "      <td>3</td>\n",
       "    </tr>\n",
       "    <tr>\n",
       "      <th>502</th>\n",
       "      <td>YC-21895</td>\n",
       "      <td>Yoseph Carroll</td>\n",
       "      <td>15</td>\n",
       "      <td>6416.622457</td>\n",
       "      <td>3887.715735</td>\n",
       "      <td>0</td>\n",
       "    </tr>\n",
       "    <tr>\n",
       "      <th>503</th>\n",
       "      <td>YS-21880</td>\n",
       "      <td>Yana Sorensen</td>\n",
       "      <td>3</td>\n",
       "      <td>6418.843684</td>\n",
       "      <td>3896.306417</td>\n",
       "      <td>3</td>\n",
       "    </tr>\n",
       "    <tr>\n",
       "      <th>504</th>\n",
       "      <td>ZC-21910</td>\n",
       "      <td>Zuschuss Carroll</td>\n",
       "      <td>14</td>\n",
       "      <td>6411.619489</td>\n",
       "      <td>3895.630785</td>\n",
       "      <td>2</td>\n",
       "    </tr>\n",
       "  </tbody>\n",
       "</table>\n",
       "<p>505 rows × 6 columns</p>\n",
       "</div>"
      ],
      "text/plain": [
       "    CustomerID      CustomerName  Quantity        Sales       Profit  Clusters\n",
       "0     AA-10315        Alex Avila        36  6416.018933  3889.354319         0\n",
       "1     AA-10480      Andrew Allen        11  6418.425563  3895.713493         3\n",
       "2     AA-10645     Anna Andreadi        13  6416.985842  3888.269487         0\n",
       "3     AB-10015     Aaron Bergman         5  6417.396666  3888.848636         0\n",
       "4     AB-10060   Adam Bellavance         4  6408.926508  3887.023388         1\n",
       "..         ...               ...       ...          ...          ...       ...\n",
       "500   VS-21820  Vivek Sundaresam         3  6417.949996  3896.112927         3\n",
       "501   WB-21850     William Brown         4  6418.349108  3895.797384         3\n",
       "502   YC-21895    Yoseph Carroll        15  6416.622457  3887.715735         0\n",
       "503   YS-21880     Yana Sorensen         3  6418.843684  3896.306417         3\n",
       "504   ZC-21910  Zuschuss Carroll        14  6411.619489  3895.630785         2\n",
       "\n",
       "[505 rows x 6 columns]"
      ]
     },
     "execution_count": 109,
     "metadata": {},
     "output_type": "execute_result"
    }
   ],
   "source": [
    "# Attaching cluster info to superstore dataframe\n",
    "superstore[\"Clusters\"] = pd.DataFrame(clusters)\n",
    "superstore"
   ]
  },
  {
   "cell_type": "raw",
   "metadata": {},
   "source": []
  },
  {
   "cell_type": "markdown",
   "metadata": {},
   "source": [
    "#### 7. Model Evaluation"
   ]
  },
  {
   "cell_type": "code",
   "execution_count": 110,
   "metadata": {},
   "outputs": [
    {
     "data": {
      "text/plain": [
       "1    127\n",
       "3    126\n",
       "2    126\n",
       "0    126\n",
       "Name: Clusters, dtype: int64"
      ]
     },
     "execution_count": 110,
     "metadata": {},
     "output_type": "execute_result"
    }
   ],
   "source": [
    "# Counting how many items in each cluster\n",
    "\n",
    "superstore.Clusters.value_counts()"
   ]
  },
  {
   "cell_type": "raw",
   "metadata": {},
   "source": []
  },
  {
   "cell_type": "code",
   "execution_count": 111,
   "metadata": {},
   "outputs": [
    {
     "data": {
      "text/plain": [
       "array([[0.1975469 , 0.76882819, 0.25195318],\n",
       "       [0.18797423, 0.12580728, 0.14221832],\n",
       "       [0.18412698, 0.37656733, 0.72268945],\n",
       "       [0.17215007, 0.88021112, 0.87544737]])"
      ]
     },
     "execution_count": 111,
     "metadata": {},
     "output_type": "execute_result"
    }
   ],
   "source": [
    "# Exploring cluster centre info --> scaled version\n",
    "\n",
    "kmeans.cluster_centers_"
   ]
  },
  {
   "cell_type": "code",
   "execution_count": 112,
   "metadata": {},
   "outputs": [
    {
     "data": {
      "text/plain": [
       "array([[  11.86507937, 6416.57356074, 3888.6958458 ],\n",
       "       [  11.33858268, 6409.27004563, 3887.36464681],\n",
       "       [  11.12698413, 6412.11821082, 3894.40637051],\n",
       "       [  10.46825397, 6417.83866263, 3896.25948434]])"
      ]
     },
     "execution_count": 112,
     "metadata": {},
     "output_type": "execute_result"
    }
   ],
   "source": [
    "# Exploring cluster centre info --> unscaled version\n",
    "\n",
    "scaler.inverse_transform(kmeans.cluster_centers_)"
   ]
  },
  {
   "cell_type": "code",
   "execution_count": 113,
   "metadata": {
    "scrolled": true
   },
   "outputs": [
    {
     "data": {
      "text/html": [
       "<div>\n",
       "<style scoped>\n",
       "    .dataframe tbody tr th:only-of-type {\n",
       "        vertical-align: middle;\n",
       "    }\n",
       "\n",
       "    .dataframe tbody tr th {\n",
       "        vertical-align: top;\n",
       "    }\n",
       "\n",
       "    .dataframe thead th {\n",
       "        text-align: right;\n",
       "    }\n",
       "</style>\n",
       "<table border=\"1\" class=\"dataframe\">\n",
       "  <thead>\n",
       "    <tr style=\"text-align: right;\">\n",
       "      <th></th>\n",
       "      <th>Quantity</th>\n",
       "      <th>Sales</th>\n",
       "      <th>Profit</th>\n",
       "    </tr>\n",
       "  </thead>\n",
       "  <tbody>\n",
       "    <tr>\n",
       "      <th>C0</th>\n",
       "      <td>11.865079</td>\n",
       "      <td>6416.573561</td>\n",
       "      <td>3888.695846</td>\n",
       "    </tr>\n",
       "    <tr>\n",
       "      <th>C1</th>\n",
       "      <td>11.338583</td>\n",
       "      <td>6409.270046</td>\n",
       "      <td>3887.364647</td>\n",
       "    </tr>\n",
       "    <tr>\n",
       "      <th>C2</th>\n",
       "      <td>11.126984</td>\n",
       "      <td>6412.118211</td>\n",
       "      <td>3894.406371</td>\n",
       "    </tr>\n",
       "    <tr>\n",
       "      <th>C3</th>\n",
       "      <td>10.468254</td>\n",
       "      <td>6417.838663</td>\n",
       "      <td>3896.259484</td>\n",
       "    </tr>\n",
       "  </tbody>\n",
       "</table>\n",
       "</div>"
      ],
      "text/plain": [
       "     Quantity        Sales       Profit\n",
       "C0  11.865079  6416.573561  3888.695846\n",
       "C1  11.338583  6409.270046  3887.364647\n",
       "C2  11.126984  6412.118211  3894.406371\n",
       "C3  10.468254  6417.838663  3896.259484"
      ]
     },
     "execution_count": 113,
     "metadata": {},
     "output_type": "execute_result"
    }
   ],
   "source": [
    "# Cluster centre info in dataframe layout\n",
    "\n",
    "cluster_centers = pd.DataFrame(scaler.inverse_transform(kmeans.cluster_centers_), \n",
    "                               index=[\"C0\", \"C1\", \"C2\",\"C3\"], \n",
    "                               columns=[\"Quantity\", \"Sales\", \"Profit\"])\n",
    "\n",
    "cluster_centers"
   ]
  },
  {
   "cell_type": "code",
   "execution_count": 114,
   "metadata": {},
   "outputs": [
    {
     "data": {
      "text/plain": [
       "array([0, 3, 0, 0, 1, 0, 0, 0, 1, 1, 2, 1, 3, 2, 0, 3, 2, 0, 2, 1, 3, 0,\n",
       "       1, 1, 0, 3, 0, 3, 3, 2, 3, 0, 3, 1, 2, 2, 2, 3, 1, 1, 1, 2, 1, 3,\n",
       "       0, 2, 3, 1, 0, 0, 3, 1, 2, 0, 2, 2, 2, 2, 0, 2, 0, 3, 1, 1, 1, 0,\n",
       "       1, 2, 1, 3, 2, 1, 2, 3, 1, 2, 1, 0, 0, 1, 0, 0, 1, 3, 0, 1, 1, 0,\n",
       "       2, 3, 0, 1, 1, 2, 0, 1, 3, 0, 2, 3, 1, 1, 1, 1, 2, 1, 0, 3, 1, 3,\n",
       "       0, 2, 0, 2, 2, 0, 2, 0, 3, 0, 3, 3, 0, 0, 1, 3, 3, 3, 3, 0, 1, 1,\n",
       "       0, 3, 0, 3, 2, 0, 0, 3, 0, 3, 0, 0, 3, 1, 3, 1, 1, 0, 3, 0, 2, 2,\n",
       "       0, 0, 0, 1, 1, 3, 2, 3, 2, 0, 1, 2, 1, 0, 1, 1, 3, 3, 2, 1, 0, 1,\n",
       "       3, 1, 2, 1, 3, 3, 2, 3, 0, 2, 2, 0, 1, 0, 1, 0, 3, 0, 2, 3, 3, 2,\n",
       "       1, 1, 2, 0, 0, 3, 0, 3, 2, 0, 1, 3, 3, 3, 3, 3, 2, 3, 1, 3, 0, 2,\n",
       "       2, 1, 2, 3, 0, 0, 2, 0, 0, 2, 1, 2, 2, 3, 3, 1, 3, 1, 2, 3, 2, 2,\n",
       "       1, 0, 1, 3, 2, 0, 0, 1, 1, 2, 1, 1, 1, 2, 3, 2, 1, 2, 2, 2, 2, 2,\n",
       "       2, 2, 0, 2, 0, 2, 0, 3, 1, 1, 3, 3, 0, 1, 0, 3, 2, 1, 1, 3, 2, 3,\n",
       "       2, 3, 3, 3, 2, 0, 1, 2, 1, 3, 2, 1, 0, 3, 0, 1, 3, 1, 3, 2, 0, 2,\n",
       "       3, 2, 1, 2, 3, 0, 3, 2, 1, 0, 2, 1, 2, 1, 1, 3, 0, 1, 3, 0, 1, 1,\n",
       "       0, 3, 2, 3, 2, 3, 2, 1, 2, 0, 2, 2, 2, 1, 3, 1, 3, 3, 0, 1, 3, 3,\n",
       "       2, 1, 0, 0, 2, 1, 3, 0, 2, 0, 0, 0, 2, 2, 1, 3, 0, 1, 2, 1, 0, 3,\n",
       "       1, 0, 2, 3, 1, 3, 1, 3, 3, 2, 1, 2, 2, 3, 0, 3, 3, 0, 3, 2, 1, 1,\n",
       "       3, 1, 1, 1, 3, 0, 2, 0, 2, 1, 2, 2, 3, 2, 0, 1, 0, 1, 2, 0, 0, 0,\n",
       "       0, 3, 0, 1, 2, 3, 1, 3, 0, 3, 3, 1, 2, 3, 0, 2, 2, 1, 3, 3, 3, 3,\n",
       "       2, 1, 2, 1, 0, 1, 3, 0, 0, 2, 2, 0, 0, 0, 2, 3, 2, 3, 0, 3, 0, 0,\n",
       "       3, 0, 2, 3, 0, 3, 2, 2, 0, 0, 1, 2, 0, 1, 1, 0, 1, 2, 2, 2, 1, 1,\n",
       "       0, 1, 3, 2, 1, 0, 1, 3, 2, 3, 1, 2, 0, 2, 1, 1, 3, 3, 0, 3, 2])"
      ]
     },
     "execution_count": 114,
     "metadata": {},
     "output_type": "execute_result"
    }
   ],
   "source": [
    "# Exploring cluster labels\n",
    "\n",
    "kmeans.labels_"
   ]
  },
  {
   "cell_type": "code",
   "execution_count": 115,
   "metadata": {},
   "outputs": [
    {
     "data": {
      "text/html": [
       "<div>\n",
       "<style scoped>\n",
       "    .dataframe tbody tr th:only-of-type {\n",
       "        vertical-align: middle;\n",
       "    }\n",
       "\n",
       "    .dataframe tbody tr th {\n",
       "        vertical-align: top;\n",
       "    }\n",
       "\n",
       "    .dataframe thead th {\n",
       "        text-align: right;\n",
       "    }\n",
       "</style>\n",
       "<table border=\"1\" class=\"dataframe\">\n",
       "  <thead>\n",
       "    <tr style=\"text-align: right;\">\n",
       "      <th></th>\n",
       "      <th>CustomerID</th>\n",
       "      <th>CustomerName</th>\n",
       "      <th>Quantity</th>\n",
       "      <th>Sales</th>\n",
       "      <th>Profit</th>\n",
       "      <th>Clusters</th>\n",
       "    </tr>\n",
       "  </thead>\n",
       "  <tbody>\n",
       "    <tr>\n",
       "      <th>0</th>\n",
       "      <td>AA-10315</td>\n",
       "      <td>Alex Avila</td>\n",
       "      <td>36</td>\n",
       "      <td>6416.018933</td>\n",
       "      <td>3889.354319</td>\n",
       "      <td>0</td>\n",
       "    </tr>\n",
       "    <tr>\n",
       "      <th>1</th>\n",
       "      <td>AA-10480</td>\n",
       "      <td>Andrew Allen</td>\n",
       "      <td>11</td>\n",
       "      <td>6418.425563</td>\n",
       "      <td>3895.713493</td>\n",
       "      <td>3</td>\n",
       "    </tr>\n",
       "    <tr>\n",
       "      <th>2</th>\n",
       "      <td>AA-10645</td>\n",
       "      <td>Anna Andreadi</td>\n",
       "      <td>13</td>\n",
       "      <td>6416.985842</td>\n",
       "      <td>3888.269487</td>\n",
       "      <td>0</td>\n",
       "    </tr>\n",
       "    <tr>\n",
       "      <th>3</th>\n",
       "      <td>AB-10015</td>\n",
       "      <td>Aaron Bergman</td>\n",
       "      <td>5</td>\n",
       "      <td>6417.396666</td>\n",
       "      <td>3888.848636</td>\n",
       "      <td>0</td>\n",
       "    </tr>\n",
       "    <tr>\n",
       "      <th>4</th>\n",
       "      <td>AB-10060</td>\n",
       "      <td>Adam Bellavance</td>\n",
       "      <td>4</td>\n",
       "      <td>6408.926508</td>\n",
       "      <td>3887.023388</td>\n",
       "      <td>1</td>\n",
       "    </tr>\n",
       "    <tr>\n",
       "      <th>...</th>\n",
       "      <td>...</td>\n",
       "      <td>...</td>\n",
       "      <td>...</td>\n",
       "      <td>...</td>\n",
       "      <td>...</td>\n",
       "      <td>...</td>\n",
       "    </tr>\n",
       "    <tr>\n",
       "      <th>500</th>\n",
       "      <td>VS-21820</td>\n",
       "      <td>Vivek Sundaresam</td>\n",
       "      <td>3</td>\n",
       "      <td>6417.949996</td>\n",
       "      <td>3896.112927</td>\n",
       "      <td>3</td>\n",
       "    </tr>\n",
       "    <tr>\n",
       "      <th>501</th>\n",
       "      <td>WB-21850</td>\n",
       "      <td>William Brown</td>\n",
       "      <td>4</td>\n",
       "      <td>6418.349108</td>\n",
       "      <td>3895.797384</td>\n",
       "      <td>3</td>\n",
       "    </tr>\n",
       "    <tr>\n",
       "      <th>502</th>\n",
       "      <td>YC-21895</td>\n",
       "      <td>Yoseph Carroll</td>\n",
       "      <td>15</td>\n",
       "      <td>6416.622457</td>\n",
       "      <td>3887.715735</td>\n",
       "      <td>0</td>\n",
       "    </tr>\n",
       "    <tr>\n",
       "      <th>503</th>\n",
       "      <td>YS-21880</td>\n",
       "      <td>Yana Sorensen</td>\n",
       "      <td>3</td>\n",
       "      <td>6418.843684</td>\n",
       "      <td>3896.306417</td>\n",
       "      <td>3</td>\n",
       "    </tr>\n",
       "    <tr>\n",
       "      <th>504</th>\n",
       "      <td>ZC-21910</td>\n",
       "      <td>Zuschuss Carroll</td>\n",
       "      <td>14</td>\n",
       "      <td>6411.619489</td>\n",
       "      <td>3895.630785</td>\n",
       "      <td>2</td>\n",
       "    </tr>\n",
       "  </tbody>\n",
       "</table>\n",
       "<p>505 rows × 6 columns</p>\n",
       "</div>"
      ],
      "text/plain": [
       "    CustomerID      CustomerName  Quantity        Sales       Profit  Clusters\n",
       "0     AA-10315        Alex Avila        36  6416.018933  3889.354319         0\n",
       "1     AA-10480      Andrew Allen        11  6418.425563  3895.713493         3\n",
       "2     AA-10645     Anna Andreadi        13  6416.985842  3888.269487         0\n",
       "3     AB-10015     Aaron Bergman         5  6417.396666  3888.848636         0\n",
       "4     AB-10060   Adam Bellavance         4  6408.926508  3887.023388         1\n",
       "..         ...               ...       ...          ...          ...       ...\n",
       "500   VS-21820  Vivek Sundaresam         3  6417.949996  3896.112927         3\n",
       "501   WB-21850     William Brown         4  6418.349108  3895.797384         3\n",
       "502   YC-21895    Yoseph Carroll        15  6416.622457  3887.715735         0\n",
       "503   YS-21880     Yana Sorensen         3  6418.843684  3896.306417         3\n",
       "504   ZC-21910  Zuschuss Carroll        14  6411.619489  3895.630785         2\n",
       "\n",
       "[505 rows x 6 columns]"
      ]
     },
     "execution_count": 115,
     "metadata": {},
     "output_type": "execute_result"
    }
   ],
   "source": [
    "# creating another copy of the \"superstore\" dataframe for ease of reference while plotting\n",
    "\n",
    "df2=superstore.copy()\n",
    "df2"
   ]
  },
  {
   "cell_type": "code",
   "execution_count": 116,
   "metadata": {},
   "outputs": [
    {
     "data": {
      "image/png": "[encoded data removed]",
      "text/plain": [
       "<Figure size 432x288 with 1 Axes>"
      ]
     },
     "metadata": {
      "needs_background": "light"
     },
     "output_type": "display_data"
    }
   ],
   "source": [
    "# Importing pyplot module from the matplotlib library for creating a scatter plot\n",
    "\n",
    "from matplotlib import pyplot as plt\n",
    "%matplotlib inline\n",
    "\n",
    "\n",
    "\n",
    "# Using loc[] slicing/filtering method to extract X and Y axis information\n",
    "\n",
    "plt.scatter(df2.loc[df2.Clusters==0,\"Sales\"], df2.loc[df2.Clusters==0,\"Profit\"], s = 10, c = 'red', label = 'Cluster 0')\n",
    "plt.scatter(df2.loc[df2.Clusters==1,\"Sales\"], df2.loc[df2.Clusters==1,\"Profit\"], s = 10, c = 'blue', label = 'Cluster 1')\n",
    "plt.scatter(df2.loc[df2.Clusters==2,\"Sales\"], df2.loc[df2.Clusters==2,\"Profit\"], s = 10, c = 'green', label = 'Cluster 2')\n",
    "plt.scatter(df2.loc[df2.Clusters==3,\"Sales\"], df2.loc[df2.Clusters==3,\"Profit\"], s = 10, c = 'cyan', label = 'Cluster 3')\n",
    "\n",
    "\n",
    "\n",
    "# Configuring other attributes/labels to display in the scatterplot\n",
    "\n",
    "plt.title('Clusters of customers')\n",
    "plt.xlabel('Sales')\n",
    "plt.ylabel('Profits')\n",
    "plt.legend()\n",
    "plt.show()"
   ]
  },
  {
   "cell_type": "raw",
   "metadata": {},
   "source": []
  },
  {
   "cell_type": "markdown",
   "metadata": {},
   "source": [
    "#### 8. Save Predictions"
   ]
  },
  {
   "cell_type": "code",
   "execution_count": 117,
   "metadata": {},
   "outputs": [],
   "source": [
    "# Save the \"superstore\" dataframe as a CSV file\n",
    "\n",
    "superstore.to_csv(\"clusteredcustomerdata.csv\", header=True, index=False, encoding=\"utf-8\")"
   ]
  },
  {
   "cell_type": "raw",
   "metadata": {},
   "source": []
  }
 ],
 "metadata": {
  "kernelspec": {
   "display_name": "Python 3",
   "language": "python",
   "name": "python3"
  },
  "language_info": {
   "codemirror_mode": {
    "name": "ipython",
    "version": 3
   },
   "file_extension": ".py",
   "mimetype": "text/x-python",
   "name": "python",
   "nbconvert_exporter": "python",
   "pygments_lexer": "ipython3",
   "version": "3.8.5"
  }
 },
 "nbformat": 4,
 "nbformat_minor": 2
}
