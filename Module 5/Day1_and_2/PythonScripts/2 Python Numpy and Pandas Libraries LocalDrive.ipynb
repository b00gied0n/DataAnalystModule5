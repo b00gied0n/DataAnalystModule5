{
  "cells": [
    {
      "cell_type": "markdown",
      "metadata": {
        "id": "E-vzbaKFOzx0"
      },
      "source": [
        "# Python NumPy and Pandas\n",
        "\n",
        "**What we cover:**\n",
        "1. Python NumPy library\n",
        "    - Importing NumPy library\n",
        "    - Exploring NumPy mathematical and statistical operations\n",
        "2. Python Pandas library\n",
        "    - Importing Pandas library\n",
        "    - Exploring Pandas data structures\n",
        "        - Series\n",
        "        - DataFrames\n",
        "    - Importing data from CSV files using Pandas\n",
        "    - Importing data from EXCEL files using Pandas\n",
        "    - Pandas groupby() method\n",
        "    - Subsetting or Slicing in Pandas \n",
        "        - using square brackets []\n",
        "        - logical/boolean method\n",
        "        - loc[] method\n",
        "        - iloc[] method\n",
        "    - Dealing with missing data in Pandas\n",
        "    - Dealing with duplicate data in Pandas\n",
        "    - Introduction to Joins in Pandas\n",
        "    - Introduction to Concatenation in Pandas\n",
        "\n",
        "\n",
        "</Br></Br></Br></Br></Br></Br></Br></Br>"
      ]
    },
    {
      "cell_type": "raw",
      "metadata": {
        "id": "HSGkGMU7Ozx1"
      },
      "source": []
    },
    {
      "cell_type": "markdown",
      "metadata": {
        "id": "0u7-vOyGOzx1"
      },
      "source": [
        "### NumPy Introduction\n",
        "\n",
        "<img src=\"https://github.com/b00gied0n/DataAnalystModule5/blob/main/Module%205/Day1_and_2/PythonScripts/pics/numpy.png?raw=1\" alt=\"NumPy\"\n",
        "\ttitle=\"NumPy\" \n",
        "    width=\"350\" \n",
        "    height=\"200\"\n",
        "    align=\"center\"/>\n",
        "\n",
        "\n",
        "\n",
        "- NumPy is the core library for scientific computing in Python\n",
        "- NumPy provides multidimensional array objects, and tools for working with these arrays\n",
        "- NumPy stands for Numerical Python"
      ]
    },
    {
      "cell_type": "markdown",
      "metadata": {
        "id": "1XObOCFOOzx1"
      },
      "source": [
        "### NumPy \"Array\" data object"
      ]
    },
    {
      "cell_type": "markdown",
      "metadata": {
        "id": "ulZPySGvOzx2"
      },
      "source": [
        "- NumPy provide **array** data objects (data structure) that are up to 50x faster than Python lists\n",
        "\n",
        "- NumPy arrays are called as **\"ndarray\"** (n dimensional array)\n",
        "\n",
        "- Arrays are homogeneous multidimensional structures\n",
        "\n",
        "- Arrays are grid of values, sharing the same data type, indexed by a tuple of non-negative integers\n",
        "\n",
        "- NumPy dimensions are called axes"
      ]
    },
    {
      "cell_type": "markdown",
      "metadata": {
        "id": "P8VZg-cjOzx2"
      },
      "source": [
        "<img src=\"https://github.com/b00gied0n/DataAnalystModule5/blob/main/Module%205/Day1_and_2/PythonScripts/pics/numpy_array.png?modified=1234567&raw=1\" alt=\"NumPy array\"\n",
        "\ttitle=\"NumPy array\" \n",
        "    width=\"550\" \n",
        "    height=\"400\"\n",
        "    align=\"center\"/>\n",
        "\n",
        "#### Some useful reference:\n",
        "\n",
        "[NumPy Cheat Sheet](https://s3.amazonaws.com/assets.datacamp.com/blog_assets/Numpy_Python_Cheat_Sheet.pdf)"
      ]
    },
    {
      "cell_type": "code",
      "execution_count": null,
      "metadata": {
        "id": "8CxADDtNOzx2"
      },
      "outputs": [],
      "source": [
        "# following code can be used to install Numpy into jupyter notebook environment\n",
        "\n",
        "#!pip install numpy"
      ]
    },
    {
      "cell_type": "code",
      "execution_count": null,
      "metadata": {
        "id": "_hfr42CrOzx3"
      },
      "outputs": [],
      "source": [
        "# Once NumPy is installed, it can be imported to jupyter notebook by using \"import\" keyword\n",
        "# usually NumPy is imported under the alias of \"np\"\n",
        "# this is mainly done due to ease of referencing\n",
        "\n",
        "import numpy as np"
      ]
    },
    {
      "cell_type": "code",
      "execution_count": null,
      "metadata": {
        "scrolled": true,
        "id": "LBlj1h5LOzx3"
      },
      "outputs": [],
      "source": [
        "# Current installed NumPy version can be checked by using the following code\n",
        "\n",
        "np.__version__"
      ]
    },
    {
      "cell_type": "code",
      "execution_count": null,
      "metadata": {
        "id": "inHJLMZyOzx3"
      },
      "outputs": [],
      "source": [
        "# NumPy ndarray object can be created by using the array() function\n",
        "# Let's create a 1D array\n",
        "\n",
        "myarray1 = np.array([11,32,45,7])\n",
        "myarray1"
      ]
    },
    {
      "cell_type": "code",
      "execution_count": null,
      "metadata": {
        "id": "dvNPvVcoOzx3"
      },
      "outputs": [],
      "source": [
        "# shape attribute returns the number of dimensions found in the array data object\n",
        "# The example below returns (4,) - which means that the array has 1 dimension, and 4 elements in that dimension\n",
        "\n",
        "myarray1.shape"
      ]
    },
    {
      "cell_type": "code",
      "execution_count": null,
      "metadata": {
        "id": "gNHHOIVcOzx3"
      },
      "outputs": [],
      "source": [
        "# Slicing a NumPy 1D Array\n",
        "# [] - square brackets are used while slicing\n",
        "\n",
        "\n",
        "myarray1[1:3]"
      ]
    },
    {
      "cell_type": "code",
      "execution_count": null,
      "metadata": {
        "id": "FccELVU-Ozx3"
      },
      "outputs": [],
      "source": [
        "# Let's create a 2D array\n",
        "\n",
        "myarray2 = np.array([[11,32,45,7], [88,95,22,13]])\n",
        "myarray2"
      ]
    },
    {
      "cell_type": "code",
      "execution_count": null,
      "metadata": {
        "id": "zfc3uVMWOzx3"
      },
      "outputs": [],
      "source": [
        "# shape attribute returns the number of dimensions found in the array data object\n",
        "# The example below returns (2,4) - which means that the array has 2 dimensions --> 2 Rows and 4 Columns\n",
        "\n",
        "myarray2.shape"
      ]
    },
    {
      "cell_type": "code",
      "execution_count": null,
      "metadata": {
        "id": "HND_kV_5Ozx3"
      },
      "outputs": [],
      "source": [
        "# Slicing a NumPy 2D Array\n",
        "# [] - square brackets are used while slicing\n",
        "\n",
        "myarray2[1, 1:3]"
      ]
    },
    {
      "cell_type": "code",
      "execution_count": null,
      "metadata": {
        "id": "Ew8xyODYOzx4"
      },
      "outputs": [],
      "source": [
        "# The reshape() method chnages the shape of the array without changing its underlying data\n",
        "# below changes the (2, 4) 2D-array to a (4,2) 2D-array\n",
        "\n",
        "myarray2.reshape(4,2)"
      ]
    },
    {
      "cell_type": "code",
      "execution_count": null,
      "metadata": {
        "id": "AeYz357OOzx4"
      },
      "outputs": [],
      "source": [
        "# arange() method returns an ndarray object containing evenly spaced values\n",
        "# np.arange(start, stop, step-size) \n",
        "\n",
        "myarray3 = np.arange(1,10,2)\n",
        "myarray3"
      ]
    },
    {
      "cell_type": "code",
      "execution_count": null,
      "metadata": {
        "id": "RGLHuyrzOzx4"
      },
      "outputs": [],
      "source": []
    },
    {
      "cell_type": "markdown",
      "metadata": {
        "id": "QxsuIaojOzx4"
      },
      "source": [
        "#### NumPy contains a large number of mathematical  and statistical operations\n",
        "\n",
        "[Math functions](https://numpy.org/doc/stable/reference/routines.math.html)\n",
        "\n",
        "[Statistical functions](https://numpy.org/doc/stable/reference/routines.statistics.html)\n",
        "\n",
        "- In the following section let's explore few of these commonly used functions"
      ]
    },
    {
      "cell_type": "code",
      "execution_count": null,
      "metadata": {
        "id": "EaB6ouSDOzx4"
      },
      "outputs": [],
      "source": [
        "myarray4 = np.array([13, 23, 55, 67, 49])\n",
        "\n",
        "# calculate the total\n",
        "np.sum(myarray4)"
      ]
    },
    {
      "cell_type": "code",
      "execution_count": null,
      "metadata": {
        "id": "X2xMcGkzOzx4"
      },
      "outputs": [],
      "source": [
        "# calculate the median, 50th percentile, 2nd quartile\n",
        "\n",
        "np.median(myarray4)"
      ]
    },
    {
      "cell_type": "code",
      "execution_count": null,
      "metadata": {
        "id": "6ACjqgh7Ozx4"
      },
      "outputs": [],
      "source": [
        "# calculate the median, 50th percentile, 2nd quartile\n",
        "\n",
        "np.quantile(myarray4, 0.5)"
      ]
    },
    {
      "cell_type": "code",
      "execution_count": null,
      "metadata": {
        "id": "Ljo15zrzOzx4"
      },
      "outputs": [],
      "source": [
        "# calculate standard deviation\n",
        "\n",
        "np.std(myarray4)"
      ]
    },
    {
      "cell_type": "code",
      "execution_count": null,
      "metadata": {
        "id": "ov9DWTmmOzx4"
      },
      "outputs": [],
      "source": [
        "# calculate square root\n",
        "\n",
        "np.sqrt(myarray4)"
      ]
    },
    {
      "cell_type": "raw",
      "metadata": {
        "id": "aRQPg1zvOzx4"
      },
      "source": []
    },
    {
      "cell_type": "markdown",
      "metadata": {
        "id": "-uuucYUOOzx4"
      },
      "source": [
        "### Pandas Introduction\n",
        "\n",
        "<img src=\"https://github.com/b00gied0n/DataAnalystModule5/blob/main/Module%205/Day1_and_2/PythonScripts/pics/pandas.png?raw=1\" alt=\"pandas\"\n",
        "\ttitle=\"pandas\" \n",
        "    width=\"350\" \n",
        "    height=\"200\"\n",
        "    align=\"center\"/>\n",
        "    \n",
        "\n",
        "- Pandas is a high-level data manipulation library. It is built on the NumPy package and provides two valuable data structures: **Series** and **DataFrame**\n",
        "\n",
        "- DataFrame allow you to store and manipulate tabular data in rows and columns"
      ]
    },
    {
      "cell_type": "markdown",
      "metadata": {
        "id": "33oB2vVjOzx4"
      },
      "source": [
        "### Pandas data structures\n",
        "\n",
        "- Pandas Series is a one-dimensional labelled array capable of holding any data type with axis labels or index. An example of a Series object is one column from a DataFrame. Indexing in a panda’s series starts from 0\n",
        "\n",
        "- Pandas DataFrame is a 2-dimensional labelled data structure with columns of potentially different types. You can think of it like a spreadsheet or SQL table, or a dictionary of Series objects. It is generally the most commonly used pandas’ object. Like Series, DataFrame accepts many different kinds of inputs. Indexing in a panda DataFrame starts from 0 (for both rows and columns)\n",
        "\n",
        "<img src=\"https://github.com/b00gied0n/DataAnalystModule5/blob/main/Module%205/Day1_and_2/PythonScripts/pics/pandas_series_and_dataframe.png?modified=12345678&raw=1\" alt=\"series_and_dataframe\"\n",
        "\ttitle=\"series_and_dataframe\" \n",
        "    width=\"550\" \n",
        "    height=\"400\"\n",
        "    align=\"center\"/>\n",
        "\n",
        "<br><br>\n",
        "\n",
        "#### Some useful reference:\n",
        "\n",
        "[Pandas Cheat Sheet](https://pandas.pydata.org/Pandas_Cheat_Sheet.pdf)"
      ]
    },
    {
      "cell_type": "code",
      "execution_count": null,
      "metadata": {
        "id": "MdT_2R5XOzx5"
      },
      "outputs": [],
      "source": [
        "# following code can be used to install Pandas into Jupyter notebook environment\n",
        "\n",
        "#!pip install pandas"
      ]
    },
    {
      "cell_type": "code",
      "execution_count": null,
      "metadata": {
        "id": "KYyGbmVrOzx5"
      },
      "outputs": [],
      "source": [
        "# Once Pandas is installed, it can be imported into Jupyter notebook by using \"import\" keyword\n",
        "# usually Pandas is imported under the alias of \"pd\"\n",
        "# this is mainly done due to ease of referencing\n",
        "\n",
        "import pandas as pd"
      ]
    },
    {
      "cell_type": "code",
      "execution_count": null,
      "metadata": {
        "id": "VwzPRXDNOzx5"
      },
      "outputs": [],
      "source": [
        "# Current installed Pandas version can be checked by using the following code\n",
        "\n",
        "pd.__version__"
      ]
    },
    {
      "cell_type": "code",
      "execution_count": null,
      "metadata": {
        "id": "kz32rXFiOzx5"
      },
      "outputs": [],
      "source": [
        "# Below code showcases creation of a Series\n",
        "# Series is a type of a list in pandas which can take integer values, string values, double values and more \n",
        "# Pandas Series index stats from 0\n",
        "\n",
        "emp = pd.Series([\"Matt\",\"Ned\",\"John\", \"Sam\"]) \n",
        "emp"
      ]
    },
    {
      "cell_type": "code",
      "execution_count": null,
      "metadata": {
        "id": "kwi3zq3aOzx5"
      },
      "outputs": [],
      "source": [
        "# Exploring pandas series data object type\n",
        "\n",
        "type(emp)"
      ]
    },
    {
      "cell_type": "code",
      "execution_count": null,
      "metadata": {
        "id": "s1nmmSSdOzx5"
      },
      "outputs": [],
      "source": [
        "# Pandas Series index stats from 0, use [] square bracket technique while slicing\n",
        "\n",
        "emp[0:2]"
      ]
    },
    {
      "cell_type": "code",
      "execution_count": null,
      "metadata": {
        "id": "X7e2I_90Ozx5"
      },
      "outputs": [],
      "source": [
        "# Exploring length of the pandas series\n",
        "\n",
        "#len(emp)\n",
        "\n",
        "emp.size"
      ]
    },
    {
      "cell_type": "markdown",
      "metadata": {
        "id": "Yp1WVlm-Ozx5"
      },
      "source": [
        "#### Question\n",
        "\n",
        "<img src=\"https://github.com/b00gied0n/DataAnalystModule5/blob/main/Module%205/Day1_and_2/PythonScripts/pics/pandas_series_design.png?raw=1\" alt=\"pandas Series\"\n",
        "\ttitle=\"pandas Series\" \n",
        "    width=\"100\" \n",
        "    height=\"200\"\n",
        "    align=\"left\"/>\n",
        "<br/><br/><br/><br/><br/><br/><br/><br/><br/><br/>\n",
        "\n",
        " - Write down the code to design the above Pandas Series data structure\n",
        " - Save the series as \"age1\""
      ]
    },
    {
      "cell_type": "code",
      "execution_count": null,
      "metadata": {
        "scrolled": true,
        "id": "Sj8CE2MbOzx5"
      },
      "outputs": [],
      "source": [
        "# Write down the answer here:\n",
        "\n"
      ]
    },
    {
      "cell_type": "code",
      "execution_count": null,
      "metadata": {
        "id": "meyGj-hXOzx5"
      },
      "outputs": [],
      "source": []
    },
    {
      "cell_type": "code",
      "execution_count": null,
      "metadata": {
        "id": "sZ4WUKr7Ozx5"
      },
      "outputs": [],
      "source": [
        "# Below code showcases creation of a Dataframe\n",
        "# Pandas DataFrame is a 2-dimensional labelled data structure with columns of potentially different types\n",
        "# below code showcases how to use a dictionary (key-values) to manually create a Dataframe\n",
        "\n",
        "df = pd.DataFrame({\"SID\":[111,112,113], \"SName\":[\"Dar\",\"Nedum\",\"Don\"], \"Score\":[85,95,90]})\n",
        "df"
      ]
    },
    {
      "cell_type": "code",
      "execution_count": null,
      "metadata": {
        "id": "sscweCihOzx6"
      },
      "outputs": [],
      "source": [
        "# Exploring pandas Dataframe object type\n",
        "\n",
        "type(df)"
      ]
    },
    {
      "cell_type": "markdown",
      "metadata": {
        "id": "EwV3rZXOOzx6"
      },
      "source": [
        "#### Question\n",
        "\n",
        "<img src=\"https://github.com/b00gied0n/DataAnalystModule5/blob/main/Module%205/Day1_and_2/PythonScripts/pics/pandas_dataframe_design.png?modified=12345678&raw=1\" alt=\"pandas\"\n",
        "\ttitle=\"pandas\" \n",
        "    width=\"350\" \n",
        "    height=\"200\"\n",
        "    align=\"left\"/>\n",
        "\n",
        "<br/><br/>\n",
        "<br/><br/>\n",
        "<br/><br/>\n",
        " - Write down the code to design the above Dataframe structure\n",
        " - Save the Dataframe as \"car1\""
      ]
    },
    {
      "cell_type": "code",
      "execution_count": null,
      "metadata": {
        "id": "B6Eg8V0KOzx6"
      },
      "outputs": [],
      "source": [
        "# Write down the answer here:\n",
        "\n"
      ]
    },
    {
      "cell_type": "code",
      "execution_count": null,
      "metadata": {
        "id": "GTphBe0TOzx6"
      },
      "outputs": [],
      "source": []
    },
    {
      "cell_type": "markdown",
      "metadata": {
        "id": "qKQAIjWAOzx6"
      },
      "source": [
        "### Importing Data with read_csv()"
      ]
    },
    {
      "cell_type": "code",
      "source": [
        "from google.colab import files\n",
        "\n",
        "uploaded = files.upload()\n",
        "\n",
        "for fn in uploaded.keys():\n",
        "  print('User uploaded file \"{name}\" with length {length} bytes'.format(\n",
        "      name=fn, length=len(uploaded[fn])))"
      ],
      "metadata": {
        "id": "AjFSoDlgPcMR",
        "outputId": "d3e0da25-a809-49d9-d0e1-782cab0973ee",
        "colab": {
          "base_uri": "https://localhost:8080/",
          "height": 1000
        }
      },
      "execution_count": 1,
      "outputs": [
        {
          "output_type": "display_data",
          "data": {
            "text/plain": [
              "<IPython.core.display.HTML object>"
            ],
            "text/html": [
              "\n",
              "     <input type=\"file\" id=\"files-bca7b50d-e741-4d82-83b8-5b57c95d557d\" name=\"files[]\" multiple disabled\n",
              "        style=\"border:none\" />\n",
              "     <output id=\"result-bca7b50d-e741-4d82-83b8-5b57c95d557d\">\n",
              "      Upload widget is only available when the cell has been executed in the\n",
              "      current browser session. Please rerun this cell to enable.\n",
              "      </output>\n",
              "      <script>// Copyright 2017 Google LLC\n",
              "//\n",
              "// Licensed under the Apache License, Version 2.0 (the \"License\");\n",
              "// you may not use this file except in compliance with the License.\n",
              "// You may obtain a copy of the License at\n",
              "//\n",
              "//      http://www.apache.org/licenses/LICENSE-2.0\n",
              "//\n",
              "// Unless required by applicable law or agreed to in writing, software\n",
              "// distributed under the License is distributed on an \"AS IS\" BASIS,\n",
              "// WITHOUT WARRANTIES OR CONDITIONS OF ANY KIND, either express or implied.\n",
              "// See the License for the specific language governing permissions and\n",
              "// limitations under the License.\n",
              "\n",
              "/**\n",
              " * @fileoverview Helpers for google.colab Python module.\n",
              " */\n",
              "(function(scope) {\n",
              "function span(text, styleAttributes = {}) {\n",
              "  const element = document.createElement('span');\n",
              "  element.textContent = text;\n",
              "  for (const key of Object.keys(styleAttributes)) {\n",
              "    element.style[key] = styleAttributes[key];\n",
              "  }\n",
              "  return element;\n",
              "}\n",
              "\n",
              "// Max number of bytes which will be uploaded at a time.\n",
              "const MAX_PAYLOAD_SIZE = 100 * 1024;\n",
              "\n",
              "function _uploadFiles(inputId, outputId) {\n",
              "  const steps = uploadFilesStep(inputId, outputId);\n",
              "  const outputElement = document.getElementById(outputId);\n",
              "  // Cache steps on the outputElement to make it available for the next call\n",
              "  // to uploadFilesContinue from Python.\n",
              "  outputElement.steps = steps;\n",
              "\n",
              "  return _uploadFilesContinue(outputId);\n",
              "}\n",
              "\n",
              "// This is roughly an async generator (not supported in the browser yet),\n",
              "// where there are multiple asynchronous steps and the Python side is going\n",
              "// to poll for completion of each step.\n",
              "// This uses a Promise to block the python side on completion of each step,\n",
              "// then passes the result of the previous step as the input to the next step.\n",
              "function _uploadFilesContinue(outputId) {\n",
              "  const outputElement = document.getElementById(outputId);\n",
              "  const steps = outputElement.steps;\n",
              "\n",
              "  const next = steps.next(outputElement.lastPromiseValue);\n",
              "  return Promise.resolve(next.value.promise).then((value) => {\n",
              "    // Cache the last promise value to make it available to the next\n",
              "    // step of the generator.\n",
              "    outputElement.lastPromiseValue = value;\n",
              "    return next.value.response;\n",
              "  });\n",
              "}\n",
              "\n",
              "/**\n",
              " * Generator function which is called between each async step of the upload\n",
              " * process.\n",
              " * @param {string} inputId Element ID of the input file picker element.\n",
              " * @param {string} outputId Element ID of the output display.\n",
              " * @return {!Iterable<!Object>} Iterable of next steps.\n",
              " */\n",
              "function* uploadFilesStep(inputId, outputId) {\n",
              "  const inputElement = document.getElementById(inputId);\n",
              "  inputElement.disabled = false;\n",
              "\n",
              "  const outputElement = document.getElementById(outputId);\n",
              "  outputElement.innerHTML = '';\n",
              "\n",
              "  const pickedPromise = new Promise((resolve) => {\n",
              "    inputElement.addEventListener('change', (e) => {\n",
              "      resolve(e.target.files);\n",
              "    });\n",
              "  });\n",
              "\n",
              "  const cancel = document.createElement('button');\n",
              "  inputElement.parentElement.appendChild(cancel);\n",
              "  cancel.textContent = 'Cancel upload';\n",
              "  const cancelPromise = new Promise((resolve) => {\n",
              "    cancel.onclick = () => {\n",
              "      resolve(null);\n",
              "    };\n",
              "  });\n",
              "\n",
              "  // Wait for the user to pick the files.\n",
              "  const files = yield {\n",
              "    promise: Promise.race([pickedPromise, cancelPromise]),\n",
              "    response: {\n",
              "      action: 'starting',\n",
              "    }\n",
              "  };\n",
              "\n",
              "  cancel.remove();\n",
              "\n",
              "  // Disable the input element since further picks are not allowed.\n",
              "  inputElement.disabled = true;\n",
              "\n",
              "  if (!files) {\n",
              "    return {\n",
              "      response: {\n",
              "        action: 'complete',\n",
              "      }\n",
              "    };\n",
              "  }\n",
              "\n",
              "  for (const file of files) {\n",
              "    const li = document.createElement('li');\n",
              "    li.append(span(file.name, {fontWeight: 'bold'}));\n",
              "    li.append(span(\n",
              "        `(${file.type || 'n/a'}) - ${file.size} bytes, ` +\n",
              "        `last modified: ${\n",
              "            file.lastModifiedDate ? file.lastModifiedDate.toLocaleDateString() :\n",
              "                                    'n/a'} - `));\n",
              "    const percent = span('0% done');\n",
              "    li.appendChild(percent);\n",
              "\n",
              "    outputElement.appendChild(li);\n",
              "\n",
              "    const fileDataPromise = new Promise((resolve) => {\n",
              "      const reader = new FileReader();\n",
              "      reader.onload = (e) => {\n",
              "        resolve(e.target.result);\n",
              "      };\n",
              "      reader.readAsArrayBuffer(file);\n",
              "    });\n",
              "    // Wait for the data to be ready.\n",
              "    let fileData = yield {\n",
              "      promise: fileDataPromise,\n",
              "      response: {\n",
              "        action: 'continue',\n",
              "      }\n",
              "    };\n",
              "\n",
              "    // Use a chunked sending to avoid message size limits. See b/62115660.\n",
              "    let position = 0;\n",
              "    do {\n",
              "      const length = Math.min(fileData.byteLength - position, MAX_PAYLOAD_SIZE);\n",
              "      const chunk = new Uint8Array(fileData, position, length);\n",
              "      position += length;\n",
              "\n",
              "      const base64 = btoa(String.fromCharCode.apply(null, chunk));\n",
              "      yield {\n",
              "        response: {\n",
              "          action: 'append',\n",
              "          file: file.name,\n",
              "          data: base64,\n",
              "        },\n",
              "      };\n",
              "\n",
              "      let percentDone = fileData.byteLength === 0 ?\n",
              "          100 :\n",
              "          Math.round((position / fileData.byteLength) * 100);\n",
              "      percent.textContent = `${percentDone}% done`;\n",
              "\n",
              "    } while (position < fileData.byteLength);\n",
              "  }\n",
              "\n",
              "  // All done.\n",
              "  yield {\n",
              "    response: {\n",
              "      action: 'complete',\n",
              "    }\n",
              "  };\n",
              "}\n",
              "\n",
              "scope.google = scope.google || {};\n",
              "scope.google.colab = scope.google.colab || {};\n",
              "scope.google.colab._files = {\n",
              "  _uploadFiles,\n",
              "  _uploadFilesContinue,\n",
              "};\n",
              "})(self);\n",
              "</script> "
            ]
          },
          "metadata": {}
        },
        {
          "output_type": "stream",
          "name": "stdout",
          "text": [
            "Saving 1 Introduction to Python for Data Science with Answers - PDF.ipynb to 1 Introduction to Python for Data Science with Answers - PDF.ipynb\n",
            "Saving 1 Introduction to Python for Data Science.ipynb to 1 Introduction to Python for Data Science.ipynb\n",
            "Saving 2 Python Numpy and Pandas Libraries with Answers - PDF.ipynb to 2 Python Numpy and Pandas Libraries with Answers - PDF.ipynb\n",
            "Saving 2 Python Numpy and Pandas Libraries.ipynb to 2 Python Numpy and Pandas Libraries.ipynb\n",
            "Saving 3 Connecting to MSSQL Server with Answers - PDF.ipynb to 3 Connecting to MSSQL Server with Answers - PDF.ipynb\n",
            "Saving 3 Connecting to MSSQL Server.ipynb to 3 Connecting to MSSQL Server.ipynb\n",
            "Saving 4 Multiple Linear Regression with Answers - PDF.ipynb to 4 Multiple Linear Regression with Answers - PDF.ipynb\n",
            "Saving 4 Multiple Linear Regression.ipynb to 4 Multiple Linear Regression.ipynb\n",
            "Saving 5 Logistic Regression with Answers - PDF.ipynb to 5 Logistic Regression with Answers - PDF.ipynb\n",
            "Saving 5 Logistic Regression.ipynb to 5 Logistic Regression.ipynb\n",
            "Saving 6 K-means Clustering with Answers - PDF.ipynb to 6 K-means Clustering with Answers - PDF.ipynb\n",
            "Saving 6 K-means Clustering.ipynb to 6 K-means Clustering.ipynb\n",
            "Saving 7 Text Analysis using WordClouds with Answers - PDF.ipynb to 7 Text Analysis using WordClouds with Answers - PDF.ipynb\n",
            "Saving 7 Text Analysis using WordClouds.ipynb to 7 Text Analysis using WordClouds.ipynb\n",
            "Saving 8 Time Series Analysis and Forecasting using ETS models with Answers - PDF.ipynb to 8 Time Series Analysis and Forecasting using ETS models with Answers - PDF.ipynb\n",
            "Saving 8 Time Series Analysis and Forecasting using ETS models.ipynb to 8 Time Series Analysis and Forecasting using ETS models.ipynb\n",
            "Saving 9 Programming Constructs with Answers - PDF.ipynb to 9 Programming Constructs with Answers - PDF.ipynb\n",
            "Saving 9 Programming Constructs.ipynb to 9 Programming Constructs.ipynb\n",
            "Saving 10 Dealing with text files with Answers - PDF.ipynb to 10 Dealing with text files with Answers - PDF.ipynb\n",
            "Saving 10 Dealing with text files.ipynb to 10 Dealing with text files.ipynb\n",
            "Saving AirPassengers.xlsx to AirPassengers.xlsx\n",
            "Saving CheatSheet Python.ipynb to CheatSheet Python.ipynb\n",
            "Saving ConsumerSentiment.txt to ConsumerSentiment.txt\n",
            "Saving ConsumerSentiment.xlsx to ConsumerSentiment.xlsx\n",
            "Saving CustomerInfo.xlsx to CustomerInfo.xlsx\n",
            "Saving CustomerInfo2.xlsx to CustomerInfo2.xlsx\n",
            "Saving CustomerInfo5.xlsx to CustomerInfo5.xlsx\n",
            "Saving HousePrices.csv to HousePrices.csv\n",
            "Saving HousePricesPredict.csv to HousePricesPredict.csv\n",
            "Saving OrderInfo.xlsx to OrderInfo.xlsx\n",
            "Saving ProductInfo.xlsx to ProductInfo.xlsx\n",
            "Saving SalesInfoApril.xlsx to SalesInfoApril.xlsx\n",
            "Saving SalesInfoFeb.xlsx to SalesInfoFeb.xlsx\n",
            "Saving SalesInfoJan.xlsx to SalesInfoJan.xlsx\n",
            "Saving Superstore.xlsx to Superstore.xlsx\n",
            "Saving Telco Customer Churn - Prediction Dataset.xlsx to Telco Customer Churn - Prediction Dataset.xlsx\n",
            "Saving Telco Customer Churn - Training Dataset.xlsx to Telco Customer Churn - Training Dataset.xlsx\n",
            "User uploaded file \"1 Introduction to Python for Data Science with Answers - PDF.ipynb\" with length 70815 bytes\n",
            "User uploaded file \"1 Introduction to Python for Data Science.ipynb\" with length 58425 bytes\n",
            "User uploaded file \"2 Python Numpy and Pandas Libraries with Answers - PDF.ipynb\" with length 297871 bytes\n",
            "User uploaded file \"2 Python Numpy and Pandas Libraries.ipynb\" with length 48114 bytes\n",
            "User uploaded file \"3 Connecting to MSSQL Server with Answers - PDF.ipynb\" with length 5343 bytes\n",
            "User uploaded file \"3 Connecting to MSSQL Server.ipynb\" with length 4693 bytes\n",
            "User uploaded file \"4 Multiple Linear Regression with Answers - PDF.ipynb\" with length 143087 bytes\n",
            "User uploaded file \"4 Multiple Linear Regression.ipynb\" with length 26352 bytes\n",
            "User uploaded file \"5 Logistic Regression with Answers - PDF.ipynb\" with length 181497 bytes\n",
            "User uploaded file \"5 Logistic Regression.ipynb\" with length 181497 bytes\n",
            "User uploaded file \"6 K-means Clustering with Answers - PDF.ipynb\" with length 98794 bytes\n",
            "User uploaded file \"6 K-means Clustering.ipynb\" with length 98794 bytes\n",
            "User uploaded file \"7 Text Analysis using WordClouds with Answers - PDF.ipynb\" with length 314372 bytes\n",
            "User uploaded file \"7 Text Analysis using WordClouds.ipynb\" with length 8928 bytes\n",
            "User uploaded file \"8 Time Series Analysis and Forecasting using ETS models with Answers - PDF.ipynb\" with length 104459 bytes\n",
            "User uploaded file \"8 Time Series Analysis and Forecasting using ETS models.ipynb\" with length 11607 bytes\n",
            "User uploaded file \"9 Programming Constructs with Answers - PDF.ipynb\" with length 6450 bytes\n",
            "User uploaded file \"9 Programming Constructs.ipynb\" with length 5793 bytes\n",
            "User uploaded file \"10 Dealing with text files with Answers - PDF.ipynb\" with length 7927 bytes\n",
            "User uploaded file \"10 Dealing with text files.ipynb\" with length 3792 bytes\n",
            "User uploaded file \"AirPassengers.xlsx\" with length 17857 bytes\n",
            "User uploaded file \"CheatSheet Python.ipynb\" with length 16576 bytes\n",
            "User uploaded file \"ConsumerSentiment.txt\" with length 842 bytes\n",
            "User uploaded file \"ConsumerSentiment.xlsx\" with length 327279 bytes\n",
            "User uploaded file \"CustomerInfo.xlsx\" with length 15478 bytes\n",
            "User uploaded file \"CustomerInfo2.xlsx\" with length 15546 bytes\n",
            "User uploaded file \"CustomerInfo5.xlsx\" with length 15617 bytes\n",
            "User uploaded file \"HousePrices.csv\" with length 2195 bytes\n",
            "User uploaded file \"HousePricesPredict.csv\" with length 159 bytes\n",
            "User uploaded file \"OrderInfo.xlsx\" with length 15507 bytes\n",
            "User uploaded file \"ProductInfo.xlsx\" with length 16775 bytes\n",
            "User uploaded file \"SalesInfoApril.xlsx\" with length 40350 bytes\n",
            "User uploaded file \"SalesInfoFeb.xlsx\" with length 40415 bytes\n",
            "User uploaded file \"SalesInfoJan.xlsx\" with length 40467 bytes\n",
            "User uploaded file \"Superstore.xlsx\" with length 49869 bytes\n",
            "User uploaded file \"Telco Customer Churn - Prediction Dataset.xlsx\" with length 19100 bytes\n",
            "User uploaded file \"Telco Customer Churn - Training Dataset.xlsx\" with length 213068 bytes\n"
          ]
        }
      ]
    },
    {
      "cell_type": "code",
      "execution_count": 2,
      "metadata": {
        "id": "bxgUPoTVOzx6"
      },
      "outputs": [],
      "source": [
        "# import Pandas library with the alias of \"pd\"\n",
        "import pandas as pd"
      ]
    },
    {
      "cell_type": "code",
      "execution_count": 4,
      "metadata": {
        "id": "H_olhH-oOzx6",
        "outputId": "bdea3ffc-fc4c-4e13-bbb4-019005a0da78",
        "colab": {
          "base_uri": "https://localhost:8080/",
          "height": 423
        }
      },
      "outputs": [
        {
          "output_type": "execute_result",
          "data": {
            "text/plain": [
              "    HouseSqft  Taxes  Bedrooms  Bathrooms  LastSoldPrice\n",
              "0      1240.0   1360         3        2.0         145000\n",
              "1       370.0   1050         1        1.0          68000\n",
              "2         NaN   1010         3        1.5         115000\n",
              "3      1120.0    830         3        2.0          69000\n",
              "4      1710.0   2150         3        2.0         163000\n",
              "..        ...    ...       ...        ...            ...\n",
              "95     1060.0    990         2        2.0         176000\n",
              "96     1730.0   3030         3        2.0         196500\n",
              "97     1370.0   1580         3        2.0         132200\n",
              "98     1560.0   1770         3        2.0          88400\n",
              "99     1340.0   1430         3        2.0         127200\n",
              "\n",
              "[100 rows x 5 columns]"
            ],
            "text/html": [
              "\n",
              "  <div id=\"df-f8a3afe9-a047-4c81-bff6-f338a7ebdde3\">\n",
              "    <div class=\"colab-df-container\">\n",
              "      <div>\n",
              "<style scoped>\n",
              "    .dataframe tbody tr th:only-of-type {\n",
              "        vertical-align: middle;\n",
              "    }\n",
              "\n",
              "    .dataframe tbody tr th {\n",
              "        vertical-align: top;\n",
              "    }\n",
              "\n",
              "    .dataframe thead th {\n",
              "        text-align: right;\n",
              "    }\n",
              "</style>\n",
              "<table border=\"1\" class=\"dataframe\">\n",
              "  <thead>\n",
              "    <tr style=\"text-align: right;\">\n",
              "      <th></th>\n",
              "      <th>HouseSqft</th>\n",
              "      <th>Taxes</th>\n",
              "      <th>Bedrooms</th>\n",
              "      <th>Bathrooms</th>\n",
              "      <th>LastSoldPrice</th>\n",
              "    </tr>\n",
              "  </thead>\n",
              "  <tbody>\n",
              "    <tr>\n",
              "      <th>0</th>\n",
              "      <td>1240.0</td>\n",
              "      <td>1360</td>\n",
              "      <td>3</td>\n",
              "      <td>2.0</td>\n",
              "      <td>145000</td>\n",
              "    </tr>\n",
              "    <tr>\n",
              "      <th>1</th>\n",
              "      <td>370.0</td>\n",
              "      <td>1050</td>\n",
              "      <td>1</td>\n",
              "      <td>1.0</td>\n",
              "      <td>68000</td>\n",
              "    </tr>\n",
              "    <tr>\n",
              "      <th>2</th>\n",
              "      <td>NaN</td>\n",
              "      <td>1010</td>\n",
              "      <td>3</td>\n",
              "      <td>1.5</td>\n",
              "      <td>115000</td>\n",
              "    </tr>\n",
              "    <tr>\n",
              "      <th>3</th>\n",
              "      <td>1120.0</td>\n",
              "      <td>830</td>\n",
              "      <td>3</td>\n",
              "      <td>2.0</td>\n",
              "      <td>69000</td>\n",
              "    </tr>\n",
              "    <tr>\n",
              "      <th>4</th>\n",
              "      <td>1710.0</td>\n",
              "      <td>2150</td>\n",
              "      <td>3</td>\n",
              "      <td>2.0</td>\n",
              "      <td>163000</td>\n",
              "    </tr>\n",
              "    <tr>\n",
              "      <th>...</th>\n",
              "      <td>...</td>\n",
              "      <td>...</td>\n",
              "      <td>...</td>\n",
              "      <td>...</td>\n",
              "      <td>...</td>\n",
              "    </tr>\n",
              "    <tr>\n",
              "      <th>95</th>\n",
              "      <td>1060.0</td>\n",
              "      <td>990</td>\n",
              "      <td>2</td>\n",
              "      <td>2.0</td>\n",
              "      <td>176000</td>\n",
              "    </tr>\n",
              "    <tr>\n",
              "      <th>96</th>\n",
              "      <td>1730.0</td>\n",
              "      <td>3030</td>\n",
              "      <td>3</td>\n",
              "      <td>2.0</td>\n",
              "      <td>196500</td>\n",
              "    </tr>\n",
              "    <tr>\n",
              "      <th>97</th>\n",
              "      <td>1370.0</td>\n",
              "      <td>1580</td>\n",
              "      <td>3</td>\n",
              "      <td>2.0</td>\n",
              "      <td>132200</td>\n",
              "    </tr>\n",
              "    <tr>\n",
              "      <th>98</th>\n",
              "      <td>1560.0</td>\n",
              "      <td>1770</td>\n",
              "      <td>3</td>\n",
              "      <td>2.0</td>\n",
              "      <td>88400</td>\n",
              "    </tr>\n",
              "    <tr>\n",
              "      <th>99</th>\n",
              "      <td>1340.0</td>\n",
              "      <td>1430</td>\n",
              "      <td>3</td>\n",
              "      <td>2.0</td>\n",
              "      <td>127200</td>\n",
              "    </tr>\n",
              "  </tbody>\n",
              "</table>\n",
              "<p>100 rows × 5 columns</p>\n",
              "</div>\n",
              "      <button class=\"colab-df-convert\" onclick=\"convertToInteractive('df-f8a3afe9-a047-4c81-bff6-f338a7ebdde3')\"\n",
              "              title=\"Convert this dataframe to an interactive table.\"\n",
              "              style=\"display:none;\">\n",
              "        \n",
              "  <svg xmlns=\"http://www.w3.org/2000/svg\" height=\"24px\"viewBox=\"0 0 24 24\"\n",
              "       width=\"24px\">\n",
              "    <path d=\"M0 0h24v24H0V0z\" fill=\"none\"/>\n",
              "    <path d=\"M18.56 5.44l.94 2.06.94-2.06 2.06-.94-2.06-.94-.94-2.06-.94 2.06-2.06.94zm-11 1L8.5 8.5l.94-2.06 2.06-.94-2.06-.94L8.5 2.5l-.94 2.06-2.06.94zm10 10l.94 2.06.94-2.06 2.06-.94-2.06-.94-.94-2.06-.94 2.06-2.06.94z\"/><path d=\"M17.41 7.96l-1.37-1.37c-.4-.4-.92-.59-1.43-.59-.52 0-1.04.2-1.43.59L10.3 9.45l-7.72 7.72c-.78.78-.78 2.05 0 2.83L4 21.41c.39.39.9.59 1.41.59.51 0 1.02-.2 1.41-.59l7.78-7.78 2.81-2.81c.8-.78.8-2.07 0-2.86zM5.41 20L4 18.59l7.72-7.72 1.47 1.35L5.41 20z\"/>\n",
              "  </svg>\n",
              "      </button>\n",
              "      \n",
              "  <style>\n",
              "    .colab-df-container {\n",
              "      display:flex;\n",
              "      flex-wrap:wrap;\n",
              "      gap: 12px;\n",
              "    }\n",
              "\n",
              "    .colab-df-convert {\n",
              "      background-color: #E8F0FE;\n",
              "      border: none;\n",
              "      border-radius: 50%;\n",
              "      cursor: pointer;\n",
              "      display: none;\n",
              "      fill: #1967D2;\n",
              "      height: 32px;\n",
              "      padding: 0 0 0 0;\n",
              "      width: 32px;\n",
              "    }\n",
              "\n",
              "    .colab-df-convert:hover {\n",
              "      background-color: #E2EBFA;\n",
              "      box-shadow: 0px 1px 2px rgba(60, 64, 67, 0.3), 0px 1px 3px 1px rgba(60, 64, 67, 0.15);\n",
              "      fill: #174EA6;\n",
              "    }\n",
              "\n",
              "    [theme=dark] .colab-df-convert {\n",
              "      background-color: #3B4455;\n",
              "      fill: #D2E3FC;\n",
              "    }\n",
              "\n",
              "    [theme=dark] .colab-df-convert:hover {\n",
              "      background-color: #434B5C;\n",
              "      box-shadow: 0px 1px 3px 1px rgba(0, 0, 0, 0.15);\n",
              "      filter: drop-shadow(0px 1px 2px rgba(0, 0, 0, 0.3));\n",
              "      fill: #FFFFFF;\n",
              "    }\n",
              "  </style>\n",
              "\n",
              "      <script>\n",
              "        const buttonEl =\n",
              "          document.querySelector('#df-f8a3afe9-a047-4c81-bff6-f338a7ebdde3 button.colab-df-convert');\n",
              "        buttonEl.style.display =\n",
              "          google.colab.kernel.accessAllowed ? 'block' : 'none';\n",
              "\n",
              "        async function convertToInteractive(key) {\n",
              "          const element = document.querySelector('#df-f8a3afe9-a047-4c81-bff6-f338a7ebdde3');\n",
              "          const dataTable =\n",
              "            await google.colab.kernel.invokeFunction('convertToInteractive',\n",
              "                                                     [key], {});\n",
              "          if (!dataTable) return;\n",
              "\n",
              "          const docLinkHtml = 'Like what you see? Visit the ' +\n",
              "            '<a target=\"_blank\" href=https://colab.research.google.com/notebooks/data_table.ipynb>data table notebook</a>'\n",
              "            + ' to learn more about interactive tables.';\n",
              "          element.innerHTML = '';\n",
              "          dataTable['output_type'] = 'display_data';\n",
              "          await google.colab.output.renderOutput(dataTable, element);\n",
              "          const docLink = document.createElement('div');\n",
              "          docLink.innerHTML = docLinkHtml;\n",
              "          element.appendChild(docLink);\n",
              "        }\n",
              "      </script>\n",
              "    </div>\n",
              "  </div>\n",
              "  "
            ]
          },
          "metadata": {},
          "execution_count": 4
        }
      ],
      "source": [
        "# read_csv() function from pandas is used while importing data from CSV files\n",
        "# read_csv() function imports the as a Dataframe object\n",
        "# Pandas has now become the industry norm while working with tabular data structures\n",
        "\n",
        "house = pd.read_csv(\"/content/HousePrices.csv\")\n",
        "house"
      ]
    },
    {
      "cell_type": "code",
      "execution_count": null,
      "metadata": {
        "id": "grUKc4M3Ozx6",
        "outputId": "6985ebea-b032-45ef-b398-9d639afc4b05",
        "colab": {
          "base_uri": "https://localhost:8080/",
          "height": 206
        }
      },
      "outputs": [
        {
          "output_type": "execute_result",
          "data": {
            "text/plain": [
              "   HouseSqft  Taxes  Bedrooms  Bathrooms  LastSoldPrice\n",
              "0     1240.0   1360         3        2.0         145000\n",
              "1      370.0   1050         1        1.0          68000\n",
              "2        NaN   1010         3        1.5         115000\n",
              "3     1120.0    830         3        2.0          69000\n",
              "4     1710.0   2150         3        2.0         163000"
            ],
            "text/html": [
              "\n",
              "  <div id=\"df-7286ea5c-8725-4c59-8f89-81737eb7cce1\">\n",
              "    <div class=\"colab-df-container\">\n",
              "      <div>\n",
              "<style scoped>\n",
              "    .dataframe tbody tr th:only-of-type {\n",
              "        vertical-align: middle;\n",
              "    }\n",
              "\n",
              "    .dataframe tbody tr th {\n",
              "        vertical-align: top;\n",
              "    }\n",
              "\n",
              "    .dataframe thead th {\n",
              "        text-align: right;\n",
              "    }\n",
              "</style>\n",
              "<table border=\"1\" class=\"dataframe\">\n",
              "  <thead>\n",
              "    <tr style=\"text-align: right;\">\n",
              "      <th></th>\n",
              "      <th>HouseSqft</th>\n",
              "      <th>Taxes</th>\n",
              "      <th>Bedrooms</th>\n",
              "      <th>Bathrooms</th>\n",
              "      <th>LastSoldPrice</th>\n",
              "    </tr>\n",
              "  </thead>\n",
              "  <tbody>\n",
              "    <tr>\n",
              "      <th>0</th>\n",
              "      <td>1240.0</td>\n",
              "      <td>1360</td>\n",
              "      <td>3</td>\n",
              "      <td>2.0</td>\n",
              "      <td>145000</td>\n",
              "    </tr>\n",
              "    <tr>\n",
              "      <th>1</th>\n",
              "      <td>370.0</td>\n",
              "      <td>1050</td>\n",
              "      <td>1</td>\n",
              "      <td>1.0</td>\n",
              "      <td>68000</td>\n",
              "    </tr>\n",
              "    <tr>\n",
              "      <th>2</th>\n",
              "      <td>NaN</td>\n",
              "      <td>1010</td>\n",
              "      <td>3</td>\n",
              "      <td>1.5</td>\n",
              "      <td>115000</td>\n",
              "    </tr>\n",
              "    <tr>\n",
              "      <th>3</th>\n",
              "      <td>1120.0</td>\n",
              "      <td>830</td>\n",
              "      <td>3</td>\n",
              "      <td>2.0</td>\n",
              "      <td>69000</td>\n",
              "    </tr>\n",
              "    <tr>\n",
              "      <th>4</th>\n",
              "      <td>1710.0</td>\n",
              "      <td>2150</td>\n",
              "      <td>3</td>\n",
              "      <td>2.0</td>\n",
              "      <td>163000</td>\n",
              "    </tr>\n",
              "  </tbody>\n",
              "</table>\n",
              "</div>\n",
              "      <button class=\"colab-df-convert\" onclick=\"convertToInteractive('df-7286ea5c-8725-4c59-8f89-81737eb7cce1')\"\n",
              "              title=\"Convert this dataframe to an interactive table.\"\n",
              "              style=\"display:none;\">\n",
              "        \n",
              "  <svg xmlns=\"http://www.w3.org/2000/svg\" height=\"24px\"viewBox=\"0 0 24 24\"\n",
              "       width=\"24px\">\n",
              "    <path d=\"M0 0h24v24H0V0z\" fill=\"none\"/>\n",
              "    <path d=\"M18.56 5.44l.94 2.06.94-2.06 2.06-.94-2.06-.94-.94-2.06-.94 2.06-2.06.94zm-11 1L8.5 8.5l.94-2.06 2.06-.94-2.06-.94L8.5 2.5l-.94 2.06-2.06.94zm10 10l.94 2.06.94-2.06 2.06-.94-2.06-.94-.94-2.06-.94 2.06-2.06.94z\"/><path d=\"M17.41 7.96l-1.37-1.37c-.4-.4-.92-.59-1.43-.59-.52 0-1.04.2-1.43.59L10.3 9.45l-7.72 7.72c-.78.78-.78 2.05 0 2.83L4 21.41c.39.39.9.59 1.41.59.51 0 1.02-.2 1.41-.59l7.78-7.78 2.81-2.81c.8-.78.8-2.07 0-2.86zM5.41 20L4 18.59l7.72-7.72 1.47 1.35L5.41 20z\"/>\n",
              "  </svg>\n",
              "      </button>\n",
              "      \n",
              "  <style>\n",
              "    .colab-df-container {\n",
              "      display:flex;\n",
              "      flex-wrap:wrap;\n",
              "      gap: 12px;\n",
              "    }\n",
              "\n",
              "    .colab-df-convert {\n",
              "      background-color: #E8F0FE;\n",
              "      border: none;\n",
              "      border-radius: 50%;\n",
              "      cursor: pointer;\n",
              "      display: none;\n",
              "      fill: #1967D2;\n",
              "      height: 32px;\n",
              "      padding: 0 0 0 0;\n",
              "      width: 32px;\n",
              "    }\n",
              "\n",
              "    .colab-df-convert:hover {\n",
              "      background-color: #E2EBFA;\n",
              "      box-shadow: 0px 1px 2px rgba(60, 64, 67, 0.3), 0px 1px 3px 1px rgba(60, 64, 67, 0.15);\n",
              "      fill: #174EA6;\n",
              "    }\n",
              "\n",
              "    [theme=dark] .colab-df-convert {\n",
              "      background-color: #3B4455;\n",
              "      fill: #D2E3FC;\n",
              "    }\n",
              "\n",
              "    [theme=dark] .colab-df-convert:hover {\n",
              "      background-color: #434B5C;\n",
              "      box-shadow: 0px 1px 3px 1px rgba(0, 0, 0, 0.15);\n",
              "      filter: drop-shadow(0px 1px 2px rgba(0, 0, 0, 0.3));\n",
              "      fill: #FFFFFF;\n",
              "    }\n",
              "  </style>\n",
              "\n",
              "      <script>\n",
              "        const buttonEl =\n",
              "          document.querySelector('#df-7286ea5c-8725-4c59-8f89-81737eb7cce1 button.colab-df-convert');\n",
              "        buttonEl.style.display =\n",
              "          google.colab.kernel.accessAllowed ? 'block' : 'none';\n",
              "\n",
              "        async function convertToInteractive(key) {\n",
              "          const element = document.querySelector('#df-7286ea5c-8725-4c59-8f89-81737eb7cce1');\n",
              "          const dataTable =\n",
              "            await google.colab.kernel.invokeFunction('convertToInteractive',\n",
              "                                                     [key], {});\n",
              "          if (!dataTable) return;\n",
              "\n",
              "          const docLinkHtml = 'Like what you see? Visit the ' +\n",
              "            '<a target=\"_blank\" href=https://colab.research.google.com/notebooks/data_table.ipynb>data table notebook</a>'\n",
              "            + ' to learn more about interactive tables.';\n",
              "          element.innerHTML = '';\n",
              "          dataTable['output_type'] = 'display_data';\n",
              "          await google.colab.output.renderOutput(dataTable, element);\n",
              "          const docLink = document.createElement('div');\n",
              "          docLink.innerHTML = docLinkHtml;\n",
              "          element.appendChild(docLink);\n",
              "        }\n",
              "      </script>\n",
              "    </div>\n",
              "  </div>\n",
              "  "
            ]
          },
          "metadata": {},
          "execution_count": 10
        }
      ],
      "source": [
        "# head() can used to explore the first 5 records of the dataframe (Indexing starts from 0)\n",
        "\n",
        "house.head()"
      ]
    },
    {
      "cell_type": "code",
      "execution_count": null,
      "metadata": {
        "id": "Ty4T7f9YOzx6"
      },
      "outputs": [],
      "source": [
        "# tail() can be used to explore the last 5 records of the dataframe (Indexing starts from 0)\n",
        "\n",
        "house.tail()"
      ]
    },
    {
      "cell_type": "code",
      "execution_count": null,
      "metadata": {
        "id": "2bY65URHOzx6",
        "outputId": "91ce8b54-6e3e-4e6a-8387-46ff335aad42",
        "colab": {
          "base_uri": "https://localhost:8080/",
          "height": 300
        }
      },
      "outputs": [
        {
          "output_type": "execute_result",
          "data": {
            "text/plain": [
              "         HouseSqft        Taxes    Bedrooms   Bathrooms  LastSoldPrice\n",
              "count    98.000000   100.000000  100.000000  100.000000     100.000000\n",
              "mean   1556.020408  1668.200000    2.990000    1.890000  126698.000000\n",
              "std     675.889242  1009.280552    0.658971    0.515321   56356.774718\n",
              "min     370.000000    20.000000    1.000000    1.000000   21000.000000\n",
              "25%    1177.500000   970.000000    3.000000    1.875000   86875.000000\n",
              "50%    1415.000000  1535.000000    3.000000    2.000000  123750.000000\n",
              "75%    1760.000000  2042.500000    3.000000    2.000000  153075.000000\n",
              "max    6050.000000  4900.000000    5.000000    3.000000  338000.000000"
            ],
            "text/html": [
              "\n",
              "  <div id=\"df-a5dde0b3-a8fc-4858-bdb3-14234b5f7a91\">\n",
              "    <div class=\"colab-df-container\">\n",
              "      <div>\n",
              "<style scoped>\n",
              "    .dataframe tbody tr th:only-of-type {\n",
              "        vertical-align: middle;\n",
              "    }\n",
              "\n",
              "    .dataframe tbody tr th {\n",
              "        vertical-align: top;\n",
              "    }\n",
              "\n",
              "    .dataframe thead th {\n",
              "        text-align: right;\n",
              "    }\n",
              "</style>\n",
              "<table border=\"1\" class=\"dataframe\">\n",
              "  <thead>\n",
              "    <tr style=\"text-align: right;\">\n",
              "      <th></th>\n",
              "      <th>HouseSqft</th>\n",
              "      <th>Taxes</th>\n",
              "      <th>Bedrooms</th>\n",
              "      <th>Bathrooms</th>\n",
              "      <th>LastSoldPrice</th>\n",
              "    </tr>\n",
              "  </thead>\n",
              "  <tbody>\n",
              "    <tr>\n",
              "      <th>count</th>\n",
              "      <td>98.000000</td>\n",
              "      <td>100.000000</td>\n",
              "      <td>100.000000</td>\n",
              "      <td>100.000000</td>\n",
              "      <td>100.000000</td>\n",
              "    </tr>\n",
              "    <tr>\n",
              "      <th>mean</th>\n",
              "      <td>1556.020408</td>\n",
              "      <td>1668.200000</td>\n",
              "      <td>2.990000</td>\n",
              "      <td>1.890000</td>\n",
              "      <td>126698.000000</td>\n",
              "    </tr>\n",
              "    <tr>\n",
              "      <th>std</th>\n",
              "      <td>675.889242</td>\n",
              "      <td>1009.280552</td>\n",
              "      <td>0.658971</td>\n",
              "      <td>0.515321</td>\n",
              "      <td>56356.774718</td>\n",
              "    </tr>\n",
              "    <tr>\n",
              "      <th>min</th>\n",
              "      <td>370.000000</td>\n",
              "      <td>20.000000</td>\n",
              "      <td>1.000000</td>\n",
              "      <td>1.000000</td>\n",
              "      <td>21000.000000</td>\n",
              "    </tr>\n",
              "    <tr>\n",
              "      <th>25%</th>\n",
              "      <td>1177.500000</td>\n",
              "      <td>970.000000</td>\n",
              "      <td>3.000000</td>\n",
              "      <td>1.875000</td>\n",
              "      <td>86875.000000</td>\n",
              "    </tr>\n",
              "    <tr>\n",
              "      <th>50%</th>\n",
              "      <td>1415.000000</td>\n",
              "      <td>1535.000000</td>\n",
              "      <td>3.000000</td>\n",
              "      <td>2.000000</td>\n",
              "      <td>123750.000000</td>\n",
              "    </tr>\n",
              "    <tr>\n",
              "      <th>75%</th>\n",
              "      <td>1760.000000</td>\n",
              "      <td>2042.500000</td>\n",
              "      <td>3.000000</td>\n",
              "      <td>2.000000</td>\n",
              "      <td>153075.000000</td>\n",
              "    </tr>\n",
              "    <tr>\n",
              "      <th>max</th>\n",
              "      <td>6050.000000</td>\n",
              "      <td>4900.000000</td>\n",
              "      <td>5.000000</td>\n",
              "      <td>3.000000</td>\n",
              "      <td>338000.000000</td>\n",
              "    </tr>\n",
              "  </tbody>\n",
              "</table>\n",
              "</div>\n",
              "      <button class=\"colab-df-convert\" onclick=\"convertToInteractive('df-a5dde0b3-a8fc-4858-bdb3-14234b5f7a91')\"\n",
              "              title=\"Convert this dataframe to an interactive table.\"\n",
              "              style=\"display:none;\">\n",
              "        \n",
              "  <svg xmlns=\"http://www.w3.org/2000/svg\" height=\"24px\"viewBox=\"0 0 24 24\"\n",
              "       width=\"24px\">\n",
              "    <path d=\"M0 0h24v24H0V0z\" fill=\"none\"/>\n",
              "    <path d=\"M18.56 5.44l.94 2.06.94-2.06 2.06-.94-2.06-.94-.94-2.06-.94 2.06-2.06.94zm-11 1L8.5 8.5l.94-2.06 2.06-.94-2.06-.94L8.5 2.5l-.94 2.06-2.06.94zm10 10l.94 2.06.94-2.06 2.06-.94-2.06-.94-.94-2.06-.94 2.06-2.06.94z\"/><path d=\"M17.41 7.96l-1.37-1.37c-.4-.4-.92-.59-1.43-.59-.52 0-1.04.2-1.43.59L10.3 9.45l-7.72 7.72c-.78.78-.78 2.05 0 2.83L4 21.41c.39.39.9.59 1.41.59.51 0 1.02-.2 1.41-.59l7.78-7.78 2.81-2.81c.8-.78.8-2.07 0-2.86zM5.41 20L4 18.59l7.72-7.72 1.47 1.35L5.41 20z\"/>\n",
              "  </svg>\n",
              "      </button>\n",
              "      \n",
              "  <style>\n",
              "    .colab-df-container {\n",
              "      display:flex;\n",
              "      flex-wrap:wrap;\n",
              "      gap: 12px;\n",
              "    }\n",
              "\n",
              "    .colab-df-convert {\n",
              "      background-color: #E8F0FE;\n",
              "      border: none;\n",
              "      border-radius: 50%;\n",
              "      cursor: pointer;\n",
              "      display: none;\n",
              "      fill: #1967D2;\n",
              "      height: 32px;\n",
              "      padding: 0 0 0 0;\n",
              "      width: 32px;\n",
              "    }\n",
              "\n",
              "    .colab-df-convert:hover {\n",
              "      background-color: #E2EBFA;\n",
              "      box-shadow: 0px 1px 2px rgba(60, 64, 67, 0.3), 0px 1px 3px 1px rgba(60, 64, 67, 0.15);\n",
              "      fill: #174EA6;\n",
              "    }\n",
              "\n",
              "    [theme=dark] .colab-df-convert {\n",
              "      background-color: #3B4455;\n",
              "      fill: #D2E3FC;\n",
              "    }\n",
              "\n",
              "    [theme=dark] .colab-df-convert:hover {\n",
              "      background-color: #434B5C;\n",
              "      box-shadow: 0px 1px 3px 1px rgba(0, 0, 0, 0.15);\n",
              "      filter: drop-shadow(0px 1px 2px rgba(0, 0, 0, 0.3));\n",
              "      fill: #FFFFFF;\n",
              "    }\n",
              "  </style>\n",
              "\n",
              "      <script>\n",
              "        const buttonEl =\n",
              "          document.querySelector('#df-a5dde0b3-a8fc-4858-bdb3-14234b5f7a91 button.colab-df-convert');\n",
              "        buttonEl.style.display =\n",
              "          google.colab.kernel.accessAllowed ? 'block' : 'none';\n",
              "\n",
              "        async function convertToInteractive(key) {\n",
              "          const element = document.querySelector('#df-a5dde0b3-a8fc-4858-bdb3-14234b5f7a91');\n",
              "          const dataTable =\n",
              "            await google.colab.kernel.invokeFunction('convertToInteractive',\n",
              "                                                     [key], {});\n",
              "          if (!dataTable) return;\n",
              "\n",
              "          const docLinkHtml = 'Like what you see? Visit the ' +\n",
              "            '<a target=\"_blank\" href=https://colab.research.google.com/notebooks/data_table.ipynb>data table notebook</a>'\n",
              "            + ' to learn more about interactive tables.';\n",
              "          element.innerHTML = '';\n",
              "          dataTable['output_type'] = 'display_data';\n",
              "          await google.colab.output.renderOutput(dataTable, element);\n",
              "          const docLink = document.createElement('div');\n",
              "          docLink.innerHTML = docLinkHtml;\n",
              "          element.appendChild(docLink);\n",
              "        }\n",
              "      </script>\n",
              "    </div>\n",
              "  </div>\n",
              "  "
            ]
          },
          "metadata": {},
          "execution_count": 11
        }
      ],
      "source": [
        "# The describe() method is used for calculating summary statistics such as \n",
        "# count, mean, percentiles and std of the numerical values of a Series or DataFrame\n",
        "\n",
        "house.describe()"
      ]
    },
    {
      "cell_type": "code",
      "execution_count": null,
      "metadata": {
        "id": "41X2FbcHOzx6",
        "outputId": "0b386afa-c0e5-4d7c-f5af-03177bb800ed",
        "colab": {
          "base_uri": "https://localhost:8080/"
        }
      },
      "outputs": [
        {
          "output_type": "stream",
          "name": "stdout",
          "text": [
            "<class 'pandas.core.frame.DataFrame'>\n",
            "RangeIndex: 100 entries, 0 to 99\n",
            "Data columns (total 5 columns):\n",
            " #   Column         Non-Null Count  Dtype  \n",
            "---  ------         --------------  -----  \n",
            " 0   HouseSqft      98 non-null     float64\n",
            " 1   Taxes          100 non-null    int64  \n",
            " 2   Bedrooms       100 non-null    int64  \n",
            " 3   Bathrooms      100 non-null    float64\n",
            " 4   LastSoldPrice  100 non-null    int64  \n",
            "dtypes: float64(2), int64(3)\n",
            "memory usage: 4.0 KB\n"
          ]
        }
      ],
      "source": [
        "# info() method prints information about a DataFrame including the index dtype and columns, non-null values, etc\n",
        "\n",
        "house.info()"
      ]
    },
    {
      "cell_type": "code",
      "execution_count": null,
      "metadata": {
        "id": "Wk9PwCmvOzx6"
      },
      "outputs": [],
      "source": []
    },
    {
      "cell_type": "markdown",
      "metadata": {
        "id": "4uOBvPGHOzx6"
      },
      "source": [
        "### Importing Data with read_excel()"
      ]
    },
    {
      "cell_type": "code",
      "execution_count": null,
      "metadata": {
        "id": "efzrnlTvOzx6"
      },
      "outputs": [],
      "source": [
        "# import Pandas library with the alias of \"pd\"\n",
        "import pandas as pd"
      ]
    },
    {
      "cell_type": "code",
      "execution_count": null,
      "metadata": {
        "id": "-7onoM8eOzx6",
        "outputId": "f1fd1ac9-da1d-4d30-bd05-395acd2b416e",
        "colab": {
          "base_uri": "https://localhost:8080/",
          "height": 206
        }
      },
      "outputs": [
        {
          "output_type": "execute_result",
          "data": {
            "text/plain": [
              "   CustomerID  Gender Partner Dependents  Tenure        Contract  \\\n",
              "0  0280-XJGEX    Male      No         No      49  Month-to-month   \n",
              "1  6865-JZNKO  Female      No         No      30  Month-to-month   \n",
              "2  7310-EGVHZ    Male      No         No       1  Month-to-month   \n",
              "3  3413-BMNZE    Male      No         No       1  Month-to-month   \n",
              "4  8168-UQWWF  Female      No         No      11  Month-to-month   \n",
              "\n",
              "  PaymentMethod  MonthlyCharges  TotalCharges Churn  \n",
              "0  Direct debit          103.70       5036.30   Yes  \n",
              "1  Direct debit           55.30       1530.60    No  \n",
              "2  Direct debit           20.20         20.20    No  \n",
              "3  Direct debit           45.25         45.25    No  \n",
              "4  Direct debit           97.85       1105.40   Yes  "
            ],
            "text/html": [
              "\n",
              "  <div id=\"df-434e71dc-5ef4-4cb0-8087-2db955f38417\">\n",
              "    <div class=\"colab-df-container\">\n",
              "      <div>\n",
              "<style scoped>\n",
              "    .dataframe tbody tr th:only-of-type {\n",
              "        vertical-align: middle;\n",
              "    }\n",
              "\n",
              "    .dataframe tbody tr th {\n",
              "        vertical-align: top;\n",
              "    }\n",
              "\n",
              "    .dataframe thead th {\n",
              "        text-align: right;\n",
              "    }\n",
              "</style>\n",
              "<table border=\"1\" class=\"dataframe\">\n",
              "  <thead>\n",
              "    <tr style=\"text-align: right;\">\n",
              "      <th></th>\n",
              "      <th>CustomerID</th>\n",
              "      <th>Gender</th>\n",
              "      <th>Partner</th>\n",
              "      <th>Dependents</th>\n",
              "      <th>Tenure</th>\n",
              "      <th>Contract</th>\n",
              "      <th>PaymentMethod</th>\n",
              "      <th>MonthlyCharges</th>\n",
              "      <th>TotalCharges</th>\n",
              "      <th>Churn</th>\n",
              "    </tr>\n",
              "  </thead>\n",
              "  <tbody>\n",
              "    <tr>\n",
              "      <th>0</th>\n",
              "      <td>0280-XJGEX</td>\n",
              "      <td>Male</td>\n",
              "      <td>No</td>\n",
              "      <td>No</td>\n",
              "      <td>49</td>\n",
              "      <td>Month-to-month</td>\n",
              "      <td>Direct debit</td>\n",
              "      <td>103.70</td>\n",
              "      <td>5036.30</td>\n",
              "      <td>Yes</td>\n",
              "    </tr>\n",
              "    <tr>\n",
              "      <th>1</th>\n",
              "      <td>6865-JZNKO</td>\n",
              "      <td>Female</td>\n",
              "      <td>No</td>\n",
              "      <td>No</td>\n",
              "      <td>30</td>\n",
              "      <td>Month-to-month</td>\n",
              "      <td>Direct debit</td>\n",
              "      <td>55.30</td>\n",
              "      <td>1530.60</td>\n",
              "      <td>No</td>\n",
              "    </tr>\n",
              "    <tr>\n",
              "      <th>2</th>\n",
              "      <td>7310-EGVHZ</td>\n",
              "      <td>Male</td>\n",
              "      <td>No</td>\n",
              "      <td>No</td>\n",
              "      <td>1</td>\n",
              "      <td>Month-to-month</td>\n",
              "      <td>Direct debit</td>\n",
              "      <td>20.20</td>\n",
              "      <td>20.20</td>\n",
              "      <td>No</td>\n",
              "    </tr>\n",
              "    <tr>\n",
              "      <th>3</th>\n",
              "      <td>3413-BMNZE</td>\n",
              "      <td>Male</td>\n",
              "      <td>No</td>\n",
              "      <td>No</td>\n",
              "      <td>1</td>\n",
              "      <td>Month-to-month</td>\n",
              "      <td>Direct debit</td>\n",
              "      <td>45.25</td>\n",
              "      <td>45.25</td>\n",
              "      <td>No</td>\n",
              "    </tr>\n",
              "    <tr>\n",
              "      <th>4</th>\n",
              "      <td>8168-UQWWF</td>\n",
              "      <td>Female</td>\n",
              "      <td>No</td>\n",
              "      <td>No</td>\n",
              "      <td>11</td>\n",
              "      <td>Month-to-month</td>\n",
              "      <td>Direct debit</td>\n",
              "      <td>97.85</td>\n",
              "      <td>1105.40</td>\n",
              "      <td>Yes</td>\n",
              "    </tr>\n",
              "  </tbody>\n",
              "</table>\n",
              "</div>\n",
              "      <button class=\"colab-df-convert\" onclick=\"convertToInteractive('df-434e71dc-5ef4-4cb0-8087-2db955f38417')\"\n",
              "              title=\"Convert this dataframe to an interactive table.\"\n",
              "              style=\"display:none;\">\n",
              "        \n",
              "  <svg xmlns=\"http://www.w3.org/2000/svg\" height=\"24px\"viewBox=\"0 0 24 24\"\n",
              "       width=\"24px\">\n",
              "    <path d=\"M0 0h24v24H0V0z\" fill=\"none\"/>\n",
              "    <path d=\"M18.56 5.44l.94 2.06.94-2.06 2.06-.94-2.06-.94-.94-2.06-.94 2.06-2.06.94zm-11 1L8.5 8.5l.94-2.06 2.06-.94-2.06-.94L8.5 2.5l-.94 2.06-2.06.94zm10 10l.94 2.06.94-2.06 2.06-.94-2.06-.94-.94-2.06-.94 2.06-2.06.94z\"/><path d=\"M17.41 7.96l-1.37-1.37c-.4-.4-.92-.59-1.43-.59-.52 0-1.04.2-1.43.59L10.3 9.45l-7.72 7.72c-.78.78-.78 2.05 0 2.83L4 21.41c.39.39.9.59 1.41.59.51 0 1.02-.2 1.41-.59l7.78-7.78 2.81-2.81c.8-.78.8-2.07 0-2.86zM5.41 20L4 18.59l7.72-7.72 1.47 1.35L5.41 20z\"/>\n",
              "  </svg>\n",
              "      </button>\n",
              "      \n",
              "  <style>\n",
              "    .colab-df-container {\n",
              "      display:flex;\n",
              "      flex-wrap:wrap;\n",
              "      gap: 12px;\n",
              "    }\n",
              "\n",
              "    .colab-df-convert {\n",
              "      background-color: #E8F0FE;\n",
              "      border: none;\n",
              "      border-radius: 50%;\n",
              "      cursor: pointer;\n",
              "      display: none;\n",
              "      fill: #1967D2;\n",
              "      height: 32px;\n",
              "      padding: 0 0 0 0;\n",
              "      width: 32px;\n",
              "    }\n",
              "\n",
              "    .colab-df-convert:hover {\n",
              "      background-color: #E2EBFA;\n",
              "      box-shadow: 0px 1px 2px rgba(60, 64, 67, 0.3), 0px 1px 3px 1px rgba(60, 64, 67, 0.15);\n",
              "      fill: #174EA6;\n",
              "    }\n",
              "\n",
              "    [theme=dark] .colab-df-convert {\n",
              "      background-color: #3B4455;\n",
              "      fill: #D2E3FC;\n",
              "    }\n",
              "\n",
              "    [theme=dark] .colab-df-convert:hover {\n",
              "      background-color: #434B5C;\n",
              "      box-shadow: 0px 1px 3px 1px rgba(0, 0, 0, 0.15);\n",
              "      filter: drop-shadow(0px 1px 2px rgba(0, 0, 0, 0.3));\n",
              "      fill: #FFFFFF;\n",
              "    }\n",
              "  </style>\n",
              "\n",
              "      <script>\n",
              "        const buttonEl =\n",
              "          document.querySelector('#df-434e71dc-5ef4-4cb0-8087-2db955f38417 button.colab-df-convert');\n",
              "        buttonEl.style.display =\n",
              "          google.colab.kernel.accessAllowed ? 'block' : 'none';\n",
              "\n",
              "        async function convertToInteractive(key) {\n",
              "          const element = document.querySelector('#df-434e71dc-5ef4-4cb0-8087-2db955f38417');\n",
              "          const dataTable =\n",
              "            await google.colab.kernel.invokeFunction('convertToInteractive',\n",
              "                                                     [key], {});\n",
              "          if (!dataTable) return;\n",
              "\n",
              "          const docLinkHtml = 'Like what you see? Visit the ' +\n",
              "            '<a target=\"_blank\" href=https://colab.research.google.com/notebooks/data_table.ipynb>data table notebook</a>'\n",
              "            + ' to learn more about interactive tables.';\n",
              "          element.innerHTML = '';\n",
              "          dataTable['output_type'] = 'display_data';\n",
              "          await google.colab.output.renderOutput(dataTable, element);\n",
              "          const docLink = document.createElement('div');\n",
              "          docLink.innerHTML = docLinkHtml;\n",
              "          element.appendChild(docLink);\n",
              "        }\n",
              "      </script>\n",
              "    </div>\n",
              "  </div>\n",
              "  "
            ]
          },
          "metadata": {},
          "execution_count": 16
        }
      ],
      "source": [
        "# read_excel() function from pandas is used while importing data from excel files\n",
        "# read_excel() function imports the as a Dataframe object\n",
        "# Pandas has now become the industry norm while working with tabular data structures\n",
        "\n",
        "churn = pd.read_excel(\"/content/DataAnalystModule5/Module 5/Day1_and_2/PythonScripts/Telco Customer Churn - Training Dataset.xlsx\", sheet_name=\"Telco Customer Churn\")\n",
        "churn.head()"
      ]
    },
    {
      "cell_type": "code",
      "execution_count": null,
      "metadata": {
        "id": "zLIF1WO4Ozx6",
        "outputId": "a07e066c-46e7-435d-ad10-3ecbd478cebf",
        "colab": {
          "base_uri": "https://localhost:8080/",
          "height": 300
        }
      },
      "outputs": [
        {
          "output_type": "execute_result",
          "data": {
            "text/plain": [
              "            Tenure  MonthlyCharges  TotalCharges\n",
              "count  3066.000000     3066.000000   3066.000000\n",
              "mean     43.465427       66.854958   3072.428066\n",
              "std      23.263543       30.580523   2382.837941\n",
              "min       1.000000       18.250000     19.250000\n",
              "25%      23.000000       40.112500   1013.962500\n",
              "50%      48.000000       73.025000   2457.600000\n",
              "75%      66.000000       91.700000   4976.150000\n",
              "max      72.000000      118.750000   8684.800000"
            ],
            "text/html": [
              "\n",
              "  <div id=\"df-8796c222-c7e8-4c7b-bdad-5872ab6d780d\">\n",
              "    <div class=\"colab-df-container\">\n",
              "      <div>\n",
              "<style scoped>\n",
              "    .dataframe tbody tr th:only-of-type {\n",
              "        vertical-align: middle;\n",
              "    }\n",
              "\n",
              "    .dataframe tbody tr th {\n",
              "        vertical-align: top;\n",
              "    }\n",
              "\n",
              "    .dataframe thead th {\n",
              "        text-align: right;\n",
              "    }\n",
              "</style>\n",
              "<table border=\"1\" class=\"dataframe\">\n",
              "  <thead>\n",
              "    <tr style=\"text-align: right;\">\n",
              "      <th></th>\n",
              "      <th>Tenure</th>\n",
              "      <th>MonthlyCharges</th>\n",
              "      <th>TotalCharges</th>\n",
              "    </tr>\n",
              "  </thead>\n",
              "  <tbody>\n",
              "    <tr>\n",
              "      <th>count</th>\n",
              "      <td>3066.000000</td>\n",
              "      <td>3066.000000</td>\n",
              "      <td>3066.000000</td>\n",
              "    </tr>\n",
              "    <tr>\n",
              "      <th>mean</th>\n",
              "      <td>43.465427</td>\n",
              "      <td>66.854958</td>\n",
              "      <td>3072.428066</td>\n",
              "    </tr>\n",
              "    <tr>\n",
              "      <th>std</th>\n",
              "      <td>23.263543</td>\n",
              "      <td>30.580523</td>\n",
              "      <td>2382.837941</td>\n",
              "    </tr>\n",
              "    <tr>\n",
              "      <th>min</th>\n",
              "      <td>1.000000</td>\n",
              "      <td>18.250000</td>\n",
              "      <td>19.250000</td>\n",
              "    </tr>\n",
              "    <tr>\n",
              "      <th>25%</th>\n",
              "      <td>23.000000</td>\n",
              "      <td>40.112500</td>\n",
              "      <td>1013.962500</td>\n",
              "    </tr>\n",
              "    <tr>\n",
              "      <th>50%</th>\n",
              "      <td>48.000000</td>\n",
              "      <td>73.025000</td>\n",
              "      <td>2457.600000</td>\n",
              "    </tr>\n",
              "    <tr>\n",
              "      <th>75%</th>\n",
              "      <td>66.000000</td>\n",
              "      <td>91.700000</td>\n",
              "      <td>4976.150000</td>\n",
              "    </tr>\n",
              "    <tr>\n",
              "      <th>max</th>\n",
              "      <td>72.000000</td>\n",
              "      <td>118.750000</td>\n",
              "      <td>8684.800000</td>\n",
              "    </tr>\n",
              "  </tbody>\n",
              "</table>\n",
              "</div>\n",
              "      <button class=\"colab-df-convert\" onclick=\"convertToInteractive('df-8796c222-c7e8-4c7b-bdad-5872ab6d780d')\"\n",
              "              title=\"Convert this dataframe to an interactive table.\"\n",
              "              style=\"display:none;\">\n",
              "        \n",
              "  <svg xmlns=\"http://www.w3.org/2000/svg\" height=\"24px\"viewBox=\"0 0 24 24\"\n",
              "       width=\"24px\">\n",
              "    <path d=\"M0 0h24v24H0V0z\" fill=\"none\"/>\n",
              "    <path d=\"M18.56 5.44l.94 2.06.94-2.06 2.06-.94-2.06-.94-.94-2.06-.94 2.06-2.06.94zm-11 1L8.5 8.5l.94-2.06 2.06-.94-2.06-.94L8.5 2.5l-.94 2.06-2.06.94zm10 10l.94 2.06.94-2.06 2.06-.94-2.06-.94-.94-2.06-.94 2.06-2.06.94z\"/><path d=\"M17.41 7.96l-1.37-1.37c-.4-.4-.92-.59-1.43-.59-.52 0-1.04.2-1.43.59L10.3 9.45l-7.72 7.72c-.78.78-.78 2.05 0 2.83L4 21.41c.39.39.9.59 1.41.59.51 0 1.02-.2 1.41-.59l7.78-7.78 2.81-2.81c.8-.78.8-2.07 0-2.86zM5.41 20L4 18.59l7.72-7.72 1.47 1.35L5.41 20z\"/>\n",
              "  </svg>\n",
              "      </button>\n",
              "      \n",
              "  <style>\n",
              "    .colab-df-container {\n",
              "      display:flex;\n",
              "      flex-wrap:wrap;\n",
              "      gap: 12px;\n",
              "    }\n",
              "\n",
              "    .colab-df-convert {\n",
              "      background-color: #E8F0FE;\n",
              "      border: none;\n",
              "      border-radius: 50%;\n",
              "      cursor: pointer;\n",
              "      display: none;\n",
              "      fill: #1967D2;\n",
              "      height: 32px;\n",
              "      padding: 0 0 0 0;\n",
              "      width: 32px;\n",
              "    }\n",
              "\n",
              "    .colab-df-convert:hover {\n",
              "      background-color: #E2EBFA;\n",
              "      box-shadow: 0px 1px 2px rgba(60, 64, 67, 0.3), 0px 1px 3px 1px rgba(60, 64, 67, 0.15);\n",
              "      fill: #174EA6;\n",
              "    }\n",
              "\n",
              "    [theme=dark] .colab-df-convert {\n",
              "      background-color: #3B4455;\n",
              "      fill: #D2E3FC;\n",
              "    }\n",
              "\n",
              "    [theme=dark] .colab-df-convert:hover {\n",
              "      background-color: #434B5C;\n",
              "      box-shadow: 0px 1px 3px 1px rgba(0, 0, 0, 0.15);\n",
              "      filter: drop-shadow(0px 1px 2px rgba(0, 0, 0, 0.3));\n",
              "      fill: #FFFFFF;\n",
              "    }\n",
              "  </style>\n",
              "\n",
              "      <script>\n",
              "        const buttonEl =\n",
              "          document.querySelector('#df-8796c222-c7e8-4c7b-bdad-5872ab6d780d button.colab-df-convert');\n",
              "        buttonEl.style.display =\n",
              "          google.colab.kernel.accessAllowed ? 'block' : 'none';\n",
              "\n",
              "        async function convertToInteractive(key) {\n",
              "          const element = document.querySelector('#df-8796c222-c7e8-4c7b-bdad-5872ab6d780d');\n",
              "          const dataTable =\n",
              "            await google.colab.kernel.invokeFunction('convertToInteractive',\n",
              "                                                     [key], {});\n",
              "          if (!dataTable) return;\n",
              "\n",
              "          const docLinkHtml = 'Like what you see? Visit the ' +\n",
              "            '<a target=\"_blank\" href=https://colab.research.google.com/notebooks/data_table.ipynb>data table notebook</a>'\n",
              "            + ' to learn more about interactive tables.';\n",
              "          element.innerHTML = '';\n",
              "          dataTable['output_type'] = 'display_data';\n",
              "          await google.colab.output.renderOutput(dataTable, element);\n",
              "          const docLink = document.createElement('div');\n",
              "          docLink.innerHTML = docLinkHtml;\n",
              "          element.appendChild(docLink);\n",
              "        }\n",
              "      </script>\n",
              "    </div>\n",
              "  </div>\n",
              "  "
            ]
          },
          "metadata": {},
          "execution_count": 17
        }
      ],
      "source": [
        "churn.describe()"
      ]
    },
    {
      "cell_type": "code",
      "execution_count": null,
      "metadata": {
        "id": "5tOiz_tQOzx7",
        "outputId": "dfc81a69-f15b-4806-b58e-e44b2f77d715",
        "colab": {
          "base_uri": "https://localhost:8080/"
        }
      },
      "outputs": [
        {
          "output_type": "stream",
          "name": "stdout",
          "text": [
            "<class 'pandas.core.frame.DataFrame'>\n",
            "RangeIndex: 3066 entries, 0 to 3065\n",
            "Data columns (total 10 columns):\n",
            " #   Column          Non-Null Count  Dtype  \n",
            "---  ------          --------------  -----  \n",
            " 0   CustomerID      3066 non-null   object \n",
            " 1   Gender          3066 non-null   object \n",
            " 2   Partner         3066 non-null   object \n",
            " 3   Dependents      3066 non-null   object \n",
            " 4   Tenure          3066 non-null   int64  \n",
            " 5   Contract        3066 non-null   object \n",
            " 6   PaymentMethod   3066 non-null   object \n",
            " 7   MonthlyCharges  3066 non-null   float64\n",
            " 8   TotalCharges    3066 non-null   float64\n",
            " 9   Churn           3066 non-null   object \n",
            "dtypes: float64(2), int64(1), object(7)\n",
            "memory usage: 239.7+ KB\n"
          ]
        }
      ],
      "source": [
        "churn.info()"
      ]
    },
    {
      "cell_type": "code",
      "execution_count": null,
      "metadata": {
        "id": "YoAHsANMOzx7"
      },
      "outputs": [],
      "source": []
    },
    {
      "cell_type": "markdown",
      "metadata": {
        "id": "2modfG2GOzx7"
      },
      "source": [
        "#### Question\n",
        "\n",
        " - Write down the code to import **\"Superstore.xlsx\"**\n",
        " - Save the Dataframe as **\"superstore\"**\n",
        " - Display the first 8 rows in the **\"superstore\"** dataset\n",
        " - Explore the **\"superstore\"** dataset by using describe() and info()"
      ]
    },
    {
      "cell_type": "code",
      "execution_count": null,
      "metadata": {
        "scrolled": true,
        "id": "WwkhTiRWOzx7"
      },
      "outputs": [],
      "source": [
        "# Write down the answer here:\n",
        "\n",
        "# importing superstore dataset\n",
        "\n",
        "# display the first 8 rows in the \"superstore\" dataset\n"
      ]
    },
    {
      "cell_type": "code",
      "execution_count": null,
      "metadata": {
        "id": "iTL0dkhoOzx7"
      },
      "outputs": [],
      "source": []
    },
    {
      "cell_type": "markdown",
      "metadata": {
        "id": "WaLMAt-ZOzx7"
      },
      "source": [
        "### Pandas groupby() method"
      ]
    },
    {
      "cell_type": "markdown",
      "metadata": {
        "id": "MkMEM1XVOzx7"
      },
      "source": [
        "| Function | Description   |\n",
        "|:- |:- |\n",
        "|count\t|Number of non-null observations|\n",
        "|sum\t|Sum of values|\n",
        "|mean\t|Mean of values|\n",
        "|mad\t|Mean absolute deviation|\n",
        "|median\t|Arithmetic median of values|\n",
        "|min\t|Minimum|\n",
        "|max\t|Maximum|\n",
        "|mode\t|Mode|\n",
        "|abs\t|Absolute Value|\n",
        "|prod\t|Product of values|\n",
        "|std\t|Unbiased standard deviation|\n",
        "|var\t|Unbiased variance|\n",
        "|sem\t|Unbiased standard error of the mean|\n",
        "|skew\t|Unbiased skewness (3rd moment)|\n",
        "|kurt\t|Unbiased kurtosis (4th moment)|\n",
        "|quantile\t|Sample quantile (value at %)|\n",
        "|cumsum\t|Cumulative sum|\n",
        "|cumprod\t|Cumulative product|\n",
        "|cummax\t|Cumulative maximum|\n",
        "|cummin\t|Cumulative minimum|\n",
        "\n",
        "<br><br>\n",
        "\n",
        "#### Some useful reference:\n",
        "\n",
        "[Pandas groupby() info](https://pandas.pydata.org/pandas-docs/stable/user_guide/basics.html#descriptive-statistics)"
      ]
    },
    {
      "cell_type": "code",
      "execution_count": null,
      "metadata": {
        "id": "pPL6OakUOzx7"
      },
      "outputs": [],
      "source": []
    },
    {
      "cell_type": "code",
      "execution_count": null,
      "metadata": {
        "id": "NjgoV_9IOzx7"
      },
      "outputs": [],
      "source": [
        "# import Pandas library with the alias of \"pd\"\n",
        "import pandas as pd\n",
        "\n",
        "# Let's use the churn dataset\n",
        "churn = pd.read_excel(\"Telco Customer Churn - Training Dataset.xlsx\", sheet_name=\"Telco Customer Churn\")\n",
        "churn.head()"
      ]
    },
    {
      "cell_type": "code",
      "execution_count": null,
      "metadata": {
        "id": "qaZBgWPdOzx7"
      },
      "outputs": [],
      "source": [
        "# groupby() method can be used to group large amounts of data and compute operations on these groups\n",
        "\n",
        "churn.groupby(by=\"Gender\").count()"
      ]
    },
    {
      "cell_type": "code",
      "execution_count": null,
      "metadata": {
        "id": "ONDYTvtqOzx7"
      },
      "outputs": [],
      "source": [
        "# groupby() method can be used to group large amounts of data and compute operations on these groups\n",
        "\n",
        "churn.groupby(by=\"Gender\").mean()"
      ]
    },
    {
      "cell_type": "code",
      "execution_count": null,
      "metadata": {
        "scrolled": true,
        "id": "RoKKHSqKOzx7",
        "outputId": "38d62864-4208-4d10-d30d-fb5211eb4969",
        "colab": {
          "base_uri": "https://localhost:8080/",
          "height": 198
        }
      },
      "outputs": [
        {
          "output_type": "stream",
          "name": "stderr",
          "text": [
            "<ipython-input-19-3bc198f5606b>:3: FutureWarning: The default value of numeric_only in DataFrameGroupBy.median is deprecated. In a future version, numeric_only will default to False. Either specify numeric_only or select only columns which should be valid for the function.\n",
            "  churn.groupby(by=\"Gender\").median()\n"
          ]
        },
        {
          "output_type": "execute_result",
          "data": {
            "text/plain": [
              "        Tenure  MonthlyCharges  TotalCharges\n",
              "Gender                                      \n",
              "Female    48.0           74.25      2465.175\n",
              "Male      48.0           71.20      2435.275"
            ],
            "text/html": [
              "\n",
              "  <div id=\"df-0d9352ca-501f-4af8-92a5-2260f61d68b4\">\n",
              "    <div class=\"colab-df-container\">\n",
              "      <div>\n",
              "<style scoped>\n",
              "    .dataframe tbody tr th:only-of-type {\n",
              "        vertical-align: middle;\n",
              "    }\n",
              "\n",
              "    .dataframe tbody tr th {\n",
              "        vertical-align: top;\n",
              "    }\n",
              "\n",
              "    .dataframe thead th {\n",
              "        text-align: right;\n",
              "    }\n",
              "</style>\n",
              "<table border=\"1\" class=\"dataframe\">\n",
              "  <thead>\n",
              "    <tr style=\"text-align: right;\">\n",
              "      <th></th>\n",
              "      <th>Tenure</th>\n",
              "      <th>MonthlyCharges</th>\n",
              "      <th>TotalCharges</th>\n",
              "    </tr>\n",
              "    <tr>\n",
              "      <th>Gender</th>\n",
              "      <th></th>\n",
              "      <th></th>\n",
              "      <th></th>\n",
              "    </tr>\n",
              "  </thead>\n",
              "  <tbody>\n",
              "    <tr>\n",
              "      <th>Female</th>\n",
              "      <td>48.0</td>\n",
              "      <td>74.25</td>\n",
              "      <td>2465.175</td>\n",
              "    </tr>\n",
              "    <tr>\n",
              "      <th>Male</th>\n",
              "      <td>48.0</td>\n",
              "      <td>71.20</td>\n",
              "      <td>2435.275</td>\n",
              "    </tr>\n",
              "  </tbody>\n",
              "</table>\n",
              "</div>\n",
              "      <button class=\"colab-df-convert\" onclick=\"convertToInteractive('df-0d9352ca-501f-4af8-92a5-2260f61d68b4')\"\n",
              "              title=\"Convert this dataframe to an interactive table.\"\n",
              "              style=\"display:none;\">\n",
              "        \n",
              "  <svg xmlns=\"http://www.w3.org/2000/svg\" height=\"24px\"viewBox=\"0 0 24 24\"\n",
              "       width=\"24px\">\n",
              "    <path d=\"M0 0h24v24H0V0z\" fill=\"none\"/>\n",
              "    <path d=\"M18.56 5.44l.94 2.06.94-2.06 2.06-.94-2.06-.94-.94-2.06-.94 2.06-2.06.94zm-11 1L8.5 8.5l.94-2.06 2.06-.94-2.06-.94L8.5 2.5l-.94 2.06-2.06.94zm10 10l.94 2.06.94-2.06 2.06-.94-2.06-.94-.94-2.06-.94 2.06-2.06.94z\"/><path d=\"M17.41 7.96l-1.37-1.37c-.4-.4-.92-.59-1.43-.59-.52 0-1.04.2-1.43.59L10.3 9.45l-7.72 7.72c-.78.78-.78 2.05 0 2.83L4 21.41c.39.39.9.59 1.41.59.51 0 1.02-.2 1.41-.59l7.78-7.78 2.81-2.81c.8-.78.8-2.07 0-2.86zM5.41 20L4 18.59l7.72-7.72 1.47 1.35L5.41 20z\"/>\n",
              "  </svg>\n",
              "      </button>\n",
              "      \n",
              "  <style>\n",
              "    .colab-df-container {\n",
              "      display:flex;\n",
              "      flex-wrap:wrap;\n",
              "      gap: 12px;\n",
              "    }\n",
              "\n",
              "    .colab-df-convert {\n",
              "      background-color: #E8F0FE;\n",
              "      border: none;\n",
              "      border-radius: 50%;\n",
              "      cursor: pointer;\n",
              "      display: none;\n",
              "      fill: #1967D2;\n",
              "      height: 32px;\n",
              "      padding: 0 0 0 0;\n",
              "      width: 32px;\n",
              "    }\n",
              "\n",
              "    .colab-df-convert:hover {\n",
              "      background-color: #E2EBFA;\n",
              "      box-shadow: 0px 1px 2px rgba(60, 64, 67, 0.3), 0px 1px 3px 1px rgba(60, 64, 67, 0.15);\n",
              "      fill: #174EA6;\n",
              "    }\n",
              "\n",
              "    [theme=dark] .colab-df-convert {\n",
              "      background-color: #3B4455;\n",
              "      fill: #D2E3FC;\n",
              "    }\n",
              "\n",
              "    [theme=dark] .colab-df-convert:hover {\n",
              "      background-color: #434B5C;\n",
              "      box-shadow: 0px 1px 3px 1px rgba(0, 0, 0, 0.15);\n",
              "      filter: drop-shadow(0px 1px 2px rgba(0, 0, 0, 0.3));\n",
              "      fill: #FFFFFF;\n",
              "    }\n",
              "  </style>\n",
              "\n",
              "      <script>\n",
              "        const buttonEl =\n",
              "          document.querySelector('#df-0d9352ca-501f-4af8-92a5-2260f61d68b4 button.colab-df-convert');\n",
              "        buttonEl.style.display =\n",
              "          google.colab.kernel.accessAllowed ? 'block' : 'none';\n",
              "\n",
              "        async function convertToInteractive(key) {\n",
              "          const element = document.querySelector('#df-0d9352ca-501f-4af8-92a5-2260f61d68b4');\n",
              "          const dataTable =\n",
              "            await google.colab.kernel.invokeFunction('convertToInteractive',\n",
              "                                                     [key], {});\n",
              "          if (!dataTable) return;\n",
              "\n",
              "          const docLinkHtml = 'Like what you see? Visit the ' +\n",
              "            '<a target=\"_blank\" href=https://colab.research.google.com/notebooks/data_table.ipynb>data table notebook</a>'\n",
              "            + ' to learn more about interactive tables.';\n",
              "          element.innerHTML = '';\n",
              "          dataTable['output_type'] = 'display_data';\n",
              "          await google.colab.output.renderOutput(dataTable, element);\n",
              "          const docLink = document.createElement('div');\n",
              "          docLink.innerHTML = docLinkHtml;\n",
              "          element.appendChild(docLink);\n",
              "        }\n",
              "      </script>\n",
              "    </div>\n",
              "  </div>\n",
              "  "
            ]
          },
          "metadata": {},
          "execution_count": 19
        }
      ],
      "source": [
        "# groupby() method can be used to group large amounts of data and compute operations on these groups\n",
        "\n",
        "churn.groupby(by=\"Gender\").median()"
      ]
    },
    {
      "cell_type": "code",
      "execution_count": null,
      "metadata": {
        "id": "PrBWxSrbOzx7"
      },
      "outputs": [],
      "source": [
        "# Grouping by multiple columns\n",
        "# To extend groupby() to work with multiple grouping variables, \n",
        "# pass a list of column names to groupby() instead of a single string value\n",
        "\n",
        "churn.groupby(by=[\"Gender\",\"PaymentMethod\"]).median()"
      ]
    },
    {
      "cell_type": "code",
      "execution_count": null,
      "metadata": {
        "id": "PlHhOtX7Ozx7"
      },
      "outputs": [],
      "source": [
        "# The aggregation functionality provided by the agg() function allows multiple statistics to be calculated. \n",
        "# Instructions for aggregation are provided in the form of a python dictionary. \n",
        "# The dictionary keys are used to specify the columns upon which you would like to perform calculations, \n",
        "# and the dictionary values to specify the function to run (mean, min, max, etc)\n",
        "\n",
        "# agg() function example1\n",
        "\n",
        "churn.groupby(by=[\"Gender\",\"PaymentMethod\"]).agg({\"MonthlyCharges\": ['mean', 'min', 'max']})"
      ]
    },
    {
      "cell_type": "code",
      "execution_count": null,
      "metadata": {
        "id": "MW4Cyz9_Ozx8"
      },
      "outputs": [],
      "source": [
        "# agg() function example2\n",
        "\n",
        "churn.groupby(by=[\"Gender\",\"PaymentMethod\"]).agg({\"MonthlyCharges\": ['mean', 'min', 'max'], \"TotalCharges\": ['mean', 'min', 'max']})"
      ]
    },
    {
      "cell_type": "code",
      "execution_count": null,
      "metadata": {
        "id": "Z8-GZ6mWOzx8"
      },
      "outputs": [],
      "source": []
    },
    {
      "cell_type": "markdown",
      "metadata": {
        "id": "kIX0kheUOzx8"
      },
      "source": [
        "#### Question\n",
        "\n",
        " - Refer to the **churn** dataset\n",
        " - Group the data by **\"Contract\"**, **\"Churn\"**, **\"Gender\"**, and calculate count, mean, median and for **\"MonthlyCharges\"** and **\"TotalCharges\"**\n"
      ]
    },
    {
      "cell_type": "code",
      "execution_count": null,
      "metadata": {
        "id": "YEFiXUAiOzx8"
      },
      "outputs": [],
      "source": [
        "# import Pandas library with the alias of \"pd\"\n",
        "import pandas as pd\n",
        "\n",
        "# churn dataset\n",
        "churn = pd.read_excel(\"Telco Customer Churn - Training Dataset.xlsx\", sheet_name=\"Telco Customer Churn\")\n",
        "churn.head()"
      ]
    },
    {
      "cell_type": "code",
      "execution_count": null,
      "metadata": {
        "scrolled": true,
        "id": "4d38PQkvOzx8"
      },
      "outputs": [],
      "source": [
        "# Write down the answer here:\n",
        "\n"
      ]
    },
    {
      "cell_type": "code",
      "execution_count": null,
      "metadata": {
        "id": "7ReI6M0ZOzx8"
      },
      "outputs": [],
      "source": []
    },
    {
      "cell_type": "markdown",
      "metadata": {
        "id": "5Do-ppu9Ozx8"
      },
      "source": [
        "### Subsetting or Slicing in Pandas\n",
        "\n",
        "We will be exploring four slicing techniques:\n",
        "1. Using square brackets []\n",
        "2. Using logical (boolean) expressions method\n",
        "3. Using loc[ ] method\n",
        "4. Using iloc[ ] method"
      ]
    },
    {
      "cell_type": "markdown",
      "metadata": {
        "id": "h7p5UUWeOzx8"
      },
      "source": [
        "### 1. Selecting columns using square brackets [ ]"
      ]
    },
    {
      "cell_type": "code",
      "execution_count": null,
      "metadata": {
        "id": "i6gauejcOzx8"
      },
      "outputs": [],
      "source": [
        "# import Pandas library with the alias of \"pd\"\n",
        "import pandas as pd\n",
        "\n",
        "# Let's use the churn dataset\n",
        "churn = pd.read_excel(\"Telco Customer Churn - Training Dataset.xlsx\", sheet_name=\"Telco Customer Churn\")\n",
        "churn.head()"
      ]
    },
    {
      "cell_type": "code",
      "execution_count": null,
      "metadata": {
        "id": "4bC0uFQmOzx8"
      },
      "outputs": [],
      "source": [
        "# Slicing a pandas Dataframe\n",
        "# Select columns using [] square brackets\n",
        "# With square brackets, you can select one or more columns\n",
        "# With single set of [] square brackets, slicing output will be a pandas series\n",
        "\n",
        "churn[\"Tenure\"]"
      ]
    },
    {
      "cell_type": "code",
      "execution_count": null,
      "metadata": {
        "id": "YE99SDzTOzx8"
      },
      "outputs": [],
      "source": [
        "# With double set of [] square brackets, slicing output will be a pandas Dataframe\n",
        "\n",
        "churn[[\"Tenure\"]]"
      ]
    },
    {
      "cell_type": "code",
      "execution_count": null,
      "metadata": {
        "id": "j2dGl8zCOzx8"
      },
      "outputs": [],
      "source": [
        "# To Select multiple columns use double set of [] square brackets\n",
        "# output is a pandas Dataframe\n",
        "\n",
        "churn[[\"Gender\",\"Tenure\"]]"
      ]
    },
    {
      "cell_type": "code",
      "execution_count": null,
      "metadata": {
        "id": "vZ7Vjz1tOzx8"
      },
      "outputs": [],
      "source": []
    },
    {
      "cell_type": "markdown",
      "metadata": {
        "id": "b8DHUgyeOzx8"
      },
      "source": [
        "### 2. Selecting rows and columns using logical (boolean) expressions method"
      ]
    },
    {
      "cell_type": "code",
      "execution_count": null,
      "metadata": {
        "id": "nN7qyQWrOzx8"
      },
      "outputs": [],
      "source": [
        "# import Pandas library with the alias of \"pd\"\n",
        "import pandas as pd\n",
        "\n",
        "# Let's use the churn dataset\n",
        "churn = pd.read_excel(\"Telco Customer Churn - Training Dataset.xlsx\", sheet_name=\"Telco Customer Churn\")\n",
        "churn.head()"
      ]
    },
    {
      "cell_type": "code",
      "execution_count": null,
      "metadata": {
        "id": "Uv3JIqiXOzx8"
      },
      "outputs": [],
      "source": [
        "# The below slicing is done through logical (boolean) expressions method\n",
        "# The second set of [] square brackets will be used to define the logical expression (churn.Tenure>40) to filter the rows\n",
        "# The below code will output all rows where \"Tenure\" is greater than 40 and \"Gender\", \"Tenure\" columns\n",
        "\n",
        "churn[churn.Tenure>40][[\"Gender\",\"Tenure\"]]"
      ]
    },
    {
      "cell_type": "code",
      "execution_count": null,
      "metadata": {
        "id": "eha98w3hOzx8"
      },
      "outputs": [],
      "source": [
        "# The below code will output all rows where \"Tenure\" is greater than 40 OR \"Gender\" is male, and \"Gender\", \"Tenure\" columns\n",
        "\n",
        "churn[(churn.Tenure>40) | (churn.Gender == \"Male\")][[\"Gender\",\"Tenure\"]]"
      ]
    },
    {
      "cell_type": "code",
      "execution_count": null,
      "metadata": {
        "id": "d-aPw-WNOzx9"
      },
      "outputs": [],
      "source": [
        "# The below code will output all rows where \"Tenure\" is greater than 40 AND \"Gender\" is male, and \"Gender\", \"Tenure\" columns\n",
        "\n",
        "churn[(churn.Tenure>40) & (churn.Gender == \"Male\")][[\"Gender\",\"Tenure\"]]"
      ]
    },
    {
      "cell_type": "code",
      "execution_count": null,
      "metadata": {
        "id": "osRghABBOzx9"
      },
      "outputs": [],
      "source": []
    },
    {
      "cell_type": "markdown",
      "metadata": {
        "id": "CKGFu2UGOzx9"
      },
      "source": [
        "#### Question\n",
        "\n",
        " - Refer to the **churn** dataset\n",
        " - Extract **\"Contract\"**, **\"Churn\"**, **\"Gender\"**, **\"MonthlyCharges\"**, **\"TotalCharges\"** columns\n",
        "  - Extract only the records where **\"Churn\"** is \"Yes\", and **\"Gender\"** is \"Female\"\n"
      ]
    },
    {
      "cell_type": "code",
      "execution_count": null,
      "metadata": {
        "id": "mR8DqZN2Ozx9"
      },
      "outputs": [],
      "source": [
        "# import Pandas library with the alias of \"pd\"\n",
        "import pandas as pd\n",
        "\n",
        "# churn dataset\n",
        "churn = pd.read_excel(\"Telco Customer Churn - Training Dataset.xlsx\", sheet_name=\"Telco Customer Churn\")\n",
        "churn.head()"
      ]
    },
    {
      "cell_type": "code",
      "execution_count": null,
      "metadata": {
        "id": "zKppUVGDOzx9"
      },
      "outputs": [],
      "source": [
        "# Write down the answer here:\n",
        "\n"
      ]
    },
    {
      "cell_type": "code",
      "execution_count": null,
      "metadata": {
        "id": "RK-5Rj8fOzx9"
      },
      "outputs": [],
      "source": []
    },
    {
      "cell_type": "markdown",
      "metadata": {
        "id": "CUcPggiOOzx9"
      },
      "source": [
        "### 3. Selecting rows and columns using loc[ ] method\n",
        "- The pandas attribute .loc will allow you to select rows and columns in the following fasion\n",
        "\n",
        "<img src=\"https://github.com/b00gied0n/DataAnalystModule5/blob/main/Module%205/Day1_and_2/PythonScripts/pics/pandasloc.png?modified=12345678&raw=1\" alt=\"pandasloc\"\n",
        "\ttitle=\"pandasloc\" \n",
        "    width=\"550\" \n",
        "    height=\"400\"\n",
        "    align=\"center\"/>\n",
        "\n"
      ]
    },
    {
      "cell_type": "code",
      "execution_count": null,
      "metadata": {
        "id": "cgyqdz9uOzx9"
      },
      "outputs": [],
      "source": [
        "# import Pandas library with the alias of \"pd\"\n",
        "import pandas as pd\n",
        "\n",
        "# Let's use the churn dataset\n",
        "churn = pd.read_excel(\"Telco Customer Churn - Training Dataset.xlsx\", sheet_name=\"Telco Customer Churn\")\n",
        "churn.head()"
      ]
    },
    {
      "cell_type": "code",
      "execution_count": null,
      "metadata": {
        "id": "FgK7iW-JOzx9"
      },
      "outputs": [],
      "source": [
        "# The below code will output the first 5 rows and \"Gender\", \"Tenure\" columns\n",
        "\n",
        "churn.loc[0:4 , [\"Gender\", \"Tenure\"]]"
      ]
    },
    {
      "cell_type": "code",
      "execution_count": null,
      "metadata": {
        "scrolled": true,
        "id": "p1TCxieyOzx9"
      },
      "outputs": [],
      "source": [
        "# The below code will output all rows and \"Gender\", \"Tenure\" columns\n",
        "\n",
        "churn.loc[ : , [\"Gender\", \"Tenure\"]]"
      ]
    },
    {
      "cell_type": "code",
      "execution_count": null,
      "metadata": {
        "id": "fUtdTfhROzx9"
      },
      "outputs": [],
      "source": [
        "# The below code will output all rows where \"Tenure\" is greater than 40 and \"Gender\", \"Tenure\" columns\n",
        "\n",
        "churn.loc[churn.Tenure>40 , [\"Gender\",\"Tenure\"]]"
      ]
    },
    {
      "cell_type": "code",
      "execution_count": null,
      "metadata": {
        "scrolled": false,
        "id": "F7J7Kk5YOzx9"
      },
      "outputs": [],
      "source": [
        "# The below code will output all rows where \"Tenure\" is greater than 40 OR \"Gender\" is male, and \"Gender\", \"Tenure\" columns\n",
        "\n",
        "churn.loc[(churn.Tenure>40) | (churn.Gender == \"Male\") , [\"Gender\",\"Tenure\"]]"
      ]
    },
    {
      "cell_type": "code",
      "execution_count": null,
      "metadata": {
        "scrolled": true,
        "id": "bYb_qVs8Ozx9"
      },
      "outputs": [],
      "source": [
        "# The below code will output all rows where \"Tenure\" is greater than 40 AND \"Gender\" is male, and \"Gender\", \"Tenure\" columns\n",
        "\n",
        "churn.loc[ (churn.Tenure>40) & (churn.Gender == \"Male\") , [\"Gender\",\"Tenure\"]]"
      ]
    },
    {
      "cell_type": "code",
      "execution_count": null,
      "metadata": {
        "id": "oEGsSSSMOzx9"
      },
      "outputs": [],
      "source": []
    },
    {
      "cell_type": "markdown",
      "metadata": {
        "id": "QL_clbh8Ozx-"
      },
      "source": [
        "#### Question\n",
        "\n",
        " - Refer to the **churn** dataset\n",
        " - Extract **\"Contract\"**, **\"Churn\"**, **\"Gender\"**, **\"MonthlyCharges\"**, **\"TotalCharges\"** columns\n",
        " - Extract only the records where **\"Churn\"** is \"Yes\", and **\"Gender\"** is \"Female\"\n"
      ]
    },
    {
      "cell_type": "code",
      "execution_count": null,
      "metadata": {
        "id": "wRp-EY58Ozx-"
      },
      "outputs": [],
      "source": [
        "# import Pandas library with the alias of \"pd\"\n",
        "import pandas as pd\n",
        "\n",
        "# churn dataset\n",
        "churn = pd.read_excel(\"Telco Customer Churn - Training Dataset.xlsx\", sheet_name=\"Telco Customer Churn\")\n",
        "churn.head()"
      ]
    },
    {
      "cell_type": "code",
      "execution_count": null,
      "metadata": {
        "id": "nMG4zKVaOzx-"
      },
      "outputs": [],
      "source": [
        "# Write down the answer here:\n"
      ]
    },
    {
      "cell_type": "code",
      "execution_count": null,
      "metadata": {
        "id": "HzjDMW4POzx-"
      },
      "outputs": [],
      "source": []
    },
    {
      "cell_type": "markdown",
      "metadata": {
        "id": "Gf3EQXFVOzx-"
      },
      "source": [
        "### 4. Selecting rows and columns using iloc[ ] method\n",
        "- The pandas attribute .iloc will allow you to select rows and columns in the following fasion\n",
        "\n",
        "<img src=\"https://github.com/b00gied0n/DataAnalystModule5/blob/main/Module%205/Day1_and_2/PythonScripts/pics/pandasiloc.png?modified=12345678&raw=1\" alt=\"pandasiloc\"\n",
        "\ttitle=\"pandasiloc\" \n",
        "    width=\"550\" \n",
        "    height=\"400\"\n",
        "    align=\"center\"/>"
      ]
    },
    {
      "cell_type": "code",
      "execution_count": null,
      "metadata": {
        "id": "UbGqIMplOzyA"
      },
      "outputs": [],
      "source": [
        "# import Pandas library with the alias of \"pd\"\n",
        "import pandas as pd\n",
        "\n",
        "# Let's use the churn dataset\n",
        "churn = pd.read_excel(\"Telco Customer Churn - Training Dataset.xlsx\", sheet_name=\"Telco Customer Churn\")\n",
        "churn.head()"
      ]
    },
    {
      "cell_type": "code",
      "execution_count": null,
      "metadata": {
        "id": "wn3_RamTOzyA"
      },
      "outputs": [],
      "source": [
        "# The below code will output the first 5 rows and first 3 columns\n",
        "\n",
        "churn.iloc[0:4 , 0:3]"
      ]
    },
    {
      "cell_type": "code",
      "execution_count": null,
      "metadata": {
        "id": "YsWjga-COzyA"
      },
      "outputs": [],
      "source": [
        "# The below code will output the first 5 rows and \"Gender\", \"Tenure\" columns\n",
        "\n",
        "churn.iloc[0:4 , [1,4]]"
      ]
    },
    {
      "cell_type": "code",
      "execution_count": null,
      "metadata": {
        "id": "9aVwOJAQOzyA"
      },
      "outputs": [],
      "source": [
        "# The below code will output all rows and \"Gender\", \"Tenure\" columns\n",
        "\n",
        "churn.iloc[ : , [1,4]]"
      ]
    },
    {
      "cell_type": "code",
      "execution_count": null,
      "metadata": {
        "id": "AjvHLMvEOzyA"
      },
      "outputs": [],
      "source": []
    },
    {
      "cell_type": "markdown",
      "metadata": {
        "id": "fy54u7cMOzyA"
      },
      "source": [
        "### Dealing with missing data\n",
        "\n",
        "- Missing Data can occur when no information is provided \n",
        "- In Pandas missing data is represented by two value: **None** and **NaN** (an acronym for Not a Number), None and NaN as essentially interchangeable for indicating missing or null values \n",
        "\n",
        "There are several useful functions for detecting, removing, and replacing null values in Pandas DataFrame. These function can also be used in Pandas Series:\n",
        "\n",
        "- isnull()\n",
        "- notnull()\n",
        "- dropna()\n",
        "- fillna()\n",
        "- replace()\n",
        "- interpolate()"
      ]
    },
    {
      "cell_type": "code",
      "execution_count": null,
      "metadata": {
        "id": "M5yxBMEsOzyA"
      },
      "outputs": [],
      "source": [
        "# import Pandas library with the alias of \"pd\"\n",
        "import pandas as pd\n",
        "\n",
        "# Let's use the churn dataset\n",
        "churn = pd.read_excel(\"Telco Customer Churn - Training Dataset.xlsx\", sheet_name=\"Telco Customer Churn\")\n",
        "churn.head()"
      ]
    },
    {
      "cell_type": "code",
      "execution_count": null,
      "metadata": {
        "id": "KsV5Tpj3OzyA"
      },
      "outputs": [],
      "source": [
        "# isnull() function returns the Boolean form of dataframe, which will indicate True or False for all values\n",
        "\n",
        "pd.isnull(churn)"
      ]
    },
    {
      "cell_type": "code",
      "execution_count": null,
      "metadata": {
        "id": "z4Cf9dQHOzyA"
      },
      "outputs": [],
      "source": [
        "# creating boolean series, True or False values for information in \"Tenure\" column\n",
        "\n",
        "bool_series = pd.isnull(churn[\"Tenure\"])\n",
        "bool_series"
      ]
    },
    {
      "cell_type": "code",
      "execution_count": null,
      "metadata": {
        "id": "DvLqGSSxOzyA"
      },
      "outputs": [],
      "source": [
        "# filtering data to displaying only with \"Tenure\" = NaN (True)\n",
        "churn[bool_series]"
      ]
    },
    {
      "cell_type": "code",
      "execution_count": null,
      "metadata": {
        "scrolled": false,
        "id": "qVkxN4GrOzyA"
      },
      "outputs": [],
      "source": [
        "# dropping all missing(NaN) values from the dataframe using dropna() function   \n",
        "churn.dropna()"
      ]
    },
    {
      "cell_type": "code",
      "execution_count": null,
      "metadata": {
        "id": "7m_legT2OzyB"
      },
      "outputs": [],
      "source": [
        "# filling in missing values with a zero, using fillna() \n",
        "\n",
        "churn.fillna(0, inplace=False)"
      ]
    },
    {
      "cell_type": "code",
      "execution_count": null,
      "metadata": {
        "id": "xWLadYTdOzyB"
      },
      "outputs": [],
      "source": [
        "# filling a missing value with previous value\n",
        "\n",
        "churn.fillna(method ='ffill', inplace=False)"
      ]
    },
    {
      "cell_type": "code",
      "execution_count": null,
      "metadata": {
        "id": "tySFKFLHOzyB"
      },
      "outputs": [],
      "source": [
        "# filling a missing value with after value\n",
        "\n",
        "churn.fillna(method ='bfill', inplace=False) "
      ]
    },
    {
      "cell_type": "code",
      "execution_count": null,
      "metadata": {
        "id": "gV1r_4g9OzyB"
      },
      "outputs": [],
      "source": [
        "# replacing all NaN values in the dataframe with with zeros\n",
        "\n",
        "churn.replace(to_replace = np.nan, value = 0, inplace=False)"
      ]
    },
    {
      "cell_type": "code",
      "execution_count": null,
      "metadata": {
        "id": "uMbQEAJvOzyB"
      },
      "outputs": [],
      "source": [
        "# interpolate missing values using linear regression\n",
        "\n",
        "churn.interpolate(method ='linear', limit_direction ='forward', inplace=False) "
      ]
    },
    {
      "cell_type": "markdown",
      "metadata": {
        "id": "2yrXf4mBOzyB"
      },
      "source": [
        "#### Question\n",
        "\n",
        "Using the appropriate function filter and display only the whole records (not null) in the **“churn”** dataset"
      ]
    },
    {
      "cell_type": "code",
      "execution_count": null,
      "metadata": {
        "id": "XQo-fihXOzyB"
      },
      "outputs": [],
      "source": [
        "# import Pandas library with the alias of \"pd\"\n",
        "import pandas as pd\n",
        "\n",
        "# Let's use the churn dataset\n",
        "churn = pd.read_excel(\"Telco Customer Churn - Training Dataset.xlsx\", sheet_name=\"Telco Customer Churn\")\n",
        "churn.head()"
      ]
    },
    {
      "cell_type": "code",
      "execution_count": null,
      "metadata": {
        "id": "c2N-oHbUOzyB"
      },
      "outputs": [],
      "source": [
        "# Write down the answer here:\n",
        "\n"
      ]
    },
    {
      "cell_type": "code",
      "execution_count": null,
      "metadata": {
        "id": "CVSTUBmiOzyB"
      },
      "outputs": [],
      "source": []
    },
    {
      "cell_type": "markdown",
      "metadata": {
        "id": "XwRo-c1COzyB"
      },
      "source": [
        "### Dealing with Duplicate Data in Pandas\n",
        "A common task in data analysis is dealing with duplicate values.\n",
        "- duplicated() function can detect duplicates.\n",
        "- drop_duplicates() function can remove duplicate rows.\n",
        "- Let's explore these techniques."
      ]
    },
    {
      "cell_type": "code",
      "execution_count": null,
      "metadata": {
        "id": "8AeoHj7NOzyB"
      },
      "outputs": [],
      "source": [
        "# import Pandas library with the alias of \"pd\"\n",
        "import pandas as pd\n",
        "\n",
        "# Let's use the CustomerInfo dataset\n",
        "ci = pd.read_excel(\"CustomerInfo5.xlsx\")\n",
        "ci"
      ]
    },
    {
      "cell_type": "code",
      "execution_count": null,
      "metadata": {
        "id": "zUbD78hEOzyB"
      },
      "outputs": [],
      "source": [
        "# Let’s use duplicated() function to identify how many duplicate records there are in the dataset\n",
        "ci.duplicated().sum()"
      ]
    },
    {
      "cell_type": "code",
      "execution_count": null,
      "metadata": {
        "id": "pElcp3oHOzyB"
      },
      "outputs": [],
      "source": [
        "# Let’s use drop_duplicates() function to remove all the duplicates from the dataset\n",
        "ci_new = ci.drop_duplicates()\n",
        "ci_new"
      ]
    },
    {
      "cell_type": "markdown",
      "metadata": {
        "id": "DHO2kJ0DOzyB"
      },
      "source": [
        "#### Question\n",
        "- Refer to the **\"SalesInfoApril\"** dataset\n",
        "- Identify how many duplicates there are in the dataset\n",
        "- Using suitable functions remove all duplicate rows\n",
        "- Save this information into a new dataset called **\"NewSalesInfoApril\"**\n"
      ]
    },
    {
      "cell_type": "code",
      "execution_count": null,
      "metadata": {
        "id": "CbU7rE4iOzyB"
      },
      "outputs": [],
      "source": [
        "# import Pandas library with the alias of \"pd\"\n",
        "import pandas as pd\n",
        "\n",
        "# Let's import the \"CustomerInfo\" dataset\n",
        "SalesInfoApril = pd.read_excel(\"SalesInfoApril.xlsx\")\n",
        "SalesInfoApril"
      ]
    },
    {
      "cell_type": "code",
      "execution_count": null,
      "metadata": {
        "id": "jXzvgH8fOzyB"
      },
      "outputs": [],
      "source": [
        "# Write down the answer here:\n",
        "\n"
      ]
    },
    {
      "cell_type": "code",
      "execution_count": null,
      "metadata": {
        "id": "bCNFcMxdOzyB"
      },
      "outputs": [],
      "source": []
    },
    {
      "cell_type": "markdown",
      "metadata": {
        "id": "nPV3E3s1OzyB"
      },
      "source": [
        "### Introduction to Joins in Pandas\n",
        "\n",
        "A join is used to combine rows from two tables (TableA and TableB), based on a common column between them. \n",
        "<br>\n",
        "Below outlines the four main types of Joins used during data manipulation activities:\n",
        "\n",
        "\n",
        "**Left Join():**\n",
        "return all rows from TableA, and all columns from TableA and TableB. \n",
        "Rows in TableA with no match in TableB will have \"NA\" values in the new columns. \n",
        "If there are multiple matches between TableA and TableB, all combinations of the matches are returned.\n",
        " \n",
        "**Right Join():**\n",
        "return all rows from TableB, and all columns from TableA and TableB. \n",
        "Rows in TableB with no match in TableA will have NA values in the new columns. \n",
        "If there are multiple matches between TableA and TableB, all combinations of the matches are returned.\n",
        "\n",
        "**Inner Join():**\n",
        "return all rows from TableA where there are matching values in TableB, and all columns from TableA and TableB. \n",
        "If there are multiple matches between TableA and TableB, all combination of the matches are returned.\n",
        " \n",
        "**Full Join():**\n",
        "return all rows and all columns from both TableA and TableB. \n",
        "Where there are no matching values, returns \"NA\".\n",
        "<br>\n",
        "\n",
        "<img src=\"https://github.com/b00gied0n/DataAnalystModule5/blob/main/Module%205/Day1_and_2/PythonScripts/pics/Pythonjoins.png?modified=12345678&raw=1\" alt=\"Pythonjoins\"\n",
        "\ttitle=\"Pythonjoins\" \n",
        "    width=\"350\" \n",
        "    height=\"400\"\n",
        "    align=\"center\"/>"
      ]
    },
    {
      "cell_type": "code",
      "execution_count": null,
      "metadata": {
        "id": "XOMKJnBEOzyC"
      },
      "outputs": [],
      "source": [
        "# For this lab, let’s use \"CustomerInfo\" and \"OrderInfo\" datasets. \n",
        "# Let’s combine these two datasets in a meaningful manner"
      ]
    },
    {
      "cell_type": "code",
      "execution_count": null,
      "metadata": {
        "id": "Cpdukh4ROzyC"
      },
      "outputs": [],
      "source": [
        "# import Pandas library with the alias of \"pd\"\n",
        "import pandas as pd\n",
        "\n",
        "# Let's import the \"CustomerInfo\" dataset\n",
        "CustomerInfo = pd.read_excel(\"CustomerInfo.xlsx\")\n",
        "print(CustomerInfo.head())\n",
        "\n",
        "# Let's import the \"OrderInfo\" dataset\n",
        "OrderInfo = pd.read_excel(\"OrderInfo.xlsx\")\n",
        "print(OrderInfo.head())"
      ]
    },
    {
      "cell_type": "code",
      "execution_count": null,
      "metadata": {
        "scrolled": true,
        "id": "tJcFGYrwOzyC"
      },
      "outputs": [],
      "source": [
        "# Let’s combine the datasets\n",
        "\n",
        "# Let's do a left join, this is defined by how=\"left\" \n",
        "# use \"CustomerID\" and \"CusID\" columns as the common column\n",
        "\n",
        "left_join_df = pd.merge(CustomerInfo, \n",
        "                        OrderInfo, \n",
        "                        how=\"left\", \n",
        "                        left_on=\"CustomerID\", \n",
        "                        right_on=\"CusID\")\n",
        "\n",
        "\n",
        "left_join_df.head()"
      ]
    },
    {
      "cell_type": "code",
      "execution_count": null,
      "metadata": {
        "id": "ElNpbri4OzyC"
      },
      "outputs": [],
      "source": []
    },
    {
      "cell_type": "code",
      "execution_count": null,
      "metadata": {
        "id": "okOtpz9-OzyC"
      },
      "outputs": [],
      "source": [
        "# Let's do a right join, this is defined by how=\"right\" \n",
        "# use \"CustomerID\" and \"CusID\" columns as the common column\n",
        "\n",
        "right_join_df = pd.merge(CustomerInfo, \n",
        "                        OrderInfo, \n",
        "                        how=\"right\", \n",
        "                        left_on=\"CustomerID\", \n",
        "                        right_on=\"CusID\")\n",
        "\n",
        "\n",
        "right_join_df.head()"
      ]
    },
    {
      "cell_type": "code",
      "execution_count": null,
      "metadata": {
        "id": "azvTUqnFOzyC"
      },
      "outputs": [],
      "source": []
    },
    {
      "cell_type": "code",
      "execution_count": null,
      "metadata": {
        "id": "2ZU0BXfuOzyC"
      },
      "outputs": [],
      "source": [
        "# Let's do a inner join, this is defined by how=\"inner\" \n",
        "# use \"CustomerID\" and \"CusID\" columns as the common column\n",
        "\n",
        "inner_join_df = pd.merge(CustomerInfo, \n",
        "                        OrderInfo, \n",
        "                        how=\"inner\", \n",
        "                        left_on=\"CustomerID\", \n",
        "                        right_on=\"CusID\")\n",
        "\n",
        "\n",
        "inner_join_df.head()"
      ]
    },
    {
      "cell_type": "code",
      "execution_count": null,
      "metadata": {
        "id": "Tazl8VHfOzyC"
      },
      "outputs": [],
      "source": []
    },
    {
      "cell_type": "code",
      "execution_count": null,
      "metadata": {
        "id": "V9XP2YuwOzyC"
      },
      "outputs": [],
      "source": [
        "# Let's do a full join, this is defined by how=\"outer\" \n",
        "# use \"CustomerID\" and \"CusID\" columns as the common column\n",
        "\n",
        "full_join_df = pd.merge(CustomerInfo, \n",
        "                        OrderInfo, \n",
        "                        how=\"outer\", \n",
        "                        left_on=\"CustomerID\", \n",
        "                        right_on=\"CusID\")\n",
        "\n",
        "\n",
        "full_join_df.head()"
      ]
    },
    {
      "cell_type": "code",
      "execution_count": null,
      "metadata": {
        "id": "XW8KMbLWOzyC"
      },
      "outputs": [],
      "source": []
    },
    {
      "cell_type": "markdown",
      "metadata": {
        "id": "TPll-41COzyC"
      },
      "source": [
        "### Introduction to  Concatenation in Pandas\n",
        "- Concatenation combines or appends all rows from the tables, also known as “Set Operations” or “Unions”.\n",
        "- Concatenated data may sometimes contain duplicates, with additional functionalities duplicate can be removed."
      ]
    },
    {
      "cell_type": "code",
      "execution_count": null,
      "metadata": {
        "id": "YhOHT_WPOzyC"
      },
      "outputs": [],
      "source": [
        "# For this lab, let’s use \"CustomerInfo\" and \"CustomerInfo2\" datasets. \n",
        "\n",
        "# import Pandas library with the alias of \"pd\"\n",
        "import pandas as pd\n",
        "\n",
        "# Let's import the \"CustomerInfo\" dataset\n",
        "CustomerInfo = pd.read_excel(\"CustomerInfo.xlsx\")\n",
        "print(CustomerInfo.head())\n",
        "\n",
        "# Let's import the \"CustomerInfo2\" dataset\n",
        "CustomerInfo2 = pd.read_excel(\"CustomerInfo2.xlsx\")\n",
        "print(CustomerInfo2.head())"
      ]
    },
    {
      "cell_type": "code",
      "execution_count": null,
      "metadata": {
        "id": "2M53xAV8OzyC"
      },
      "outputs": [],
      "source": [
        "# Let’s concatenate \"CustomerInfo\" and \"CustomerInfo2\" datasets in a meaningful manner\n",
        "# Please note the output contain duplicate rows\n",
        "\n",
        "all_rows = pd.concat([CustomerInfo, CustomerInfo2])\n",
        "all_rows"
      ]
    },
    {
      "cell_type": "code",
      "execution_count": null,
      "metadata": {
        "id": "xcqTZGyhOzyC"
      },
      "outputs": [],
      "source": [
        "# let's remove duplicates using drop_duplicates()\n",
        "\n",
        "all_rows.drop_duplicates()"
      ]
    },
    {
      "cell_type": "code",
      "execution_count": null,
      "metadata": {
        "id": "exw2PMKTOzyC"
      },
      "outputs": [],
      "source": []
    },
    {
      "cell_type": "markdown",
      "metadata": {
        "id": "57NYiuVrOzyC"
      },
      "source": [
        "#### Question\n",
        "\n",
        "- Refer to the **\"SalesInfoJan\"**, **\"SalesInfoFeb\"** and  **\"ProductInfo\"** datasets.\n",
        "- Using appropriate pandas functons combine **\"SalesInfoJan\"** and **\"SalesInfoFeb\"** datasets\n",
        "- Save this information into a new dataset called **\"SalesInfo\"**\n",
        "- Now merge/join **\"SalesInfo\"** with  **\"ProductInfo\"** dataset\n",
        "- Save this information into a new dataset called **\"AllSales\"**"
      ]
    },
    {
      "cell_type": "code",
      "execution_count": null,
      "metadata": {
        "id": "a4o-tyXDOzyC"
      },
      "outputs": [],
      "source": [
        "# import Pandas library with the alias of \"pd\"\n",
        "import pandas as pd\n",
        "\n",
        "# Importing all datasets\n",
        "SalesInfoJan = pd.read_excel(\"SalesInfoJan.xlsx\")\n",
        "SalesInfoFeb = pd.read_excel(\"SalesInfoFeb.xlsx\")\n",
        "ProductInfo = pd.read_excel(\"ProductInfo.xlsx\")\n",
        "\n",
        "print(SalesInfoJan.head())\n",
        "\n",
        "print(SalesInfoFeb.head())\n",
        "\n",
        "print(ProductInfo.head())"
      ]
    },
    {
      "cell_type": "code",
      "execution_count": null,
      "metadata": {
        "id": "hopDswjkOzyC"
      },
      "outputs": [],
      "source": [
        "# Write down the answer here:\n",
        "\n"
      ]
    },
    {
      "cell_type": "code",
      "execution_count": null,
      "metadata": {
        "id": "iCTQPxdfOzyC"
      },
      "outputs": [],
      "source": []
    }
  ],
  "metadata": {
    "kernelspec": {
      "display_name": "Python 3",
      "language": "python",
      "name": "python3"
    },
    "language_info": {
      "codemirror_mode": {
        "name": "ipython",
        "version": 3
      },
      "file_extension": ".py",
      "mimetype": "text/x-python",
      "name": "python",
      "nbconvert_exporter": "python",
      "pygments_lexer": "ipython3",
      "version": "3.8.5"
    },
    "colab": {
      "provenance": []
    }
  },
  "nbformat": 4,
  "nbformat_minor": 0
}