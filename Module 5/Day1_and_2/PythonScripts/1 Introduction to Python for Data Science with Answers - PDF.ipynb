{
 "cells": [
  {
   "cell_type": "markdown",
   "metadata": {},
   "source": [
    "# Python for Data Science\n",
    "- Python is an open source general-purpose coding language, it was created by Guido van Rossum and first released in 1991\n",
    "- Python is a beginner-friendly language, python code syntax uses English keywords, that makes it easy for anyone to understand and get started with the language\n",
    "\n",
    "\n",
    "**What we cover:**\n",
    "1. Python Arithmetic Operators\n",
    "2. Python Logical Operators\n",
    "3. Python Variables\n",
    "4. Python Built-in Functions\n",
    "5. Python Data Types (Data Structures)\n",
    "6. Python Data Types Deep Dive\n",
    "    - Lists\n",
    "    - Tuples\n",
    "    - Sets\n",
    "    - Dictionaries\n",
    "    - String\n",
    "7. Python If/else conditions\n",
    "8. Python Loops\n",
    "    - For Loop\n",
    "    - While Loop\n",
    "9. Python Open function & With Open function"
   ]
  },
  {
   "cell_type": "markdown",
   "metadata": {},
   "source": [
    "## Python Arithmetic Operators\n",
    "Common Arithmetic operators supported by python:\n",
    "\n",
    "| Operator | Description   |\n",
    "|:- |:- |\n",
    "|+\t|Addition|\n",
    "|-\t|Subtraction|\n",
    "|*\t|Multiplication|\n",
    "|/\t|Division|\n",
    "|%\t|Modulus|\n",
    "|**\t|Exponentiation|\n",
    "|//\t|Floor division|"
   ]
  },
  {
   "cell_type": "code",
   "execution_count": 98,
   "metadata": {},
   "outputs": [
    {
     "name": "stdout",
     "output_type": "stream",
     "text": [
      "17\n",
      "I'm James\n",
      "3\n",
      "10\n",
      "1.6\n",
      "3\n",
      "3\n",
      "8\n"
     ]
    }
   ],
   "source": [
    "# Addition\n",
    "print(7 + 10)\n",
    "\n",
    "# Concatenate strings\n",
    "print(\"I'm\" + \" \" + \"James\")\n",
    "\n",
    "# Subtraction\n",
    "print(8 - 5)\n",
    "\n",
    "# Multiplication\n",
    "print(2 * 5)\n",
    "\n",
    "# Division\n",
    "print(8 / 5)\n",
    "\n",
    "# Modulus - returns the remainder after a division\n",
    "print(8 % 5)\n",
    "\n",
    "# Floor division - rounds the result down to the nearest whole number\n",
    "print(10 // 3)\n",
    "\n",
    "# Exponentiation - Performs a exponential (power) calculation\n",
    "# 2 to the power of 3 --> 2 x 2 x 2 = 8\n",
    "print(2 ** 3)"
   ]
  },
  {
   "cell_type": "markdown",
   "metadata": {},
   "source": [
    "#### Question\n",
    "\n",
    "Suppose you have £50, which you want to invest with a 20% return each year, for 8 years.\n",
    "\n",
    "- After 1  year  --> 50 × 1.2       = 60\n",
    "- After 2 years --> 50 × 1.2 × 1.2 = 72\n",
    "- After 3 years --> 50 × 1.2 × 1.2 × 1.2 = 86.4\n",
    "- .....\n",
    "- .....\n",
    "\n",
    "Add code below to calculate how much money you end up having after 8 years?"
   ]
  },
  {
   "cell_type": "code",
   "execution_count": 99,
   "metadata": {},
   "outputs": [
    {
     "name": "stdout",
     "output_type": "stream",
     "text": [
      "214.99084799999991\n"
     ]
    }
   ],
   "source": [
    "# Write down the answer here:\n",
    "\n",
    "print(50 * 1.2 ** 8)"
   ]
  },
  {
   "cell_type": "markdown",
   "metadata": {},
   "source": [
    "## Python Logical Operators\n",
    "- In python logical operators are used while constructing conditional statements\n",
    "- The result of a Logical operation is always a Ture or False"
   ]
  },
  {
   "cell_type": "markdown",
   "metadata": {},
   "source": [
    "| Operator | Description   |\n",
    "|:- |:- |\n",
    "|<\t|Less than\t|\n",
    "|<=\t|Less than or equal to|\n",
    "|==\t|Equal|\t\n",
    "|>\t|Greater than|\t\n",
    "|>=\t|Greater than or equal to|\n",
    "|!=\t|Not equal|\t\n",
    "|and| \tReturns True if both statements are true|\n",
    "|or\t|Returns True if one of the statements is true|\n",
    "|not|\tReverse the result, returns False if the result is true|"
   ]
  },
  {
   "cell_type": "code",
   "execution_count": 100,
   "metadata": {},
   "outputs": [
    {
     "name": "stdout",
     "output_type": "stream",
     "text": [
      "True\n",
      "True\n",
      "True\n",
      "False\n",
      "False\n",
      "True\n"
     ]
    }
   ],
   "source": [
    "# Logical operators on numerical data\n",
    "print(1000 < 2000)        #Less than\n",
    "print(1000 <= 2000)       #Less than or equal to\n",
    "print(1000 == 1000)       #Equal\n",
    "print(1000 > 2000)        #Greater than\n",
    "print(1000 >= 2000)       #Greater than or equal to\n",
    "print(1000 != 2000)       #Not equal"
   ]
  },
  {
   "cell_type": "code",
   "execution_count": 101,
   "metadata": {},
   "outputs": [
    {
     "name": "stdout",
     "output_type": "stream",
     "text": [
      "False\n",
      "True\n"
     ]
    }
   ],
   "source": [
    "# Logical operators on string data\n",
    "print(\"Data\" == \"data\")   #Equal\n",
    "print(\"Data\" != \"data\")   #Not equal"
   ]
  },
  {
   "cell_type": "code",
   "execution_count": 102,
   "metadata": {},
   "outputs": [
    {
     "name": "stdout",
     "output_type": "stream",
     "text": [
      "True\n",
      "True\n",
      "True\n",
      "True\n",
      "False\n"
     ]
    }
   ],
   "source": [
    "# AND, OR , NOT logical operators - These operators are used to combine multiple conditions\n",
    "\n",
    "# Returns True if both statements are true\n",
    "print(1000 < 2000 and 3000 < 4000)\n",
    "print(1000 < 2000 and \"Data\" == \"Data\")  \n",
    "\n",
    "# Returns True if one of the statements is true\n",
    "print(1000 < 2000 or 3000 < 4000)\n",
    "print(1000 < 2000 or \"Data\" == \"Data\")  \n",
    "\n",
    "# Reverse the result, returns False if the result is true\n",
    "print(not 1000 < 2000)"
   ]
  },
  {
   "cell_type": "markdown",
   "metadata": {},
   "source": [
    "## Python Variables\n",
    "- A variable is a named memory location used to store data values\n",
    "- It is a container that holds data that can be referred to later\n",
    "- Assignment operator needs to be used while creating a variable\n",
    "\n",
    "**Various assignment operators**\n",
    "\n",
    "| Operator | Description   | Result|\n",
    "|:- |:- |:- |\n",
    "|=\t|x = 10\t|x = 10|\t\n",
    "|+=\t|x += 10\t|x = x + 10|\t\n",
    "|-=\t|x -= 10\t|x = x - 10|\t\n",
    "|*= |x *= 10\t|x = x * 10|"
   ]
  },
  {
   "cell_type": "code",
   "execution_count": 103,
   "metadata": {},
   "outputs": [
    {
     "name": "stdout",
     "output_type": "stream",
     "text": [
      "James\n",
      "25\n",
      "1.8\n",
      "75\n"
     ]
    }
   ],
   "source": [
    "name = \"James\"   # A string assignment\n",
    "age = 25         # An integer assignment\n",
    "height = 1.8     # A float assignment\n",
    "weight = 75      # A float assignment\n",
    "\n",
    "print(name)\n",
    "print(age)\n",
    "print(height)\n",
    "print(weight)"
   ]
  },
  {
   "cell_type": "markdown",
   "metadata": {},
   "source": [
    "#### Question\n",
    "\n",
    "Add the code below to calculate the **Body Mass Index**?"
   ]
  },
  {
   "cell_type": "markdown",
   "metadata": {},
   "source": [
    "![bmi](pics/bmi.png)"
   ]
  },
  {
   "cell_type": "code",
   "execution_count": 104,
   "metadata": {},
   "outputs": [
    {
     "name": "stdout",
     "output_type": "stream",
     "text": [
      "23.148148148148145\n"
     ]
    }
   ],
   "source": [
    "# Calculate Body Mass Index (BMI) for James\n",
    "# Save the calculation into variable \"bmi\"\n",
    "# Write down the answer here:\n",
    "\n",
    "bmi = weight/height**2\n",
    "print(bmi)"
   ]
  },
  {
   "cell_type": "code",
   "execution_count": 105,
   "metadata": {},
   "outputs": [
    {
     "name": "stdout",
     "output_type": "stream",
     "text": [
      "5.905511811023622\n"
     ]
    }
   ],
   "source": [
    "# Convert James’s hight into feet (1 foot is exactly 0.3048 meters)\n",
    "# Save the calculation into variable “heightf”\n",
    "# Write down the answer here:\n",
    "\n",
    "heightf = height / 0.3048\n",
    "print(heightf)"
   ]
  },
  {
   "cell_type": "markdown",
   "metadata": {},
   "source": [
    "## Python Built-in Functions\n",
    "\n",
    "Python has several built-in functions that are readily available for use\n",
    "\n",
    "For example the  **max()** function which returns the largest value of a given set of data values. \\\n",
    "These functions make the life of a programmer easier as many codes and task have already been defined in these functions.\n",
    "\n",
    "| Function | Description   |\n",
    "|:- |:- |\n",
    "|   **type()**  | Returns the type of an object|\n",
    "|   **print()**  | Prints the given object|\n",
    "|   **len()**  | Returns the length of an object (only works on sequences)|\n",
    "|   **sorted()**  | Returns a sorted list (only works with sequences)|\n",
    "|   **min()**  | Returns the smallest item in an iterable|\n",
    "|   **max()**  | Returns the largest item in an iterable|\n",
    "|   **abs()**  | Returns the absolute value of a number|\n",
    "|   **round()**  | Rounds a numbers|\n",
    "|   **range()**  | Return a sequence of integers between start and stop values (default increments is by 1)|\n",
    "|   **sum()**  | Return the Sum of the items|\n",
    "\n",
    "<br><br>\n",
    "\n",
    "\n",
    "- Several built-in functions that can be used for data-type conversions, this is also referred to as **casting**, following are some common casting functions in python\n",
    "\n",
    "| Function | Description   |\n",
    "|:- |:- |\n",
    "|   **str()**  | Returns the string version of the object|\n",
    "|   **int()**  | Returns integer from a number or string|\n",
    "|   **float()**  | Returns floating point number from number, string|\n",
    "|   **bool()**  | Converts a data value to Boolean|\n",
    "\n",
    "<br><br>\n",
    "\n",
    "#### Some useful references:\n",
    "\n",
    "[Python Built-in Functions](https://docs.python.org/3/library/functions.html)\n",
    "\n",
    "[Math functions from Math library](https://docs.python.org/3/library/math.html#module-math)"
   ]
  },
  {
   "cell_type": "raw",
   "metadata": {},
   "source": []
  },
  {
   "cell_type": "code",
   "execution_count": 106,
   "metadata": {},
   "outputs": [
    {
     "data": {
      "text/plain": [
       "5"
      ]
     },
     "execution_count": 106,
     "metadata": {},
     "output_type": "execute_result"
    }
   ],
   "source": [
    "# Calculating the minimum value in a number series\n",
    "min([122.8,45.7,5,63])"
   ]
  },
  {
   "cell_type": "code",
   "execution_count": 107,
   "metadata": {},
   "outputs": [
    {
     "data": {
      "text/plain": [
       "[5, 45.7, 63, 122.8]"
      ]
     },
     "execution_count": 107,
     "metadata": {},
     "output_type": "execute_result"
    }
   ],
   "source": [
    "# Sorting the values in a number series\n",
    "sorted([122.8,45.7,5,63])"
   ]
  },
  {
   "cell_type": "code",
   "execution_count": 108,
   "metadata": {},
   "outputs": [
    {
     "data": {
      "text/plain": [
       "'28'"
      ]
     },
     "execution_count": 108,
     "metadata": {},
     "output_type": "execute_result"
    }
   ],
   "source": [
    "# Converting a numerical value to a string\n",
    "str(28)"
   ]
  },
  {
   "cell_type": "code",
   "execution_count": 109,
   "metadata": {},
   "outputs": [
    {
     "data": {
      "text/plain": [
       "5"
      ]
     },
     "execution_count": 109,
     "metadata": {},
     "output_type": "execute_result"
    }
   ],
   "source": [
    "# Converting a string value to an integer\n",
    "int(\"5\")"
   ]
  },
  {
   "cell_type": "code",
   "execution_count": 110,
   "metadata": {},
   "outputs": [
    {
     "data": {
      "text/plain": [
       "8.0"
      ]
     },
     "execution_count": 110,
     "metadata": {},
     "output_type": "execute_result"
    }
   ],
   "source": [
    "# Converting a numerical value to a float\n",
    "float(8)"
   ]
  },
  {
   "cell_type": "code",
   "execution_count": 111,
   "metadata": {},
   "outputs": [
    {
     "data": {
      "text/plain": [
       "False"
      ]
     },
     "execution_count": 111,
     "metadata": {},
     "output_type": "execute_result"
    }
   ],
   "source": [
    "# Converting a numerical value to a string\n",
    "bool(0)"
   ]
  },
  {
   "cell_type": "code",
   "execution_count": 112,
   "metadata": {},
   "outputs": [
    {
     "data": {
      "text/plain": [
       "236"
      ]
     },
     "execution_count": 112,
     "metadata": {},
     "output_type": "execute_result"
    }
   ],
   "source": [
    "# Question\n",
    "# Calculate the total of the numerical values [122.8,45.7,5,63] and round-up to the nearest whole number\n",
    "\n",
    "sum([122.8,45.7,5,63])\n",
    "round(sum([122.8,45.7,5,63]))"
   ]
  },
  {
   "cell_type": "code",
   "execution_count": 113,
   "metadata": {},
   "outputs": [
    {
     "data": {
      "text/plain": [
       "[122.8, 63, 45.7, 5]"
      ]
     },
     "execution_count": 113,
     "metadata": {},
     "output_type": "execute_result"
    }
   ],
   "source": [
    "# Question\n",
    "# [122.8,45.7,5,63] - Sort the numerical values in descending order\n",
    "\n",
    "sorted([122.8,45.7,5,63], reverse=True)"
   ]
  },
  {
   "cell_type": "markdown",
   "metadata": {},
   "source": [
    "## Python Data Types\n",
    "- Every data value in Python has a data type\n",
    "- Every data value/variable in python is an object\n",
    "- Use the **type()** function to determine which class a data value or a variable belongs to \n",
    "\n",
    "#### Python has the following data types:\n",
    "\n",
    "- Numeric Types (Numbers): **int, float, complex**\n",
    "- Sequence Types (indexed/ordered values): **list, tuple, range**\n",
    "- Text Type (strings/characters/Sequence): **str**\n",
    "- Mapping Type (key-value pairs): **dict**\n",
    "- Boolean Type (for True/False): **bool**\n",
    "- Set Types (Union/Intersection): **set**"
   ]
  },
  {
   "cell_type": "markdown",
   "metadata": {},
   "source": [
    "![data types](pics/datatypes.png)"
   ]
  },
  {
   "cell_type": "markdown",
   "metadata": {},
   "source": [
    "# Python Data Types Deep Dive\n",
    "- Lists\n",
    "- Tuples\n",
    "- Sets\n",
    "- Dictionaries\n",
    "- Strings"
   ]
  },
  {
   "cell_type": "markdown",
   "metadata": {},
   "source": [
    "## Lists  \n",
    "\n",
    "- List is one of the most frequently used and very versatile data types used in Python \n",
    "- List is an **mutable(changeable)** ordered sequence of items\n",
    "- In Python a list is created by placing all the items inside **square brackets [ ]**, separated by commas\n",
    "- List can contain any number of items with different data types (integer, float, string etc.)\n",
    "\n",
    "\n",
    "In the following section we'll be looking at, \n",
    "- How to create python lists\n",
    "- Subsetting or Slicing Python Lists\n",
    "- Negative Indexing\n",
    "- Updating/Changing items in a list\n",
    "- Python List Methods"
   ]
  },
  {
   "cell_type": "markdown",
   "metadata": {},
   "source": [
    "#### Python uses zero indexing technique\n",
    "- Python indexing starts with **0** as the first position/element\n",
    "- To access any item in the sequence its index can be used\n",
    "\n",
    "![list](pics/pythonlist.png)"
   ]
  },
  {
   "cell_type": "code",
   "execution_count": 114,
   "metadata": {},
   "outputs": [
    {
     "name": "stdout",
     "output_type": "stream",
     "text": [
      "[12, 58, 23, 77, 105, 84]\n"
     ]
    },
    {
     "data": {
      "text/plain": [
       "list"
      ]
     },
     "execution_count": 114,
     "metadata": {},
     "output_type": "execute_result"
    }
   ],
   "source": [
    "# List of integers\n",
    "mylist = [12, 58, 23, 77, 105, 84]\n",
    "print(mylist)\n",
    "type(mylist)"
   ]
  },
  {
   "cell_type": "code",
   "execution_count": 115,
   "metadata": {},
   "outputs": [
    {
     "name": "stdout",
     "output_type": "stream",
     "text": [
      "['avocado', 'mango', 'orange', 'banana', 'apple', 'cherry']\n"
     ]
    },
    {
     "data": {
      "text/plain": [
       "list"
      ]
     },
     "execution_count": 115,
     "metadata": {},
     "output_type": "execute_result"
    }
   ],
   "source": [
    "# List of strings\n",
    "mylist = [\"avocado\", \"mango\", \"orange\", \"banana\", \"apple\", \"cherry\"]\n",
    "print(mylist)\n",
    "type(mylist)"
   ]
  },
  {
   "cell_type": "code",
   "execution_count": 116,
   "metadata": {},
   "outputs": [
    {
     "name": "stdout",
     "output_type": "stream",
     "text": [
      "['Dan', 54, 'SQL', 'Python', 3.4, True]\n"
     ]
    },
    {
     "data": {
      "text/plain": [
       "list"
      ]
     },
     "execution_count": 116,
     "metadata": {},
     "output_type": "execute_result"
    }
   ],
   "source": [
    "# List with mixed data types\n",
    "mylist = [\"Dan\", 54, \"SQL\", \"Python\", 3.4, True]\n",
    "print(mylist)\n",
    "type(mylist)"
   ]
  },
  {
   "cell_type": "code",
   "execution_count": 117,
   "metadata": {},
   "outputs": [
    {
     "name": "stdout",
     "output_type": "stream",
     "text": [
      "[['Sam', 87], ['Tom', 94], ['Adam', 74]]\n"
     ]
    },
    {
     "data": {
      "text/plain": [
       "list"
      ]
     },
     "execution_count": 117,
     "metadata": {},
     "output_type": "execute_result"
    }
   ],
   "source": [
    "# A List can also have another list as an item\n",
    "# This type of list is called as a nested list\n",
    "results = [[\"Sam\",87],[\"Tom\",94],[\"Adam\",74]]\n",
    "print(results)\n",
    "type(results)"
   ]
  },
  {
   "cell_type": "code",
   "execution_count": 118,
   "metadata": {},
   "outputs": [
    {
     "data": {
      "text/plain": [
       "6"
      ]
     },
     "execution_count": 118,
     "metadata": {},
     "output_type": "execute_result"
    }
   ],
   "source": [
    "# List Length - To determine how many items a list has, use the len() function:\n",
    "mylist = [\"avocado\", \"mango\", \"orange\", \"banana\", \"apple\", \"cherry\"]\n",
    "len(mylist)"
   ]
  },
  {
   "cell_type": "markdown",
   "metadata": {},
   "source": [
    "#### Question\n",
    "\n",
    "![list](pics/pandas_series_design.png)\n",
    "\n",
    " - Write down the code to design the above list data structure\n",
    " - Save the list as \"agelist1\"\n",
    " - also determine the length of the list"
   ]
  },
  {
   "cell_type": "code",
   "execution_count": 119,
   "metadata": {},
   "outputs": [
    {
     "name": "stdout",
     "output_type": "stream",
     "text": [
      "[22, 15, 28, 43, 30, 8, 65]\n"
     ]
    },
    {
     "data": {
      "text/plain": [
       "list"
      ]
     },
     "execution_count": 119,
     "metadata": {},
     "output_type": "execute_result"
    }
   ],
   "source": [
    "# Write down the answer here:\n",
    "\n",
    "agelist1 = [22, 15, 28, 43, 30, 8, 65]\n",
    "print(agelist1)\n",
    "type(agelist1)"
   ]
  },
  {
   "cell_type": "markdown",
   "metadata": {},
   "source": [
    "#### Question\n",
    "\n",
    "![stocklist](pics/stocklist.png)\n",
    "\n",
    " - Write down the code to design the above nested list data structure\n",
    " - Save the list as \"stocklist1\""
   ]
  },
  {
   "cell_type": "code",
   "execution_count": 120,
   "metadata": {},
   "outputs": [
    {
     "name": "stdout",
     "output_type": "stream",
     "text": [
      "[['AMZN', 3100], ['TSLA', 560], ['MSFT', 215], ['AAPL', 120]]\n"
     ]
    },
    {
     "data": {
      "text/plain": [
       "list"
      ]
     },
     "execution_count": 120,
     "metadata": {},
     "output_type": "execute_result"
    }
   ],
   "source": [
    "# Write down the answer here:\n",
    "\n",
    "stocklist1 = [[\"AMZN\",3100],[\"TSLA\",560],[\"MSFT\",215],[\"AAPL\",120]]\n",
    "print(stocklist1)\n",
    "type(stocklist1)"
   ]
  },
  {
   "cell_type": "markdown",
   "metadata": {},
   "source": [
    "## Subsetting or Slicing Python Lists\n",
    "- you can access a list item by referring to an index number\n",
    "- you can use the index operator **\"[ ]\"** to access an item in a list\n",
    "- In Python indices starts from 0\n",
    "\n",
    "for example, a list having 6 items will have an index from 0 to 5"
   ]
  },
  {
   "cell_type": "markdown",
   "metadata": {},
   "source": [
    "![list](pics/pythonlist.png)"
   ]
  },
  {
   "cell_type": "code",
   "execution_count": 121,
   "metadata": {},
   "outputs": [
    {
     "name": "stdout",
     "output_type": "stream",
     "text": [
      "avocado\n",
      "mango\n",
      "orange\n"
     ]
    }
   ],
   "source": [
    "mylist = [\"avocado\", \"mango\", \"orange\", \"banana\", \"apple\", \"cherry\"]\n",
    "\n",
    "print(mylist[0])\n",
    "print(mylist[1])\n",
    "print(mylist[2])"
   ]
  },
  {
   "cell_type": "markdown",
   "metadata": {},
   "source": [
    "## Negative Indexing\n",
    "- Python allows negative indexing for its sequences\n",
    "- Negative indexing means beginning from the end\n",
    "- The index of -1 refers to the last item, -2 to the second last item and so on"
   ]
  },
  {
   "cell_type": "markdown",
   "metadata": {},
   "source": [
    "![Negative Index](pics/pythonlistnegativeindex.png)"
   ]
  },
  {
   "cell_type": "code",
   "execution_count": 122,
   "metadata": {},
   "outputs": [
    {
     "name": "stdout",
     "output_type": "stream",
     "text": [
      "cherry\n",
      "avocado\n"
     ]
    }
   ],
   "source": [
    "mylist = [\"avocado\", \"mango\", \"orange\", \"banana\", \"apple\", \"cherry\"]\n",
    "print(mylist[-1])\n",
    "print(mylist[-6])"
   ]
  },
  {
   "cell_type": "markdown",
   "metadata": {},
   "source": [
    "#### Question\n",
    "![stocklist](pics/stocklist.png)\n",
    "\n",
    " - Refer to the above \"stocklist1\"\n",
    " - Write down the code to extract the [\"TSLA\",560] from the nested list data structure\n",
    " - Use both Indexing and Negative-indexing techniques"
   ]
  },
  {
   "cell_type": "code",
   "execution_count": 123,
   "metadata": {},
   "outputs": [
    {
     "data": {
      "text/plain": [
       "['TSLA', 560]"
      ]
     },
     "execution_count": 123,
     "metadata": {},
     "output_type": "execute_result"
    }
   ],
   "source": [
    "# Write down the answer here:\n",
    "stocklist1 = [[\"AMZN\",3100],[\"TSLA\",560],[\"MSFT\",215],[\"AAPL\",120]]\n",
    "\n",
    "stocklist1[1]\n",
    "stocklist1[-3]"
   ]
  },
  {
   "cell_type": "markdown",
   "metadata": {},
   "source": [
    "## Accessing Range of items\n",
    "\n",
    "- you can access a range of items in a list by using the **(:)** colon operator\n",
    "- The start index will be included, while the end index is not\n",
    "\n",
    "![range](pics/slicing.png)"
   ]
  },
  {
   "cell_type": "code",
   "execution_count": 124,
   "metadata": {},
   "outputs": [
    {
     "name": "stdout",
     "output_type": "stream",
     "text": [
      "['orange', 'banana']\n",
      "['orange', 'banana', 'apple']\n"
     ]
    }
   ],
   "source": [
    "mylist = [\"avocado\", \"mango\", \"orange\", \"banana\", \"apple\", \"cherry\"]\n",
    "\n",
    "#Returns second and third items only - The start index will be included, while the end index is not\n",
    "print(mylist[2:4])\n",
    "\n",
    "#Returns second, third and fourth items only - The start index will be included, while the end index is not\n",
    "print(mylist[2:5])"
   ]
  },
  {
   "cell_type": "markdown",
   "metadata": {},
   "source": [
    "#### Question\n",
    "\n",
    "![stocklist](pics/stocklist.png)\n",
    "\n",
    " - Refer to the above \"stocklist1\"\n",
    " - Write down the code to extract the [\"TSLA\",560] and ['MSFT', 215] from the nested list data structure"
   ]
  },
  {
   "cell_type": "code",
   "execution_count": 125,
   "metadata": {},
   "outputs": [
    {
     "data": {
      "text/plain": [
       "[['TSLA', 560], ['MSFT', 215]]"
      ]
     },
     "execution_count": 125,
     "metadata": {},
     "output_type": "execute_result"
    }
   ],
   "source": [
    "# Write down the answer here:\n",
    "stocklist1 = [[\"AMZN\",3100],[\"TSLA\",560],[\"MSFT\",215],[\"AAPL\",120]]\n",
    "\n",
    "stocklist1[1:3]"
   ]
  },
  {
   "cell_type": "markdown",
   "metadata": {},
   "source": [
    "## Updating/Changing items in a list\n",
    "- Lists are mutable, meaning their items can be changed (unlike string or tuple)\n",
    "- We can use the assignment operator (**=**) to change an item or a range of items\n",
    "- To change the value of a specific item, refer to the index number"
   ]
  },
  {
   "cell_type": "code",
   "execution_count": 126,
   "metadata": {},
   "outputs": [
    {
     "name": "stdout",
     "output_type": "stream",
     "text": [
      "['avocado', 'peach', 'orange', 'banana', 'apple', 'cherry']\n"
     ]
    }
   ],
   "source": [
    "mylist = [\"avocado\", \"mango\", \"orange\", \"banana\", \"apple\", \"cherry\"]\n",
    "mylist[1] = \"peach\"\n",
    "print(mylist)"
   ]
  },
  {
   "cell_type": "markdown",
   "metadata": {},
   "source": [
    "#### Question\n",
    "\n",
    "![stocklist](pics/stocklist.png)\n",
    "\n",
    " - Refer to the above \"stocklist1\"\n",
    " - Write down the code to update TSLA price from 560 to 600"
   ]
  },
  {
   "cell_type": "code",
   "execution_count": 127,
   "metadata": {},
   "outputs": [
    {
     "data": {
      "text/plain": [
       "[['AMZN', 3100], ['TSLA', 600], ['MSFT', 215], ['AAPL', 120]]"
      ]
     },
     "execution_count": 127,
     "metadata": {},
     "output_type": "execute_result"
    }
   ],
   "source": [
    "# Write down the answer here:\n",
    "stocklist1 = [[\"AMZN\",3100],[\"TSLA\",560],[\"MSFT\",215],[\"AAPL\",120]]\n",
    "\n",
    "stocklist1[1][1] = 600\n",
    "stocklist1"
   ]
  },
  {
   "cell_type": "code",
   "execution_count": null,
   "metadata": {},
   "outputs": [],
   "source": []
  },
  {
   "cell_type": "markdown",
   "metadata": {},
   "source": [
    "## Python List Methods\n",
    "\n",
    "- Python has set of built-in methods that are available with every list object\n",
    "- They are accessed as **list.method()**\n",
    "\n",
    "| Method | Description   |\n",
    "|:- |:- |\n",
    "|   append()  | Adds an item to the end of the list|\n",
    "|   clear()  | Removes all items from the list|\n",
    "|   copy()  | creates a new copy of the current list|\n",
    "|   count()  | Returns the count of the number of items passed as an argument|\n",
    "|   extend()  | Add all items of a list to the end of another list|\n",
    "|   index()  | Returns the index of the first item with the specified value|\n",
    "|   insert()  | Adds an item at the specified index position|\n",
    "|   pop()  | Removes an item from the list at the given index|\n",
    "|   remove()  | Removes the item with the specified value|\n",
    "|   reverse()  | Reverses the order of the list|\n",
    "|   sort()  | Sorts the list|\n",
    "\n",
    "<br><br><br><br>\n",
    "\n",
    "#### Some useful references:\n",
    "\n",
    "[Python List Methods](https://docs.python.org/3/tutorial/datastructures.html)\n",
    "\n",
    "[Python List Methods](https://www.w3schools.com/python/python_ref_list.asp)"
   ]
  },
  {
   "cell_type": "markdown",
   "metadata": {},
   "source": [
    "#### Python List append() method\n",
    "- The append() method adds an item to the end of the list"
   ]
  },
  {
   "cell_type": "code",
   "execution_count": 128,
   "metadata": {},
   "outputs": [
    {
     "name": "stdout",
     "output_type": "stream",
     "text": [
      "['apple', 'banana', 'cherry', 'orange']\n"
     ]
    }
   ],
   "source": [
    "fruits = [\"apple\", \"banana\", \"cherry\"]\n",
    "fruits.append(\"orange\")\n",
    "print(fruits)"
   ]
  },
  {
   "cell_type": "markdown",
   "metadata": {},
   "source": [
    "#### Python List clear() method\n",
    "- The clear() method removes all items from the list"
   ]
  },
  {
   "cell_type": "code",
   "execution_count": 129,
   "metadata": {},
   "outputs": [
    {
     "name": "stdout",
     "output_type": "stream",
     "text": [
      "[]\n"
     ]
    }
   ],
   "source": [
    "fruits = [\"apple\", \"banana\", \"cherry\"]\n",
    "fruits.clear()\n",
    "print(fruits)"
   ]
  },
  {
   "cell_type": "markdown",
   "metadata": {},
   "source": [
    "#### Python List copy() method\n",
    "- The copy() method returns a new copy of the current list\n",
    "- In Python a new list can not be copied by simply typing list2 = list1, for this copy() method needs to be used"
   ]
  },
  {
   "cell_type": "code",
   "execution_count": 130,
   "metadata": {},
   "outputs": [
    {
     "name": "stdout",
     "output_type": "stream",
     "text": [
      "['apple', 'banana', 'cherry']\n"
     ]
    }
   ],
   "source": [
    "fruits = [\"apple\", \"banana\", \"cherry\"]\n",
    "mylist = fruits.copy()\n",
    "print(mylist)"
   ]
  },
  {
   "cell_type": "markdown",
   "metadata": {},
   "source": [
    "#### Python List count() method\n",
    "- The count() method returns the number of times the specified item appearing in the list\n",
    "- This is a type of a pattern match technique"
   ]
  },
  {
   "cell_type": "code",
   "execution_count": 131,
   "metadata": {},
   "outputs": [
    {
     "data": {
      "text/plain": [
       "2"
      ]
     },
     "execution_count": 131,
     "metadata": {},
     "output_type": "execute_result"
    }
   ],
   "source": [
    "fruits = [\"apple\", \"banana\", \"cherry\", \"banana\"]\n",
    "\n",
    "fruits.count(\"banana\")"
   ]
  },
  {
   "cell_type": "markdown",
   "metadata": {},
   "source": [
    "#### Python List extend()\n",
    "- The extend() method adds all items from a specified list to the end of the current list"
   ]
  },
  {
   "cell_type": "code",
   "execution_count": 132,
   "metadata": {},
   "outputs": [
    {
     "name": "stdout",
     "output_type": "stream",
     "text": [
      "['apple', 'banana', 'cherry', 70, 80, 90]\n"
     ]
    }
   ],
   "source": [
    "fruits  = [\"apple\", \"banana\", \"cherry\"]\n",
    "results = [70, 80, 90]\n",
    "\n",
    "fruits.extend(results)\n",
    "print(fruits)"
   ]
  },
  {
   "cell_type": "markdown",
   "metadata": {},
   "source": [
    "#### Python List index()\n",
    "- The index() method returns the index of the specified item in the list"
   ]
  },
  {
   "cell_type": "code",
   "execution_count": 133,
   "metadata": {},
   "outputs": [
    {
     "data": {
      "text/plain": [
       "2"
      ]
     },
     "execution_count": 133,
     "metadata": {},
     "output_type": "execute_result"
    }
   ],
   "source": [
    "fruits = [\"apple\", \"banana\", \"cherry\"]\n",
    "\n",
    "fruits.index(\"cherry\")"
   ]
  },
  {
   "cell_type": "markdown",
   "metadata": {},
   "source": [
    "#### Python List insert()\n",
    "- The insert() method adds an item at the specified index position"
   ]
  },
  {
   "cell_type": "code",
   "execution_count": 134,
   "metadata": {},
   "outputs": [
    {
     "name": "stdout",
     "output_type": "stream",
     "text": [
      "['apple', 'orange', 'banana', 'cherry']\n"
     ]
    }
   ],
   "source": [
    "fruits = [\"apple\", \"banana\", \"cherry\"]\n",
    "\n",
    "fruits.insert(1, \"orange\")\n",
    "\n",
    "print(fruits)"
   ]
  },
  {
   "cell_type": "markdown",
   "metadata": {},
   "source": [
    "#### Python List pop()\n",
    "- The pop() method removes an item from the list at the given index and returns the removed item"
   ]
  },
  {
   "cell_type": "code",
   "execution_count": 135,
   "metadata": {},
   "outputs": [
    {
     "data": {
      "text/plain": [
       "'banana'"
      ]
     },
     "execution_count": 135,
     "metadata": {},
     "output_type": "execute_result"
    }
   ],
   "source": [
    "fruits = [\"apple\", \"banana\", \"cherry\"]\n",
    "\n",
    "fruits.pop(1)"
   ]
  },
  {
   "cell_type": "markdown",
   "metadata": {},
   "source": [
    "#### Python List remove()\n",
    "- The remove() method removes the first matching item (which is passed as an argument) from the list"
   ]
  },
  {
   "cell_type": "code",
   "execution_count": 136,
   "metadata": {},
   "outputs": [
    {
     "name": "stdout",
     "output_type": "stream",
     "text": [
      "['apple', 'cherry', 'banana']\n"
     ]
    }
   ],
   "source": [
    "fruits = [\"apple\", \"banana\", \"cherry\",\"banana\"]\n",
    "\n",
    "fruits.remove(\"banana\")\n",
    "\n",
    "print(fruits)"
   ]
  },
  {
   "cell_type": "markdown",
   "metadata": {},
   "source": [
    "#### Python List reverse()\n",
    "- The reverse() method reverses the order of the list"
   ]
  },
  {
   "cell_type": "code",
   "execution_count": 137,
   "metadata": {},
   "outputs": [
    {
     "name": "stdout",
     "output_type": "stream",
     "text": [
      "['cherry', 'banana', 'apple']\n"
     ]
    }
   ],
   "source": [
    "fruits = [\"apple\", \"banana\", \"cherry\"]\n",
    "\n",
    "fruits.reverse()\n",
    "\n",
    "print(fruits)"
   ]
  },
  {
   "cell_type": "markdown",
   "metadata": {},
   "source": [
    "#### Python List sort()\n",
    "- The sort() method sorts the items in the list in either ascending or descending order"
   ]
  },
  {
   "cell_type": "code",
   "execution_count": 138,
   "metadata": {},
   "outputs": [
    {
     "name": "stdout",
     "output_type": "stream",
     "text": [
      "['BMW', 'Ford', 'Toyota', 'Volkswagen']\n"
     ]
    }
   ],
   "source": [
    "#Sort the list ascending:\n",
    "\n",
    "cars = [\"Ford\", \"BMW\", \"Toyota\", \"Volkswagen\"]\n",
    "\n",
    "cars.sort()\n",
    "\n",
    "print(cars)"
   ]
  },
  {
   "cell_type": "code",
   "execution_count": 139,
   "metadata": {},
   "outputs": [
    {
     "name": "stdout",
     "output_type": "stream",
     "text": [
      "['Volkswagen', 'Toyota', 'Ford', 'BMW']\n"
     ]
    }
   ],
   "source": [
    "#Sort the list descending:\n",
    "\n",
    "cars = [\"Ford\", \"BMW\", \"Toyota\", \"Volkswagen\"]\n",
    "\n",
    "cars.sort(reverse=True)\n",
    "\n",
    "print(cars)"
   ]
  },
  {
   "cell_type": "markdown",
   "metadata": {},
   "source": [
    "#### Question\n",
    "\n",
    "![stocklist](pics/stocklist2.png)\n",
    "\n",
    " - Refer to the \"stocklist1\"\n",
    " - Append ['GOOGL', 1800] to the list, and remove ['AMZN', 3100] from the list"
   ]
  },
  {
   "cell_type": "code",
   "execution_count": 140,
   "metadata": {},
   "outputs": [
    {
     "name": "stdout",
     "output_type": "stream",
     "text": [
      "[['TSLA', 600], ['MSFT', 215], ['AAPL', 120], ['GOOGL', 1800]]\n"
     ]
    }
   ],
   "source": [
    "# Write down the answer here:\n",
    "stocklist1 = [[\"AMZN\",3100],[\"TSLA\",600],[\"MSFT\",215],[\"AAPL\",120]]\n",
    "\n",
    "stocklist1.append([\"GOOGL\", 1800])\n",
    "stocklist1.remove([\"AMZN\", 3100])\n",
    "print(stocklist1)"
   ]
  },
  {
   "cell_type": "code",
   "execution_count": null,
   "metadata": {},
   "outputs": [],
   "source": []
  },
  {
   "cell_type": "markdown",
   "metadata": {},
   "source": [
    "## Tuples\n",
    "- Tuple is similar to a list in terms of indexing\n",
    "- Tuple is an **immutable(unchangeable)** ordered sequence of items, meaning items inside a Tuple can not be changed/updated\n",
    "- In Python a tuple is created by placing all the items inside **parentheses ( )**, separated by commas\n",
    "- Tuple can contain any number of items with different data types (integer, float, string etc.)\n",
    "\n",
    "\n",
    "![tuple](pics/tuple.png)"
   ]
  },
  {
   "cell_type": "code",
   "execution_count": 141,
   "metadata": {},
   "outputs": [
    {
     "name": "stdout",
     "output_type": "stream",
     "text": [
      "(12, 28, 37)\n"
     ]
    },
    {
     "data": {
      "text/plain": [
       "tuple"
      ]
     },
     "execution_count": 141,
     "metadata": {},
     "output_type": "execute_result"
    }
   ],
   "source": [
    "# tuple of integers\n",
    "mytuple = (12, 28, 37)\n",
    "print(mytuple)\n",
    "type(mytuple)"
   ]
  },
  {
   "cell_type": "code",
   "execution_count": 142,
   "metadata": {},
   "outputs": [
    {
     "name": "stdout",
     "output_type": "stream",
     "text": [
      "('avocado', 'mango', 'orange', 'banana', 'apple')\n"
     ]
    },
    {
     "data": {
      "text/plain": [
       "tuple"
      ]
     },
     "execution_count": 142,
     "metadata": {},
     "output_type": "execute_result"
    }
   ],
   "source": [
    "# tuple of strings\n",
    "mytuple = (\"avocado\", \"mango\", \"orange\", \"banana\", \"apple\")\n",
    "print(mytuple)\n",
    "type(mytuple)"
   ]
  },
  {
   "cell_type": "code",
   "execution_count": 143,
   "metadata": {},
   "outputs": [
    {
     "name": "stdout",
     "output_type": "stream",
     "text": [
      "(1, 'apple', 3.4, True)\n"
     ]
    },
    {
     "data": {
      "text/plain": [
       "tuple"
      ]
     },
     "execution_count": 143,
     "metadata": {},
     "output_type": "execute_result"
    }
   ],
   "source": [
    "# tuple with mixed data types\n",
    "mytuple = (1, \"apple\", 3.4, True)\n",
    "print(mytuple)\n",
    "type(mytuple)"
   ]
  },
  {
   "cell_type": "code",
   "execution_count": 144,
   "metadata": {},
   "outputs": [
    {
     "name": "stdout",
     "output_type": "stream",
     "text": [
      "(('Sam', 87), ('Tom', 94), ('Adam', 74))\n"
     ]
    },
    {
     "data": {
      "text/plain": [
       "tuple"
      ]
     },
     "execution_count": 144,
     "metadata": {},
     "output_type": "execute_result"
    }
   ],
   "source": [
    "# A tuple can also have another tuple as an item\n",
    "# This type of tuple is called as a nested tuple\n",
    "results = ((\"Sam\",87),(\"Tom\",94),(\"Adam\",74))\n",
    "print(results)\n",
    "type(results)"
   ]
  },
  {
   "cell_type": "code",
   "execution_count": 145,
   "metadata": {},
   "outputs": [
    {
     "data": {
      "text/plain": [
       "5"
      ]
     },
     "execution_count": 145,
     "metadata": {},
     "output_type": "execute_result"
    }
   ],
   "source": [
    "# Tuple Length - To determine how many items a tuple has, use the len() function:\n",
    "mytuple = (\"avocado\", \"mango\", \"orange\", \"banana\", \"apple\")\n",
    "len(mytuple)"
   ]
  },
  {
   "cell_type": "markdown",
   "metadata": {},
   "source": [
    "#### Question\n",
    "\n",
    "![tuple](pics/pandas_series_design.png)\n",
    "\n",
    " - Write down the code to design the above tuple data structure\n",
    " - Save the list as \"agetuple1\"\n",
    " - also determine the length of the tuple"
   ]
  },
  {
   "cell_type": "code",
   "execution_count": 146,
   "metadata": {},
   "outputs": [
    {
     "name": "stdout",
     "output_type": "stream",
     "text": [
      "(22, 15, 28, 43, 30, 8, 65)\n"
     ]
    },
    {
     "data": {
      "text/plain": [
       "tuple"
      ]
     },
     "execution_count": 146,
     "metadata": {},
     "output_type": "execute_result"
    }
   ],
   "source": [
    "# Write down the answer here:\n",
    "\n",
    "agetuple1 = (22, 15, 28, 43, 30, 8, 65)\n",
    "print(agetuple1)\n",
    "type(agetuple1)"
   ]
  },
  {
   "cell_type": "markdown",
   "metadata": {},
   "source": [
    "#### Question\n",
    "\n",
    "![stocktuple](pics/stocklist.png)\n",
    "\n",
    " - Write down the code to design the above nested tuple data structure\n",
    " - Save the list as \"stocktuple1\""
   ]
  },
  {
   "cell_type": "code",
   "execution_count": 147,
   "metadata": {},
   "outputs": [
    {
     "name": "stdout",
     "output_type": "stream",
     "text": [
      "(('AMZN', 3100), ('TSLA', 560), ('MSFT', 215), ('AAPL', 120))\n"
     ]
    },
    {
     "data": {
      "text/plain": [
       "tuple"
      ]
     },
     "execution_count": 147,
     "metadata": {},
     "output_type": "execute_result"
    }
   ],
   "source": [
    "# Write down the answer here:\n",
    "\n",
    "stocktuple1 = ((\"AMZN\",3100),(\"TSLA\",560),(\"MSFT\",215),(\"AAPL\",120))\n",
    "print(stocktuple1)\n",
    "type(stocktuple1)"
   ]
  },
  {
   "cell_type": "markdown",
   "metadata": {},
   "source": [
    "## Subsetting or Slicing Python tuple"
   ]
  },
  {
   "cell_type": "code",
   "execution_count": 148,
   "metadata": {},
   "outputs": [
    {
     "name": "stdout",
     "output_type": "stream",
     "text": [
      "mango\n",
      "orange\n"
     ]
    }
   ],
   "source": [
    "mytuple = (\"avocado\", \"mango\", \"orange\", \"banana\", \"apple\", \"cherry\")\n",
    "print(mytuple[1])\n",
    "print(mytuple[-4])"
   ]
  },
  {
   "cell_type": "markdown",
   "metadata": {},
   "source": [
    "## Accessing Range of items\n",
    "\n",
    "- you can access a range of items in a tuple by using the **(:)** colon operator\n",
    "- The start index will be included, while the end index is not\n",
    "\n",
    "![range](pics/slicing.png)"
   ]
  },
  {
   "cell_type": "code",
   "execution_count": 149,
   "metadata": {
    "scrolled": true
   },
   "outputs": [
    {
     "name": "stdout",
     "output_type": "stream",
     "text": [
      "('orange', 'banana')\n",
      "('orange', 'banana', 'apple')\n"
     ]
    }
   ],
   "source": [
    "mytuple = (\"avocado\", \"mango\", \"orange\", \"banana\", \"apple\", \"cherry\")\n",
    "\n",
    "#Returns second and third items only - The start index will be included, while the end index is not\n",
    "print(mytuple[2:4])\n",
    "\n",
    "#Returns second, third and fourth items only - The start index will be included, while the end index is not\n",
    "print(mytuple[2:5])"
   ]
  },
  {
   "cell_type": "markdown",
   "metadata": {},
   "source": [
    "## Python Tuple Methods\n",
    "\n",
    "- Python has set of built-in methods that are available with every tuple object\n",
    "- They are accessed as **tuple.method()**\n",
    "\n",
    "| Method | Description   |\n",
    "|:- |:- |\n",
    "|count()|Returns the number of times a specific value occurs in a tuple|\n",
    "|index()|Searches the tuple for a specific value and returns the position of where the value was found|\n",
    "\n",
    "\n",
    "<br><br><br><br><br>\n",
    "\n",
    "#### Some useful references:\n",
    "\n",
    "[Python Tuple Methods](https://docs.python.org/3/tutorial/datastructures.html#tuples-and-sequences)\n",
    "\n",
    "[Python Tuple Methods](https://www.w3schools.com/python/python_ref_tuple.asp)"
   ]
  },
  {
   "cell_type": "markdown",
   "metadata": {},
   "source": [
    "## Sets\n",
    "- A set is an unordered and unindexed collection of items, without any duplicate items. In a set every item is unique (no duplicates)\n",
    "- A set is created by placing all the items/elements inside **curly braces { }**, separated by commas\n",
    "- It is also possible to use the set() constructor to make a set, this is useful when converting a list/tuple to a set\n",
    "- A sets can also be used to perform mathematical set operations like union, intersection, etc\n",
    "- A set can contain any number of items with different data types (integer, float, string, etc..)\n",
    "\n",
    "\n",
    "![set](pics/set.png)\n",
    "\n",
    "\n",
    "### Sets vs Lists and Tuples\n",
    "- Lists and tuples store values in a sequence (ordered and indexed)\n",
    "- sets unlike lists or tuples, cannot have multiple occurrences of the same element and store unordered values\n",
    "\n",
    "### Practical Use Cases of Python Sets\n",
    "Because sets cannot have multiple occurrences of the same item/element, sets are highly useful while removing duplicate values from a list or tuple, and also while performing common math operations like unions, intersections, etc.\n"
   ]
  },
  {
   "cell_type": "code",
   "execution_count": 150,
   "metadata": {},
   "outputs": [
    {
     "name": "stdout",
     "output_type": "stream",
     "text": [
      "{37, 12, 92, 56, 28}\n"
     ]
    },
    {
     "data": {
      "text/plain": [
       "set"
      ]
     },
     "execution_count": 150,
     "metadata": {},
     "output_type": "execute_result"
    }
   ],
   "source": [
    "# set of integers\n",
    "myset = {92, 56, 12, 28, 37}\n",
    "print(myset)\n",
    "type(myset)"
   ]
  },
  {
   "cell_type": "code",
   "execution_count": 151,
   "metadata": {},
   "outputs": [
    {
     "name": "stdout",
     "output_type": "stream",
     "text": [
      "{'banana', 'mango', 'orange', 'avocado', 'apple'}\n"
     ]
    },
    {
     "data": {
      "text/plain": [
       "set"
      ]
     },
     "execution_count": 151,
     "metadata": {},
     "output_type": "execute_result"
    }
   ],
   "source": [
    "# set of strings\n",
    "myset = {\"avocado\", \"mango\", \"orange\", \"banana\", \"apple\"}\n",
    "print(myset)\n",
    "type(myset)"
   ]
  },
  {
   "cell_type": "code",
   "execution_count": 152,
   "metadata": {},
   "outputs": [
    {
     "name": "stdout",
     "output_type": "stream",
     "text": [
      "{'apple', 1, 3.4}\n"
     ]
    },
    {
     "data": {
      "text/plain": [
       "set"
      ]
     },
     "execution_count": 152,
     "metadata": {},
     "output_type": "execute_result"
    }
   ],
   "source": [
    "# set with mixed data types\n",
    "myset = {1, \"apple\", 3.4, True}\n",
    "print(myset)\n",
    "type(myset)"
   ]
  },
  {
   "cell_type": "code",
   "execution_count": 153,
   "metadata": {},
   "outputs": [
    {
     "name": "stdout",
     "output_type": "stream",
     "text": [
      "{1, 2, 3, 4, 7}\n"
     ]
    }
   ],
   "source": [
    "# set cannot have duplicate items/elements\n",
    "myset = {7, 7, 1, 2, 2, 3, 4, 3, 2}\n",
    "print(myset)"
   ]
  },
  {
   "cell_type": "code",
   "execution_count": 154,
   "metadata": {},
   "outputs": [
    {
     "name": "stdout",
     "output_type": "stream",
     "text": [
      "{1, 2, 3, 4, 7}\n"
     ]
    }
   ],
   "source": [
    "# we can make set from a list\n",
    "# This code converts the list into a set and removes all the duplicates from the list, while leaving only the unique values\n",
    "myset = set([7, 7, 1, 2, 2, 3, 4, 3, 2])\n",
    "print(myset)"
   ]
  },
  {
   "cell_type": "markdown",
   "metadata": {},
   "source": [
    "### Modifying a Set\n",
    "- Sets are **mutable.** However, since they are unordered, indexing has no meaning\n",
    "- We cannot access or change an items/element of a set using indexing or slicing, sets does not support it!\n",
    "- Eg: myset[2] will result in an error"
   ]
  },
  {
   "cell_type": "code",
   "execution_count": 155,
   "metadata": {},
   "outputs": [
    {
     "name": "stdout",
     "output_type": "stream",
     "text": [
      "{37, 12, 92, 56, 28}\n",
      "{37, 12, 92, 84, 56, 28}\n",
      "{37, 12, 44, 92, 112, 84, 53, 56, 28}\n",
      "{37, 12, 92, 112, 84, 53, 56, 28}\n"
     ]
    }
   ],
   "source": [
    "# creating a set\n",
    "#myset = set([92, 56, 12, 28, 37])\n",
    "\n",
    "myset = {92, 56, 12, 28, 37}\n",
    "print(myset)\n",
    "\n",
    "# adding a single items to the set using add() method\n",
    "myset.add(84)\n",
    "print(myset)\n",
    "\n",
    "# adding multiple items to the set using the update() method\n",
    "myset.update([44, 53, 112])\n",
    "print(myset)\n",
    "\n",
    "# remove an element using remove() method\n",
    "myset.remove(44)\n",
    "print(myset)"
   ]
  },
  {
   "cell_type": "markdown",
   "metadata": {},
   "source": [
    "### Python Set Operations\n",
    "- The union operator **\"|\"** combines two sets to form a new one containing items from both\n",
    "- The intersection operator **\"&\"** gets items common only to both\n",
    "- The difference operator **\"-\"** gets items in the first set but not in the second\n",
    "- The symmetric difference operator **\"^\"** gets items in either set, but not both (excluding the intersection)"
   ]
  },
  {
   "cell_type": "markdown",
   "metadata": {},
   "source": [
    "![set](pics/PythonSetOperatioons.png)"
   ]
  },
  {
   "cell_type": "code",
   "execution_count": 156,
   "metadata": {},
   "outputs": [],
   "source": [
    "# Let us consider the following two sets\n",
    "\n",
    "dataScientist = {\"Python\", \"R\", \"ML\", \"SQL\", \"PowerBI\", \"Tableau\"}\n",
    "\n",
    "dataEngineer = {\"VB\", \"SQL\", \"Excel\", \"Hadoop\", \"PowerBI\"}"
   ]
  },
  {
   "cell_type": "code",
   "execution_count": 157,
   "metadata": {},
   "outputs": [
    {
     "name": "stdout",
     "output_type": "stream",
     "text": [
      "{'Python', 'VB', 'Hadoop', 'ML', 'Excel', 'R', 'PowerBI', 'SQL', 'Tableau'}\n",
      "{'Python', 'VB', 'Hadoop', 'ML', 'Excel', 'R', 'PowerBI', 'SQL', 'Tableau'}\n"
     ]
    }
   ],
   "source": [
    "# Union is performed using \"|\" operator\n",
    "print(dataScientist | dataEngineer)\n",
    "\n",
    "# Same can be accomplished using the union() method\n",
    "print(dataScientist.union(dataEngineer))"
   ]
  },
  {
   "cell_type": "code",
   "execution_count": 158,
   "metadata": {},
   "outputs": [
    {
     "name": "stdout",
     "output_type": "stream",
     "text": [
      "{'PowerBI', 'SQL'}\n",
      "{'PowerBI', 'SQL'}\n"
     ]
    }
   ],
   "source": [
    "# Intersection is performed using \"&\" operator\n",
    "print(dataScientist & dataEngineer)\n",
    "\n",
    "# Same can be accomplished using the intersection() method\n",
    "print(dataScientist.intersection(dataEngineer))"
   ]
  },
  {
   "cell_type": "code",
   "execution_count": 159,
   "metadata": {},
   "outputs": [
    {
     "name": "stdout",
     "output_type": "stream",
     "text": [
      "{'Python', 'R', 'ML', 'Tableau'}\n",
      "{'Python', 'R', 'ML', 'Tableau'}\n"
     ]
    }
   ],
   "source": [
    "# Difference is performed using \"-\" operator\n",
    "print(dataScientist - dataEngineer)\n",
    "\n",
    "#Same can be accomplished using the difference() method\n",
    "print(dataScientist.difference(dataEngineer))"
   ]
  },
  {
   "cell_type": "code",
   "execution_count": 160,
   "metadata": {},
   "outputs": [
    {
     "name": "stdout",
     "output_type": "stream",
     "text": [
      "{'Python', 'VB', 'Hadoop', 'ML', 'Excel', 'R', 'Tableau'}\n",
      "{'Python', 'VB', 'Hadoop', 'ML', 'Excel', 'R', 'Tableau'}\n"
     ]
    }
   ],
   "source": [
    "# Symmetric difference is performed using ^ operator\n",
    "print(dataScientist ^ dataEngineer)\n",
    "\n",
    "# Same can be accomplished using the method symmetric_difference()\n",
    "print(dataScientist.symmetric_difference(dataEngineer))"
   ]
  },
  {
   "cell_type": "markdown",
   "metadata": {},
   "source": [
    "## Python Set Methods\n",
    "\n",
    "- Python has set of built-in methods that are available with every set object\n",
    "- They are accessed as **set.method()**\n",
    "\n",
    "| Method | Description   |\n",
    "|:- |:- |\n",
    "|add()|Adds new items to the set|\n",
    "|clear()|Removes all items from the set|\n",
    "|copy()|Returns a copy of the set|\n",
    "|difference()|Returns a set containing the difference between two or more sets|\n",
    "|difference_update()|Removes the items in this set that are also included in another, specified set|\n",
    "|discard()|Removes the specified item from the set|\n",
    "|intersection()|Returns a set, that is the intersection of two other sets|\n",
    "|intersection_update()|Removes the items in the current set that are not present in other, specified set(s)|\n",
    "|isdisjoint()|Returns whether two sets have a intersection or not - boolean answer|\n",
    "|issubset()|Returns whether another set contains current set or not - boolean answer|\n",
    "|issuperset()|Returns whether current set contains another set or not -- boolean answer|\n",
    "|pop()|Removes items from the set|\n",
    "|remove()|Removes the specified item|\n",
    "|symmetric_difference()|Returns a set with the symmetric differences of two sets|\n",
    "|symmetric_difference_update()|inserts the symmetric differences from this set and another|\n",
    "|union()|Return a set containing the union of sets|\n",
    "|update()|Update the set with the union of this set and others|\n",
    "\n",
    "\n",
    "\n",
    "<br><br>\n",
    "\n",
    "#### Some useful references:\n",
    "\n",
    "[Python Set Methods](https://docs.python.org/3/tutorial/datastructures.html#sets)\n",
    "\n",
    "[Python Set Methods](https://www.w3schools.com/python/python_ref_set.asp)\n",
    "\n"
   ]
  },
  {
   "cell_type": "code",
   "execution_count": null,
   "metadata": {},
   "outputs": [],
   "source": []
  },
  {
   "cell_type": "markdown",
   "metadata": {},
   "source": [
    "#### Question\n",
    "\n",
    "![prodset](pics/prodset.png)\n",
    "\n",
    "- You have been given list containing various duplicating product categories, your task is to find out only the unique product categories from the below list\n",
    "- create a new variable called \"uniquecat1\" to save the results"
   ]
  },
  {
   "cell_type": "code",
   "execution_count": 161,
   "metadata": {},
   "outputs": [
    {
     "data": {
      "text/plain": [
       "{'Furniture', 'Office Supplies', 'Technology'}"
      ]
     },
     "execution_count": 161,
     "metadata": {},
     "output_type": "execute_result"
    }
   ],
   "source": [
    "# Write down the answer here:\n",
    "\n",
    "# convert the following list into a set and removes all the duplicates from the list, while leaving only the unique values\n",
    "category = [\"Office Supplies\",\"Technology\",\"Office Supplies\",\"Office Supplies\",\"Technology\",\"Office Supplies\",\"Technology\",\"Technology\",\"Office Supplies\",\n",
    "\"Technology\",\"Office Supplies\",\"Office Supplies\",\"Technology\",\"Office Supplies\",\"Technology\",\"Office Supplies\",\"Office Supplies\",\"Furniture\",\n",
    "\"Office Supplies\",\"Technology\"]\n",
    "\n",
    "uniquecat1 = set(category)\n",
    "\n",
    "uniquecat1"
   ]
  },
  {
   "cell_type": "markdown",
   "metadata": {},
   "source": [
    "#### Question\n",
    "\n",
    "![prodcatset](pics/prodcatset.png)\n",
    "\n",
    "- You have been given two sets containing popular product categories from UK and France\n",
    "- Using these two sets carryout the following tasks"
   ]
  },
  {
   "cell_type": "code",
   "execution_count": 162,
   "metadata": {},
   "outputs": [
    {
     "name": "stdout",
     "output_type": "stream",
     "text": [
      "{'Office Supplies', 'Technology'}\n",
      "{'Office Supplies', 'Technology'}\n"
     ]
    }
   ],
   "source": [
    "# Write down the answer here:\n",
    "\n",
    "uk = set([\"Office Supplies\",\"Technology\",\"Office Supplies\",\"Office Supplies\",\"Technology\",\"Office Supplies\",\"Toys\",\"Technology\",\n",
    "\"Office Supplies\",\"Toys\"])\n",
    "\n",
    "france = set([\"Office Supplies\",\"Office Supplies\",\"Office Supplies\",\"Technology\",\"Office Supplies\",\"Office Supplies\",\"Technology\",\n",
    "\"Office Supplies\",\"Furniture\",\"Office Supplies\"])\n",
    "\n",
    "# Find out common product categories popular in both UK and France\n",
    "print(uk & france)\n",
    "print(uk.intersection(france))"
   ]
  },
  {
   "cell_type": "code",
   "execution_count": 163,
   "metadata": {},
   "outputs": [
    {
     "name": "stdout",
     "output_type": "stream",
     "text": [
      "{'Toys'}\n",
      "{'Toys'}\n",
      "{'Furniture'}\n",
      "{'Furniture'}\n"
     ]
    }
   ],
   "source": [
    "# Find out product categories only popular in UK but not in France\n",
    "print(uk - france)\n",
    "print(uk.difference(france))\n",
    "\n",
    "# Find out product categories only popular in France but not in UK\n",
    "print(france - uk)\n",
    "print(france.difference(uk))"
   ]
  },
  {
   "cell_type": "markdown",
   "metadata": {},
   "source": [
    "## Dictionary\n",
    "- A dictionary is a collection of items which is unordered, **mutable(changeable)** and indexed\n",
    "- A dictionary is created by placing all items/elements inside **curly braces { }**, separated by commas, and each item in a dictionary has a key/value pairs\n",
    "- we can also create a dictionary using the built-in dict() function\n",
    "- An item has a key(unique index) and a corresponding value that is expressed as a pair (key: value)\n",
    "\n",
    "![dict](pics/dict.png)\n"
   ]
  },
  {
   "cell_type": "code",
   "execution_count": 164,
   "metadata": {},
   "outputs": [
    {
     "name": "stdout",
     "output_type": "stream",
     "text": [
      "{'name': 'Dan', 'age': 28, 'birth year': 1975}\n"
     ]
    },
    {
     "data": {
      "text/plain": [
       "dict"
      ]
     },
     "execution_count": 164,
     "metadata": {},
     "output_type": "execute_result"
    }
   ],
   "source": [
    "# Creating a dictionary with string keys\n",
    "mydict = {\"name\": \"Dan\", \"age\": 28, \"birth year\": 1975}\n",
    "print(mydict)\n",
    "type(mydict)"
   ]
  },
  {
   "cell_type": "code",
   "execution_count": 165,
   "metadata": {},
   "outputs": [
    {
     "name": "stdout",
     "output_type": "stream",
     "text": [
      "{111: 'HR', 112: 'IT', 113: 'Sales'}\n"
     ]
    },
    {
     "data": {
      "text/plain": [
       "dict"
      ]
     },
     "execution_count": 165,
     "metadata": {},
     "output_type": "execute_result"
    }
   ],
   "source": [
    "# Creating a dictionary with integer keys\n",
    "mydict = {111: \"HR\", 112: \"IT\", 113:\"Sales\"}\n",
    "print(mydict)\n",
    "type(mydict)"
   ]
  },
  {
   "cell_type": "code",
   "execution_count": 166,
   "metadata": {},
   "outputs": [
    {
     "name": "stdout",
     "output_type": "stream",
     "text": [
      "{111: 'HR', 112: 'IT', 113: 'Sales'}\n"
     ]
    },
    {
     "data": {
      "text/plain": [
       "dict"
      ]
     },
     "execution_count": 166,
     "metadata": {},
     "output_type": "execute_result"
    }
   ],
   "source": [
    "# using dict()\n",
    "mydict = dict({111: \"HR\", 112: \"IT\", 113:\"Sales\"})\n",
    "print(mydict)\n",
    "type(mydict)"
   ]
  },
  {
   "cell_type": "markdown",
   "metadata": {},
   "source": [
    "### Accessing Items from Dictionary\n",
    "- While indexing is used with other data types to access values, a dictionary uses keys\n",
    "- Keys can be used either inside square brackets [] or with the get() method"
   ]
  },
  {
   "cell_type": "code",
   "execution_count": 167,
   "metadata": {},
   "outputs": [
    {
     "name": "stdout",
     "output_type": "stream",
     "text": [
      "Dan\n",
      "28\n",
      "Dan\n",
      "28\n"
     ]
    }
   ],
   "source": [
    "mydict = {\"name\": \"Dan\", \"age\": 28, \"birth year\": 1975}\n",
    "\n",
    "# Using square brackets [] to access item values\n",
    "print(mydict[\"name\"])\n",
    "print(mydict[\"age\"])\n",
    "\n",
    "# Using get() method to access item values\n",
    "print(mydict.get(\"name\"))\n",
    "print(mydict.get(\"age\"))"
   ]
  },
  {
   "cell_type": "code",
   "execution_count": 168,
   "metadata": {},
   "outputs": [
    {
     "data": {
      "text/plain": [
       "dict_keys(['name', 'age', 'birth year'])"
      ]
     },
     "execution_count": 168,
     "metadata": {},
     "output_type": "execute_result"
    }
   ],
   "source": [
    "# returns keys of the dictionary\n",
    "mydict.keys()"
   ]
  },
  {
   "cell_type": "code",
   "execution_count": 169,
   "metadata": {},
   "outputs": [
    {
     "data": {
      "text/plain": [
       "dict_values(['Dan', 28, 1975])"
      ]
     },
     "execution_count": 169,
     "metadata": {},
     "output_type": "execute_result"
    }
   ],
   "source": [
    "# returns values of the dictionary\n",
    "mydict.values()"
   ]
  },
  {
   "cell_type": "code",
   "execution_count": 170,
   "metadata": {},
   "outputs": [
    {
     "data": {
      "text/plain": [
       "dict_items([('name', 'Dan'), ('age', 28), ('birth year', 1975)])"
      ]
     },
     "execution_count": 170,
     "metadata": {},
     "output_type": "execute_result"
    }
   ],
   "source": [
    "# return the dictionary's key-value pairs\n",
    "mydict.items()"
   ]
  },
  {
   "cell_type": "markdown",
   "metadata": {},
   "source": [
    "### Updating/Changing items in a Dictionary\n",
    "- Dictionaries are mutable, add new items or change the value of existing items by using an assignment operator\n"
   ]
  },
  {
   "cell_type": "code",
   "execution_count": 171,
   "metadata": {},
   "outputs": [
    {
     "name": "stdout",
     "output_type": "stream",
     "text": [
      "{'name': 'Dan', 'age': 35, 'birth year': 1970}\n",
      "{'name': 'Dan', 'age': 35, 'birth year': 1970, 'city': 'London'}\n"
     ]
    }
   ],
   "source": [
    "mydict = {\"name\": \"Dan\", \"age\": 28, \"birth year\": 1975}\n",
    "\n",
    "# Changing and adding Dictionary Items\n",
    "\n",
    "# update value\n",
    "mydict[\"age\"] = 35\n",
    "\n",
    "# update value\n",
    "mydict[\"birth year\"] = 1970\n",
    "print(mydict)\n",
    "\n",
    "# add new item\n",
    "mydict[\"city\"] = \"London\"\n",
    "print(mydict)"
   ]
  },
  {
   "cell_type": "markdown",
   "metadata": {},
   "source": [
    "### Removing items from Dictionary\n",
    "- We can remove item from a dictionary by using the pop() method. This method removes an item with the provided key and returns the value\n",
    "\n",
    "- The popitem() method can be used to remove and return an arbitrary (key, value) item pair from the dictionary\n",
    "\n",
    "- All the items can be removed at once, using the clear() method\n",
    "\n",
    "- We can also use the del keyword to remove individual items or the entire dictionary itself"
   ]
  },
  {
   "cell_type": "code",
   "execution_count": 172,
   "metadata": {},
   "outputs": [
    {
     "name": "stdout",
     "output_type": "stream",
     "text": [
      "Dan\n",
      "{'age': 28, 'birth year': 1975}\n"
     ]
    }
   ],
   "source": [
    "mydict = {\"name\": \"Dan\", \"age\": 28, \"birth year\": 1975}\n",
    "\n",
    "# remove a particular item, returns its value\n",
    "print(mydict.pop(\"name\"))\n",
    "\n",
    "# name key is removed in the output\n",
    "print(mydict)"
   ]
  },
  {
   "cell_type": "code",
   "execution_count": 173,
   "metadata": {},
   "outputs": [
    {
     "name": "stdout",
     "output_type": "stream",
     "text": [
      "('birth year', 1975)\n",
      "{'name': 'Dan', 'age': 28}\n"
     ]
    }
   ],
   "source": [
    "mydict = {\"name\": \"Dan\", \"age\": 28, \"birth year\": 1975}\n",
    "\n",
    "# removes the last inserted key-value pair\n",
    "print(mydict.popitem())\n",
    "\n",
    "# last item is removed in the output\n",
    "print(mydict)"
   ]
  },
  {
   "cell_type": "code",
   "execution_count": 174,
   "metadata": {},
   "outputs": [
    {
     "name": "stdout",
     "output_type": "stream",
     "text": [
      "{}\n"
     ]
    }
   ],
   "source": [
    "mydict = {\"name\": \"Dan\", \"age\": 28, \"birth year\": 1975}\n",
    "\n",
    "# remove all items\n",
    "mydict.clear()\n",
    "print(mydict)"
   ]
  },
  {
   "cell_type": "code",
   "execution_count": 175,
   "metadata": {},
   "outputs": [],
   "source": [
    "mydict = {\"name\": \"Dan\", \"age\": 28, \"birth year\": 1975}\n",
    "\n",
    "# delete the dictionary itself\n",
    "del mydict"
   ]
  },
  {
   "cell_type": "code",
   "execution_count": null,
   "metadata": {},
   "outputs": [],
   "source": []
  },
  {
   "cell_type": "markdown",
   "metadata": {},
   "source": [
    "#### Question\n",
    "\n",
    "![dict](pics/dict2.png)\n",
    "\n",
    " - Write down the code to design the above dictionary data structure\n",
    " - Save the dictionary as \"stock1\""
   ]
  },
  {
   "cell_type": "code",
   "execution_count": 176,
   "metadata": {},
   "outputs": [
    {
     "data": {
      "text/plain": [
       "{'ID': 1, 'Ticker': 'AMZN', 'Price': 3100}"
      ]
     },
     "execution_count": 176,
     "metadata": {},
     "output_type": "execute_result"
    }
   ],
   "source": [
    "# Write down the answer here:\n",
    "\n",
    "stock1 = {\"ID\": 1, \"Ticker\": \"AMZN\", \"Price\": 3100}\n",
    "\n",
    "stock1"
   ]
  },
  {
   "cell_type": "markdown",
   "metadata": {},
   "source": [
    "#### Question\n",
    "\n",
    "![dict](pics/dict3.png)\n",
    "\n",
    " - Write down the code to design the above dictionary data structure\n",
    " - Save the dictionary as \"stock2\""
   ]
  },
  {
   "cell_type": "code",
   "execution_count": 177,
   "metadata": {},
   "outputs": [
    {
     "data": {
      "text/plain": [
       "{'ID': [1, 2, 3],\n",
       " 'Ticker': ['AMZN', 'TSLA', 'MSFT'],\n",
       " 'Price': [3100, 600, 215]}"
      ]
     },
     "execution_count": 177,
     "metadata": {},
     "output_type": "execute_result"
    }
   ],
   "source": [
    "# Write down the answer here:\n",
    "\n",
    "stock2 = {\"ID\": [1,2,3], \"Ticker\": [\"AMZN\", \"TSLA\", \"MSFT\"], \"Price\": [3100,600,215]}\n",
    "\n",
    "stock2"
   ]
  },
  {
   "cell_type": "code",
   "execution_count": null,
   "metadata": {},
   "outputs": [],
   "source": []
  },
  {
   "cell_type": "markdown",
   "metadata": {},
   "source": [
    "## Python Dictionary Methods\n",
    "\n",
    "- Python has set of built-in methods that are available with every dictionary object\n",
    "- They are accessed as **dictionary.method()**\n",
    "\n",
    "| Method | Description   |\n",
    "|:- |:- |\n",
    "|   clear()  | Removes all items from dictionary|\n",
    "|   copy()  | creates a copy of the current dictionary|\n",
    "|fromkeys() |Returns a dictionary with the specified keys & values|\n",
    "|get()|Returns the value of the specified key|\n",
    "|items()|Returns a list containing a tuple for each key-value pair|\n",
    "|keys()|Returns a list containing dictionary keys|\n",
    "|pop()|Removes items with the specified key|\n",
    "|popitem()|Removes the last inserted key-value pair|\n",
    "|setdefault()|Returns the value of the specified key, If key does not exist, a new key will be inserted, with the specified value|\n",
    "|update()|Updates the dictionary with the specified key-value pairs|\n",
    "|values()|Returns a list of all the values in the dictionary|\n",
    "\n",
    "\n",
    "<br><br>\n",
    "#### Some useful references:\n",
    "\n",
    "[Python Dictionary Methods](https://docs.python.org/3/tutorial/datastructures.html#dictionaries)\n",
    "\n",
    "[Python Dictionary Methods](https://www.w3schools.com/python/python_dictionaries_methods.asp)"
   ]
  },
  {
   "cell_type": "code",
   "execution_count": null,
   "metadata": {},
   "outputs": [],
   "source": []
  },
  {
   "cell_type": "markdown",
   "metadata": {},
   "source": [
    "## Strings\n",
    "- Strings are series/sequences of character data\n",
    "- The string type in Python is called as **str**\n",
    "- Strings are defined by using either single or double quotes\n",
    "- Just like a list and tuple, the slicing operator **[ ]** can be used with strings\n",
    "- Strings are immutable\n",
    "\n",
    "\n",
    "![dict](pics/strings.png)"
   ]
  },
  {
   "cell_type": "code",
   "execution_count": 178,
   "metadata": {},
   "outputs": [
    {
     "name": "stdout",
     "output_type": "stream",
     "text": [
      "python\n"
     ]
    },
    {
     "data": {
      "text/plain": [
       "str"
      ]
     },
     "execution_count": 178,
     "metadata": {},
     "output_type": "execute_result"
    }
   ],
   "source": [
    "mystr1 = \"python\"\n",
    "\n",
    "print(mystr1)\n",
    "\n",
    "type(mystr1)"
   ]
  },
  {
   "cell_type": "code",
   "execution_count": 179,
   "metadata": {},
   "outputs": [
    {
     "name": "stdout",
     "output_type": "stream",
     "text": [
      "t\n",
      "n\n"
     ]
    }
   ],
   "source": [
    "# Get the character at position 3 (Note that the first character has the position 0):\n",
    "print(mystr1[2])\n",
    "print(mystr1[-1])"
   ]
  },
  {
   "cell_type": "markdown",
   "metadata": {},
   "source": [
    "## Python String Methods\n",
    "\n",
    "- Python has set of built-in methods that are available with every string object\n",
    "- They are accessed as **string.method()**\n",
    "\n",
    "| Method | Description   |\n",
    "|:- |:- |\n",
    "|capitalize()|Converts the first character of a string to uppercase letters|\n",
    "|upper()|Replaces the lowercase characters in a string with corresponding uppercase characters|\n",
    "|lower()|Replaces the uppercase characters in a string with corresponding lowercase characters|\n",
    "|title()|Returns the string with the first character of each word converted to uppercase|\n",
    "|find()|finds the first occurrence of a substring in another string. If not found, the method returns -1|\n",
    "|count()|The count() method returns the number of occurrences of a substring in the given string|\n",
    "|isalpha()|returns true if all the characters in a string are alphabetic letters (a-z or A-Z), otherwise it returns false|\n",
    "|isdigit()|returns true if all the characters in string are digits (0-9), if not, it returns false|\n",
    "|islower()|returns true if all the characters in the string are lowercase characters, else it returns false|\n",
    "|isupper()|returns true if all the characters in the string are uppercase characters, else it returns false|\n",
    "\n",
    "<br><br>\n",
    "#### Some useful references:\n",
    "\n",
    "[Python String Methods](https://www.w3schools.com/python/python_strings_methods.asp)"
   ]
  },
  {
   "cell_type": "code",
   "execution_count": null,
   "metadata": {},
   "outputs": [],
   "source": []
  }
 ],
 "metadata": {
  "kernelspec": {
   "display_name": "Python 3 (ipykernel)",
   "language": "python",
   "name": "python3"
  },
  "language_info": {
   "codemirror_mode": {
    "name": "ipython",
    "version": 3
   },
   "file_extension": ".py",
   "mimetype": "text/x-python",
   "name": "python",
   "nbconvert_exporter": "python",
   "pygments_lexer": "ipython3",
   "version": "3.9.7"
  }
 },
 "nbformat": 4,
 "nbformat_minor": 2
}
