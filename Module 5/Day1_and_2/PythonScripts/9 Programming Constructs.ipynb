{
 "cells": [
  {
   "cell_type": "markdown",
   "metadata": {},
   "source": [
    "# Programming Constructs\n",
    "\n",
    "**What we cover:**\n",
    "1. Python If/else conditions\n",
    "2. Python Loops\n",
    "    - For Loop\n",
    "    - While Loop\n"
   ]
  },
  {
   "cell_type": "markdown",
   "metadata": {},
   "source": [
    "## Python If/else statements (conditional statements)\n",
    "\n",
    "- If/else statements help us to run a particular code only when a certain condition is satisfied\n",
    "- If/else statements make use of logical operator while defining the condition\n",
    "- if/else logic can be extend by using nested if conditions\n",
    "\n",
    "<img src=\"pics/ifelse.png?modified=12345678\" alt=\"ifelse\"\n",
    "\ttitle=\"ifelse\" \n",
    "    width=\"350\" \n",
    "    height=\"200\"\n",
    "    align=\"left\"/>\n",
    "<br/>"
   ]
  },
  {
   "cell_type": "code",
   "execution_count": null,
   "metadata": {},
   "outputs": [],
   "source": [
    "# example1\n",
    "\n",
    "score = 90\n",
    "\n",
    "if score>=75:\n",
    "    print(\"you have achieved a distinction\")\n",
    "else:\n",
    "    print(\"you have failed\")"
   ]
  },
  {
   "cell_type": "code",
   "execution_count": null,
   "metadata": {},
   "outputs": [],
   "source": [
    "# example2\n",
    "\n",
    "score = 55\n",
    "\n",
    "if score>=75:\n",
    "    print(\"you have achieved a distinction\")\n",
    "elif score>=65:\n",
    "    print(\"you have achieved a merit\")\n",
    "elif score>=50:\n",
    "    print(\"you have achieved a pass\")\n",
    "else:\n",
    "    print(\"you have failed\")"
   ]
  },
  {
   "cell_type": "markdown",
   "metadata": {},
   "source": [
    "#### Question\n",
    "\n",
    "<img src=\"pics/ifelse2.png?modified=1234567\" alt=\"ifelse\"\n",
    "\ttitle=\"ifelse\" \n",
    "    width=\"200\" \n",
    "    height=\"200\"\n",
    "    align=\"left\"/>\n",
    "<br/><br/><br/><br/><br/><br/>\n",
    "\n",
    "- Using he above BMI table write a if/else condition to label a patients risk level"
   ]
  },
  {
   "cell_type": "code",
   "execution_count": null,
   "metadata": {},
   "outputs": [],
   "source": [
    "# Write down the answer here:\n",
    "\n",
    "pbmi = 12\n",
    "\n"
   ]
  },
  {
   "cell_type": "code",
   "execution_count": null,
   "metadata": {},
   "outputs": [],
   "source": []
  },
  {
   "cell_type": "markdown",
   "metadata": {},
   "source": [
    "## Python Loops\n",
    "\n",
    "- In general loops are used to execute statements sequentially\n",
    "- Loops are useful when you want to iterate through lists, tuples, dictionaries, sets, or strings and perform calculations\n",
    "\n",
    "#### There are two types of loops in Python\n",
    "1. For Loop\n",
    "2. While Loop"
   ]
  },
  {
   "cell_type": "markdown",
   "metadata": {},
   "source": [
    "#### For Loop\n",
    "- A for loop is used for iterating through a sequence (such list, tuple, dictionary, set, or a string)\n",
    "- With the for loop we can execute a set of statements, once for each item in a list, tuple, set etc.\n",
    "\n",
    "\n",
    "<img src=\"pics/forloop.png?modified=1234567\" alt=\"forloop\"\n",
    "\ttitle=\"forloop\" \n",
    "    width=\"350\" \n",
    "    height=\"200\"\n",
    "    align=\"left\"/>\n",
    "<br/>\n"
   ]
  },
  {
   "cell_type": "code",
   "execution_count": null,
   "metadata": {},
   "outputs": [],
   "source": [
    "# example\n",
    "\n",
    "stock1 = [\"AMZN\",\"TSLA\",\"MSFT\",\"AAPL\"]\n",
    "\n",
    "# converting stock ticker symbols to lowercase and displaying using for loop\n",
    "for x in stock1:\n",
    "    x = x.lower()\n",
    "    print(x)"
   ]
  },
  {
   "cell_type": "code",
   "execution_count": null,
   "metadata": {},
   "outputs": [],
   "source": [
    "# question\n",
    "\n",
    "saleslist = [120, 580, 230, 770, 1050, 8400]\n",
    "\n",
    "# calculate 40% from each item in the \"saleslist\" and display using for loop\n",
    "# Write down the answer here:\n",
    "\n"
   ]
  },
  {
   "cell_type": "code",
   "execution_count": null,
   "metadata": {},
   "outputs": [],
   "source": []
  },
  {
   "cell_type": "markdown",
   "metadata": {},
   "source": [
    "#### While Loop\n",
    "- While loop we can execute set of statements as long as the specified condition is true\n",
    "\n",
    "<img src=\"pics/whileloop.png?modified=1234567\" alt=\"whileloop\"\n",
    "\ttitle=\"whileloop\" \n",
    "    width=\"350\" \n",
    "    height=\"200\"\n",
    "    align=\"left\"/>\n",
    "<br/>"
   ]
  },
  {
   "cell_type": "code",
   "execution_count": null,
   "metadata": {},
   "outputs": [],
   "source": [
    "# example\n",
    "\n",
    "num = 45\n",
    "\n",
    "# Increment the value of “num” by 5 while the “num” remain below 60 and display the results\n",
    "while num < 60:\n",
    "    print(num)\n",
    "    num += 5"
   ]
  },
  {
   "cell_type": "code",
   "execution_count": null,
   "metadata": {},
   "outputs": [],
   "source": [
    "# question\n",
    "\n",
    "num2 = 3\n",
    "\n",
    "# Multiply the value of “num2” by 3 while the “num2” remain below 100 and display the results\n",
    "# Use the while loop to perform the above calculation\n",
    "# Write down the answer here:\n",
    "\n"
   ]
  }
 ],
 "metadata": {
  "kernelspec": {
   "display_name": "Python 3",
   "language": "python",
   "name": "python3"
  },
  "language_info": {
   "codemirror_mode": {
    "name": "ipython",
    "version": 3
   },
   "file_extension": ".py",
   "mimetype": "text/x-python",
   "name": "python",
   "nbconvert_exporter": "python",
   "pygments_lexer": "ipython3",
   "version": "3.8.5"
  }
 },
 "nbformat": 4,
 "nbformat_minor": 2
}
