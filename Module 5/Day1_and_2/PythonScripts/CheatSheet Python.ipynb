{
 "cells": [
  {
   "cell_type": "markdown",
   "id": "cf3cbeab",
   "metadata": {},
   "source": [
    "# Cheatsheet"
   ]
  },
  {
   "cell_type": "markdown",
   "id": "bde4ed85",
   "metadata": {},
   "source": [
    "## 0. Load Packages"
   ]
  },
  {
   "cell_type": "code",
   "execution_count": 1,
   "id": "b415b3bd",
   "metadata": {},
   "outputs": [],
   "source": [
    "# Importing some common libraries that’s needed for all data science related projects\n",
    "import numpy as np\n",
    "import pandas as pd\n",
    "import math\n",
    "import scipy\n",
    "\n",
    "\n",
    "# Importing different modules from the sklearn library to build and evaluate the linear regression model\n",
    "from sklearn.model_selection import train_test_split\n",
    "from sklearn.linear_model import LinearRegression\n",
    "from sklearn import metrics\n",
    "from sklearn.metrics import mean_squared_error\n",
    "from sklearn.metrics import r2_score\n",
    "\n",
    "\n",
    "# Importing matplotlib and seaborn libraries for data visualisation \n",
    "import matplotlib.pyplot as plt\n",
    "import seaborn as sns\n",
    "%matplotlib inline\n",
    "\n",
    "\n",
    "# Switching off unnecessary warning messages \n",
    "import warnings\n",
    "warnings.filterwarnings('ignore')"
   ]
  },
  {
   "cell_type": "code",
   "execution_count": null,
   "id": "0aabc232",
   "metadata": {},
   "outputs": [],
   "source": []
  },
  {
   "cell_type": "markdown",
   "id": "de8bba3f",
   "metadata": {},
   "source": [
    "## 1. Import Data"
   ]
  },
  {
   "cell_type": "code",
   "execution_count": 2,
   "id": "f67fe223",
   "metadata": {},
   "outputs": [
    {
     "data": {
      "text/html": [
       "<div>\n",
       "<style scoped>\n",
       "    .dataframe tbody tr th:only-of-type {\n",
       "        vertical-align: middle;\n",
       "    }\n",
       "\n",
       "    .dataframe tbody tr th {\n",
       "        vertical-align: top;\n",
       "    }\n",
       "\n",
       "    .dataframe thead th {\n",
       "        text-align: right;\n",
       "    }\n",
       "</style>\n",
       "<table border=\"1\" class=\"dataframe\">\n",
       "  <thead>\n",
       "    <tr style=\"text-align: right;\">\n",
       "      <th></th>\n",
       "      <th>HouseSqft</th>\n",
       "      <th>Taxes</th>\n",
       "      <th>Bedrooms</th>\n",
       "      <th>Bathrooms</th>\n",
       "      <th>LastSoldPrice</th>\n",
       "    </tr>\n",
       "  </thead>\n",
       "  <tbody>\n",
       "    <tr>\n",
       "      <th>0</th>\n",
       "      <td>1240.0</td>\n",
       "      <td>1360</td>\n",
       "      <td>3</td>\n",
       "      <td>2.0</td>\n",
       "      <td>145000</td>\n",
       "    </tr>\n",
       "    <tr>\n",
       "      <th>1</th>\n",
       "      <td>370.0</td>\n",
       "      <td>1050</td>\n",
       "      <td>1</td>\n",
       "      <td>1.0</td>\n",
       "      <td>68000</td>\n",
       "    </tr>\n",
       "    <tr>\n",
       "      <th>2</th>\n",
       "      <td>NaN</td>\n",
       "      <td>1010</td>\n",
       "      <td>3</td>\n",
       "      <td>1.5</td>\n",
       "      <td>115000</td>\n",
       "    </tr>\n",
       "    <tr>\n",
       "      <th>3</th>\n",
       "      <td>1120.0</td>\n",
       "      <td>830</td>\n",
       "      <td>3</td>\n",
       "      <td>2.0</td>\n",
       "      <td>69000</td>\n",
       "    </tr>\n",
       "    <tr>\n",
       "      <th>4</th>\n",
       "      <td>1710.0</td>\n",
       "      <td>2150</td>\n",
       "      <td>3</td>\n",
       "      <td>2.0</td>\n",
       "      <td>163000</td>\n",
       "    </tr>\n",
       "    <tr>\n",
       "      <th>...</th>\n",
       "      <td>...</td>\n",
       "      <td>...</td>\n",
       "      <td>...</td>\n",
       "      <td>...</td>\n",
       "      <td>...</td>\n",
       "    </tr>\n",
       "    <tr>\n",
       "      <th>95</th>\n",
       "      <td>1060.0</td>\n",
       "      <td>990</td>\n",
       "      <td>2</td>\n",
       "      <td>2.0</td>\n",
       "      <td>176000</td>\n",
       "    </tr>\n",
       "    <tr>\n",
       "      <th>96</th>\n",
       "      <td>1730.0</td>\n",
       "      <td>3030</td>\n",
       "      <td>3</td>\n",
       "      <td>2.0</td>\n",
       "      <td>196500</td>\n",
       "    </tr>\n",
       "    <tr>\n",
       "      <th>97</th>\n",
       "      <td>1370.0</td>\n",
       "      <td>1580</td>\n",
       "      <td>3</td>\n",
       "      <td>2.0</td>\n",
       "      <td>132200</td>\n",
       "    </tr>\n",
       "    <tr>\n",
       "      <th>98</th>\n",
       "      <td>1560.0</td>\n",
       "      <td>1770</td>\n",
       "      <td>3</td>\n",
       "      <td>2.0</td>\n",
       "      <td>88400</td>\n",
       "    </tr>\n",
       "    <tr>\n",
       "      <th>99</th>\n",
       "      <td>1340.0</td>\n",
       "      <td>1430</td>\n",
       "      <td>3</td>\n",
       "      <td>2.0</td>\n",
       "      <td>127200</td>\n",
       "    </tr>\n",
       "  </tbody>\n",
       "</table>\n",
       "<p>100 rows × 5 columns</p>\n",
       "</div>"
      ],
      "text/plain": [
       "    HouseSqft  Taxes  Bedrooms  Bathrooms  LastSoldPrice\n",
       "0      1240.0   1360         3        2.0         145000\n",
       "1       370.0   1050         1        1.0          68000\n",
       "2         NaN   1010         3        1.5         115000\n",
       "3      1120.0    830         3        2.0          69000\n",
       "4      1710.0   2150         3        2.0         163000\n",
       "..        ...    ...       ...        ...            ...\n",
       "95     1060.0    990         2        2.0         176000\n",
       "96     1730.0   3030         3        2.0         196500\n",
       "97     1370.0   1580         3        2.0         132200\n",
       "98     1560.0   1770         3        2.0          88400\n",
       "99     1340.0   1430         3        2.0         127200\n",
       "\n",
       "[100 rows x 5 columns]"
      ]
     },
     "execution_count": 2,
     "metadata": {},
     "output_type": "execute_result"
    }
   ],
   "source": [
    "# Import CSV \n",
    "house = pd.read_csv(\"HousePrices.csv\")\n",
    "house"
   ]
  },
  {
   "cell_type": "code",
   "execution_count": null,
   "id": "f37ce2c1",
   "metadata": {},
   "outputs": [],
   "source": [
    "# Import Excel\n",
    "churn = pd.read_excel(\"Telco Customer Churn - Training Dataset.xlsx\", sheet_name=\"Telco Customer Churn\")\n",
    "churn"
   ]
  },
  {
   "cell_type": "markdown",
   "id": "fa0129e5",
   "metadata": {},
   "source": [
    "## 2. Data Quality"
   ]
  },
  {
   "cell_type": "code",
   "execution_count": null,
   "id": "f3395bae",
   "metadata": {},
   "outputs": [],
   "source": [
    "# Head / Tail\n",
    "house.head()\n",
    "house.tail()\n",
    "house.head(20) #specific number of records"
   ]
  },
  {
   "cell_type": "code",
   "execution_count": null,
   "id": "9df7934b",
   "metadata": {},
   "outputs": [],
   "source": [
    "# Stats\n",
    "df.describe() # only numerical data\n",
    "\n",
    "df.describe(include='all') # all data including categorical"
   ]
  },
  {
   "cell_type": "code",
   "execution_count": 1,
   "id": "af157ca5",
   "metadata": {},
   "outputs": [
    {
     "ename": "NameError",
     "evalue": "name 'churn' is not defined",
     "output_type": "error",
     "traceback": [
      "\u001b[0;31m---------------------------------------------------------------------------\u001b[0m",
      "\u001b[0;31mNameError\u001b[0m                                 Traceback (most recent call last)",
      "Input \u001b[0;32mIn [1]\u001b[0m, in \u001b[0;36m<cell line: 1>\u001b[0;34m()\u001b[0m\n\u001b[0;32m----> 1\u001b[0m \u001b[43mchurn\u001b[49m\u001b[38;5;241m.\u001b[39minfo()\n",
      "\u001b[0;31mNameError\u001b[0m: name 'churn' is not defined"
     ]
    }
   ],
   "source": [
    "df.info()"
   ]
  },
  {
   "cell_type": "code",
   "execution_count": null,
   "id": "60b0bdcf",
   "metadata": {},
   "outputs": [],
   "source": [
    "# Count Duplicates\n",
    "df.duplicated().sum()\n",
    "\n",
    "# Show Dupes\n",
    "dupes=df.duplicated([\"FirstName\"])\n",
    "df[dupes]"
   ]
  },
  {
   "cell_type": "code",
   "execution_count": null,
   "id": "11d7a9a9",
   "metadata": {},
   "outputs": [],
   "source": [
    "# Count Missing Data\n",
    "df.isnull().sum()\n",
    "df.isna().sum()\n",
    "\n",
    "# Show missing data\n",
    "missing = pd.isnull(df[\"Column\"])\n",
    "df[missing]"
   ]
  },
  {
   "cell_type": "code",
   "execution_count": null,
   "id": "296d4e97",
   "metadata": {},
   "outputs": [],
   "source": [
    "# Slicing of Filtering Columns\n",
    "\n",
    "churn[[\"Gender\",\"Tenure\"]]"
   ]
  },
  {
   "cell_type": "code",
   "execution_count": null,
   "id": "88d6264b",
   "metadata": {},
   "outputs": [],
   "source": [
    "# Slicing of Filtering Columns with ROW Criteria\n",
    "\n",
    "churn[churn.Tenure>40][[\"Gender\",\"Tenure\"]]"
   ]
  },
  {
   "cell_type": "code",
   "execution_count": null,
   "id": "c43ce809",
   "metadata": {},
   "outputs": [],
   "source": [
    "# Multiple Conditions\n",
    "\n",
    "churn[(churn.Tenure>40) & (churn.Gender == \"Male\")][[\"Gender\",\"Tenure\"]]  # and\n",
    "\n",
    "churn[(churn.Tenure>40) | (churn.Gender == \"Male\")][[\"Gender\",\"Tenure\"]]  # or"
   ]
  },
  {
   "cell_type": "code",
   "execution_count": null,
   "id": "ab294f7a",
   "metadata": {},
   "outputs": [],
   "source": [
    "# Loc Method inclusive on both ends\n",
    "\n",
    "churn.loc[0:4 , [\"Gender\", \"Tenure\"]]"
   ]
  },
  {
   "cell_type": "code",
   "execution_count": null,
   "id": "2d788ea5",
   "metadata": {},
   "outputs": [],
   "source": [
    "churn.loc[churn.Tenure>40 , [\"Gender\",\"Tenure\"]]"
   ]
  },
  {
   "cell_type": "code",
   "execution_count": null,
   "id": "ca9f4e46",
   "metadata": {},
   "outputs": [],
   "source": []
  },
  {
   "cell_type": "markdown",
   "id": "22ad64c9",
   "metadata": {},
   "source": [
    "## 3. Data Cleansing"
   ]
  },
  {
   "cell_type": "code",
   "execution_count": null,
   "id": "b6a439bc",
   "metadata": {},
   "outputs": [],
   "source": [
    "# Drop Duplicates\n",
    "df = df.drop_duplicates()"
   ]
  },
  {
   "cell_type": "code",
   "execution_count": null,
   "id": "dffd5f90",
   "metadata": {},
   "outputs": [],
   "source": [
    "# Fix Missing Data - Remove\n",
    "df = df.dropna()"
   ]
  },
  {
   "cell_type": "code",
   "execution_count": null,
   "id": "e2b0caaa",
   "metadata": {},
   "outputs": [],
   "source": [
    "# Fix Missing Data - Interpolation \n",
    "\n",
    "# INTERPOLATION TECHNIQUE - NULLS DEFAULT TO ZERO\n",
    "churn.fillna(0, inplace=False)\n",
    "\n",
    "\n",
    "# INTERPOLATION - NEAREST NEIGHBOUR (FORWARD TECHNIQUE)\n",
    "churn.fillna(method ='ffill', inplace=False)\n",
    "\n",
    "\n",
    "# INTERPOLATION - NEAREST NEIGHBOUR (BACKWARD TECHNIQUE)\n",
    "churn.fillna(method ='bfill', inplace=False) \n",
    "\n",
    "\n",
    "# INTERPORLATION - NULL DEFAULT TO ZERO - ALTERNATIVE TO FILLNA\n",
    "churn.replace(to_replace = np.nan, value = 0, inplace=False)\n",
    "\n",
    "\n",
    "# INTERPORLATION - IDENTIFIES AN AVERAGE (LINEAR DISTRIBUTION)\n",
    "churn.interpolate(method ='linear', limit_direction ='forward', inplace=False) "
   ]
  },
  {
   "cell_type": "code",
   "execution_count": null,
   "id": "cf2aa170",
   "metadata": {},
   "outputs": [],
   "source": [
    "# JOINS\n",
    "\n",
    "# Let's do a left join, this is defined by how=\"left\" \n",
    "# use \"CustomerID\" and \"CusID\" columns as the common column\n",
    "# For inner, right, or full join, just change the \"how\" to the appropriate join\n",
    "\n",
    "df = pd.merge(CustomerInfo, \n",
    "                        OrderInfo, \n",
    "                        how=\"left\", \n",
    "                        left_on=\"CustomerID\", \n",
    "                        right_on=\"CusID\")"
   ]
  },
  {
   "cell_type": "code",
   "execution_count": null,
   "id": "32b46ad4",
   "metadata": {},
   "outputs": [],
   "source": [
    "# UNIONS\n",
    "\n",
    "# Let's import the \"CustomerInfo\" dataset\n",
    "FY2020 = pd.read_excel(\"2020.xlsx\")\n",
    "\n",
    "\n",
    "# Let's import the \"CustomerInfo2\" dataset\n",
    "FY2021 = pd.read_excel(\"2021.xlsx\")\n",
    "\n",
    "\n",
    "all_rows = pd.concat([FY2020, FY2021])"
   ]
  },
  {
   "cell_type": "code",
   "execution_count": null,
   "id": "087959be",
   "metadata": {},
   "outputs": [],
   "source": [
    "# CHANGE DATATYPES\n",
    "\n",
    "df[\"timestamp\"] = df.timestamp.astype(\"datetime64\")\n",
    "df[\"year\"] = df.year.astype(\"category\")\n",
    "df[\"t1\"] = df.t1.astype(\"float64\")\n",
    "df['DataFrame Column'] = df['DataFrame Column'].astype(str)"
   ]
  },
  {
   "cell_type": "markdown",
   "id": "ef4e011d",
   "metadata": {},
   "source": [
    "## 4. EDA"
   ]
  },
  {
   "cell_type": "markdown",
   "id": "843b7ec5",
   "metadata": {},
   "source": [
    "### A. Aggregation"
   ]
  },
  {
   "cell_type": "code",
   "execution_count": null,
   "id": "24fd097f",
   "metadata": {},
   "outputs": [],
   "source": [
    "# Averages across all numerical data\n",
    "\n",
    "df.mean()"
   ]
  },
  {
   "cell_type": "code",
   "execution_count": null,
   "id": "011e9e0f",
   "metadata": {},
   "outputs": [],
   "source": [
    "# Sum by Specific Column\n",
    "\n",
    "df.column.sum()"
   ]
  },
  {
   "cell_type": "code",
   "execution_count": null,
   "id": "c0a032d5",
   "metadata": {},
   "outputs": [],
   "source": [
    "# Multi-Stats use agg()\n",
    "\n",
    "df.column.agg(['sum', 'mean'])"
   ]
  },
  {
   "cell_type": "code",
   "execution_count": null,
   "id": "102f0a93",
   "metadata": {},
   "outputs": [],
   "source": [
    "# Statistic - MultiTarget - MultiStats\n",
    "\n",
    "df.agg({\"Tenure\": ['mean', 'count'], \"MonthlyCharges\" : ['mean', 'count']})"
   ]
  },
  {
   "cell_type": "markdown",
   "id": "eb64e4c5",
   "metadata": {},
   "source": [
    "### B. Distribution"
   ]
  },
  {
   "cell_type": "code",
   "execution_count": null,
   "id": "67e27c7c",
   "metadata": {},
   "outputs": [],
   "source": [
    "# Distribution using groupby()\n",
    "\n",
    "churn.groupby(by=\"Gender\").mean()"
   ]
  },
  {
   "cell_type": "code",
   "execution_count": null,
   "id": "922d4264",
   "metadata": {},
   "outputs": [],
   "source": [
    "# Grouping by multiple columns\n",
    "# To extend groupby() to work with multiple grouping variables, \n",
    "# pass a list of column names to groupby() instead of a single string value\n",
    "\n",
    "churn.groupby(by=[\"Gender\",\"PaymentMethod\"]).median()"
   ]
  },
  {
   "cell_type": "code",
   "execution_count": null,
   "id": "22f25570",
   "metadata": {},
   "outputs": [],
   "source": [
    "# agg() function example1\n",
    "\n",
    "churn.groupby(by=\"Gender\").agg({\"MonthlyCharges\": ['mean', 'min', 'max']}).dropna()"
   ]
  },
  {
   "cell_type": "markdown",
   "id": "857e4988",
   "metadata": {},
   "source": [
    "### C. Correlation"
   ]
  },
  {
   "cell_type": "code",
   "execution_count": null,
   "id": "7caccad0",
   "metadata": {},
   "outputs": [],
   "source": []
  },
  {
   "cell_type": "code",
   "execution_count": null,
   "id": "c8f317cd",
   "metadata": {},
   "outputs": [],
   "source": []
  },
  {
   "cell_type": "markdown",
   "id": "6d8f2d03",
   "metadata": {},
   "source": [
    "### D. Visualisation"
   ]
  },
  {
   "cell_type": "code",
   "execution_count": null,
   "id": "e0be772e",
   "metadata": {},
   "outputs": [],
   "source": [
    "# Outlier detection using boxplot from seaborn library\n",
    "\n",
    "sns.boxplot(data=df[[\"HouseSqft\"]])\n",
    "plt.show()"
   ]
  },
  {
   "cell_type": "code",
   "execution_count": null,
   "id": "bc6b0e44",
   "metadata": {},
   "outputs": [],
   "source": []
  }
 ],
 "metadata": {
  "kernelspec": {
   "display_name": "Python 3 (ipykernel)",
   "language": "python",
   "name": "python3"
  },
  "language_info": {
   "codemirror_mode": {
    "name": "ipython",
    "version": 3
   },
   "file_extension": ".py",
   "mimetype": "text/x-python",
   "name": "python",
   "nbconvert_exporter": "python",
   "pygments_lexer": "ipython3",
   "version": "3.9.7"
  }
 },
 "nbformat": 4,
 "nbformat_minor": 5
}
